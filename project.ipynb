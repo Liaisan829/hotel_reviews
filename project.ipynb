{
  "cells": [
    {
      "cell_type": "markdown",
      "metadata": {
        "id": "view-in-github",
        "colab_type": "text"
      },
      "source": [
        "<a href=\"https://colab.research.google.com/github/Liaisan829/hotel_reviews/blob/main/project.ipynb\" target=\"_parent\"><img src=\"https://colab.research.google.com/assets/colab-badge.svg\" alt=\"Open In Colab\"/></a>"
      ]
    },
    {
      "cell_type": "markdown",
      "metadata": {
        "id": "Rrt44MxqOPG6"
      },
      "source": [
        "# Импорт\n",
        "Импортируем необходимые для работы библиотеки"
      ]
    },
    {
      "cell_type": "code",
      "execution_count": null,
      "metadata": {
        "colab": {
          "base_uri": "https://localhost:8080/"
        },
        "id": "mBqrPcruDNDo",
        "outputId": "b784b250-e63a-41d4-b4aa-a6dfc843e0c6"
      },
      "outputs": [
        {
          "output_type": "stream",
          "name": "stdout",
          "text": [
            "Looking in indexes: https://pypi.org/simple, https://us-python.pkg.dev/colab-wheels/public/simple/\n",
            "Requirement already satisfied: plotly in /usr/local/lib/python3.7/dist-packages (5.5.0)\n",
            "Requirement already satisfied: six in /usr/local/lib/python3.7/dist-packages (from plotly) (1.15.0)\n",
            "Requirement already satisfied: tenacity>=6.2.0 in /usr/local/lib/python3.7/dist-packages (from plotly) (8.0.1)\n"
          ]
        }
      ],
      "source": [
        "!pip install plotly"
      ]
    },
    {
      "cell_type": "code",
      "execution_count": null,
      "metadata": {
        "colab": {
          "base_uri": "https://localhost:8080/"
        },
        "id": "RrbxWknrDJoM",
        "outputId": "03146dd6-9ea0-4167-9540-76ce529e8f63"
      },
      "outputs": [
        {
          "output_type": "stream",
          "name": "stdout",
          "text": [
            "Looking in indexes: https://pypi.org/simple, https://us-python.pkg.dev/colab-wheels/public/simple/\n",
            "Collecting chart-studio\n",
            "  Downloading chart_studio-1.1.0-py3-none-any.whl (64 kB)\n",
            "\u001b[K     |████████████████████████████████| 64 kB 2.1 MB/s \n",
            "\u001b[?25hRequirement already satisfied: plotly in /usr/local/lib/python3.7/dist-packages (from chart-studio) (5.5.0)\n",
            "Requirement already satisfied: requests in /usr/local/lib/python3.7/dist-packages (from chart-studio) (2.23.0)\n",
            "Collecting retrying>=1.3.3\n",
            "  Downloading retrying-1.3.3.tar.gz (10 kB)\n",
            "Requirement already satisfied: six in /usr/local/lib/python3.7/dist-packages (from chart-studio) (1.15.0)\n",
            "Requirement already satisfied: tenacity>=6.2.0 in /usr/local/lib/python3.7/dist-packages (from plotly->chart-studio) (8.0.1)\n",
            "Requirement already satisfied: certifi>=2017.4.17 in /usr/local/lib/python3.7/dist-packages (from requests->chart-studio) (2022.5.18.1)\n",
            "Requirement already satisfied: urllib3!=1.25.0,!=1.25.1,<1.26,>=1.21.1 in /usr/local/lib/python3.7/dist-packages (from requests->chart-studio) (1.24.3)\n",
            "Requirement already satisfied: chardet<4,>=3.0.2 in /usr/local/lib/python3.7/dist-packages (from requests->chart-studio) (3.0.4)\n",
            "Requirement already satisfied: idna<3,>=2.5 in /usr/local/lib/python3.7/dist-packages (from requests->chart-studio) (2.10)\n",
            "Building wheels for collected packages: retrying\n",
            "  Building wheel for retrying (setup.py) ... \u001b[?25l\u001b[?25hdone\n",
            "  Created wheel for retrying: filename=retrying-1.3.3-py3-none-any.whl size=11447 sha256=f461879176223943ffc08e1d5fca872b4de9348bedd29c7ebfd6009d2133f7db\n",
            "  Stored in directory: /root/.cache/pip/wheels/f9/8d/8d/f6af3f7f9eea3553bc2fe6d53e4b287dad18b06a861ac56ddf\n",
            "Successfully built retrying\n",
            "Installing collected packages: retrying, chart-studio\n",
            "Successfully installed chart-studio-1.1.0 retrying-1.3.3\n"
          ]
        }
      ],
      "source": [
        "!pip install chart-studio"
      ]
    },
    {
      "cell_type": "code",
      "execution_count": null,
      "metadata": {
        "id": "JrtMZxNVOSMn"
      },
      "outputs": [],
      "source": [
        "import pandas as pd\n",
        "import numpy as np\n",
        "import scipy as sc\n",
        "import matplotlib.pyplot as plt\n",
        "from google.colab import drive\n",
        "%matplotlib inline\n",
        "import seaborn as sns\n",
        "from datetime import datetime\n",
        "\n",
        "import chart_studio.plotly as py\n",
        "\n",
        "py.sign_in('rabird', 'QZh7jQZr3Yc6FMmUdSSS')\n",
        "\n",
        "from plotly.graph_objs import *\n",
        "\n",
        "import plotly\n",
        "import plotly.graph_objs as go\n",
        "import plotly.express as px\n",
        "from plotly.subplots import make_subplots\n",
        "\n",
        "from sklearn.linear_model import LinearRegression, LogisticRegression\n",
        "from sklearn.ensemble import RandomForestClassifier, RandomForestRegressor\n",
        "from sklearn.tree import DecisionTreeRegressor\n",
        "from sklearn.model_selection import train_test_split\n",
        "from sklearn.metrics import mean_absolute_error, accuracy_score, r2_score, roc_curve, RocCurveDisplay\n",
        "from sklearn.cluster import KMeans"
      ]
    },
    {
      "cell_type": "markdown",
      "metadata": {
        "id": "G_NsjylVOwp6"
      },
      "source": [
        "# Получение данных \n",
        "Получим csv-файл с нашими данными из Google Drive."
      ]
    },
    {
      "cell_type": "code",
      "execution_count": null,
      "metadata": {
        "colab": {
          "base_uri": "https://localhost:8080/",
          "height": 415
        },
        "id": "vO_a2-5Ve5DM",
        "outputId": "0e812279-b6fe-4b7a-92d3-3da3fd407178"
      },
      "outputs": [
        {
          "output_type": "stream",
          "name": "stdout",
          "text": [
            "Mounted at /content/drive\n"
          ]
        },
        {
          "output_type": "error",
          "ename": "FileNotFoundError",
          "evalue": "ignored",
          "traceback": [
            "\u001b[0;31m---------------------------------------------------------------------------\u001b[0m",
            "\u001b[0;31mFileNotFoundError\u001b[0m                         Traceback (most recent call last)",
            "\u001b[0;32m<ipython-input-4-d2ca6a6ad53c>\u001b[0m in \u001b[0;36m<module>\u001b[0;34m()\u001b[0m\n\u001b[1;32m      1\u001b[0m \u001b[0mdrive\u001b[0m\u001b[0;34m.\u001b[0m\u001b[0mmount\u001b[0m\u001b[0;34m(\u001b[0m\u001b[0;34m\"/content/drive\"\u001b[0m\u001b[0;34m)\u001b[0m\u001b[0;34m\u001b[0m\u001b[0;34m\u001b[0m\u001b[0m\n\u001b[0;32m----> 2\u001b[0;31m \u001b[0mdataset\u001b[0m \u001b[0;34m=\u001b[0m \u001b[0mpd\u001b[0m\u001b[0;34m.\u001b[0m\u001b[0mread_csv\u001b[0m\u001b[0;34m(\u001b[0m\u001b[0;34m'/content/Datafiniti_Hotel_Reviews.csv'\u001b[0m\u001b[0;34m,\u001b[0m \u001b[0mon_bad_lines\u001b[0m\u001b[0;34m=\u001b[0m\u001b[0;34m'skip'\u001b[0m\u001b[0;34m,\u001b[0m \u001b[0mengine\u001b[0m\u001b[0;34m=\u001b[0m\u001b[0;34m'python'\u001b[0m\u001b[0;34m)\u001b[0m\u001b[0;34m\u001b[0m\u001b[0;34m\u001b[0m\u001b[0m\n\u001b[0m\u001b[1;32m      3\u001b[0m \u001b[0;34m\u001b[0m\u001b[0m\n\u001b[1;32m      4\u001b[0m \u001b[0;31m# from google.colab import files\u001b[0m\u001b[0;34m\u001b[0m\u001b[0;34m\u001b[0m\u001b[0;34m\u001b[0m\u001b[0m\n\u001b[1;32m      5\u001b[0m \u001b[0;31m# uploaded = files.upload()\u001b[0m\u001b[0;34m\u001b[0m\u001b[0;34m\u001b[0m\u001b[0;34m\u001b[0m\u001b[0m\n",
            "\u001b[0;32m/usr/local/lib/python3.7/dist-packages/pandas/util/_decorators.py\u001b[0m in \u001b[0;36mwrapper\u001b[0;34m(*args, **kwargs)\u001b[0m\n\u001b[1;32m    309\u001b[0m                     \u001b[0mstacklevel\u001b[0m\u001b[0;34m=\u001b[0m\u001b[0mstacklevel\u001b[0m\u001b[0;34m,\u001b[0m\u001b[0;34m\u001b[0m\u001b[0;34m\u001b[0m\u001b[0m\n\u001b[1;32m    310\u001b[0m                 )\n\u001b[0;32m--> 311\u001b[0;31m             \u001b[0;32mreturn\u001b[0m \u001b[0mfunc\u001b[0m\u001b[0;34m(\u001b[0m\u001b[0;34m*\u001b[0m\u001b[0margs\u001b[0m\u001b[0;34m,\u001b[0m \u001b[0;34m**\u001b[0m\u001b[0mkwargs\u001b[0m\u001b[0;34m)\u001b[0m\u001b[0;34m\u001b[0m\u001b[0;34m\u001b[0m\u001b[0m\n\u001b[0m\u001b[1;32m    312\u001b[0m \u001b[0;34m\u001b[0m\u001b[0m\n\u001b[1;32m    313\u001b[0m         \u001b[0;32mreturn\u001b[0m \u001b[0mwrapper\u001b[0m\u001b[0;34m\u001b[0m\u001b[0;34m\u001b[0m\u001b[0m\n",
            "\u001b[0;32m/usr/local/lib/python3.7/dist-packages/pandas/io/parsers/readers.py\u001b[0m in \u001b[0;36mread_csv\u001b[0;34m(filepath_or_buffer, sep, delimiter, header, names, index_col, usecols, squeeze, prefix, mangle_dupe_cols, dtype, engine, converters, true_values, false_values, skipinitialspace, skiprows, skipfooter, nrows, na_values, keep_default_na, na_filter, verbose, skip_blank_lines, parse_dates, infer_datetime_format, keep_date_col, date_parser, dayfirst, cache_dates, iterator, chunksize, compression, thousands, decimal, lineterminator, quotechar, quoting, doublequote, escapechar, comment, encoding, encoding_errors, dialect, error_bad_lines, warn_bad_lines, on_bad_lines, delim_whitespace, low_memory, memory_map, float_precision, storage_options)\u001b[0m\n\u001b[1;32m    584\u001b[0m     \u001b[0mkwds\u001b[0m\u001b[0;34m.\u001b[0m\u001b[0mupdate\u001b[0m\u001b[0;34m(\u001b[0m\u001b[0mkwds_defaults\u001b[0m\u001b[0;34m)\u001b[0m\u001b[0;34m\u001b[0m\u001b[0;34m\u001b[0m\u001b[0m\n\u001b[1;32m    585\u001b[0m \u001b[0;34m\u001b[0m\u001b[0m\n\u001b[0;32m--> 586\u001b[0;31m     \u001b[0;32mreturn\u001b[0m \u001b[0m_read\u001b[0m\u001b[0;34m(\u001b[0m\u001b[0mfilepath_or_buffer\u001b[0m\u001b[0;34m,\u001b[0m \u001b[0mkwds\u001b[0m\u001b[0;34m)\u001b[0m\u001b[0;34m\u001b[0m\u001b[0;34m\u001b[0m\u001b[0m\n\u001b[0m\u001b[1;32m    587\u001b[0m \u001b[0;34m\u001b[0m\u001b[0m\n\u001b[1;32m    588\u001b[0m \u001b[0;34m\u001b[0m\u001b[0m\n",
            "\u001b[0;32m/usr/local/lib/python3.7/dist-packages/pandas/io/parsers/readers.py\u001b[0m in \u001b[0;36m_read\u001b[0;34m(filepath_or_buffer, kwds)\u001b[0m\n\u001b[1;32m    480\u001b[0m \u001b[0;34m\u001b[0m\u001b[0m\n\u001b[1;32m    481\u001b[0m     \u001b[0;31m# Create the parser.\u001b[0m\u001b[0;34m\u001b[0m\u001b[0;34m\u001b[0m\u001b[0;34m\u001b[0m\u001b[0m\n\u001b[0;32m--> 482\u001b[0;31m     \u001b[0mparser\u001b[0m \u001b[0;34m=\u001b[0m \u001b[0mTextFileReader\u001b[0m\u001b[0;34m(\u001b[0m\u001b[0mfilepath_or_buffer\u001b[0m\u001b[0;34m,\u001b[0m \u001b[0;34m**\u001b[0m\u001b[0mkwds\u001b[0m\u001b[0;34m)\u001b[0m\u001b[0;34m\u001b[0m\u001b[0;34m\u001b[0m\u001b[0m\n\u001b[0m\u001b[1;32m    483\u001b[0m \u001b[0;34m\u001b[0m\u001b[0m\n\u001b[1;32m    484\u001b[0m     \u001b[0;32mif\u001b[0m \u001b[0mchunksize\u001b[0m \u001b[0;32mor\u001b[0m \u001b[0miterator\u001b[0m\u001b[0;34m:\u001b[0m\u001b[0;34m\u001b[0m\u001b[0;34m\u001b[0m\u001b[0m\n",
            "\u001b[0;32m/usr/local/lib/python3.7/dist-packages/pandas/io/parsers/readers.py\u001b[0m in \u001b[0;36m__init__\u001b[0;34m(self, f, engine, **kwds)\u001b[0m\n\u001b[1;32m    809\u001b[0m             \u001b[0mself\u001b[0m\u001b[0;34m.\u001b[0m\u001b[0moptions\u001b[0m\u001b[0;34m[\u001b[0m\u001b[0;34m\"has_index_names\"\u001b[0m\u001b[0;34m]\u001b[0m \u001b[0;34m=\u001b[0m \u001b[0mkwds\u001b[0m\u001b[0;34m[\u001b[0m\u001b[0;34m\"has_index_names\"\u001b[0m\u001b[0;34m]\u001b[0m\u001b[0;34m\u001b[0m\u001b[0;34m\u001b[0m\u001b[0m\n\u001b[1;32m    810\u001b[0m \u001b[0;34m\u001b[0m\u001b[0m\n\u001b[0;32m--> 811\u001b[0;31m         \u001b[0mself\u001b[0m\u001b[0;34m.\u001b[0m\u001b[0m_engine\u001b[0m \u001b[0;34m=\u001b[0m \u001b[0mself\u001b[0m\u001b[0;34m.\u001b[0m\u001b[0m_make_engine\u001b[0m\u001b[0;34m(\u001b[0m\u001b[0mself\u001b[0m\u001b[0;34m.\u001b[0m\u001b[0mengine\u001b[0m\u001b[0;34m)\u001b[0m\u001b[0;34m\u001b[0m\u001b[0;34m\u001b[0m\u001b[0m\n\u001b[0m\u001b[1;32m    812\u001b[0m \u001b[0;34m\u001b[0m\u001b[0m\n\u001b[1;32m    813\u001b[0m     \u001b[0;32mdef\u001b[0m \u001b[0mclose\u001b[0m\u001b[0;34m(\u001b[0m\u001b[0mself\u001b[0m\u001b[0;34m)\u001b[0m\u001b[0;34m:\u001b[0m\u001b[0;34m\u001b[0m\u001b[0;34m\u001b[0m\u001b[0m\n",
            "\u001b[0;32m/usr/local/lib/python3.7/dist-packages/pandas/io/parsers/readers.py\u001b[0m in \u001b[0;36m_make_engine\u001b[0;34m(self, engine)\u001b[0m\n\u001b[1;32m   1038\u001b[0m             )\n\u001b[1;32m   1039\u001b[0m         \u001b[0;31m# error: Too many arguments for \"ParserBase\"\u001b[0m\u001b[0;34m\u001b[0m\u001b[0;34m\u001b[0m\u001b[0;34m\u001b[0m\u001b[0m\n\u001b[0;32m-> 1040\u001b[0;31m         \u001b[0;32mreturn\u001b[0m \u001b[0mmapping\u001b[0m\u001b[0;34m[\u001b[0m\u001b[0mengine\u001b[0m\u001b[0;34m]\u001b[0m\u001b[0;34m(\u001b[0m\u001b[0mself\u001b[0m\u001b[0;34m.\u001b[0m\u001b[0mf\u001b[0m\u001b[0;34m,\u001b[0m \u001b[0;34m**\u001b[0m\u001b[0mself\u001b[0m\u001b[0;34m.\u001b[0m\u001b[0moptions\u001b[0m\u001b[0;34m)\u001b[0m  \u001b[0;31m# type: ignore[call-arg]\u001b[0m\u001b[0;34m\u001b[0m\u001b[0;34m\u001b[0m\u001b[0m\n\u001b[0m\u001b[1;32m   1041\u001b[0m \u001b[0;34m\u001b[0m\u001b[0m\n\u001b[1;32m   1042\u001b[0m     \u001b[0;32mdef\u001b[0m \u001b[0m_failover_to_python\u001b[0m\u001b[0;34m(\u001b[0m\u001b[0mself\u001b[0m\u001b[0;34m)\u001b[0m\u001b[0;34m:\u001b[0m\u001b[0;34m\u001b[0m\u001b[0;34m\u001b[0m\u001b[0m\n",
            "\u001b[0;32m/usr/local/lib/python3.7/dist-packages/pandas/io/parsers/python_parser.py\u001b[0m in \u001b[0;36m__init__\u001b[0;34m(self, f, **kwds)\u001b[0m\n\u001b[1;32m     94\u001b[0m             \u001b[0mself\u001b[0m\u001b[0;34m.\u001b[0m\u001b[0mdata\u001b[0m \u001b[0;34m=\u001b[0m \u001b[0mcast\u001b[0m\u001b[0;34m(\u001b[0m\u001b[0mIterator\u001b[0m\u001b[0;34m[\u001b[0m\u001b[0mstr\u001b[0m\u001b[0;34m]\u001b[0m\u001b[0;34m,\u001b[0m \u001b[0mf\u001b[0m\u001b[0;34m)\u001b[0m\u001b[0;34m\u001b[0m\u001b[0;34m\u001b[0m\u001b[0m\n\u001b[1;32m     95\u001b[0m         \u001b[0;32melse\u001b[0m\u001b[0;34m:\u001b[0m\u001b[0;34m\u001b[0m\u001b[0;34m\u001b[0m\u001b[0m\n\u001b[0;32m---> 96\u001b[0;31m             \u001b[0mself\u001b[0m\u001b[0;34m.\u001b[0m\u001b[0m_open_handles\u001b[0m\u001b[0;34m(\u001b[0m\u001b[0mf\u001b[0m\u001b[0;34m,\u001b[0m \u001b[0mkwds\u001b[0m\u001b[0;34m)\u001b[0m\u001b[0;34m\u001b[0m\u001b[0;34m\u001b[0m\u001b[0m\n\u001b[0m\u001b[1;32m     97\u001b[0m             \u001b[0;32massert\u001b[0m \u001b[0mself\u001b[0m\u001b[0;34m.\u001b[0m\u001b[0mhandles\u001b[0m \u001b[0;32mis\u001b[0m \u001b[0;32mnot\u001b[0m \u001b[0;32mNone\u001b[0m\u001b[0;34m\u001b[0m\u001b[0;34m\u001b[0m\u001b[0m\n\u001b[1;32m     98\u001b[0m             \u001b[0;32massert\u001b[0m \u001b[0mhasattr\u001b[0m\u001b[0;34m(\u001b[0m\u001b[0mself\u001b[0m\u001b[0;34m.\u001b[0m\u001b[0mhandles\u001b[0m\u001b[0;34m.\u001b[0m\u001b[0mhandle\u001b[0m\u001b[0;34m,\u001b[0m \u001b[0;34m\"readline\"\u001b[0m\u001b[0;34m)\u001b[0m\u001b[0;34m\u001b[0m\u001b[0;34m\u001b[0m\u001b[0m\n",
            "\u001b[0;32m/usr/local/lib/python3.7/dist-packages/pandas/io/parsers/base_parser.py\u001b[0m in \u001b[0;36m_open_handles\u001b[0;34m(self, src, kwds)\u001b[0m\n\u001b[1;32m    227\u001b[0m             \u001b[0mmemory_map\u001b[0m\u001b[0;34m=\u001b[0m\u001b[0mkwds\u001b[0m\u001b[0;34m.\u001b[0m\u001b[0mget\u001b[0m\u001b[0;34m(\u001b[0m\u001b[0;34m\"memory_map\"\u001b[0m\u001b[0;34m,\u001b[0m \u001b[0;32mFalse\u001b[0m\u001b[0;34m)\u001b[0m\u001b[0;34m,\u001b[0m\u001b[0;34m\u001b[0m\u001b[0;34m\u001b[0m\u001b[0m\n\u001b[1;32m    228\u001b[0m             \u001b[0mstorage_options\u001b[0m\u001b[0;34m=\u001b[0m\u001b[0mkwds\u001b[0m\u001b[0;34m.\u001b[0m\u001b[0mget\u001b[0m\u001b[0;34m(\u001b[0m\u001b[0;34m\"storage_options\"\u001b[0m\u001b[0;34m,\u001b[0m \u001b[0;32mNone\u001b[0m\u001b[0;34m)\u001b[0m\u001b[0;34m,\u001b[0m\u001b[0;34m\u001b[0m\u001b[0;34m\u001b[0m\u001b[0m\n\u001b[0;32m--> 229\u001b[0;31m             \u001b[0merrors\u001b[0m\u001b[0;34m=\u001b[0m\u001b[0mkwds\u001b[0m\u001b[0;34m.\u001b[0m\u001b[0mget\u001b[0m\u001b[0;34m(\u001b[0m\u001b[0;34m\"encoding_errors\"\u001b[0m\u001b[0;34m,\u001b[0m \u001b[0;34m\"strict\"\u001b[0m\u001b[0;34m)\u001b[0m\u001b[0;34m,\u001b[0m\u001b[0;34m\u001b[0m\u001b[0;34m\u001b[0m\u001b[0m\n\u001b[0m\u001b[1;32m    230\u001b[0m         )\n\u001b[1;32m    231\u001b[0m \u001b[0;34m\u001b[0m\u001b[0m\n",
            "\u001b[0;32m/usr/local/lib/python3.7/dist-packages/pandas/io/common.py\u001b[0m in \u001b[0;36mget_handle\u001b[0;34m(path_or_buf, mode, encoding, compression, memory_map, is_text, errors, storage_options)\u001b[0m\n\u001b[1;32m    705\u001b[0m                 \u001b[0mencoding\u001b[0m\u001b[0;34m=\u001b[0m\u001b[0mioargs\u001b[0m\u001b[0;34m.\u001b[0m\u001b[0mencoding\u001b[0m\u001b[0;34m,\u001b[0m\u001b[0;34m\u001b[0m\u001b[0;34m\u001b[0m\u001b[0m\n\u001b[1;32m    706\u001b[0m                 \u001b[0merrors\u001b[0m\u001b[0;34m=\u001b[0m\u001b[0merrors\u001b[0m\u001b[0;34m,\u001b[0m\u001b[0;34m\u001b[0m\u001b[0;34m\u001b[0m\u001b[0m\n\u001b[0;32m--> 707\u001b[0;31m                 \u001b[0mnewline\u001b[0m\u001b[0;34m=\u001b[0m\u001b[0;34m\"\"\u001b[0m\u001b[0;34m,\u001b[0m\u001b[0;34m\u001b[0m\u001b[0;34m\u001b[0m\u001b[0m\n\u001b[0m\u001b[1;32m    708\u001b[0m             )\n\u001b[1;32m    709\u001b[0m         \u001b[0;32melse\u001b[0m\u001b[0;34m:\u001b[0m\u001b[0;34m\u001b[0m\u001b[0;34m\u001b[0m\u001b[0m\n",
            "\u001b[0;31mFileNotFoundError\u001b[0m: [Errno 2] No such file or directory: '/content/Datafiniti_Hotel_Reviews.csv'"
          ]
        }
      ],
      "source": [
        "drive.mount(\"/content/drive\")\n",
        "dataset = pd.read_csv('/content/Datafiniti_Hotel_Reviews.csv', on_bad_lines='skip', engine='python')\n",
        "\n",
        "# from google.colab import files\n",
        "# uploaded = files.upload()\n",
        "# for fn in uploaded.keys():\n",
        "#    print('User uploaded file «{name}» with length {length} bytes'.format(name=fn, length=len(uploaded[fn])))"
      ]
    },
    {
      "cell_type": "code",
      "execution_count": null,
      "metadata": {
        "id": "80--v-qz5DJi"
      },
      "outputs": [],
      "source": [
        "# dataset = pd.read_csv('Datafiniti_Hotel_Reviews.csv', engine='python', error_bad_lines=False)"
      ]
    },
    {
      "cell_type": "markdown",
      "metadata": {
        "id": "ci8qbixsTGK8"
      },
      "source": [
        "# Описание, анализ и исправление данных\n",
        "## Описание\n",
        "Рассмотрим полученные данные"
      ]
    },
    {
      "cell_type": "code",
      "execution_count": null,
      "metadata": {
        "id": "7RLFarsoTTmq",
        "colab": {
          "base_uri": "https://localhost:8080/",
          "height": 647
        },
        "outputId": "aee84a1e-7553-4aaa-e34c-e1d3296832a4"
      },
      "outputs": [
        {
          "output_type": "execute_result",
          "data": {
            "text/plain": [
              "                     id             dateAdded           dateUpdated  \\\n",
              "0  AVwc252WIN2L1WUfpqLP  2016-10-30T21:42:42Z  2018-09-10T21:06:27Z   \n",
              "1  AVwc252WIN2L1WUfpqLP  2016-10-30T21:42:42Z  2018-09-10T21:06:27Z   \n",
              "2  AVwc252WIN2L1WUfpqLP  2016-10-30T21:42:42Z  2018-09-10T21:06:27Z   \n",
              "3  AVwdOclqIN2L1WUfti38  2015-11-28T19:19:35Z  2018-09-10T21:06:16Z   \n",
              "4  AVwdOclqIN2L1WUfti38  2015-11-28T19:19:35Z  2018-09-10T21:06:16Z   \n",
              "\n",
              "             address                                         categories  \\\n",
              "0  5921 Valencia Cir  Hotels,Hotels and motels,Hotel and motel reser...   \n",
              "1  5921 Valencia Cir  Hotels,Hotels and motels,Hotel and motel reser...   \n",
              "2  5921 Valencia Cir  Hotels,Hotels and motels,Hotel and motel reser...   \n",
              "3     7520 Teague Rd  Hotels,Hotels and motels,Travel agencies and b...   \n",
              "4     7520 Teague Rd  Hotels,Hotels and motels,Travel agencies and b...   \n",
              "\n",
              "               primaryCategories             city country  \\\n",
              "0  Accommodation & Food Services  Rancho Santa Fe      US   \n",
              "1  Accommodation & Food Services  Rancho Santa Fe      US   \n",
              "2  Accommodation & Food Services  Rancho Santa Fe      US   \n",
              "3  Accommodation & Food Services          Hanover      US   \n",
              "4  Accommodation & Food Services          Hanover      US   \n",
              "\n",
              "                                            keys   latitude  ...  \\\n",
              "0  us/ca/ranchosantafe/5921valenciacir/359754519  32.990959  ...   \n",
              "1  us/ca/ranchosantafe/5921valenciacir/359754519  32.990959  ...   \n",
              "2  us/ca/ranchosantafe/5921valenciacir/359754519  32.990959  ...   \n",
              "3         us/md/hanover/7520teaguerd/-2043779672  39.155929  ...   \n",
              "4         us/md/hanover/7520teaguerd/-2043779672  39.155929  ...   \n",
              "\n",
              "                                    reviews.dateSeen reviews.rating  \\\n",
              "0  2016-08-03T00:00:00Z,2016-07-26T00:00:00Z,2016...            5.0   \n",
              "1  2016-08-02T00:00:00Z,2016-08-26T00:00:00Z,2016...            5.0   \n",
              "2  2016-11-15T00:00:00Z,2016-08-23T00:00:00Z,2016...            5.0   \n",
              "3          2016-05-21T00:00:00Z,2016-07-31T00:00:00Z            2.0   \n",
              "4                               2016-07-31T00:00:00Z            5.0   \n",
              "\n",
              "                                  reviews.sourceURLs  \\\n",
              "0    https://www.hotels.com/hotel/125419/reviews%20/   \n",
              "1    https://www.hotels.com/hotel/125419/reviews%20/   \n",
              "2    https://www.hotels.com/hotel/125419/reviews%20/   \n",
              "3  https://www.tripadvisor.com/Hotel_Review-g4118...   \n",
              "4  https://www.tripadvisor.com/Hotel_Review-g4118...   \n",
              "\n",
              "                                        reviews.text  \\\n",
              "0  Our experience at Rancho Valencia was absolute...   \n",
              "1  Amazing place. Everyone was extremely warm and...   \n",
              "2  We booked a 3 night stay at Rancho Valencia to...   \n",
              "3  Currently in bed writing this for the past hr ...   \n",
              "4  I live in Md and the Aloft is my Home away fro...   \n",
              "\n",
              "                              reviews.title reviews.userCity  \\\n",
              "0           Best romantic vacation ever!!!!              NaN   \n",
              "1                      Sweet sweet serenity              NaN   \n",
              "2           Amazing Property and Experience              NaN   \n",
              "3  Never again...beware, if you want sleep.         Richmond   \n",
              "4                      ALWAYS GREAT STAY...           Laurel   \n",
              "\n",
              "   reviews.userProvince reviews.username  \\\n",
              "0                   NaN            Paula   \n",
              "1                   NaN                D   \n",
              "2                   NaN              Ron   \n",
              "3                    VA        jaeem2016   \n",
              "4                    MD       MamaNiaOne   \n",
              "\n",
              "                                          sourceURLs  \\\n",
              "0  http://www.hotels.com/ho125419/%25252525253Flo...   \n",
              "1  http://www.hotels.com/ho125419/%25252525253Flo...   \n",
              "2  http://www.hotels.com/ho125419/%25252525253Flo...   \n",
              "3  http://www.yellowbook.com/profile/aloft-arunde...   \n",
              "4  http://www.yellowbook.com/profile/aloft-arunde...   \n",
              "\n",
              "                                            websites  \n",
              "0                      http://www.ranchovalencia.com  \n",
              "1                      http://www.ranchovalencia.com  \n",
              "2                      http://www.ranchovalencia.com  \n",
              "3  http://www.starwoodhotels.com/alofthotels/prop...  \n",
              "4  http://www.starwoodhotels.com/alofthotels/prop...  \n",
              "\n",
              "[5 rows x 25 columns]"
            ],
            "text/html": [
              "\n",
              "  <div id=\"df-c914fbc5-3897-4291-87e7-b76ee8faff42\">\n",
              "    <div class=\"colab-df-container\">\n",
              "      <div>\n",
              "<style scoped>\n",
              "    .dataframe tbody tr th:only-of-type {\n",
              "        vertical-align: middle;\n",
              "    }\n",
              "\n",
              "    .dataframe tbody tr th {\n",
              "        vertical-align: top;\n",
              "    }\n",
              "\n",
              "    .dataframe thead th {\n",
              "        text-align: right;\n",
              "    }\n",
              "</style>\n",
              "<table border=\"1\" class=\"dataframe\">\n",
              "  <thead>\n",
              "    <tr style=\"text-align: right;\">\n",
              "      <th></th>\n",
              "      <th>id</th>\n",
              "      <th>dateAdded</th>\n",
              "      <th>dateUpdated</th>\n",
              "      <th>address</th>\n",
              "      <th>categories</th>\n",
              "      <th>primaryCategories</th>\n",
              "      <th>city</th>\n",
              "      <th>country</th>\n",
              "      <th>keys</th>\n",
              "      <th>latitude</th>\n",
              "      <th>...</th>\n",
              "      <th>reviews.dateSeen</th>\n",
              "      <th>reviews.rating</th>\n",
              "      <th>reviews.sourceURLs</th>\n",
              "      <th>reviews.text</th>\n",
              "      <th>reviews.title</th>\n",
              "      <th>reviews.userCity</th>\n",
              "      <th>reviews.userProvince</th>\n",
              "      <th>reviews.username</th>\n",
              "      <th>sourceURLs</th>\n",
              "      <th>websites</th>\n",
              "    </tr>\n",
              "  </thead>\n",
              "  <tbody>\n",
              "    <tr>\n",
              "      <th>0</th>\n",
              "      <td>AVwc252WIN2L1WUfpqLP</td>\n",
              "      <td>2016-10-30T21:42:42Z</td>\n",
              "      <td>2018-09-10T21:06:27Z</td>\n",
              "      <td>5921 Valencia Cir</td>\n",
              "      <td>Hotels,Hotels and motels,Hotel and motel reser...</td>\n",
              "      <td>Accommodation &amp; Food Services</td>\n",
              "      <td>Rancho Santa Fe</td>\n",
              "      <td>US</td>\n",
              "      <td>us/ca/ranchosantafe/5921valenciacir/359754519</td>\n",
              "      <td>32.990959</td>\n",
              "      <td>...</td>\n",
              "      <td>2016-08-03T00:00:00Z,2016-07-26T00:00:00Z,2016...</td>\n",
              "      <td>5.0</td>\n",
              "      <td>https://www.hotels.com/hotel/125419/reviews%20/</td>\n",
              "      <td>Our experience at Rancho Valencia was absolute...</td>\n",
              "      <td>Best romantic vacation ever!!!!</td>\n",
              "      <td>NaN</td>\n",
              "      <td>NaN</td>\n",
              "      <td>Paula</td>\n",
              "      <td>http://www.hotels.com/ho125419/%25252525253Flo...</td>\n",
              "      <td>http://www.ranchovalencia.com</td>\n",
              "    </tr>\n",
              "    <tr>\n",
              "      <th>1</th>\n",
              "      <td>AVwc252WIN2L1WUfpqLP</td>\n",
              "      <td>2016-10-30T21:42:42Z</td>\n",
              "      <td>2018-09-10T21:06:27Z</td>\n",
              "      <td>5921 Valencia Cir</td>\n",
              "      <td>Hotels,Hotels and motels,Hotel and motel reser...</td>\n",
              "      <td>Accommodation &amp; Food Services</td>\n",
              "      <td>Rancho Santa Fe</td>\n",
              "      <td>US</td>\n",
              "      <td>us/ca/ranchosantafe/5921valenciacir/359754519</td>\n",
              "      <td>32.990959</td>\n",
              "      <td>...</td>\n",
              "      <td>2016-08-02T00:00:00Z,2016-08-26T00:00:00Z,2016...</td>\n",
              "      <td>5.0</td>\n",
              "      <td>https://www.hotels.com/hotel/125419/reviews%20/</td>\n",
              "      <td>Amazing place. Everyone was extremely warm and...</td>\n",
              "      <td>Sweet sweet serenity</td>\n",
              "      <td>NaN</td>\n",
              "      <td>NaN</td>\n",
              "      <td>D</td>\n",
              "      <td>http://www.hotels.com/ho125419/%25252525253Flo...</td>\n",
              "      <td>http://www.ranchovalencia.com</td>\n",
              "    </tr>\n",
              "    <tr>\n",
              "      <th>2</th>\n",
              "      <td>AVwc252WIN2L1WUfpqLP</td>\n",
              "      <td>2016-10-30T21:42:42Z</td>\n",
              "      <td>2018-09-10T21:06:27Z</td>\n",
              "      <td>5921 Valencia Cir</td>\n",
              "      <td>Hotels,Hotels and motels,Hotel and motel reser...</td>\n",
              "      <td>Accommodation &amp; Food Services</td>\n",
              "      <td>Rancho Santa Fe</td>\n",
              "      <td>US</td>\n",
              "      <td>us/ca/ranchosantafe/5921valenciacir/359754519</td>\n",
              "      <td>32.990959</td>\n",
              "      <td>...</td>\n",
              "      <td>2016-11-15T00:00:00Z,2016-08-23T00:00:00Z,2016...</td>\n",
              "      <td>5.0</td>\n",
              "      <td>https://www.hotels.com/hotel/125419/reviews%20/</td>\n",
              "      <td>We booked a 3 night stay at Rancho Valencia to...</td>\n",
              "      <td>Amazing Property and Experience</td>\n",
              "      <td>NaN</td>\n",
              "      <td>NaN</td>\n",
              "      <td>Ron</td>\n",
              "      <td>http://www.hotels.com/ho125419/%25252525253Flo...</td>\n",
              "      <td>http://www.ranchovalencia.com</td>\n",
              "    </tr>\n",
              "    <tr>\n",
              "      <th>3</th>\n",
              "      <td>AVwdOclqIN2L1WUfti38</td>\n",
              "      <td>2015-11-28T19:19:35Z</td>\n",
              "      <td>2018-09-10T21:06:16Z</td>\n",
              "      <td>7520 Teague Rd</td>\n",
              "      <td>Hotels,Hotels and motels,Travel agencies and b...</td>\n",
              "      <td>Accommodation &amp; Food Services</td>\n",
              "      <td>Hanover</td>\n",
              "      <td>US</td>\n",
              "      <td>us/md/hanover/7520teaguerd/-2043779672</td>\n",
              "      <td>39.155929</td>\n",
              "      <td>...</td>\n",
              "      <td>2016-05-21T00:00:00Z,2016-07-31T00:00:00Z</td>\n",
              "      <td>2.0</td>\n",
              "      <td>https://www.tripadvisor.com/Hotel_Review-g4118...</td>\n",
              "      <td>Currently in bed writing this for the past hr ...</td>\n",
              "      <td>Never again...beware, if you want sleep.</td>\n",
              "      <td>Richmond</td>\n",
              "      <td>VA</td>\n",
              "      <td>jaeem2016</td>\n",
              "      <td>http://www.yellowbook.com/profile/aloft-arunde...</td>\n",
              "      <td>http://www.starwoodhotels.com/alofthotels/prop...</td>\n",
              "    </tr>\n",
              "    <tr>\n",
              "      <th>4</th>\n",
              "      <td>AVwdOclqIN2L1WUfti38</td>\n",
              "      <td>2015-11-28T19:19:35Z</td>\n",
              "      <td>2018-09-10T21:06:16Z</td>\n",
              "      <td>7520 Teague Rd</td>\n",
              "      <td>Hotels,Hotels and motels,Travel agencies and b...</td>\n",
              "      <td>Accommodation &amp; Food Services</td>\n",
              "      <td>Hanover</td>\n",
              "      <td>US</td>\n",
              "      <td>us/md/hanover/7520teaguerd/-2043779672</td>\n",
              "      <td>39.155929</td>\n",
              "      <td>...</td>\n",
              "      <td>2016-07-31T00:00:00Z</td>\n",
              "      <td>5.0</td>\n",
              "      <td>https://www.tripadvisor.com/Hotel_Review-g4118...</td>\n",
              "      <td>I live in Md and the Aloft is my Home away fro...</td>\n",
              "      <td>ALWAYS GREAT STAY...</td>\n",
              "      <td>Laurel</td>\n",
              "      <td>MD</td>\n",
              "      <td>MamaNiaOne</td>\n",
              "      <td>http://www.yellowbook.com/profile/aloft-arunde...</td>\n",
              "      <td>http://www.starwoodhotels.com/alofthotels/prop...</td>\n",
              "    </tr>\n",
              "  </tbody>\n",
              "</table>\n",
              "<p>5 rows × 25 columns</p>\n",
              "</div>\n",
              "      <button class=\"colab-df-convert\" onclick=\"convertToInteractive('df-c914fbc5-3897-4291-87e7-b76ee8faff42')\"\n",
              "              title=\"Convert this dataframe to an interactive table.\"\n",
              "              style=\"display:none;\">\n",
              "        \n",
              "  <svg xmlns=\"http://www.w3.org/2000/svg\" height=\"24px\"viewBox=\"0 0 24 24\"\n",
              "       width=\"24px\">\n",
              "    <path d=\"M0 0h24v24H0V0z\" fill=\"none\"/>\n",
              "    <path d=\"M18.56 5.44l.94 2.06.94-2.06 2.06-.94-2.06-.94-.94-2.06-.94 2.06-2.06.94zm-11 1L8.5 8.5l.94-2.06 2.06-.94-2.06-.94L8.5 2.5l-.94 2.06-2.06.94zm10 10l.94 2.06.94-2.06 2.06-.94-2.06-.94-.94-2.06-.94 2.06-2.06.94z\"/><path d=\"M17.41 7.96l-1.37-1.37c-.4-.4-.92-.59-1.43-.59-.52 0-1.04.2-1.43.59L10.3 9.45l-7.72 7.72c-.78.78-.78 2.05 0 2.83L4 21.41c.39.39.9.59 1.41.59.51 0 1.02-.2 1.41-.59l7.78-7.78 2.81-2.81c.8-.78.8-2.07 0-2.86zM5.41 20L4 18.59l7.72-7.72 1.47 1.35L5.41 20z\"/>\n",
              "  </svg>\n",
              "      </button>\n",
              "      \n",
              "  <style>\n",
              "    .colab-df-container {\n",
              "      display:flex;\n",
              "      flex-wrap:wrap;\n",
              "      gap: 12px;\n",
              "    }\n",
              "\n",
              "    .colab-df-convert {\n",
              "      background-color: #E8F0FE;\n",
              "      border: none;\n",
              "      border-radius: 50%;\n",
              "      cursor: pointer;\n",
              "      display: none;\n",
              "      fill: #1967D2;\n",
              "      height: 32px;\n",
              "      padding: 0 0 0 0;\n",
              "      width: 32px;\n",
              "    }\n",
              "\n",
              "    .colab-df-convert:hover {\n",
              "      background-color: #E2EBFA;\n",
              "      box-shadow: 0px 1px 2px rgba(60, 64, 67, 0.3), 0px 1px 3px 1px rgba(60, 64, 67, 0.15);\n",
              "      fill: #174EA6;\n",
              "    }\n",
              "\n",
              "    [theme=dark] .colab-df-convert {\n",
              "      background-color: #3B4455;\n",
              "      fill: #D2E3FC;\n",
              "    }\n",
              "\n",
              "    [theme=dark] .colab-df-convert:hover {\n",
              "      background-color: #434B5C;\n",
              "      box-shadow: 0px 1px 3px 1px rgba(0, 0, 0, 0.15);\n",
              "      filter: drop-shadow(0px 1px 2px rgba(0, 0, 0, 0.3));\n",
              "      fill: #FFFFFF;\n",
              "    }\n",
              "  </style>\n",
              "\n",
              "      <script>\n",
              "        const buttonEl =\n",
              "          document.querySelector('#df-c914fbc5-3897-4291-87e7-b76ee8faff42 button.colab-df-convert');\n",
              "        buttonEl.style.display =\n",
              "          google.colab.kernel.accessAllowed ? 'block' : 'none';\n",
              "\n",
              "        async function convertToInteractive(key) {\n",
              "          const element = document.querySelector('#df-c914fbc5-3897-4291-87e7-b76ee8faff42');\n",
              "          const dataTable =\n",
              "            await google.colab.kernel.invokeFunction('convertToInteractive',\n",
              "                                                     [key], {});\n",
              "          if (!dataTable) return;\n",
              "\n",
              "          const docLinkHtml = 'Like what you see? Visit the ' +\n",
              "            '<a target=\"_blank\" href=https://colab.research.google.com/notebooks/data_table.ipynb>data table notebook</a>'\n",
              "            + ' to learn more about interactive tables.';\n",
              "          element.innerHTML = '';\n",
              "          dataTable['output_type'] = 'display_data';\n",
              "          await google.colab.output.renderOutput(dataTable, element);\n",
              "          const docLink = document.createElement('div');\n",
              "          docLink.innerHTML = docLinkHtml;\n",
              "          element.appendChild(docLink);\n",
              "        }\n",
              "      </script>\n",
              "    </div>\n",
              "  </div>\n",
              "  "
            ]
          },
          "metadata": {},
          "execution_count": 315
        }
      ],
      "source": [
        "dataset.head()"
      ]
    },
    {
      "cell_type": "markdown",
      "metadata": {
        "id": "oRtkIfHpW1Mx"
      },
      "source": [
        "## Описание полей"
      ]
    },
    {
      "cell_type": "code",
      "execution_count": null,
      "metadata": {
        "id": "pTVMjL19Uj25"
      },
      "outputs": [],
      "source": [
        "dataset.info()"
      ]
    },
    {
      "cell_type": "markdown",
      "metadata": {
        "id": "h4pdKceJXKkl"
      },
      "source": [
        "В датасете имеются следующие поля:\n",
        "1. id - текстовый идентификатор. На 10 000 записей лишь 1800 уникальных значений. Исходя из дальнейших данных, можно предположить, что это идентификатор компании\n",
        "2. dateAdded - дата и время, когда компания была добавлена в базу данных\n",
        "3. dateUpdated - дата и время, когда информацию о компании обновляли\n",
        "4. address - почтовый адрес компании, текст\n",
        "5. categories - список ключевых слов к данной компании в виде текста\n",
        "6. primaryCategories - список категорий, к которым относится данная компания. Всего их 6: <br> \n",
        "<ul>\n",
        "  <li>Accommodation & Food Services </li> \n",
        "  <li>Arts Entertainment & Recreation</li>\n",
        "   <li>Healthcare & Social Assistance, Accommodation & Food Services</li>\n",
        "  <li>Wholesale Trade, Accommodation & Food Services</li>\n",
        "  <li>Accommodation & Food Services, Arts Entertainment & Recreation</li>\n",
        "  <li>Utilities</li>\n",
        "</ul>\n",
        "7. city - город, в котором расположена компания, текст\n",
        "8. country - код страны, в которой находится компания, текст\n",
        "9. keys - ещё один идентификатор, состоящий из страны, субъекта, города, почтового адреса и случайного числа\n",
        "10. latitude - широта, double\n",
        "11. longitude - долгота, double\n",
        "12. name - текстовое название компании\n",
        "13. postalCode - численный почтовый код\n",
        "14. province - провинция / штат / субъект, в котором находится компания\n",
        "15. reviews.date - дата создания отзыва          \n",
        "16. reviews.dateSeen - даты, когда отзыв просмотрели      \n",
        "17. reviews.rating - числовая оценка компании в отзыве          \n",
        "18. reviews.sourceURLs -  URL отзыва\n",
        "19. reviews.text - текст отзыва          \n",
        "20. reviews.title - заголовок отзыва, текст        \n",
        "21. reviews.userCity - город пользователя, оставившего отзыв, текст        \n",
        "22. reviews.userProvince - субъект / провинция / штат пользователя, текст    \n",
        "23. reviews.username - имя пользователя, текст        \n",
        "24. sourceURLs -  URL, с которого взят отель            \n",
        "25. websites - сайты отелей              \n"
      ]
    },
    {
      "cell_type": "markdown",
      "metadata": {
        "id": "s1tKlpOqrnQS"
      },
      "source": [
        "# Исправление данных\n",
        "## Пропущенные значения\n",
        "Обработка пустых строк\n"
      ]
    },
    {
      "cell_type": "code",
      "execution_count": null,
      "metadata": {
        "id": "gadY-GFCH2eI"
      },
      "outputs": [],
      "source": [
        "print(dataset.isnull().sum())"
      ]
    },
    {
      "cell_type": "markdown",
      "metadata": {
        "id": "M7QbYSp4BgT-"
      },
      "source": [
        "Поля, содержащие информацию о местоположении пользователя (reviews.userCity и reviews.userProvince) содержат много пропусков. Но так как эти данные могут понадобиться при анализе отзывов, создадим после 2 датасета: со всеми записями и без разреженных полей и с частью записей, но с данными полями."
      ]
    },
    {
      "cell_type": "markdown",
      "metadata": {
        "id": "RkBMbwYM27Cf"
      },
      "source": [
        "## Уникальность\n"
      ]
    },
    {
      "cell_type": "code",
      "execution_count": null,
      "metadata": {
        "id": "f7bkN8bmVbFm"
      },
      "outputs": [],
      "source": [
        "dataset.nunique()"
      ]
    },
    {
      "cell_type": "markdown",
      "metadata": {
        "id": "sU8LD5gK3B4H"
      },
      "source": [
        "Поля country и primaryCategories принимают мало значений(1 и 6 соот-но), рассмотрим эти значения. "
      ]
    },
    {
      "cell_type": "code",
      "execution_count": null,
      "metadata": {
        "id": "TE_DoXRq3YLc"
      },
      "outputs": [],
      "source": [
        "print('country', dataset['country'].unique())\n",
        "print('primaryCategories', dataset['primaryCategories'].unique())"
      ]
    },
    {
      "cell_type": "markdown",
      "metadata": {
        "id": "qa81hceB38Qh"
      },
      "source": [
        "Колонку country нужно убрать, так как она не даёт никакой информации. Категории же можно оставить для дальнейшего анализа"
      ]
    },
    {
      "cell_type": "code",
      "execution_count": null,
      "metadata": {
        "id": "-G4fludM4Biw"
      },
      "outputs": [],
      "source": [
        "ds = dataset.copy();\n",
        "ds.drop(columns=['country'], inplace=True);\n",
        "ds.head(3)"
      ]
    },
    {
      "cell_type": "markdown",
      "metadata": {
        "id": "TfGTVs9Kktl8"
      },
      "source": [
        "## Дубликаты\n",
        "Проверим, есть ли в датасете дубликаты"
      ]
    },
    {
      "cell_type": "code",
      "execution_count": null,
      "metadata": {
        "id": "eLHMhCZJkz21"
      },
      "outputs": [],
      "source": [
        "ds.duplicated(subset=ds.columns.drop([\"reviews.date\", \"reviews.dateSeen\", \"reviews.sourceURLs\"])).sum()"
      ]
    },
    {
      "cell_type": "markdown",
      "metadata": {
        "id": "wHvJ2xUt4R_n"
      },
      "source": [
        "## Стандартизация данных"
      ]
    },
    {
      "cell_type": "markdown",
      "metadata": {
        "id": "re6LLOiQ4Z-R"
      },
      "source": [
        "В исходном датасете даты представлены в формате ISO 8601 в формате UTC. Преобразуем в более читаемый вариант и уберём смещение по времени.\n",
        "\n",
        "Также явно укажем числовые поля."
      ]
    },
    {
      "cell_type": "code",
      "execution_count": null,
      "metadata": {
        "id": "jw0HLEPv4d9b"
      },
      "outputs": [],
      "source": [
        "#change 'dateAdded' format to date\n",
        "ds[\"dateAdded\"] = ds[\"dateAdded\"].astype(\"datetime64\")\n",
        "ds['dateAdded'].apply(lambda x : x.toordinal())\n",
        "\n",
        "#change 'dateUpdated' format to date\n",
        "ds[\"dateUpdated\"] = ds[\"dateUpdated\"].astype(\"datetime64\")\n",
        "ds['dateUpdated'].apply(lambda x : x.toordinal())\n",
        "\n",
        "#change 'latitude' format to float\n",
        "ds[\"latitude\"] = ds[\"latitude\"].astype(\"float\")\n",
        "\n",
        "#change 'longitude' format to float\n",
        "ds[\"longitude\"] = ds[\"longitude\"].astype(\"float\")\n",
        "\n",
        "#change 'reviews.date' format to date\n",
        "ds[\"reviews.date\"] = ds[\"reviews.date\"].astype(\"datetime64\")\n",
        "ds['reviews.date'].apply(lambda x : x.toordinal)\n",
        "\n",
        "#change 'reviews.rating' format to float\n",
        "ds[\"reviews.rating\"] = ds[\"reviews.rating\"].astype(\"float\")\n",
        "\n",
        "ds['dateAdded'].head()"
      ]
    },
    {
      "cell_type": "markdown",
      "source": [
        "Для удобства работы в дальнейшем добавим колонки - количество секунд для данных дат"
      ],
      "metadata": {
        "id": "O6RWQYncr1jt"
      }
    },
    {
      "cell_type": "code",
      "source": [
        "ds['dateUpdated_int'] = ds['dateUpdated'].astype(int)\n",
        "ds['dateAdded_int'] = ds['dateAdded'].astype(int)\n",
        "ds['reviews.date_int'] = ds['reviews.date'].astype(int)\n",
        "\n",
        "ds['dateUpdated_int'].head()"
      ],
      "metadata": {
        "id": "KbDaWkVgouW_",
        "colab": {
          "base_uri": "https://localhost:8080/"
        },
        "outputId": "9bb79a85-b643-4686-8378-f70ff2312039"
      },
      "execution_count": null,
      "outputs": [
        {
          "output_type": "stream",
          "name": "stderr",
          "text": [
            "/usr/local/lib/python3.7/dist-packages/ipykernel_launcher.py:1: FutureWarning:\n",
            "\n",
            "casting datetime64[ns] values to int64 with .astype(...) is deprecated and will raise in a future version. Use .view(...) instead.\n",
            "\n",
            "/usr/local/lib/python3.7/dist-packages/ipykernel_launcher.py:2: FutureWarning:\n",
            "\n",
            "casting datetime64[ns] values to int64 with .astype(...) is deprecated and will raise in a future version. Use .view(...) instead.\n",
            "\n",
            "/usr/local/lib/python3.7/dist-packages/ipykernel_launcher.py:3: FutureWarning:\n",
            "\n",
            "casting datetime64[ns] values to int64 with .astype(...) is deprecated and will raise in a future version. Use .view(...) instead.\n",
            "\n"
          ]
        },
        {
          "output_type": "execute_result",
          "data": {
            "text/plain": [
              "0    1536613587000000000\n",
              "1    1536613587000000000\n",
              "2    1536613587000000000\n",
              "3    1536613576000000000\n",
              "4    1536613576000000000\n",
              "Name: dateUpdated_int, dtype: int64"
            ]
          },
          "metadata": {},
          "execution_count": 311
        }
      ]
    },
    {
      "cell_type": "markdown",
      "source": [
        "Для категориальных данных также добавим закодированные численные колонки"
      ],
      "metadata": {
        "id": "P_5d0iqasMx3"
      }
    },
    {
      "cell_type": "code",
      "source": [
        "ds.info()"
      ],
      "metadata": {
        "id": "C-MlJTgvsiKi"
      },
      "execution_count": null,
      "outputs": []
    },
    {
      "cell_type": "markdown",
      "metadata": {
        "id": "2JIpItGI7w0N"
      },
      "source": [
        "# Разбиение датасета\n"
      ]
    },
    {
      "cell_type": "markdown",
      "metadata": {
        "id": "ipiqqOev70eX"
      },
      "source": [
        "Разобьём преобразованные данные на 2 сета:\n",
        "\n",
        "1) entries - набор, содержащий наибольшее количество данных для наиболее точного анализа. Колонки reviews.userCity и reviews.userProvince содержат много пропусков - удалим.\n",
        "\n",
        "2) reviews - набор, содержащий меньшее количество данных, но при этом захватывающий колонки reviews.userCity и reviews.userProvince. На его основании можно будет сделать выводы и по ним.\n"
      ]
    },
    {
      "cell_type": "code",
      "execution_count": null,
      "metadata": {
        "id": "j3d5kT-871yY"
      },
      "outputs": [],
      "source": [
        "entries = ds.copy();\n",
        "entries = entries.drop(columns=['reviews.userCity', 'reviews.userProvince'])\n",
        "entries = entries.dropna(thresh=(len(entries.columns)));\n",
        "print(entries.info())\n",
        "\n",
        "print('<--------------------------------------------------------------------->')\n",
        "\n",
        "print(entries.shape)"
      ]
    },
    {
      "cell_type": "code",
      "execution_count": null,
      "metadata": {
        "id": "PhiPT2a98A0D"
      },
      "outputs": [],
      "source": [
        "reviews = ds.copy().dropna(thresh=(len(ds.columns)));\n",
        "print(reviews.info())\n",
        "\n",
        "print('<--------------------------------------------------------------------->')\n",
        "\n",
        "print(reviews.shape)"
      ]
    },
    {
      "cell_type": "markdown",
      "metadata": {
        "id": "s3XYuyi367D5"
      },
      "source": [
        "# Визуальный анализ данных"
      ]
    },
    {
      "cell_type": "markdown",
      "metadata": {
        "id": "GcYSAtTO69ya"
      },
      "source": [
        "Проверка актуальности данных\n",
        "\n",
        "Оценим качество и актуальность данных с помощью гистограм на основании дат добавления (dateAdded) и последнего обновления (dateUpdated) соответственно.\n",
        "\n"
      ]
    },
    {
      "cell_type": "code",
      "execution_count": null,
      "metadata": {
        "id": "gQbTaLsL6opT"
      },
      "outputs": [],
      "source": [
        "datesAdded = entries.copy().drop_duplicates(subset = [\"name\"]).groupby([entries[\"dateAdded\"].dt.year, entries[\"dateAdded\"].dt.month]).count();\n",
        "datesAddedY = datesAdded.id.values;\n",
        "datesAddedX = [(str(i[0]) + ':' + str(i[1])) for i in datesAdded.index.values];\n",
        "\n",
        "data_quality = px.bar(x=datesAddedX, y=datesAddedY, labels={'x':'Дата', 'y':'Количество новых записей'})\n",
        "data_quality.update_layout(\n",
        "    margin=dict(l=0, r=30, t=30, b=0),\n",
        "    title=\"Гистограмма количества добавленных сайтов за месяц\",\n",
        "    xaxis_title=\"Время\",\n",
        "    yaxis_title=\"Новые записи\",\n",
        "    font_family=\"Courier New\",\n",
        "    font_color=\"blue\",\n",
        "    title_font_family=\"Times New Roman\",\n",
        "    title_font_color=\"green\"\n",
        "    )\n",
        "\n",
        "data_quality.show();"
      ]
    },
    {
      "cell_type": "code",
      "execution_count": null,
      "metadata": {
        "id": "b6KiZIaJ7ECD"
      },
      "outputs": [],
      "source": [
        "datesUpdated = entries.copy().drop_duplicates(subset = [\"name\"]).groupby([entries[\"dateUpdated\"].dt.year, entries[\"dateUpdated\"].dt.month]).count();\n",
        "datesUpdatedY = datesUpdated.id.values;\n",
        "datesUpdatedX = [(str(i[0]) + ':' + str(i[1])) for i in datesUpdated.index.values];\n",
        "\n",
        "data_relevance = px.bar(x=datesUpdatedX, y=datesUpdatedY, labels={'x':'Дата', 'y':'Количество обновлённых записей'})\n",
        "data_relevance.update_layout(\n",
        "    margin=dict(l=0, r=30, t=30, b=0),\n",
        "    title=\"Гистограмма количества обновлённых сайтов за месяц\",\n",
        "    xaxis_title=\"Время\",\n",
        "    yaxis_title=\"Обновлённые записи записи\",\n",
        "    font_family=\"Courier New\",\n",
        "    font_color=\"blue\",\n",
        "    title_font_family=\"Times New Roman\",\n",
        "    title_font_color=\"green\"\n",
        "    )\n",
        "\n",
        "data_relevance.show();"
      ]
    },
    {
      "cell_type": "markdown",
      "metadata": {
        "id": "fi-x0xvw7GAu"
      },
      "source": [
        "**Микровывод**: Как мы можем заметить, многие компании наблюдаются уже не первый год.\n",
        "\n",
        "В целом видно, что информация обновляется достаточно часто. Но датасет не самый свежий (соревнование давно закончилось), поэтому скажем, что его стоило бы обновить для более точного анализа.\n"
      ]
    },
    {
      "cell_type": "markdown",
      "metadata": {
        "id": "dsXqJi5nEHM-"
      },
      "source": [
        "**Анализ компаний по главным критериям**"
      ]
    },
    {
      "cell_type": "markdown",
      "metadata": {
        "id": "lmUIzb22ELsm"
      },
      "source": [
        "Посмотрим, какие категории у нас имеются и в каком соотношении они представляют датасет"
      ]
    },
    {
      "cell_type": "code",
      "execution_count": null,
      "metadata": {
        "id": "TPQA0iupEX9x"
      },
      "outputs": [],
      "source": [
        "primaryCategories = entries.copy().drop_duplicates(subset = [\"name\"]).groupby([entries[\"primaryCategories\"]]).count();\n",
        "primaryCategoriesValues = primaryCategories.id.values;\n",
        "primaryCategoriesNames = primaryCategories.index;\n",
        "\n",
        "data_primary_categories = go.Figure(\n",
        "    data=[go.Pie(labels=primaryCategoriesNames, values=primaryCategoriesValues, hole=.3)]\n",
        "    );\n",
        "data_primary_categories.update_layout(\n",
        "    margin=dict(l=0, r=30, t=30, b=0),\n",
        "    title=\"Диаграмма главных категорий компаний\",\n",
        "    title_font_family=\"Times New Roman\",\n",
        "    title_font_color=\"green\"\n",
        "    )\n",
        "\n",
        "data_primary_categories.show();"
      ]
    },
    {
      "cell_type": "markdown",
      "metadata": {
        "id": "RnvBB7lWEkuF"
      },
      "source": [
        "Микровывод: Как мы можем увидеть, практически весь датасет представляет собой информацию об компаниях по проживанию и питанию, то есть из отелей. Так как нас интересует именно эта информация, отфильтруем наши датасеты по главной категории."
      ]
    },
    {
      "cell_type": "code",
      "execution_count": null,
      "metadata": {
        "id": "YwwvU26DEm4x"
      },
      "outputs": [],
      "source": [
        "entries = entries[entries.primaryCategories=='Accommodation & Food Services']\n",
        "reviews = reviews[reviews.primaryCategories=='Accommodation & Food Services']"
      ]
    },
    {
      "cell_type": "markdown",
      "metadata": {
        "id": "EI6a0AX1EsGR"
      },
      "source": [
        "** Представление распределения отелей на карте**\n"
      ]
    },
    {
      "cell_type": "markdown",
      "metadata": {
        "id": "v4XhFBEmE5LJ"
      },
      "source": [
        "Рассмотрим распределение отелей на карте"
      ]
    },
    {
      "cell_type": "code",
      "execution_count": null,
      "metadata": {
        "id": "x-W9U-DWE8M_"
      },
      "outputs": [],
      "source": [
        "hotelsCount = entries.copy().drop_duplicates(subset = [\"name\"]).groupby([entries[\"city\"]]).count();\n",
        "hotelsAvg = entries.copy().drop_duplicates(subset = [\"name\"]).groupby([entries[\"city\"]]).mean();\n",
        "hotels_map_dist = go.Figure();\n",
        "\n",
        "hotelsCount['text'] = hotelsCount.index.astype('str') + '<br>Отелей: ' + hotelsCount['id'].astype(str)\n",
        "\n",
        "hotels_map_dist = go.Figure(go.Scattermapbox(lat=hotelsAvg['latitude'], \n",
        "                                 lon=hotelsAvg['longitude'], \n",
        "                                 text=hotelsCount['text'],\n",
        "                                 marker=dict(colorbar=dict(title=\"Количество отелей\"),\n",
        "                                             color=hotelsCount['id'],\n",
        "                                             size=hotelsCount['id'])))\n",
        "map_center = go.layout.mapbox.Center(lat=(hotelsAvg['latitude'].max()+hotelsAvg['latitude'].min())/2, \n",
        "                                     lon=(hotelsAvg['longitude'].max()+hotelsAvg['longitude'].min())/2)\n",
        "hotels_map_dist.update_layout(mapbox_style=\"open-street-map\",\n",
        "                  mapbox=dict(center=map_center, zoom=2.5))\n",
        "hotels_map_dist.show()\n"
      ]
    },
    {
      "cell_type": "markdown",
      "metadata": {
        "id": "qKqWQzGBFIPg"
      },
      "source": [
        "Микровывод: Можно сказать, что в центре материка отелей значительно меньше. Основное количество сосредоточено в больших городах и на побережье. Далее нужно отметить, что в западном побережье концентрация отелей меньше, чем в восточной."
      ]
    },
    {
      "cell_type": "markdown",
      "metadata": {
        "id": "rlOOSO_MFNOq"
      },
      "source": [
        "**Средние отзывы отелей по штатам**"
      ]
    },
    {
      "cell_type": "markdown",
      "metadata": {
        "id": "DJoEOcKzFRvi"
      },
      "source": [
        "Рассмотрим, какие штаты являются наиболее перспективными для размещения отеля, по отзывам клиентов"
      ]
    },
    {
      "cell_type": "code",
      "execution_count": null,
      "metadata": {
        "id": "_D7ltBDzFTsg"
      },
      "outputs": [],
      "source": [
        "reviewsInStates = entries.copy().drop_duplicates(subset = [\"name\"]).groupby([entries[\"province\"]]).mean().sort_values('reviews.rating');\n",
        "reviewsInStates = reviewsInStates.iloc[::-1]\n",
        "reviewsInStatesY = reviewsInStates['reviews.rating'].values;\n",
        "reviewsInStatesX = reviewsInStates.index;\n",
        "\n",
        "reviews_in_states_gist = px.bar(x=reviewsInStatesX, y=reviewsInStatesY, labels={'x':'Штаты', 'y':'Средний рейтинг отелей'})\n",
        "reviews_in_states_gist.update_layout(\n",
        "    margin=dict(l=0, r=30, t=30, b=0),\n",
        "    title=\"Гистограмма среднего рейтинга отелей по штатам\",\n",
        "    xaxis_title=\"Штаты\",\n",
        "    yaxis_title=\"Средняя оценка\",\n",
        "    font_family=\"Courier New\",\n",
        "    font_color=\"blue\",\n",
        "    title_font_family=\"Times New Roman\",\n",
        "    title_font_color=\"green\"\n",
        "    )\n",
        "\n",
        "reviews_in_states_gist.show();"
      ]
    },
    {
      "cell_type": "code",
      "execution_count": null,
      "metadata": {
        "id": "6gjN0VQaFanI"
      },
      "outputs": [],
      "source": [
        "hotelsNumInStates = entries.copy().drop_duplicates(subset = [\"name\"]).groupby([entries[\"province\"]]).count().sort_values('id');\n",
        "hotelsNumInStates = hotelsNumInStates.iloc[::-1]\n",
        "hotelsNumInStatesY = hotelsNumInStates['id'].values;\n",
        "hotelsNumInStatesX = hotelsNumInStates.index;\n",
        "\n",
        "hotels_num_in_states = px.bar(x=hotelsNumInStatesX, y=hotelsNumInStatesY, labels={'x':'Штаты', 'y':'Количество отелей'})\n",
        "hotels_num_in_states.update_layout(\n",
        "    margin=dict(l=0, r=30, t=30, b=0),\n",
        "    title=\"Гистограмма количества отелей в штатах\",\n",
        "    xaxis_title=\"Штаты\",\n",
        "    yaxis_title=\"Количество отелей\",\n",
        "    font_family=\"Courier New\",\n",
        "    font_color=\"blue\",\n",
        "    title_font_family=\"Times New Roman\",\n",
        "    title_font_color=\"green\"\n",
        "    )\n",
        "\n",
        "hotels_num_in_states.show();"
      ]
    },
    {
      "cell_type": "markdown",
      "metadata": {
        "id": "Iy9u7bzSFovU"
      },
      "source": [
        "\n",
        "Микровывод: Как мы можем заметить, штатами с наиболее хорошими отелями являются:\n",
        "\n",
        "RI (Rhode Island) - 5.0 (1 отель).\n",
        "\n",
        "WY (Wyoming) - 4.42 (12 отелей).\n",
        "\n",
        "SD (South Dakota) - 4.37 (8 отелей).\n",
        "\n",
        "Но нельзя сказать, что в этих штатах уже расположены наилучшие отели и конкуренция бесполезна. Так в топ-1 штате находится всего лишь один отель. Но мы же хотим оценить и дать какой-нибудь конкретный вывод нашим клиентам!\n",
        "\n",
        "Поэтому построим простую линейную регрессионную модель, которая будет зависима от двух критериев (средний отзыв по штату и число отелей в штате). Обучена же модель будет на заранее подготовленных значениях, которые мы сами субъективно сгенерируем в голове."
      ]
    },
    {
      "cell_type": "code",
      "source": [
        "ds.info()"
      ],
      "metadata": {
        "id": "tlagP5JPvTPM"
      },
      "execution_count": null,
      "outputs": []
    },
    {
      "cell_type": "code",
      "source": [
        "ds.address = pd.Categorical(ds.address)\n",
        "ds['address_code'] = ds.address.cat.codes\n",
        "\n",
        "ds.categories = pd.Categorical(ds.categories)\n",
        "ds['categories_code'] = ds.categories.cat.codes\n",
        "\n",
        "ds.primaryCategories = pd.Categorical(ds.primaryCategories)\n",
        "ds['primaryCategories_code'] = ds.primaryCategories.cat.codes\n",
        "\n",
        "ds.city = pd.Categorical(ds.city)\n",
        "ds['city_code'] = ds.city.cat.codes\n",
        "\n",
        "ds.province = pd.Categorical(ds.province)\n",
        "ds['province_code'] = ds.province.cat.codes\n",
        "\n",
        "ds['reviews.sourceURLs'] = pd.Categorical(ds['reviews.sourceURLs'])\n",
        "ds['reviews.sourceURLs_code'] = ds['reviews.sourceURLs'].cat.codes\n",
        "\n",
        "ds['reviews.userCity'] = pd.Categorical(ds['reviews.userCity'])\n",
        "ds['reviews.userCity_code'] = ds['reviews.userCity'].cat.codes\n",
        "\n",
        "ds['reviews.userProvince'] = pd.Categorical(ds['reviews.userProvince'])\n",
        "ds['reviews.userProvince_code'] = ds['reviews.userProvince'].cat.codes"
      ],
      "metadata": {
        "id": "XtBxfHOzvPMO"
      },
      "execution_count": null,
      "outputs": []
    },
    {
      "cell_type": "code",
      "source": [
        "correlation_columns = ['latitude', 'longitude', 'reviews.rating', 'dateUpdated_int', 'dateAdded_int', 'reviews.date_int', 'address_code', 'categories_code', 'primaryCategories_code', 'city_code', 'province_code', 'reviews.sourceURLs_code', 'reviews.userCity_code', 'reviews.userProvince_code']"
      ],
      "metadata": {
        "id": "rRc_P7xmvWVV"
      },
      "execution_count": null,
      "outputs": []
    },
    {
      "cell_type": "code",
      "source": [
        "corr = ds[correlation_columns].corr()\n",
        "sns.heatmap(corr, vmin=-1, vmax=1, center=0)"
      ],
      "metadata": {
        "id": "g7TvvaS3wQDw"
      },
      "execution_count": null,
      "outputs": []
    },
    {
      "cell_type": "code",
      "source": [
        "print(corr)"
      ],
      "metadata": {
        "id": "POQoqVBo26VS"
      },
      "execution_count": null,
      "outputs": []
    },
    {
      "cell_type": "markdown",
      "metadata": {
        "id": "UTjYBk19GDbn"
      },
      "source": [
        "# Линейная регрессия"
      ]
    },
    {
      "cell_type": "markdown",
      "metadata": {
        "id": "j_3s9TboGF2g"
      },
      "source": [
        "Поэтому построим простую линейную регрессионную модель, которая будет зависима от двух критериев (средний отзыв по штату и число отелей в штате). Обучена же модель будет на заранее подготовленных значениях, которые мы сами субъективно сгенерируем в голове."
      ]
    },
    {
      "cell_type": "markdown",
      "metadata": {
        "id": "4xJkVQU0HdL7"
      },
      "source": [
        "target_name='province'\n",
        "id = 'id'\n",
        "y=pd.get_dummies(target_name)"
      ]
    },
    {
      "cell_type": "code",
      "execution_count": null,
      "metadata": {
        "id": "rxQzJ30XzfVw"
      },
      "outputs": [],
      "source": [
        "target_name='reviews.rating'\n",
        "id = 'id'\n",
        "y=ds[target_name]\n",
        "\n",
        "y"
      ]
    },
    {
      "cell_type": "code",
      "execution_count": null,
      "metadata": {
        "id": "0H7Nc36YGLPJ"
      },
      "outputs": [],
      "source": [
        "X = ds.drop([ 'city','dateUpdated', 'keys', 'latitude', 'longitude', 'postalCode', 'reviews.dateSeen', 'reviews.sourceURLs','reviews.title', 'reviews.text', 'sourceURLs', 'websites', 'reviews.username', 'dateAdded', 'reviews.date'], axis =1) "
      ]
    },
    {
      "cell_type": "code",
      "execution_count": null,
      "metadata": {
        "id": "JKxxZFZeH6wk"
      },
      "outputs": [],
      "source": [
        "#видим что столбец провинция удалилась\n",
        "X.info()"
      ]
    },
    {
      "cell_type": "markdown",
      "source": [
        "Переведём категориальные данные в числа с помощью кодов"
      ],
      "metadata": {
        "id": "EKAePF2gQW9p"
      }
    },
    {
      "cell_type": "code",
      "source": [
        "X.address = pd.Categorical(X.address)\n",
        "X['address_code'] = X.address.cat.codes\n",
        "\n",
        "X.categories = pd.Categorical(X.categories)\n",
        "X['categories_code'] = X.categories.cat.codes\n",
        "\n",
        "X.primaryCategories = pd.Categorical(X.primaryCategories)\n",
        "X['primaryCategories_code'] = X.primaryCategories.cat.codes\n",
        "\n",
        "X.name = pd.Categorical(X.name)\n",
        "X['name_code'] = X.name.cat.codes\n",
        "\n",
        "X.province = pd.Categorical(X.province)\n",
        "X['province_code'] = X.province.cat.codes\n",
        "\n",
        "X['reviews.userCity'] = pd.Categorical(X['reviews.userCity'])\n",
        "X['reviews.userCity_code'] = X['reviews.userCity'].cat.codes\n",
        "\n",
        "X['reviews.userProvince'] = pd.Categorical(X['reviews.userProvince'])\n",
        "X['reviews.userProvince_code'] = X['reviews.userProvince'].cat.codes\n",
        "\n",
        "X['reviews.userCity_code'].head()"
      ],
      "metadata": {
        "id": "IQDj8Sg4Qc8Y"
      },
      "execution_count": null,
      "outputs": []
    },
    {
      "cell_type": "code",
      "source": [
        "X"
      ],
      "metadata": {
        "id": "FHh5XWiqggxp"
      },
      "execution_count": null,
      "outputs": []
    },
    {
      "cell_type": "markdown",
      "source": [
        "Дату переведём во float"
      ],
      "metadata": {
        "id": "wqEwN5DLTjsQ"
      }
    },
    {
      "cell_type": "code",
      "execution_count": null,
      "metadata": {
        "id": "no_2N3J6IBib"
      },
      "outputs": [],
      "source": [
        "features = ['dateAdded_int', 'dateUpdated_int', 'reviews.sourceURLs_code', 'reviews.userCity_code']\n",
        "X_train, X_test, y_train, y_test = train_test_split(X[features], y, test_size=0.3, random_state=42)"
      ]
    },
    {
      "cell_type": "code",
      "execution_count": null,
      "metadata": {
        "id": "1fosiSb0IcKE"
      },
      "outputs": [],
      "source": [
        "X_train.shape"
      ]
    },
    {
      "cell_type": "code",
      "execution_count": null,
      "metadata": {
        "id": "x1m-8lCJIsVI"
      },
      "outputs": [],
      "source": [
        "linear_regression_model = LinearRegression()\n",
        "linear_regression_model.fit(X_train, y_train)\n",
        "\n",
        "y_pred = linear_regression_model.predict(X_test);\n",
        "\n",
        "print(mean_absolute_error(y_test, y_pred))\n",
        "print(r2_score(y_test, y_pred))"
      ]
    },
    {
      "cell_type": "markdown",
      "source": [
        "# Логистическая регрессия\n",
        "Введём категорию - больше оценка у отзыва 4.5 или нет"
      ],
      "metadata": {
        "id": "_ma4rNQ3paOu"
      }
    },
    {
      "cell_type": "code",
      "source": [
        "from pandas.core.arrays.sparse import dtype\n",
        "category_column = dataset['reviews.rating']\n",
        "category_column = category_column > 4.0\n",
        "y = category_column\n",
        "\n",
        "X_train, X_test, y_train, y_test = train_test_split(X[features], y, test_size=0.3, random_state=42)\n",
        "\n",
        "reg_log = LogisticRegression()\n",
        "reg_log.fit(X_train, y_train)\n",
        "y_pred = reg_log.predict(X_test)\n",
        "\n",
        "y_pred\n",
        "\n",
        "print(accuracy_score(y_pred.astype(float), y_test.astype(float)))\n",
        "\n"
      ],
      "metadata": {
        "id": "jo4yUHkxqA7K"
      },
      "execution_count": null,
      "outputs": []
    },
    {
      "cell_type": "code",
      "source": [
        "fpr, tpr, _ = roc_curve(y_test, y_pred)\n",
        "roc_display = RocCurveDisplay(fpr=fpr, tpr=tpr).plot()"
      ],
      "metadata": {
        "id": "VE9Q8yrrvBcT"
      },
      "execution_count": null,
      "outputs": []
    },
    {
      "cell_type": "markdown",
      "source": [
        "# Деревья решений \n",
        "Посмотрим, как с предсказыванием рейтинга справится дерево решений"
      ],
      "metadata": {
        "id": "i_Pbva1ReiGx"
      }
    },
    {
      "cell_type": "code",
      "source": [
        "y = ds[target_name]\n",
        "X_train, X_test, y_train, y_test = train_test_split(X[features], y, test_size=0.3, random_state=42)\n",
        "decision_tree = DecisionTreeRegressor()\n",
        "decision_tree.fit(X_train, y_train)\n",
        "y_pred = decision_tree.predict(X_test)\n",
        "\n",
        "print(mean_absolute_error(y_test, y_pred))"
      ],
      "metadata": {
        "id": "UpwqW54cg-0j"
      },
      "execution_count": null,
      "outputs": []
    },
    {
      "cell_type": "markdown",
      "source": [
        "# Случайный лес \n",
        "Решим задачу классификации с помощью случайного леса, оценим точность и построим ROC-кривую"
      ],
      "metadata": {
        "id": "rzX_GKZZjKk4"
      }
    },
    {
      "cell_type": "code",
      "source": [
        "category_column = dataset['reviews.rating']\n",
        "category_column = category_column > 4.0\n",
        "y = category_column\n",
        "\n",
        "X_train, X_test, y_train, y_test = train_test_split(X[features], y, test_size=0.3, random_state=42)\n",
        "\n",
        "reg_rf = RandomForestClassifier()\n",
        "reg_rf.fit(X_train, y_train)\n",
        "y_pred = reg_rf.predict(X_test)\n",
        "\n",
        "print(accuracy_score(y_pred.astype(float), y_test.astype(float)))"
      ],
      "metadata": {
        "id": "JXcdmbR-jaCX"
      },
      "execution_count": null,
      "outputs": []
    },
    {
      "cell_type": "code",
      "source": [
        "fpr, tpr, _ = roc_curve(y_test, y_pred)\n",
        "roc_display = RocCurveDisplay(fpr=fpr, tpr=tpr).plot()"
      ],
      "metadata": {
        "id": "0KcFLQvvkI_-"
      },
      "execution_count": null,
      "outputs": []
    },
    {
      "cell_type": "code",
      "source": [
        "feature_df = pd.DataFrame({'Importance':reg_rf.feature_importances_, 'Features': features })\n",
        "print(feature_df)"
      ],
      "metadata": {
        "id": "OKO5G5PolqY5"
      },
      "execution_count": null,
      "outputs": []
    },
    {
      "cell_type": "markdown",
      "source": [
        "# Кластеризация\n",
        "Воспользуемся методом k-средним"
      ],
      "metadata": {
        "id": "VTpCmh1CJdOT"
      }
    },
    {
      "cell_type": "code",
      "source": [
        "columns = ['reviews.sourceURLs_code', 'reviews.date_int']\n",
        "kmeans = KMeans(n_clusters=3)\n",
        "kmeans.fit(ds[columns])\n",
        "\n",
        "print(kmeans.cluster_centers_)\n",
        "\n",
        "y_km = kmeans.fit_predict(ds[columns])\n",
        "cluster_ds = ds[columns].to_numpy()\n",
        "\n",
        "plt.scatter(cluster_ds[y_km ==0,0], cluster_ds[y_km == 0,1], s=100, c='red')\n",
        "plt.scatter(cluster_ds[y_km ==1,0], cluster_ds[y_km == 1,1], s=100, c='black')\n",
        "plt.scatter(cluster_ds[y_km ==2,0], cluster_ds[y_km == 2,1], s=100, c='blue')\n",
        "plt.scatter(cluster_ds[y_km ==3,0], cluster_ds[y_km == 3,1], s=100, c='cyan')"
      ],
      "metadata": {
        "id": "4cP84vGsJhl3",
        "colab": {
          "base_uri": "https://localhost:8080/",
          "height": 345
        },
        "outputId": "4fa6bc24-d9e8-42b7-b9a6-5f96372f6489"
      },
      "execution_count": null,
      "outputs": [
        {
          "output_type": "stream",
          "name": "stdout",
          "text": [
            "[[3.47719715e+03 1.46371279e+18]\n",
            " [1.73871815e+03 1.24236312e+18]\n",
            " [2.22385864e+03 1.39272177e+18]]\n"
          ]
        },
        {
          "output_type": "execute_result",
          "data": {
            "text/plain": [
              "<matplotlib.collections.PathCollection at 0x7f1561af6d90>"
            ]
          },
          "metadata": {},
          "execution_count": 314
        },
        {
          "output_type": "display_data",
          "data": {
            "text/plain": [
              "<Figure size 432x288 with 1 Axes>"
            ],
            "image/png": "[encoded data removed]"
          },
          "metadata": {
            "needs_background": "light"
          }
        }
      ]
    },
    {
      "cell_type": "code",
      "source": [
        "columns = ['reviews.sourceURLs_code', 'reviews.date_int']\n",
        "distorsions = []\n",
        "for k in range(2, 20):\n",
        "    kmeans = KMeans(n_clusters=k)\n",
        "    kmeans.fit(ds[columns])\n",
        "    distorsions.append(kmeans.inertia_)\n",
        "\n",
        "fig = plt.figure(figsize=(15, 5))\n",
        "plt.plot(range(2, 20), distorsions)\n",
        "plt.grid(True)\n",
        "plt.title('Elbow curve')"
      ],
      "metadata": {
        "id": "q5mc2kw6Ofoz",
        "colab": {
          "base_uri": "https://localhost:8080/",
          "height": 353
        },
        "outputId": "bb84037d-6390-49cc-f6bd-c256e2a9ad81"
      },
      "execution_count": null,
      "outputs": [
        {
          "output_type": "execute_result",
          "data": {
            "text/plain": [
              "Text(0.5, 1.0, 'Elbow curve')"
            ]
          },
          "metadata": {},
          "execution_count": 313
        },
        {
          "output_type": "display_data",
          "data": {
            "text/plain": [
              "<Figure size 1080x360 with 1 Axes>"
            ],
            "image/png": "[encoded data removed]"
          },
          "metadata": {
            "needs_background": "light"
          }
        }
      ]
    }
  ],
  "metadata": {
    "colab": {
      "collapsed_sections": [],
      "name": "Научка проект.ipynb",
      "provenance": [],
      "include_colab_link": true
    },
    "kernelspec": {
      "display_name": "Python 3",
      "name": "python3"
    },
    "language_info": {
      "name": "python"
    }
  },
  "nbformat": 4,
  "nbformat_minor": 0
}