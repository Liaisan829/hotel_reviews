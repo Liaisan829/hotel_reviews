{
  "cells": [
    {
      "cell_type": "markdown",
      "metadata": {
        "id": "view-in-github",
        "colab_type": "text"
      },
      "source": [
        "<a href=\"https://colab.research.google.com/github/Liaisan829/hotel_reviews/blob/main/project.ipynb\" target=\"_parent\"><img src=\"https://colab.research.google.com/assets/colab-badge.svg\" alt=\"Open In Colab\"/></a>"
      ]
    },
    {
      "cell_type": "markdown",
      "source": [
        "# Проект по курсу \"Введение в интеллектуальный анализ данных в бизнесе\"\n",
        "Выполнили: Ахметова Ляйсан, Галеев Башир, Гадельшин Роберт, Генатулин Ильнас, Терентьева Ольга\n",
        "\n",
        "## Описание\n",
        "Это список из 1000 отелей и их обзоров, предоставленных бизнес-базой данных Datafiniti. Набор данных включает местоположение отеля, название, рейтинг, данные отзывов, название, имя пользователя и многое другое.\n",
        "\n",
        "## Задача\n",
        "На основе данных об отелях и отзывах о них найти те параметры, которые влияют на рейтинг больше всего, и вывести способы улучшить его\n",
        "\n",
        "## Источник данных\n",
        "Ссылка: https://www.kaggle.com/datasets/datafiniti/hotel-reviews?select=Datafiniti_Hotel_Reviews.csv"
      ],
      "metadata": {
        "id": "DawE_m0wzW4U"
      }
    },
    {
      "cell_type": "markdown",
      "metadata": {
        "id": "Rrt44MxqOPG6"
      },
      "source": [
        "# Импорт\n",
        "Импортируем необходимые для работы библиотеки"
      ]
    },
    {
      "cell_type": "code",
      "execution_count": null,
      "metadata": {
        "colab": {
          "base_uri": "https://localhost:8080/"
        },
        "id": "mBqrPcruDNDo",
        "outputId": "d5b2c9d6-bb64-4a07-a62e-8026fc50d797"
      },
      "outputs": [
        {
          "output_type": "stream",
          "name": "stdout",
          "text": [
            "Looking in indexes: https://pypi.org/simple, https://us-python.pkg.dev/colab-wheels/public/simple/\n",
            "Requirement already satisfied: plotly in /usr/local/lib/python3.7/dist-packages (5.5.0)\n",
            "Requirement already satisfied: six in /usr/local/lib/python3.7/dist-packages (from plotly) (1.15.0)\n",
            "Requirement already satisfied: tenacity>=6.2.0 in /usr/local/lib/python3.7/dist-packages (from plotly) (8.0.1)\n"
          ]
        }
      ],
      "source": [
        "!pip install plotly"
      ]
    },
    {
      "cell_type": "code",
      "execution_count": null,
      "metadata": {
        "colab": {
          "base_uri": "https://localhost:8080/"
        },
        "id": "RrbxWknrDJoM",
        "outputId": "6478720a-ecd8-43cb-af89-be268f75abeb"
      },
      "outputs": [
        {
          "output_type": "stream",
          "name": "stdout",
          "text": [
            "Looking in indexes: https://pypi.org/simple, https://us-python.pkg.dev/colab-wheels/public/simple/\n",
            "Requirement already satisfied: chart-studio in /usr/local/lib/python3.7/dist-packages (1.1.0)\n",
            "Requirement already satisfied: six in /usr/local/lib/python3.7/dist-packages (from chart-studio) (1.15.0)\n",
            "Requirement already satisfied: retrying>=1.3.3 in /usr/local/lib/python3.7/dist-packages (from chart-studio) (1.3.3)\n",
            "Requirement already satisfied: requests in /usr/local/lib/python3.7/dist-packages (from chart-studio) (2.23.0)\n",
            "Requirement already satisfied: plotly in /usr/local/lib/python3.7/dist-packages (from chart-studio) (5.5.0)\n",
            "Requirement already satisfied: tenacity>=6.2.0 in /usr/local/lib/python3.7/dist-packages (from plotly->chart-studio) (8.0.1)\n",
            "Requirement already satisfied: chardet<4,>=3.0.2 in /usr/local/lib/python3.7/dist-packages (from requests->chart-studio) (3.0.4)\n",
            "Requirement already satisfied: idna<3,>=2.5 in /usr/local/lib/python3.7/dist-packages (from requests->chart-studio) (2.10)\n",
            "Requirement already satisfied: certifi>=2017.4.17 in /usr/local/lib/python3.7/dist-packages (from requests->chart-studio) (2022.5.18.1)\n",
            "Requirement already satisfied: urllib3!=1.25.0,!=1.25.1,<1.26,>=1.21.1 in /usr/local/lib/python3.7/dist-packages (from requests->chart-studio) (1.24.3)\n"
          ]
        }
      ],
      "source": [
        "!pip install chart-studio"
      ]
    },
    {
      "cell_type": "code",
      "execution_count": null,
      "metadata": {
        "id": "JrtMZxNVOSMn"
      },
      "outputs": [],
      "source": [
        "py.sign_in('rabird', 'QZh7jQZr3Yc6FMmUdSSS')\n",
        "\n",
        "import re\n",
        "\n",
        "import pandas as pd\n",
        "import numpy as np\n",
        "import scipy as sc\n",
        "import matplotlib.pyplot as plt\n",
        "from google.colab import drive\n",
        "%matplotlib inline\n",
        "import seaborn as sns\n",
        "from datetime import datetime\n",
        "\n",
        "import chart_studio.plotly as py\n",
        "\n",
        "from plotly.graph_objs import *\n",
        "import plotly\n",
        "import plotly.graph_objs as go\n",
        "import plotly.express as px\n",
        "from plotly.subplots import make_subplots\n",
        "\n",
        "from sklearn.linear_model import LinearRegression, LogisticRegression\n",
        "from sklearn.ensemble import RandomForestClassifier, RandomForestRegressor\n",
        "from sklearn.tree import DecisionTreeRegressor\n",
        "from sklearn.model_selection import train_test_split\n",
        "from sklearn.metrics import mean_absolute_error, accuracy_score, r2_score, roc_curve, RocCurveDisplay\n",
        "from sklearn.cluster import KMeans"
      ]
    },
    {
      "cell_type": "markdown",
      "metadata": {
        "id": "G_NsjylVOwp6"
      },
      "source": [
        "# Получение данных \n",
        "Получим csv-файл с нашими данными из Google Drive."
      ]
    },
    {
      "cell_type": "code",
      "execution_count": null,
      "metadata": {
        "colab": {
          "base_uri": "https://localhost:8080/"
        },
        "id": "vO_a2-5Ve5DM",
        "outputId": "46dbabf5-2614-42fc-ade7-9d13f701e7ae"
      },
      "outputs": [
        {
          "output_type": "stream",
          "name": "stdout",
          "text": [
            "Drive already mounted at /content/drive; to attempt to forcibly remount, call drive.mount(\"/content/drive\", force_remount=True).\n"
          ]
        }
      ],
      "source": [
        "drive.mount(\"/content/drive\")\n",
        "dataset = pd.read_csv('/content/Datafiniti_Hotel_Reviews.csv', on_bad_lines='skip', engine='python')"
      ]
    },
    {
      "cell_type": "markdown",
      "metadata": {
        "id": "ci8qbixsTGK8"
      },
      "source": [
        "# Описание, анализ и исправление данных\n",
        "## Описание\n",
        "Рассмотрим полученные данные"
      ]
    },
    {
      "cell_type": "code",
      "execution_count": null,
      "metadata": {
        "id": "7RLFarsoTTmq",
        "colab": {
          "base_uri": "https://localhost:8080/",
          "height": 647
        },
        "outputId": "be8ba10b-c91c-465c-f23e-a86e6efe2a45"
      },
      "outputs": [
        {
          "output_type": "execute_result",
          "data": {
            "text/plain": [
              "                     id             dateAdded           dateUpdated  \\\n",
              "0  AVwc252WIN2L1WUfpqLP  2016-10-30T21:42:42Z  2018-09-10T21:06:27Z   \n",
              "1  AVwc252WIN2L1WUfpqLP  2016-10-30T21:42:42Z  2018-09-10T21:06:27Z   \n",
              "2  AVwc252WIN2L1WUfpqLP  2016-10-30T21:42:42Z  2018-09-10T21:06:27Z   \n",
              "3  AVwdOclqIN2L1WUfti38  2015-11-28T19:19:35Z  2018-09-10T21:06:16Z   \n",
              "4  AVwdOclqIN2L1WUfti38  2015-11-28T19:19:35Z  2018-09-10T21:06:16Z   \n",
              "\n",
              "             address                                         categories  \\\n",
              "0  5921 Valencia Cir  Hotels,Hotels and motels,Hotel and motel reser...   \n",
              "1  5921 Valencia Cir  Hotels,Hotels and motels,Hotel and motel reser...   \n",
              "2  5921 Valencia Cir  Hotels,Hotels and motels,Hotel and motel reser...   \n",
              "3     7520 Teague Rd  Hotels,Hotels and motels,Travel agencies and b...   \n",
              "4     7520 Teague Rd  Hotels,Hotels and motels,Travel agencies and b...   \n",
              "\n",
              "               primaryCategories             city country  \\\n",
              "0  Accommodation & Food Services  Rancho Santa Fe      US   \n",
              "1  Accommodation & Food Services  Rancho Santa Fe      US   \n",
              "2  Accommodation & Food Services  Rancho Santa Fe      US   \n",
              "3  Accommodation & Food Services          Hanover      US   \n",
              "4  Accommodation & Food Services          Hanover      US   \n",
              "\n",
              "                                            keys   latitude  ...  \\\n",
              "0  us/ca/ranchosantafe/5921valenciacir/359754519  32.990959  ...   \n",
              "1  us/ca/ranchosantafe/5921valenciacir/359754519  32.990959  ...   \n",
              "2  us/ca/ranchosantafe/5921valenciacir/359754519  32.990959  ...   \n",
              "3         us/md/hanover/7520teaguerd/-2043779672  39.155929  ...   \n",
              "4         us/md/hanover/7520teaguerd/-2043779672  39.155929  ...   \n",
              "\n",
              "                                    reviews.dateSeen reviews.rating  \\\n",
              "0  2016-08-03T00:00:00Z,2016-07-26T00:00:00Z,2016...            5.0   \n",
              "1  2016-08-02T00:00:00Z,2016-08-26T00:00:00Z,2016...            5.0   \n",
              "2  2016-11-15T00:00:00Z,2016-08-23T00:00:00Z,2016...            5.0   \n",
              "3          2016-05-21T00:00:00Z,2016-07-31T00:00:00Z            2.0   \n",
              "4                               2016-07-31T00:00:00Z            5.0   \n",
              "\n",
              "                                  reviews.sourceURLs  \\\n",
              "0    https://www.hotels.com/hotel/125419/reviews%20/   \n",
              "1    https://www.hotels.com/hotel/125419/reviews%20/   \n",
              "2    https://www.hotels.com/hotel/125419/reviews%20/   \n",
              "3  https://www.tripadvisor.com/Hotel_Review-g4118...   \n",
              "4  https://www.tripadvisor.com/Hotel_Review-g4118...   \n",
              "\n",
              "                                        reviews.text  \\\n",
              "0  Our experience at Rancho Valencia was absolute...   \n",
              "1  Amazing place. Everyone was extremely warm and...   \n",
              "2  We booked a 3 night stay at Rancho Valencia to...   \n",
              "3  Currently in bed writing this for the past hr ...   \n",
              "4  I live in Md and the Aloft is my Home away fro...   \n",
              "\n",
              "                              reviews.title reviews.userCity  \\\n",
              "0           Best romantic vacation ever!!!!              NaN   \n",
              "1                      Sweet sweet serenity              NaN   \n",
              "2           Amazing Property and Experience              NaN   \n",
              "3  Never again...beware, if you want sleep.         Richmond   \n",
              "4                      ALWAYS GREAT STAY...           Laurel   \n",
              "\n",
              "   reviews.userProvince reviews.username  \\\n",
              "0                   NaN            Paula   \n",
              "1                   NaN                D   \n",
              "2                   NaN              Ron   \n",
              "3                    VA        jaeem2016   \n",
              "4                    MD       MamaNiaOne   \n",
              "\n",
              "                                          sourceURLs  \\\n",
              "0  http://www.hotels.com/ho125419/%25252525253Flo...   \n",
              "1  http://www.hotels.com/ho125419/%25252525253Flo...   \n",
              "2  http://www.hotels.com/ho125419/%25252525253Flo...   \n",
              "3  http://www.yellowbook.com/profile/aloft-arunde...   \n",
              "4  http://www.yellowbook.com/profile/aloft-arunde...   \n",
              "\n",
              "                                            websites  \n",
              "0                      http://www.ranchovalencia.com  \n",
              "1                      http://www.ranchovalencia.com  \n",
              "2                      http://www.ranchovalencia.com  \n",
              "3  http://www.starwoodhotels.com/alofthotels/prop...  \n",
              "4  http://www.starwoodhotels.com/alofthotels/prop...  \n",
              "\n",
              "[5 rows x 25 columns]"
            ],
            "text/html": [
              "\n",
              "  <div id=\"df-c93db46c-0199-4ce9-887d-e90c9a65f894\">\n",
              "    <div class=\"colab-df-container\">\n",
              "      <div>\n",
              "<style scoped>\n",
              "    .dataframe tbody tr th:only-of-type {\n",
              "        vertical-align: middle;\n",
              "    }\n",
              "\n",
              "    .dataframe tbody tr th {\n",
              "        vertical-align: top;\n",
              "    }\n",
              "\n",
              "    .dataframe thead th {\n",
              "        text-align: right;\n",
              "    }\n",
              "</style>\n",
              "<table border=\"1\" class=\"dataframe\">\n",
              "  <thead>\n",
              "    <tr style=\"text-align: right;\">\n",
              "      <th></th>\n",
              "      <th>id</th>\n",
              "      <th>dateAdded</th>\n",
              "      <th>dateUpdated</th>\n",
              "      <th>address</th>\n",
              "      <th>categories</th>\n",
              "      <th>primaryCategories</th>\n",
              "      <th>city</th>\n",
              "      <th>country</th>\n",
              "      <th>keys</th>\n",
              "      <th>latitude</th>\n",
              "      <th>...</th>\n",
              "      <th>reviews.dateSeen</th>\n",
              "      <th>reviews.rating</th>\n",
              "      <th>reviews.sourceURLs</th>\n",
              "      <th>reviews.text</th>\n",
              "      <th>reviews.title</th>\n",
              "      <th>reviews.userCity</th>\n",
              "      <th>reviews.userProvince</th>\n",
              "      <th>reviews.username</th>\n",
              "      <th>sourceURLs</th>\n",
              "      <th>websites</th>\n",
              "    </tr>\n",
              "  </thead>\n",
              "  <tbody>\n",
              "    <tr>\n",
              "      <th>0</th>\n",
              "      <td>AVwc252WIN2L1WUfpqLP</td>\n",
              "      <td>2016-10-30T21:42:42Z</td>\n",
              "      <td>2018-09-10T21:06:27Z</td>\n",
              "      <td>5921 Valencia Cir</td>\n",
              "      <td>Hotels,Hotels and motels,Hotel and motel reser...</td>\n",
              "      <td>Accommodation &amp; Food Services</td>\n",
              "      <td>Rancho Santa Fe</td>\n",
              "      <td>US</td>\n",
              "      <td>us/ca/ranchosantafe/5921valenciacir/359754519</td>\n",
              "      <td>32.990959</td>\n",
              "      <td>...</td>\n",
              "      <td>2016-08-03T00:00:00Z,2016-07-26T00:00:00Z,2016...</td>\n",
              "      <td>5.0</td>\n",
              "      <td>https://www.hotels.com/hotel/125419/reviews%20/</td>\n",
              "      <td>Our experience at Rancho Valencia was absolute...</td>\n",
              "      <td>Best romantic vacation ever!!!!</td>\n",
              "      <td>NaN</td>\n",
              "      <td>NaN</td>\n",
              "      <td>Paula</td>\n",
              "      <td>http://www.hotels.com/ho125419/%25252525253Flo...</td>\n",
              "      <td>http://www.ranchovalencia.com</td>\n",
              "    </tr>\n",
              "    <tr>\n",
              "      <th>1</th>\n",
              "      <td>AVwc252WIN2L1WUfpqLP</td>\n",
              "      <td>2016-10-30T21:42:42Z</td>\n",
              "      <td>2018-09-10T21:06:27Z</td>\n",
              "      <td>5921 Valencia Cir</td>\n",
              "      <td>Hotels,Hotels and motels,Hotel and motel reser...</td>\n",
              "      <td>Accommodation &amp; Food Services</td>\n",
              "      <td>Rancho Santa Fe</td>\n",
              "      <td>US</td>\n",
              "      <td>us/ca/ranchosantafe/5921valenciacir/359754519</td>\n",
              "      <td>32.990959</td>\n",
              "      <td>...</td>\n",
              "      <td>2016-08-02T00:00:00Z,2016-08-26T00:00:00Z,2016...</td>\n",
              "      <td>5.0</td>\n",
              "      <td>https://www.hotels.com/hotel/125419/reviews%20/</td>\n",
              "      <td>Amazing place. Everyone was extremely warm and...</td>\n",
              "      <td>Sweet sweet serenity</td>\n",
              "      <td>NaN</td>\n",
              "      <td>NaN</td>\n",
              "      <td>D</td>\n",
              "      <td>http://www.hotels.com/ho125419/%25252525253Flo...</td>\n",
              "      <td>http://www.ranchovalencia.com</td>\n",
              "    </tr>\n",
              "    <tr>\n",
              "      <th>2</th>\n",
              "      <td>AVwc252WIN2L1WUfpqLP</td>\n",
              "      <td>2016-10-30T21:42:42Z</td>\n",
              "      <td>2018-09-10T21:06:27Z</td>\n",
              "      <td>5921 Valencia Cir</td>\n",
              "      <td>Hotels,Hotels and motels,Hotel and motel reser...</td>\n",
              "      <td>Accommodation &amp; Food Services</td>\n",
              "      <td>Rancho Santa Fe</td>\n",
              "      <td>US</td>\n",
              "      <td>us/ca/ranchosantafe/5921valenciacir/359754519</td>\n",
              "      <td>32.990959</td>\n",
              "      <td>...</td>\n",
              "      <td>2016-11-15T00:00:00Z,2016-08-23T00:00:00Z,2016...</td>\n",
              "      <td>5.0</td>\n",
              "      <td>https://www.hotels.com/hotel/125419/reviews%20/</td>\n",
              "      <td>We booked a 3 night stay at Rancho Valencia to...</td>\n",
              "      <td>Amazing Property and Experience</td>\n",
              "      <td>NaN</td>\n",
              "      <td>NaN</td>\n",
              "      <td>Ron</td>\n",
              "      <td>http://www.hotels.com/ho125419/%25252525253Flo...</td>\n",
              "      <td>http://www.ranchovalencia.com</td>\n",
              "    </tr>\n",
              "    <tr>\n",
              "      <th>3</th>\n",
              "      <td>AVwdOclqIN2L1WUfti38</td>\n",
              "      <td>2015-11-28T19:19:35Z</td>\n",
              "      <td>2018-09-10T21:06:16Z</td>\n",
              "      <td>7520 Teague Rd</td>\n",
              "      <td>Hotels,Hotels and motels,Travel agencies and b...</td>\n",
              "      <td>Accommodation &amp; Food Services</td>\n",
              "      <td>Hanover</td>\n",
              "      <td>US</td>\n",
              "      <td>us/md/hanover/7520teaguerd/-2043779672</td>\n",
              "      <td>39.155929</td>\n",
              "      <td>...</td>\n",
              "      <td>2016-05-21T00:00:00Z,2016-07-31T00:00:00Z</td>\n",
              "      <td>2.0</td>\n",
              "      <td>https://www.tripadvisor.com/Hotel_Review-g4118...</td>\n",
              "      <td>Currently in bed writing this for the past hr ...</td>\n",
              "      <td>Never again...beware, if you want sleep.</td>\n",
              "      <td>Richmond</td>\n",
              "      <td>VA</td>\n",
              "      <td>jaeem2016</td>\n",
              "      <td>http://www.yellowbook.com/profile/aloft-arunde...</td>\n",
              "      <td>http://www.starwoodhotels.com/alofthotels/prop...</td>\n",
              "    </tr>\n",
              "    <tr>\n",
              "      <th>4</th>\n",
              "      <td>AVwdOclqIN2L1WUfti38</td>\n",
              "      <td>2015-11-28T19:19:35Z</td>\n",
              "      <td>2018-09-10T21:06:16Z</td>\n",
              "      <td>7520 Teague Rd</td>\n",
              "      <td>Hotels,Hotels and motels,Travel agencies and b...</td>\n",
              "      <td>Accommodation &amp; Food Services</td>\n",
              "      <td>Hanover</td>\n",
              "      <td>US</td>\n",
              "      <td>us/md/hanover/7520teaguerd/-2043779672</td>\n",
              "      <td>39.155929</td>\n",
              "      <td>...</td>\n",
              "      <td>2016-07-31T00:00:00Z</td>\n",
              "      <td>5.0</td>\n",
              "      <td>https://www.tripadvisor.com/Hotel_Review-g4118...</td>\n",
              "      <td>I live in Md and the Aloft is my Home away fro...</td>\n",
              "      <td>ALWAYS GREAT STAY...</td>\n",
              "      <td>Laurel</td>\n",
              "      <td>MD</td>\n",
              "      <td>MamaNiaOne</td>\n",
              "      <td>http://www.yellowbook.com/profile/aloft-arunde...</td>\n",
              "      <td>http://www.starwoodhotels.com/alofthotels/prop...</td>\n",
              "    </tr>\n",
              "  </tbody>\n",
              "</table>\n",
              "<p>5 rows × 25 columns</p>\n",
              "</div>\n",
              "      <button class=\"colab-df-convert\" onclick=\"convertToInteractive('df-c93db46c-0199-4ce9-887d-e90c9a65f894')\"\n",
              "              title=\"Convert this dataframe to an interactive table.\"\n",
              "              style=\"display:none;\">\n",
              "        \n",
              "  <svg xmlns=\"http://www.w3.org/2000/svg\" height=\"24px\"viewBox=\"0 0 24 24\"\n",
              "       width=\"24px\">\n",
              "    <path d=\"M0 0h24v24H0V0z\" fill=\"none\"/>\n",
              "    <path d=\"M18.56 5.44l.94 2.06.94-2.06 2.06-.94-2.06-.94-.94-2.06-.94 2.06-2.06.94zm-11 1L8.5 8.5l.94-2.06 2.06-.94-2.06-.94L8.5 2.5l-.94 2.06-2.06.94zm10 10l.94 2.06.94-2.06 2.06-.94-2.06-.94-.94-2.06-.94 2.06-2.06.94z\"/><path d=\"M17.41 7.96l-1.37-1.37c-.4-.4-.92-.59-1.43-.59-.52 0-1.04.2-1.43.59L10.3 9.45l-7.72 7.72c-.78.78-.78 2.05 0 2.83L4 21.41c.39.39.9.59 1.41.59.51 0 1.02-.2 1.41-.59l7.78-7.78 2.81-2.81c.8-.78.8-2.07 0-2.86zM5.41 20L4 18.59l7.72-7.72 1.47 1.35L5.41 20z\"/>\n",
              "  </svg>\n",
              "      </button>\n",
              "      \n",
              "  <style>\n",
              "    .colab-df-container {\n",
              "      display:flex;\n",
              "      flex-wrap:wrap;\n",
              "      gap: 12px;\n",
              "    }\n",
              "\n",
              "    .colab-df-convert {\n",
              "      background-color: #E8F0FE;\n",
              "      border: none;\n",
              "      border-radius: 50%;\n",
              "      cursor: pointer;\n",
              "      display: none;\n",
              "      fill: #1967D2;\n",
              "      height: 32px;\n",
              "      padding: 0 0 0 0;\n",
              "      width: 32px;\n",
              "    }\n",
              "\n",
              "    .colab-df-convert:hover {\n",
              "      background-color: #E2EBFA;\n",
              "      box-shadow: 0px 1px 2px rgba(60, 64, 67, 0.3), 0px 1px 3px 1px rgba(60, 64, 67, 0.15);\n",
              "      fill: #174EA6;\n",
              "    }\n",
              "\n",
              "    [theme=dark] .colab-df-convert {\n",
              "      background-color: #3B4455;\n",
              "      fill: #D2E3FC;\n",
              "    }\n",
              "\n",
              "    [theme=dark] .colab-df-convert:hover {\n",
              "      background-color: #434B5C;\n",
              "      box-shadow: 0px 1px 3px 1px rgba(0, 0, 0, 0.15);\n",
              "      filter: drop-shadow(0px 1px 2px rgba(0, 0, 0, 0.3));\n",
              "      fill: #FFFFFF;\n",
              "    }\n",
              "  </style>\n",
              "\n",
              "      <script>\n",
              "        const buttonEl =\n",
              "          document.querySelector('#df-c93db46c-0199-4ce9-887d-e90c9a65f894 button.colab-df-convert');\n",
              "        buttonEl.style.display =\n",
              "          google.colab.kernel.accessAllowed ? 'block' : 'none';\n",
              "\n",
              "        async function convertToInteractive(key) {\n",
              "          const element = document.querySelector('#df-c93db46c-0199-4ce9-887d-e90c9a65f894');\n",
              "          const dataTable =\n",
              "            await google.colab.kernel.invokeFunction('convertToInteractive',\n",
              "                                                     [key], {});\n",
              "          if (!dataTable) return;\n",
              "\n",
              "          const docLinkHtml = 'Like what you see? Visit the ' +\n",
              "            '<a target=\"_blank\" href=https://colab.research.google.com/notebooks/data_table.ipynb>data table notebook</a>'\n",
              "            + ' to learn more about interactive tables.';\n",
              "          element.innerHTML = '';\n",
              "          dataTable['output_type'] = 'display_data';\n",
              "          await google.colab.output.renderOutput(dataTable, element);\n",
              "          const docLink = document.createElement('div');\n",
              "          docLink.innerHTML = docLinkHtml;\n",
              "          element.appendChild(docLink);\n",
              "        }\n",
              "      </script>\n",
              "    </div>\n",
              "  </div>\n",
              "  "
            ]
          },
          "metadata": {},
          "execution_count": 353
        }
      ],
      "source": [
        "dataset.head()"
      ]
    },
    {
      "cell_type": "markdown",
      "metadata": {
        "id": "oRtkIfHpW1Mx"
      },
      "source": [
        "## Описание полей"
      ]
    },
    {
      "cell_type": "code",
      "execution_count": null,
      "metadata": {
        "id": "pTVMjL19Uj25",
        "colab": {
          "base_uri": "https://localhost:8080/"
        },
        "outputId": "f79b0e90-7477-4c2e-8e90-a50ad5f1f363"
      },
      "outputs": [
        {
          "output_type": "stream",
          "name": "stdout",
          "text": [
            "<class 'pandas.core.frame.DataFrame'>\n",
            "RangeIndex: 10000 entries, 0 to 9999\n",
            "Data columns (total 25 columns):\n",
            " #   Column                Non-Null Count  Dtype  \n",
            "---  ------                --------------  -----  \n",
            " 0   id                    10000 non-null  object \n",
            " 1   dateAdded             10000 non-null  object \n",
            " 2   dateUpdated           10000 non-null  object \n",
            " 3   address               10000 non-null  object \n",
            " 4   categories            10000 non-null  object \n",
            " 5   primaryCategories     10000 non-null  object \n",
            " 6   city                  10000 non-null  object \n",
            " 7   country               10000 non-null  object \n",
            " 8   keys                  10000 non-null  object \n",
            " 9   latitude              10000 non-null  float64\n",
            " 10  longitude             10000 non-null  float64\n",
            " 11  name                  10000 non-null  object \n",
            " 12  postalCode            10000 non-null  object \n",
            " 13  province              10000 non-null  object \n",
            " 14  reviews.date          10000 non-null  object \n",
            " 15  reviews.dateSeen      10000 non-null  object \n",
            " 16  reviews.rating        10000 non-null  float64\n",
            " 17  reviews.sourceURLs    10000 non-null  object \n",
            " 18  reviews.text          9999 non-null   object \n",
            " 19  reviews.title         9999 non-null   object \n",
            " 20  reviews.userCity      4164 non-null   object \n",
            " 21  reviews.userProvince  2705 non-null   object \n",
            " 22  reviews.username      10000 non-null  object \n",
            " 23  sourceURLs            10000 non-null  object \n",
            " 24  websites              10000 non-null  object \n",
            "dtypes: float64(3), object(22)\n",
            "memory usage: 1.9+ MB\n"
          ]
        }
      ],
      "source": [
        "dataset.info()"
      ]
    },
    {
      "cell_type": "markdown",
      "metadata": {
        "id": "h4pdKceJXKkl"
      },
      "source": [
        "В датасете имеются следующие поля:\n",
        "1. id - текстовый идентификатор. На 10 000 записей лишь 1800 уникальных значений. Исходя из дальнейших данных, можно предположить, что это идентификатор компании\n",
        "2. dateAdded - дата и время, когда компания была добавлена в базу данных\n",
        "3. dateUpdated - дата и время, когда информацию о компании обновляли\n",
        "4. address - почтовый адрес компании, текст\n",
        "5. categories - список ключевых слов к данной компании в виде текста\n",
        "6. primaryCategories - список категорий, к которым относится данная компания. Всего их 6: <br> \n",
        "<ul>\n",
        "  <li>Accommodation & Food Services </li> \n",
        "  <li>Arts Entertainment & Recreation</li>\n",
        "   <li>Healthcare & Social Assistance, Accommodation & Food Services</li>\n",
        "  <li>Wholesale Trade, Accommodation & Food Services</li>\n",
        "  <li>Accommodation & Food Services, Arts Entertainment & Recreation</li>\n",
        "  <li>Utilities</li>\n",
        "</ul>\n",
        "7. city - город, в котором расположена компания, текст\n",
        "8. country - код страны, в которой находится компания, текст\n",
        "9. keys - ещё один идентификатор, состоящий из страны, субъекта, города, почтового адреса и случайного числа\n",
        "10. latitude - широта, double\n",
        "11. longitude - долгота, double\n",
        "12. name - текстовое название компании\n",
        "13. postalCode - численный почтовый код\n",
        "14. province - провинция / штат / субъект, в котором находится компания\n",
        "15. reviews.date - дата создания отзыва          \n",
        "16. reviews.dateSeen - даты, когда отзыв просмотрели      \n",
        "17. reviews.rating - числовая оценка компании в отзыве          \n",
        "18. reviews.sourceURLs -  URL отзыва\n",
        "19. reviews.text - текст отзыва          \n",
        "20. reviews.title - заголовок отзыва, текст        \n",
        "21. reviews.userCity - город пользователя, оставившего отзыв, текст        \n",
        "22. reviews.userProvince - субъект / провинция / штат пользователя, текст    \n",
        "23. reviews.username - имя пользователя, текст        \n",
        "24. sourceURLs -  URL, с которого взят отель            \n",
        "25. websites - сайты отелей              \n"
      ]
    },
    {
      "cell_type": "markdown",
      "metadata": {
        "id": "s1tKlpOqrnQS"
      },
      "source": [
        "# Исправление данных\n",
        "## Пропущенные значения\n",
        "Обработка пустых строк\n"
      ]
    },
    {
      "cell_type": "code",
      "execution_count": null,
      "metadata": {
        "id": "gadY-GFCH2eI",
        "colab": {
          "base_uri": "https://localhost:8080/"
        },
        "outputId": "760422a4-d2d4-4ec3-ae2e-7df12374c56c"
      },
      "outputs": [
        {
          "output_type": "stream",
          "name": "stdout",
          "text": [
            "id                         0\n",
            "dateAdded                  0\n",
            "dateUpdated                0\n",
            "address                    0\n",
            "categories                 0\n",
            "primaryCategories          0\n",
            "city                       0\n",
            "country                    0\n",
            "keys                       0\n",
            "latitude                   0\n",
            "longitude                  0\n",
            "name                       0\n",
            "postalCode                 0\n",
            "province                   0\n",
            "reviews.date               0\n",
            "reviews.dateSeen           0\n",
            "reviews.rating             0\n",
            "reviews.sourceURLs         0\n",
            "reviews.text               1\n",
            "reviews.title              1\n",
            "reviews.userCity        5836\n",
            "reviews.userProvince    7295\n",
            "reviews.username           0\n",
            "sourceURLs                 0\n",
            "websites                   0\n",
            "dtype: int64\n"
          ]
        }
      ],
      "source": [
        "print(dataset.isnull().sum())"
      ]
    },
    {
      "cell_type": "markdown",
      "metadata": {
        "id": "M7QbYSp4BgT-"
      },
      "source": [
        "Поля, содержащие информацию о местоположении пользователя (reviews.userCity и reviews.userProvince) содержат много пропусков. Но так как эти данные могут понадобиться при анализе отзывов, создадим после 2 датасета: со всеми записями и без разреженных полей и с частью записей, но с данными полями."
      ]
    },
    {
      "cell_type": "markdown",
      "metadata": {
        "id": "RkBMbwYM27Cf"
      },
      "source": [
        "## Уникальность\n",
        "Проверим, сколько уникальных значений содержат переменные"
      ]
    },
    {
      "cell_type": "code",
      "execution_count": null,
      "metadata": {
        "id": "f7bkN8bmVbFm",
        "colab": {
          "base_uri": "https://localhost:8080/"
        },
        "outputId": "00cf7122-83d4-4b2e-9c48-34b27d51e37c"
      },
      "outputs": [
        {
          "output_type": "execute_result",
          "data": {
            "text/plain": [
              "id                      1853\n",
              "dateAdded               1788\n",
              "dateUpdated             1632\n",
              "address                 1846\n",
              "categories              1148\n",
              "primaryCategories          6\n",
              "city                    1021\n",
              "country                    1\n",
              "keys                    1853\n",
              "latitude                1849\n",
              "longitude               1850\n",
              "name                    1670\n",
              "postalCode              1474\n",
              "province                  49\n",
              "reviews.date            3188\n",
              "reviews.dateSeen        2053\n",
              "reviews.rating            30\n",
              "reviews.sourceURLs      6386\n",
              "reviews.text            9981\n",
              "reviews.title           8622\n",
              "reviews.userCity        2051\n",
              "reviews.userProvince     177\n",
              "reviews.username        6942\n",
              "sourceURLs              1853\n",
              "websites                1746\n",
              "dtype: int64"
            ]
          },
          "metadata": {},
          "execution_count": 356
        }
      ],
      "source": [
        "dataset.nunique()"
      ]
    },
    {
      "cell_type": "markdown",
      "metadata": {
        "id": "sU8LD5gK3B4H"
      },
      "source": [
        "Поля country и primaryCategories принимают мало значений - 1 и 6 соответственно. Рассмотрим эти значения. "
      ]
    },
    {
      "cell_type": "code",
      "execution_count": null,
      "metadata": {
        "id": "TE_DoXRq3YLc",
        "colab": {
          "base_uri": "https://localhost:8080/"
        },
        "outputId": "b6d64bc6-80f6-4a26-8e49-608fff80b7f0"
      },
      "outputs": [
        {
          "output_type": "stream",
          "name": "stdout",
          "text": [
            "country ['US']\n",
            "primaryCategories ['Accommodation & Food Services'\n",
            " 'Healthcare & Social Assistance,Accommodation & Food Services'\n",
            " 'Accommodation & Food Services,Arts Entertainment & Recreation'\n",
            " 'Arts Entertainment & Recreation'\n",
            " 'Wholesale Trade,Accommodation & Food Services' 'Utilities']\n"
          ]
        }
      ],
      "source": [
        "print('country', dataset['country'].unique())\n",
        "print('primaryCategories', dataset['primaryCategories'].unique())"
      ]
    },
    {
      "cell_type": "markdown",
      "metadata": {
        "id": "qa81hceB38Qh"
      },
      "source": [
        "Колонку country нужно убрать, так как она не даёт никакой информации. Категории же можно оставить для дальнейшего анализа"
      ]
    },
    {
      "cell_type": "code",
      "execution_count": null,
      "metadata": {
        "id": "-G4fludM4Biw",
        "colab": {
          "base_uri": "https://localhost:8080/",
          "height": 445
        },
        "outputId": "54e151ae-9885-4960-c189-ad79ec2330d1"
      },
      "outputs": [
        {
          "output_type": "execute_result",
          "data": {
            "text/plain": [
              "                     id             dateAdded           dateUpdated  \\\n",
              "0  AVwc252WIN2L1WUfpqLP  2016-10-30T21:42:42Z  2018-09-10T21:06:27Z   \n",
              "1  AVwc252WIN2L1WUfpqLP  2016-10-30T21:42:42Z  2018-09-10T21:06:27Z   \n",
              "2  AVwc252WIN2L1WUfpqLP  2016-10-30T21:42:42Z  2018-09-10T21:06:27Z   \n",
              "\n",
              "             address                                         categories  \\\n",
              "0  5921 Valencia Cir  Hotels,Hotels and motels,Hotel and motel reser...   \n",
              "1  5921 Valencia Cir  Hotels,Hotels and motels,Hotel and motel reser...   \n",
              "2  5921 Valencia Cir  Hotels,Hotels and motels,Hotel and motel reser...   \n",
              "\n",
              "               primaryCategories             city  \\\n",
              "0  Accommodation & Food Services  Rancho Santa Fe   \n",
              "1  Accommodation & Food Services  Rancho Santa Fe   \n",
              "2  Accommodation & Food Services  Rancho Santa Fe   \n",
              "\n",
              "                                            keys   latitude   longitude  ...  \\\n",
              "0  us/ca/ranchosantafe/5921valenciacir/359754519  32.990959 -117.186136  ...   \n",
              "1  us/ca/ranchosantafe/5921valenciacir/359754519  32.990959 -117.186136  ...   \n",
              "2  us/ca/ranchosantafe/5921valenciacir/359754519  32.990959 -117.186136  ...   \n",
              "\n",
              "                                    reviews.dateSeen reviews.rating  \\\n",
              "0  2016-08-03T00:00:00Z,2016-07-26T00:00:00Z,2016...            5.0   \n",
              "1  2016-08-02T00:00:00Z,2016-08-26T00:00:00Z,2016...            5.0   \n",
              "2  2016-11-15T00:00:00Z,2016-08-23T00:00:00Z,2016...            5.0   \n",
              "\n",
              "                                reviews.sourceURLs  \\\n",
              "0  https://www.hotels.com/hotel/125419/reviews%20/   \n",
              "1  https://www.hotels.com/hotel/125419/reviews%20/   \n",
              "2  https://www.hotels.com/hotel/125419/reviews%20/   \n",
              "\n",
              "                                        reviews.text  \\\n",
              "0  Our experience at Rancho Valencia was absolute...   \n",
              "1  Amazing place. Everyone was extremely warm and...   \n",
              "2  We booked a 3 night stay at Rancho Valencia to...   \n",
              "\n",
              "                     reviews.title  reviews.userCity reviews.userProvince  \\\n",
              "0  Best romantic vacation ever!!!!               NaN                  NaN   \n",
              "1             Sweet sweet serenity               NaN                  NaN   \n",
              "2  Amazing Property and Experience               NaN                  NaN   \n",
              "\n",
              "  reviews.username                                         sourceURLs  \\\n",
              "0            Paula  http://www.hotels.com/ho125419/%25252525253Flo...   \n",
              "1                D  http://www.hotels.com/ho125419/%25252525253Flo...   \n",
              "2              Ron  http://www.hotels.com/ho125419/%25252525253Flo...   \n",
              "\n",
              "                        websites  \n",
              "0  http://www.ranchovalencia.com  \n",
              "1  http://www.ranchovalencia.com  \n",
              "2  http://www.ranchovalencia.com  \n",
              "\n",
              "[3 rows x 24 columns]"
            ],
            "text/html": [
              "\n",
              "  <div id=\"df-b5bf353c-4a4c-4263-8a26-03f60af98139\">\n",
              "    <div class=\"colab-df-container\">\n",
              "      <div>\n",
              "<style scoped>\n",
              "    .dataframe tbody tr th:only-of-type {\n",
              "        vertical-align: middle;\n",
              "    }\n",
              "\n",
              "    .dataframe tbody tr th {\n",
              "        vertical-align: top;\n",
              "    }\n",
              "\n",
              "    .dataframe thead th {\n",
              "        text-align: right;\n",
              "    }\n",
              "</style>\n",
              "<table border=\"1\" class=\"dataframe\">\n",
              "  <thead>\n",
              "    <tr style=\"text-align: right;\">\n",
              "      <th></th>\n",
              "      <th>id</th>\n",
              "      <th>dateAdded</th>\n",
              "      <th>dateUpdated</th>\n",
              "      <th>address</th>\n",
              "      <th>categories</th>\n",
              "      <th>primaryCategories</th>\n",
              "      <th>city</th>\n",
              "      <th>keys</th>\n",
              "      <th>latitude</th>\n",
              "      <th>longitude</th>\n",
              "      <th>...</th>\n",
              "      <th>reviews.dateSeen</th>\n",
              "      <th>reviews.rating</th>\n",
              "      <th>reviews.sourceURLs</th>\n",
              "      <th>reviews.text</th>\n",
              "      <th>reviews.title</th>\n",
              "      <th>reviews.userCity</th>\n",
              "      <th>reviews.userProvince</th>\n",
              "      <th>reviews.username</th>\n",
              "      <th>sourceURLs</th>\n",
              "      <th>websites</th>\n",
              "    </tr>\n",
              "  </thead>\n",
              "  <tbody>\n",
              "    <tr>\n",
              "      <th>0</th>\n",
              "      <td>AVwc252WIN2L1WUfpqLP</td>\n",
              "      <td>2016-10-30T21:42:42Z</td>\n",
              "      <td>2018-09-10T21:06:27Z</td>\n",
              "      <td>5921 Valencia Cir</td>\n",
              "      <td>Hotels,Hotels and motels,Hotel and motel reser...</td>\n",
              "      <td>Accommodation &amp; Food Services</td>\n",
              "      <td>Rancho Santa Fe</td>\n",
              "      <td>us/ca/ranchosantafe/5921valenciacir/359754519</td>\n",
              "      <td>32.990959</td>\n",
              "      <td>-117.186136</td>\n",
              "      <td>...</td>\n",
              "      <td>2016-08-03T00:00:00Z,2016-07-26T00:00:00Z,2016...</td>\n",
              "      <td>5.0</td>\n",
              "      <td>https://www.hotels.com/hotel/125419/reviews%20/</td>\n",
              "      <td>Our experience at Rancho Valencia was absolute...</td>\n",
              "      <td>Best romantic vacation ever!!!!</td>\n",
              "      <td>NaN</td>\n",
              "      <td>NaN</td>\n",
              "      <td>Paula</td>\n",
              "      <td>http://www.hotels.com/ho125419/%25252525253Flo...</td>\n",
              "      <td>http://www.ranchovalencia.com</td>\n",
              "    </tr>\n",
              "    <tr>\n",
              "      <th>1</th>\n",
              "      <td>AVwc252WIN2L1WUfpqLP</td>\n",
              "      <td>2016-10-30T21:42:42Z</td>\n",
              "      <td>2018-09-10T21:06:27Z</td>\n",
              "      <td>5921 Valencia Cir</td>\n",
              "      <td>Hotels,Hotels and motels,Hotel and motel reser...</td>\n",
              "      <td>Accommodation &amp; Food Services</td>\n",
              "      <td>Rancho Santa Fe</td>\n",
              "      <td>us/ca/ranchosantafe/5921valenciacir/359754519</td>\n",
              "      <td>32.990959</td>\n",
              "      <td>-117.186136</td>\n",
              "      <td>...</td>\n",
              "      <td>2016-08-02T00:00:00Z,2016-08-26T00:00:00Z,2016...</td>\n",
              "      <td>5.0</td>\n",
              "      <td>https://www.hotels.com/hotel/125419/reviews%20/</td>\n",
              "      <td>Amazing place. Everyone was extremely warm and...</td>\n",
              "      <td>Sweet sweet serenity</td>\n",
              "      <td>NaN</td>\n",
              "      <td>NaN</td>\n",
              "      <td>D</td>\n",
              "      <td>http://www.hotels.com/ho125419/%25252525253Flo...</td>\n",
              "      <td>http://www.ranchovalencia.com</td>\n",
              "    </tr>\n",
              "    <tr>\n",
              "      <th>2</th>\n",
              "      <td>AVwc252WIN2L1WUfpqLP</td>\n",
              "      <td>2016-10-30T21:42:42Z</td>\n",
              "      <td>2018-09-10T21:06:27Z</td>\n",
              "      <td>5921 Valencia Cir</td>\n",
              "      <td>Hotels,Hotels and motels,Hotel and motel reser...</td>\n",
              "      <td>Accommodation &amp; Food Services</td>\n",
              "      <td>Rancho Santa Fe</td>\n",
              "      <td>us/ca/ranchosantafe/5921valenciacir/359754519</td>\n",
              "      <td>32.990959</td>\n",
              "      <td>-117.186136</td>\n",
              "      <td>...</td>\n",
              "      <td>2016-11-15T00:00:00Z,2016-08-23T00:00:00Z,2016...</td>\n",
              "      <td>5.0</td>\n",
              "      <td>https://www.hotels.com/hotel/125419/reviews%20/</td>\n",
              "      <td>We booked a 3 night stay at Rancho Valencia to...</td>\n",
              "      <td>Amazing Property and Experience</td>\n",
              "      <td>NaN</td>\n",
              "      <td>NaN</td>\n",
              "      <td>Ron</td>\n",
              "      <td>http://www.hotels.com/ho125419/%25252525253Flo...</td>\n",
              "      <td>http://www.ranchovalencia.com</td>\n",
              "    </tr>\n",
              "  </tbody>\n",
              "</table>\n",
              "<p>3 rows × 24 columns</p>\n",
              "</div>\n",
              "      <button class=\"colab-df-convert\" onclick=\"convertToInteractive('df-b5bf353c-4a4c-4263-8a26-03f60af98139')\"\n",
              "              title=\"Convert this dataframe to an interactive table.\"\n",
              "              style=\"display:none;\">\n",
              "        \n",
              "  <svg xmlns=\"http://www.w3.org/2000/svg\" height=\"24px\"viewBox=\"0 0 24 24\"\n",
              "       width=\"24px\">\n",
              "    <path d=\"M0 0h24v24H0V0z\" fill=\"none\"/>\n",
              "    <path d=\"M18.56 5.44l.94 2.06.94-2.06 2.06-.94-2.06-.94-.94-2.06-.94 2.06-2.06.94zm-11 1L8.5 8.5l.94-2.06 2.06-.94-2.06-.94L8.5 2.5l-.94 2.06-2.06.94zm10 10l.94 2.06.94-2.06 2.06-.94-2.06-.94-.94-2.06-.94 2.06-2.06.94z\"/><path d=\"M17.41 7.96l-1.37-1.37c-.4-.4-.92-.59-1.43-.59-.52 0-1.04.2-1.43.59L10.3 9.45l-7.72 7.72c-.78.78-.78 2.05 0 2.83L4 21.41c.39.39.9.59 1.41.59.51 0 1.02-.2 1.41-.59l7.78-7.78 2.81-2.81c.8-.78.8-2.07 0-2.86zM5.41 20L4 18.59l7.72-7.72 1.47 1.35L5.41 20z\"/>\n",
              "  </svg>\n",
              "      </button>\n",
              "      \n",
              "  <style>\n",
              "    .colab-df-container {\n",
              "      display:flex;\n",
              "      flex-wrap:wrap;\n",
              "      gap: 12px;\n",
              "    }\n",
              "\n",
              "    .colab-df-convert {\n",
              "      background-color: #E8F0FE;\n",
              "      border: none;\n",
              "      border-radius: 50%;\n",
              "      cursor: pointer;\n",
              "      display: none;\n",
              "      fill: #1967D2;\n",
              "      height: 32px;\n",
              "      padding: 0 0 0 0;\n",
              "      width: 32px;\n",
              "    }\n",
              "\n",
              "    .colab-df-convert:hover {\n",
              "      background-color: #E2EBFA;\n",
              "      box-shadow: 0px 1px 2px rgba(60, 64, 67, 0.3), 0px 1px 3px 1px rgba(60, 64, 67, 0.15);\n",
              "      fill: #174EA6;\n",
              "    }\n",
              "\n",
              "    [theme=dark] .colab-df-convert {\n",
              "      background-color: #3B4455;\n",
              "      fill: #D2E3FC;\n",
              "    }\n",
              "\n",
              "    [theme=dark] .colab-df-convert:hover {\n",
              "      background-color: #434B5C;\n",
              "      box-shadow: 0px 1px 3px 1px rgba(0, 0, 0, 0.15);\n",
              "      filter: drop-shadow(0px 1px 2px rgba(0, 0, 0, 0.3));\n",
              "      fill: #FFFFFF;\n",
              "    }\n",
              "  </style>\n",
              "\n",
              "      <script>\n",
              "        const buttonEl =\n",
              "          document.querySelector('#df-b5bf353c-4a4c-4263-8a26-03f60af98139 button.colab-df-convert');\n",
              "        buttonEl.style.display =\n",
              "          google.colab.kernel.accessAllowed ? 'block' : 'none';\n",
              "\n",
              "        async function convertToInteractive(key) {\n",
              "          const element = document.querySelector('#df-b5bf353c-4a4c-4263-8a26-03f60af98139');\n",
              "          const dataTable =\n",
              "            await google.colab.kernel.invokeFunction('convertToInteractive',\n",
              "                                                     [key], {});\n",
              "          if (!dataTable) return;\n",
              "\n",
              "          const docLinkHtml = 'Like what you see? Visit the ' +\n",
              "            '<a target=\"_blank\" href=https://colab.research.google.com/notebooks/data_table.ipynb>data table notebook</a>'\n",
              "            + ' to learn more about interactive tables.';\n",
              "          element.innerHTML = '';\n",
              "          dataTable['output_type'] = 'display_data';\n",
              "          await google.colab.output.renderOutput(dataTable, element);\n",
              "          const docLink = document.createElement('div');\n",
              "          docLink.innerHTML = docLinkHtml;\n",
              "          element.appendChild(docLink);\n",
              "        }\n",
              "      </script>\n",
              "    </div>\n",
              "  </div>\n",
              "  "
            ]
          },
          "metadata": {},
          "execution_count": 358
        }
      ],
      "source": [
        "ds = dataset.copy();\n",
        "ds.drop(columns=['country'], inplace=True);\n",
        "ds.head(3)"
      ]
    },
    {
      "cell_type": "markdown",
      "metadata": {
        "id": "TfGTVs9Kktl8"
      },
      "source": [
        "## Дубликаты\n",
        "Проверим, есть ли в датасете дубликаты. Не будем рассматривать даты и урлы - возможно кто-то просто накрутил один и тот же отзыв"
      ]
    },
    {
      "cell_type": "code",
      "execution_count": null,
      "metadata": {
        "id": "eLHMhCZJkz21",
        "colab": {
          "base_uri": "https://localhost:8080/"
        },
        "outputId": "127fff29-57dd-401d-aa2b-ed9c4b881148"
      },
      "outputs": [
        {
          "output_type": "execute_result",
          "data": {
            "text/plain": [
              "0"
            ]
          },
          "metadata": {},
          "execution_count": 359
        }
      ],
      "source": [
        "ds.duplicated(subset=ds.columns.drop([\"reviews.date\", \"reviews.dateSeen\", \"reviews.sourceURLs\"])).sum()"
      ]
    },
    {
      "cell_type": "markdown",
      "metadata": {
        "id": "wHvJ2xUt4R_n"
      },
      "source": [
        "## Стандартизация данных"
      ]
    },
    {
      "cell_type": "markdown",
      "metadata": {
        "id": "re6LLOiQ4Z-R"
      },
      "source": [
        "В исходном датасете даты представлены в формате ISO 8601 в формате UTC. Преобразуем в более читаемый вариант и уберём смещение по времени.\n",
        "\n",
        "Также явно укажем числовые поля."
      ]
    },
    {
      "cell_type": "code",
      "execution_count": null,
      "metadata": {
        "id": "jw0HLEPv4d9b",
        "colab": {
          "base_uri": "https://localhost:8080/"
        },
        "outputId": "5577a8a9-a4ae-4616-b4e6-4ca125033611"
      },
      "outputs": [
        {
          "output_type": "execute_result",
          "data": {
            "text/plain": [
              "0   2016-10-30 21:42:42\n",
              "1   2016-10-30 21:42:42\n",
              "2   2016-10-30 21:42:42\n",
              "3   2015-11-28 19:19:35\n",
              "4   2015-11-28 19:19:35\n",
              "Name: dateAdded, dtype: datetime64[ns]"
            ]
          },
          "metadata": {},
          "execution_count": 360
        }
      ],
      "source": [
        "#change 'dateAdded' format to date\n",
        "ds[\"dateAdded\"] = ds[\"dateAdded\"].astype(\"datetime64\")\n",
        "ds['dateAdded'].apply(lambda x : x.toordinal())\n",
        "\n",
        "#change 'dateUpdated' format to date\n",
        "ds[\"dateUpdated\"] = ds[\"dateUpdated\"].astype(\"datetime64\")\n",
        "ds['dateUpdated'].apply(lambda x : x.toordinal())\n",
        "\n",
        "#change 'latitude' format to float\n",
        "ds[\"latitude\"] = ds[\"latitude\"].astype(\"float\")\n",
        "\n",
        "#change 'longitude' format to float\n",
        "ds[\"longitude\"] = ds[\"longitude\"].astype(\"float\")\n",
        "\n",
        "#change 'reviews.date' format to date\n",
        "ds[\"reviews.date\"] = ds[\"reviews.date\"].astype(\"datetime64\")\n",
        "ds['reviews.date'].apply(lambda x : x.toordinal)\n",
        "\n",
        "#change 'reviews.rating' format to float\n",
        "ds[\"reviews.rating\"] = ds[\"reviews.rating\"].astype(\"float\")\n",
        "\n",
        "ds['dateAdded'].head()"
      ]
    },
    {
      "cell_type": "markdown",
      "source": [
        "В урлах комментариев оставим лишь название хоста"
      ],
      "metadata": {
        "id": "KA10ubA3y14E"
      }
    },
    {
      "cell_type": "code",
      "source": [
        "ds['reviews.sourceURLs'] = ds['reviews.sourceURLs'].str.extract('([a-zA-Z0-9][a-zA-Z0-9-]{1,61}[a-zA-Z0-9](?:\\.[a-zA-Z]{2,})+)')\n",
        "ds['reviews.sourceURLs'].head()"
      ],
      "metadata": {
        "colab": {
          "base_uri": "https://localhost:8080/"
        },
        "id": "crTMXgEYy9fH",
        "outputId": "1e87cf11-ded2-40bc-c2d9-5fb2d0514783"
      },
      "execution_count": null,
      "outputs": [
        {
          "output_type": "execute_result",
          "data": {
            "text/plain": [
              "0         www.hotels.com\n",
              "1         www.hotels.com\n",
              "2         www.hotels.com\n",
              "3    www.tripadvisor.com\n",
              "4    www.tripadvisor.com\n",
              "Name: reviews.sourceURLs, dtype: object"
            ]
          },
          "metadata": {},
          "execution_count": 414
        }
      ]
    },
    {
      "cell_type": "markdown",
      "source": [
        "# Разбиение датасета"
      ],
      "metadata": {
        "id": "DImzuC6gshbW"
      }
    },
    {
      "cell_type": "markdown",
      "source": [
        "Разобьем исходный датасет ещё на 2 - entries и reviews. Из entries удалим колонки userCity и userProvince, т.к. они содержат много пропусков, а из reviews - все пустые строки, но оставим для анализа данные колонки"
      ],
      "metadata": {
        "id": "AXPk9VDgujYx"
      }
    },
    {
      "cell_type": "code",
      "source": [
        "entries = ds.copy();\n",
        "entries = entries.drop(columns=['reviews.userCity', 'reviews.userProvince'])\n",
        "entries = entries.dropna(thresh=(len(entries.columns)));\n",
        "print(entries.info())\n",
        "\n",
        "print('<--------------------------------------------------------------------->')\n",
        "\n",
        "print(entries.shape)"
      ],
      "metadata": {
        "colab": {
          "base_uri": "https://localhost:8080/"
        },
        "id": "o4AhLnU0vSrp",
        "outputId": "0d0dbae9-077c-42a9-83fe-5f5f25541297"
      },
      "execution_count": null,
      "outputs": [
        {
          "output_type": "stream",
          "name": "stdout",
          "text": [
            "<class 'pandas.core.frame.DataFrame'>\n",
            "Int64Index: 9998 entries, 0 to 9999\n",
            "Data columns (total 33 columns):\n",
            " #   Column                     Non-Null Count  Dtype         \n",
            "---  ------                     --------------  -----         \n",
            " 0   id                         9998 non-null   object        \n",
            " 1   dateAdded                  9998 non-null   datetime64[ns]\n",
            " 2   dateUpdated                9998 non-null   datetime64[ns]\n",
            " 3   address                    9998 non-null   category      \n",
            " 4   categories                 9998 non-null   category      \n",
            " 5   primaryCategories          9998 non-null   category      \n",
            " 6   city                       9998 non-null   category      \n",
            " 7   keys                       9998 non-null   object        \n",
            " 8   latitude                   9998 non-null   float64       \n",
            " 9   longitude                  9998 non-null   float64       \n",
            " 10  name                       9998 non-null   object        \n",
            " 11  postalCode                 9998 non-null   object        \n",
            " 12  province                   9998 non-null   category      \n",
            " 13  reviews.date               9998 non-null   datetime64[ns]\n",
            " 14  reviews.dateSeen           9998 non-null   object        \n",
            " 15  reviews.rating             9998 non-null   float64       \n",
            " 16  reviews.sourceURLs         9998 non-null   category      \n",
            " 17  reviews.text               9998 non-null   object        \n",
            " 18  reviews.title              9998 non-null   object        \n",
            " 19  reviews.username           9998 non-null   object        \n",
            " 20  sourceURLs                 9998 non-null   object        \n",
            " 21  websites                   9998 non-null   object        \n",
            " 22  dateUpdated_int            9998 non-null   int64         \n",
            " 23  dateAdded_int              9998 non-null   int64         \n",
            " 24  reviews.date_int           9998 non-null   int64         \n",
            " 25  address_code               9998 non-null   int16         \n",
            " 26  categories_code            9998 non-null   int16         \n",
            " 27  primaryCategories_code     9998 non-null   int8          \n",
            " 28  city_code                  9998 non-null   int16         \n",
            " 29  province_code              9998 non-null   int8          \n",
            " 30  reviews.sourceURLs_code    9998 non-null   int8          \n",
            " 31  reviews.userCity_code      9998 non-null   int16         \n",
            " 32  reviews.userProvince_code  9998 non-null   int16         \n",
            "dtypes: category(6), datetime64[ns](3), float64(3), int16(5), int64(3), int8(3), object(10)\n",
            "memory usage: 1.9+ MB\n",
            "None\n",
            "<--------------------------------------------------------------------->\n",
            "(9998, 33)\n"
          ]
        }
      ]
    },
    {
      "cell_type": "code",
      "source": [
        "reviews = ds.copy().dropna(thresh=(len(ds.columns)));\n",
        "print(reviews.info())\n",
        "\n",
        "print('<--------------------------------------------------------------------->')\n",
        "\n",
        "print(reviews.shape)"
      ],
      "metadata": {
        "colab": {
          "base_uri": "https://localhost:8080/"
        },
        "id": "g5f1OzAfvXT0",
        "outputId": "6587a8b0-a83b-4441-e37d-af65a7819e85"
      },
      "execution_count": null,
      "outputs": [
        {
          "output_type": "stream",
          "name": "stdout",
          "text": [
            "<class 'pandas.core.frame.DataFrame'>\n",
            "Int64Index: 2657 entries, 3 to 9999\n",
            "Data columns (total 35 columns):\n",
            " #   Column                     Non-Null Count  Dtype         \n",
            "---  ------                     --------------  -----         \n",
            " 0   id                         2657 non-null   object        \n",
            " 1   dateAdded                  2657 non-null   datetime64[ns]\n",
            " 2   dateUpdated                2657 non-null   datetime64[ns]\n",
            " 3   address                    2657 non-null   category      \n",
            " 4   categories                 2657 non-null   category      \n",
            " 5   primaryCategories          2657 non-null   category      \n",
            " 6   city                       2657 non-null   category      \n",
            " 7   keys                       2657 non-null   object        \n",
            " 8   latitude                   2657 non-null   float64       \n",
            " 9   longitude                  2657 non-null   float64       \n",
            " 10  name                       2657 non-null   object        \n",
            " 11  postalCode                 2657 non-null   object        \n",
            " 12  province                   2657 non-null   category      \n",
            " 13  reviews.date               2657 non-null   datetime64[ns]\n",
            " 14  reviews.dateSeen           2657 non-null   object        \n",
            " 15  reviews.rating             2657 non-null   float64       \n",
            " 16  reviews.sourceURLs         2657 non-null   category      \n",
            " 17  reviews.text               2657 non-null   object        \n",
            " 18  reviews.title              2657 non-null   object        \n",
            " 19  reviews.userCity           2657 non-null   category      \n",
            " 20  reviews.userProvince       2657 non-null   category      \n",
            " 21  reviews.username           2657 non-null   object        \n",
            " 22  sourceURLs                 2657 non-null   object        \n",
            " 23  websites                   2657 non-null   object        \n",
            " 24  dateUpdated_int            2657 non-null   int64         \n",
            " 25  dateAdded_int              2657 non-null   int64         \n",
            " 26  reviews.date_int           2657 non-null   int64         \n",
            " 27  address_code               2657 non-null   int16         \n",
            " 28  categories_code            2657 non-null   int16         \n",
            " 29  primaryCategories_code     2657 non-null   int8          \n",
            " 30  city_code                  2657 non-null   int16         \n",
            " 31  province_code              2657 non-null   int8          \n",
            " 32  reviews.sourceURLs_code    2657 non-null   int8          \n",
            " 33  reviews.userCity_code      2657 non-null   int16         \n",
            " 34  reviews.userProvince_code  2657 non-null   int16         \n",
            "dtypes: category(8), datetime64[ns](3), float64(3), int16(5), int64(3), int8(3), object(10)\n",
            "memory usage: 731.4+ KB\n",
            "None\n",
            "<--------------------------------------------------------------------->\n",
            "(2657, 35)\n"
          ]
        }
      ]
    },
    {
      "cell_type": "markdown",
      "metadata": {
        "id": "s3XYuyi367D5"
      },
      "source": [
        "# Визуальный анализ данных"
      ]
    },
    {
      "cell_type": "markdown",
      "metadata": {
        "id": "GcYSAtTO69ya"
      },
      "source": [
        "## Проверка актуальности данных\n",
        "\n",
        "Оценим качество и актуальность данных с помощью гистограм на основании дат добавления (dateAdded) и последнего обновления (dateUpdated) соответственно.\n",
        "\n"
      ]
    },
    {
      "cell_type": "code",
      "execution_count": null,
      "metadata": {
        "id": "gQbTaLsL6opT",
        "colab": {
          "base_uri": "https://localhost:8080/",
          "height": 542
        },
        "outputId": "40bbb0a4-cef0-4e67-9c2a-dedb354ecefb"
      },
      "outputs": [
        {
          "output_type": "display_data",
          "data": {
            "text/html": [
              "<html>\n",
              "<head><meta charset=\"utf-8\" /></head>\n",
              "<body>\n",
              "    <div>            <script src=\"https://cdnjs.cloudflare.com/ajax/libs/mathjax/2.7.5/MathJax.js?config=TeX-AMS-MML_SVG\"></script><script type=\"text/javascript\">if (window.MathJax) {MathJax.Hub.Config({SVG: {font: \"STIX-Web\"}});}</script>                <script type=\"text/javascript\">window.PlotlyConfig = {MathJaxConfig: 'local'};</script>\n",
              "        <script src=\"https://cdn.plot.ly/plotly-2.8.3.min.js\"></script>                <div id=\"7878f093-84cd-4616-9614-c94137a73dff\" class=\"plotly-graph-div\" style=\"height:525px; width:100%;\"></div>            <script type=\"text/javascript\">                                    window.PLOTLYENV=window.PLOTLYENV || {};                                    if (document.getElementById(\"7878f093-84cd-4616-9614-c94137a73dff\")) {                    Plotly.newPlot(                        \"7878f093-84cd-4616-9614-c94137a73dff\",                        [{\"alignmentgroup\":\"True\",\"hovertemplate\":\"\\u0414\\u0430\\u0442\\u0430=%{x}<br>\\u041a\\u043e\\u043b\\u0438\\u0447\\u0435\\u0441\\u0442\\u0432\\u043e \\u043d\\u043e\\u0432\\u044b\\u0445 \\u0437\\u0430\\u043f\\u0438\\u0441\\u0435\\u0439=%{y}<extra></extra>\",\"legendgroup\":\"\",\"marker\":{\"color\":\"#636efa\",\"pattern\":{\"shape\":\"\"}},\"name\":\"\",\"offsetgroup\":\"\",\"orientation\":\"v\",\"showlegend\":false,\"textposition\":\"auto\",\"x\":[\"2014:10\",\"2015:2\",\"2015:3\",\"2015:5\",\"2015:7\",\"2015:9\",\"2015:10\",\"2015:11\",\"2015:12\",\"2016:1\",\"2016:2\",\"2016:3\",\"2016:4\",\"2016:5\",\"2016:6\",\"2016:7\",\"2016:8\",\"2016:9\",\"2016:10\",\"2016:11\",\"2016:12\",\"2017:1\",\"2017:2\",\"2017:3\",\"2017:4\",\"2017:6\",\"2017:7\",\"2017:8\",\"2017:9\",\"2017:10\",\"2017:11\",\"2017:12\",\"2018:1\",\"2018:2\",\"2018:3\",\"2018:4\",\"2018:5\",\"2018:8\"],\"xaxis\":\"x\",\"y\":[1,1,2,2,9,31,197,62,15,6,21,189,60,219,82,58,24,11,117,178,58,16,25,24,48,36,84,4,6,1,7,12,51,1,3,7,1,1],\"yaxis\":\"y\",\"type\":\"bar\"}],                        {\"template\":{\"data\":{\"bar\":[{\"error_x\":{\"color\":\"#2a3f5f\"},\"error_y\":{\"color\":\"#2a3f5f\"},\"marker\":{\"line\":{\"color\":\"#E5ECF6\",\"width\":0.5},\"pattern\":{\"fillmode\":\"overlay\",\"size\":10,\"solidity\":0.2}},\"type\":\"bar\"}],\"barpolar\":[{\"marker\":{\"line\":{\"color\":\"#E5ECF6\",\"width\":0.5},\"pattern\":{\"fillmode\":\"overlay\",\"size\":10,\"solidity\":0.2}},\"type\":\"barpolar\"}],\"carpet\":[{\"aaxis\":{\"endlinecolor\":\"#2a3f5f\",\"gridcolor\":\"white\",\"linecolor\":\"white\",\"minorgridcolor\":\"white\",\"startlinecolor\":\"#2a3f5f\"},\"baxis\":{\"endlinecolor\":\"#2a3f5f\",\"gridcolor\":\"white\",\"linecolor\":\"white\",\"minorgridcolor\":\"white\",\"startlinecolor\":\"#2a3f5f\"},\"type\":\"carpet\"}],\"choropleth\":[{\"colorbar\":{\"outlinewidth\":0,\"ticks\":\"\"},\"type\":\"choropleth\"}],\"contour\":[{\"colorbar\":{\"outlinewidth\":0,\"ticks\":\"\"},\"colorscale\":[[0.0,\"#0d0887\"],[0.1111111111111111,\"#46039f\"],[0.2222222222222222,\"#7201a8\"],[0.3333333333333333,\"#9c179e\"],[0.4444444444444444,\"#bd3786\"],[0.5555555555555556,\"#d8576b\"],[0.6666666666666666,\"#ed7953\"],[0.7777777777777778,\"#fb9f3a\"],[0.8888888888888888,\"#fdca26\"],[1.0,\"#f0f921\"]],\"type\":\"contour\"}],\"contourcarpet\":[{\"colorbar\":{\"outlinewidth\":0,\"ticks\":\"\"},\"type\":\"contourcarpet\"}],\"heatmap\":[{\"colorbar\":{\"outlinewidth\":0,\"ticks\":\"\"},\"colorscale\":[[0.0,\"#0d0887\"],[0.1111111111111111,\"#46039f\"],[0.2222222222222222,\"#7201a8\"],[0.3333333333333333,\"#9c179e\"],[0.4444444444444444,\"#bd3786\"],[0.5555555555555556,\"#d8576b\"],[0.6666666666666666,\"#ed7953\"],[0.7777777777777778,\"#fb9f3a\"],[0.8888888888888888,\"#fdca26\"],[1.0,\"#f0f921\"]],\"type\":\"heatmap\"}],\"heatmapgl\":[{\"colorbar\":{\"outlinewidth\":0,\"ticks\":\"\"},\"colorscale\":[[0.0,\"#0d0887\"],[0.1111111111111111,\"#46039f\"],[0.2222222222222222,\"#7201a8\"],[0.3333333333333333,\"#9c179e\"],[0.4444444444444444,\"#bd3786\"],[0.5555555555555556,\"#d8576b\"],[0.6666666666666666,\"#ed7953\"],[0.7777777777777778,\"#fb9f3a\"],[0.8888888888888888,\"#fdca26\"],[1.0,\"#f0f921\"]],\"type\":\"heatmapgl\"}],\"histogram\":[{\"marker\":{\"pattern\":{\"fillmode\":\"overlay\",\"size\":10,\"solidity\":0.2}},\"type\":\"histogram\"}],\"histogram2d\":[{\"colorbar\":{\"outlinewidth\":0,\"ticks\":\"\"},\"colorscale\":[[0.0,\"#0d0887\"],[0.1111111111111111,\"#46039f\"],[0.2222222222222222,\"#7201a8\"],[0.3333333333333333,\"#9c179e\"],[0.4444444444444444,\"#bd3786\"],[0.5555555555555556,\"#d8576b\"],[0.6666666666666666,\"#ed7953\"],[0.7777777777777778,\"#fb9f3a\"],[0.8888888888888888,\"#fdca26\"],[1.0,\"#f0f921\"]],\"type\":\"histogram2d\"}],\"histogram2dcontour\":[{\"colorbar\":{\"outlinewidth\":0,\"ticks\":\"\"},\"colorscale\":[[0.0,\"#0d0887\"],[0.1111111111111111,\"#46039f\"],[0.2222222222222222,\"#7201a8\"],[0.3333333333333333,\"#9c179e\"],[0.4444444444444444,\"#bd3786\"],[0.5555555555555556,\"#d8576b\"],[0.6666666666666666,\"#ed7953\"],[0.7777777777777778,\"#fb9f3a\"],[0.8888888888888888,\"#fdca26\"],[1.0,\"#f0f921\"]],\"type\":\"histogram2dcontour\"}],\"mesh3d\":[{\"colorbar\":{\"outlinewidth\":0,\"ticks\":\"\"},\"type\":\"mesh3d\"}],\"parcoords\":[{\"line\":{\"colorbar\":{\"outlinewidth\":0,\"ticks\":\"\"}},\"type\":\"parcoords\"}],\"pie\":[{\"automargin\":true,\"type\":\"pie\"}],\"scatter\":[{\"marker\":{\"colorbar\":{\"outlinewidth\":0,\"ticks\":\"\"}},\"type\":\"scatter\"}],\"scatter3d\":[{\"line\":{\"colorbar\":{\"outlinewidth\":0,\"ticks\":\"\"}},\"marker\":{\"colorbar\":{\"outlinewidth\":0,\"ticks\":\"\"}},\"type\":\"scatter3d\"}],\"scattercarpet\":[{\"marker\":{\"colorbar\":{\"outlinewidth\":0,\"ticks\":\"\"}},\"type\":\"scattercarpet\"}],\"scattergeo\":[{\"marker\":{\"colorbar\":{\"outlinewidth\":0,\"ticks\":\"\"}},\"type\":\"scattergeo\"}],\"scattergl\":[{\"marker\":{\"colorbar\":{\"outlinewidth\":0,\"ticks\":\"\"}},\"type\":\"scattergl\"}],\"scattermapbox\":[{\"marker\":{\"colorbar\":{\"outlinewidth\":0,\"ticks\":\"\"}},\"type\":\"scattermapbox\"}],\"scatterpolar\":[{\"marker\":{\"colorbar\":{\"outlinewidth\":0,\"ticks\":\"\"}},\"type\":\"scatterpolar\"}],\"scatterpolargl\":[{\"marker\":{\"colorbar\":{\"outlinewidth\":0,\"ticks\":\"\"}},\"type\":\"scatterpolargl\"}],\"scatterternary\":[{\"marker\":{\"colorbar\":{\"outlinewidth\":0,\"ticks\":\"\"}},\"type\":\"scatterternary\"}],\"surface\":[{\"colorbar\":{\"outlinewidth\":0,\"ticks\":\"\"},\"colorscale\":[[0.0,\"#0d0887\"],[0.1111111111111111,\"#46039f\"],[0.2222222222222222,\"#7201a8\"],[0.3333333333333333,\"#9c179e\"],[0.4444444444444444,\"#bd3786\"],[0.5555555555555556,\"#d8576b\"],[0.6666666666666666,\"#ed7953\"],[0.7777777777777778,\"#fb9f3a\"],[0.8888888888888888,\"#fdca26\"],[1.0,\"#f0f921\"]],\"type\":\"surface\"}],\"table\":[{\"cells\":{\"fill\":{\"color\":\"#EBF0F8\"},\"line\":{\"color\":\"white\"}},\"header\":{\"fill\":{\"color\":\"#C8D4E3\"},\"line\":{\"color\":\"white\"}},\"type\":\"table\"}]},\"layout\":{\"annotationdefaults\":{\"arrowcolor\":\"#2a3f5f\",\"arrowhead\":0,\"arrowwidth\":1},\"autotypenumbers\":\"strict\",\"coloraxis\":{\"colorbar\":{\"outlinewidth\":0,\"ticks\":\"\"}},\"colorscale\":{\"diverging\":[[0,\"#8e0152\"],[0.1,\"#c51b7d\"],[0.2,\"#de77ae\"],[0.3,\"#f1b6da\"],[0.4,\"#fde0ef\"],[0.5,\"#f7f7f7\"],[0.6,\"#e6f5d0\"],[0.7,\"#b8e186\"],[0.8,\"#7fbc41\"],[0.9,\"#4d9221\"],[1,\"#276419\"]],\"sequential\":[[0.0,\"#0d0887\"],[0.1111111111111111,\"#46039f\"],[0.2222222222222222,\"#7201a8\"],[0.3333333333333333,\"#9c179e\"],[0.4444444444444444,\"#bd3786\"],[0.5555555555555556,\"#d8576b\"],[0.6666666666666666,\"#ed7953\"],[0.7777777777777778,\"#fb9f3a\"],[0.8888888888888888,\"#fdca26\"],[1.0,\"#f0f921\"]],\"sequentialminus\":[[0.0,\"#0d0887\"],[0.1111111111111111,\"#46039f\"],[0.2222222222222222,\"#7201a8\"],[0.3333333333333333,\"#9c179e\"],[0.4444444444444444,\"#bd3786\"],[0.5555555555555556,\"#d8576b\"],[0.6666666666666666,\"#ed7953\"],[0.7777777777777778,\"#fb9f3a\"],[0.8888888888888888,\"#fdca26\"],[1.0,\"#f0f921\"]]},\"colorway\":[\"#636efa\",\"#EF553B\",\"#00cc96\",\"#ab63fa\",\"#FFA15A\",\"#19d3f3\",\"#FF6692\",\"#B6E880\",\"#FF97FF\",\"#FECB52\"],\"font\":{\"color\":\"#2a3f5f\"},\"geo\":{\"bgcolor\":\"white\",\"lakecolor\":\"white\",\"landcolor\":\"#E5ECF6\",\"showlakes\":true,\"showland\":true,\"subunitcolor\":\"white\"},\"hoverlabel\":{\"align\":\"left\"},\"hovermode\":\"closest\",\"mapbox\":{\"style\":\"light\"},\"paper_bgcolor\":\"white\",\"plot_bgcolor\":\"#E5ECF6\",\"polar\":{\"angularaxis\":{\"gridcolor\":\"white\",\"linecolor\":\"white\",\"ticks\":\"\"},\"bgcolor\":\"#E5ECF6\",\"radialaxis\":{\"gridcolor\":\"white\",\"linecolor\":\"white\",\"ticks\":\"\"}},\"scene\":{\"xaxis\":{\"backgroundcolor\":\"#E5ECF6\",\"gridcolor\":\"white\",\"gridwidth\":2,\"linecolor\":\"white\",\"showbackground\":true,\"ticks\":\"\",\"zerolinecolor\":\"white\"},\"yaxis\":{\"backgroundcolor\":\"#E5ECF6\",\"gridcolor\":\"white\",\"gridwidth\":2,\"linecolor\":\"white\",\"showbackground\":true,\"ticks\":\"\",\"zerolinecolor\":\"white\"},\"zaxis\":{\"backgroundcolor\":\"#E5ECF6\",\"gridcolor\":\"white\",\"gridwidth\":2,\"linecolor\":\"white\",\"showbackground\":true,\"ticks\":\"\",\"zerolinecolor\":\"white\"}},\"shapedefaults\":{\"line\":{\"color\":\"#2a3f5f\"}},\"ternary\":{\"aaxis\":{\"gridcolor\":\"white\",\"linecolor\":\"white\",\"ticks\":\"\"},\"baxis\":{\"gridcolor\":\"white\",\"linecolor\":\"white\",\"ticks\":\"\"},\"bgcolor\":\"#E5ECF6\",\"caxis\":{\"gridcolor\":\"white\",\"linecolor\":\"white\",\"ticks\":\"\"}},\"title\":{\"x\":0.05},\"xaxis\":{\"automargin\":true,\"gridcolor\":\"white\",\"linecolor\":\"white\",\"ticks\":\"\",\"title\":{\"standoff\":15},\"zerolinecolor\":\"white\",\"zerolinewidth\":2},\"yaxis\":{\"automargin\":true,\"gridcolor\":\"white\",\"linecolor\":\"white\",\"ticks\":\"\",\"title\":{\"standoff\":15},\"zerolinecolor\":\"white\",\"zerolinewidth\":2}}},\"xaxis\":{\"anchor\":\"y\",\"domain\":[0.0,1.0],\"title\":{\"text\":\"\\u0412\\u0440\\u0435\\u043c\\u044f\"}},\"yaxis\":{\"anchor\":\"x\",\"domain\":[0.0,1.0],\"title\":{\"text\":\"\\u041d\\u043e\\u0432\\u044b\\u0435 \\u0437\\u0430\\u043f\\u0438\\u0441\\u0438\"}},\"legend\":{\"tracegroupgap\":0},\"margin\":{\"t\":30,\"l\":0,\"r\":30,\"b\":0},\"barmode\":\"relative\",\"font\":{\"family\":\"Courier New\",\"color\":\"blue\"},\"title\":{\"text\":\"\\u0413\\u0438\\u0441\\u0442\\u043e\\u0433\\u0440\\u0430\\u043c\\u043c\\u0430 \\u043a\\u043e\\u043b\\u0438\\u0447\\u0435\\u0441\\u0442\\u0432\\u0430 \\u0434\\u043e\\u0431\\u0430\\u0432\\u043b\\u0435\\u043d\\u043d\\u044b\\u0445 \\u0441\\u0430\\u0439\\u0442\\u043e\\u0432 \\u0437\\u0430 \\u043c\\u0435\\u0441\\u044f\\u0446\",\"font\":{\"family\":\"Times New Roman\",\"color\":\"green\"}}},                        {\"responsive\": true}                    ).then(function(){\n",
              "                            \n",
              "var gd = document.getElementById('7878f093-84cd-4616-9614-c94137a73dff');\n",
              "var x = new MutationObserver(function (mutations, observer) {{\n",
              "        var display = window.getComputedStyle(gd).display;\n",
              "        if (!display || display === 'none') {{\n",
              "            console.log([gd, 'removed!']);\n",
              "            Plotly.purge(gd);\n",
              "            observer.disconnect();\n",
              "        }}\n",
              "}});\n",
              "\n",
              "// Listen for the removal of the full notebook cells\n",
              "var notebookContainer = gd.closest('#notebook-container');\n",
              "if (notebookContainer) {{\n",
              "    x.observe(notebookContainer, {childList: true});\n",
              "}}\n",
              "\n",
              "// Listen for the clearing of the current output cell\n",
              "var outputEl = gd.closest('.output');\n",
              "if (outputEl) {{\n",
              "    x.observe(outputEl, {childList: true});\n",
              "}}\n",
              "\n",
              "                        })                };                            </script>        </div>\n",
              "</body>\n",
              "</html>"
            ]
          },
          "metadata": {}
        }
      ],
      "source": [
        "datesAdded = entries.copy().drop_duplicates(subset = [\"name\"]).groupby([entries[\"dateAdded\"].dt.year, entries[\"dateAdded\"].dt.month]).count();\n",
        "datesAddedY = datesAdded.id.values;\n",
        "datesAddedX = [(str(i[0]) + ':' + str(i[1])) for i in datesAdded.index.values];\n",
        "\n",
        "data_quality = px.bar(x=datesAddedX, y=datesAddedY, labels={'x':'Дата', 'y':'Количество новых записей'})\n",
        "data_quality.update_layout(\n",
        "    margin=dict(l=0, r=30, t=30, b=0),\n",
        "    title=\"Гистограмма количества добавленных сайтов за месяц\",\n",
        "    xaxis_title=\"Время\",\n",
        "    yaxis_title=\"Новые записи\",\n",
        "    font_family=\"Courier New\",\n",
        "    font_color=\"blue\",\n",
        "    title_font_family=\"Times New Roman\",\n",
        "    title_font_color=\"green\"\n",
        "    )\n",
        "\n",
        "data_quality.show();"
      ]
    },
    {
      "cell_type": "code",
      "execution_count": null,
      "metadata": {
        "id": "b6KiZIaJ7ECD",
        "colab": {
          "base_uri": "https://localhost:8080/",
          "height": 542
        },
        "outputId": "7057ea8d-d6aa-4e79-91ae-81b1243b4e78"
      },
      "outputs": [
        {
          "output_type": "display_data",
          "data": {
            "text/html": [
              "<html>\n",
              "<head><meta charset=\"utf-8\" /></head>\n",
              "<body>\n",
              "    <div>            <script src=\"https://cdnjs.cloudflare.com/ajax/libs/mathjax/2.7.5/MathJax.js?config=TeX-AMS-MML_SVG\"></script><script type=\"text/javascript\">if (window.MathJax) {MathJax.Hub.Config({SVG: {font: \"STIX-Web\"}});}</script>                <script type=\"text/javascript\">window.PlotlyConfig = {MathJaxConfig: 'local'};</script>\n",
              "        <script src=\"https://cdn.plot.ly/plotly-2.8.3.min.js\"></script>                <div id=\"b92fe548-0e34-4bb4-a771-6e74965f2f46\" class=\"plotly-graph-div\" style=\"height:525px; width:100%;\"></div>            <script type=\"text/javascript\">                                    window.PLOTLYENV=window.PLOTLYENV || {};                                    if (document.getElementById(\"b92fe548-0e34-4bb4-a771-6e74965f2f46\")) {                    Plotly.newPlot(                        \"b92fe548-0e34-4bb4-a771-6e74965f2f46\",                        [{\"alignmentgroup\":\"True\",\"hovertemplate\":\"\\u0414\\u0430\\u0442\\u0430=%{x}<br>\\u041a\\u043e\\u043b\\u0438\\u0447\\u0435\\u0441\\u0442\\u0432\\u043e \\u043e\\u0431\\u043d\\u043e\\u0432\\u043b\\u0451\\u043d\\u043d\\u044b\\u0445 \\u0437\\u0430\\u043f\\u0438\\u0441\\u0435\\u0439=%{y}<extra></extra>\",\"legendgroup\":\"\",\"marker\":{\"color\":\"#636efa\",\"pattern\":{\"shape\":\"\"}},\"name\":\"\",\"offsetgroup\":\"\",\"orientation\":\"v\",\"showlegend\":false,\"textposition\":\"auto\",\"x\":[\"2018:1\",\"2018:2\",\"2018:3\",\"2018:4\",\"2018:5\",\"2018:6\",\"2018:7\",\"2018:8\",\"2018:9\"],\"xaxis\":\"x\",\"y\":[721,114,243,131,82,220,25,91,43],\"yaxis\":\"y\",\"type\":\"bar\"}],                        {\"template\":{\"data\":{\"bar\":[{\"error_x\":{\"color\":\"#2a3f5f\"},\"error_y\":{\"color\":\"#2a3f5f\"},\"marker\":{\"line\":{\"color\":\"#E5ECF6\",\"width\":0.5},\"pattern\":{\"fillmode\":\"overlay\",\"size\":10,\"solidity\":0.2}},\"type\":\"bar\"}],\"barpolar\":[{\"marker\":{\"line\":{\"color\":\"#E5ECF6\",\"width\":0.5},\"pattern\":{\"fillmode\":\"overlay\",\"size\":10,\"solidity\":0.2}},\"type\":\"barpolar\"}],\"carpet\":[{\"aaxis\":{\"endlinecolor\":\"#2a3f5f\",\"gridcolor\":\"white\",\"linecolor\":\"white\",\"minorgridcolor\":\"white\",\"startlinecolor\":\"#2a3f5f\"},\"baxis\":{\"endlinecolor\":\"#2a3f5f\",\"gridcolor\":\"white\",\"linecolor\":\"white\",\"minorgridcolor\":\"white\",\"startlinecolor\":\"#2a3f5f\"},\"type\":\"carpet\"}],\"choropleth\":[{\"colorbar\":{\"outlinewidth\":0,\"ticks\":\"\"},\"type\":\"choropleth\"}],\"contour\":[{\"colorbar\":{\"outlinewidth\":0,\"ticks\":\"\"},\"colorscale\":[[0.0,\"#0d0887\"],[0.1111111111111111,\"#46039f\"],[0.2222222222222222,\"#7201a8\"],[0.3333333333333333,\"#9c179e\"],[0.4444444444444444,\"#bd3786\"],[0.5555555555555556,\"#d8576b\"],[0.6666666666666666,\"#ed7953\"],[0.7777777777777778,\"#fb9f3a\"],[0.8888888888888888,\"#fdca26\"],[1.0,\"#f0f921\"]],\"type\":\"contour\"}],\"contourcarpet\":[{\"colorbar\":{\"outlinewidth\":0,\"ticks\":\"\"},\"type\":\"contourcarpet\"}],\"heatmap\":[{\"colorbar\":{\"outlinewidth\":0,\"ticks\":\"\"},\"colorscale\":[[0.0,\"#0d0887\"],[0.1111111111111111,\"#46039f\"],[0.2222222222222222,\"#7201a8\"],[0.3333333333333333,\"#9c179e\"],[0.4444444444444444,\"#bd3786\"],[0.5555555555555556,\"#d8576b\"],[0.6666666666666666,\"#ed7953\"],[0.7777777777777778,\"#fb9f3a\"],[0.8888888888888888,\"#fdca26\"],[1.0,\"#f0f921\"]],\"type\":\"heatmap\"}],\"heatmapgl\":[{\"colorbar\":{\"outlinewidth\":0,\"ticks\":\"\"},\"colorscale\":[[0.0,\"#0d0887\"],[0.1111111111111111,\"#46039f\"],[0.2222222222222222,\"#7201a8\"],[0.3333333333333333,\"#9c179e\"],[0.4444444444444444,\"#bd3786\"],[0.5555555555555556,\"#d8576b\"],[0.6666666666666666,\"#ed7953\"],[0.7777777777777778,\"#fb9f3a\"],[0.8888888888888888,\"#fdca26\"],[1.0,\"#f0f921\"]],\"type\":\"heatmapgl\"}],\"histogram\":[{\"marker\":{\"pattern\":{\"fillmode\":\"overlay\",\"size\":10,\"solidity\":0.2}},\"type\":\"histogram\"}],\"histogram2d\":[{\"colorbar\":{\"outlinewidth\":0,\"ticks\":\"\"},\"colorscale\":[[0.0,\"#0d0887\"],[0.1111111111111111,\"#46039f\"],[0.2222222222222222,\"#7201a8\"],[0.3333333333333333,\"#9c179e\"],[0.4444444444444444,\"#bd3786\"],[0.5555555555555556,\"#d8576b\"],[0.6666666666666666,\"#ed7953\"],[0.7777777777777778,\"#fb9f3a\"],[0.8888888888888888,\"#fdca26\"],[1.0,\"#f0f921\"]],\"type\":\"histogram2d\"}],\"histogram2dcontour\":[{\"colorbar\":{\"outlinewidth\":0,\"ticks\":\"\"},\"colorscale\":[[0.0,\"#0d0887\"],[0.1111111111111111,\"#46039f\"],[0.2222222222222222,\"#7201a8\"],[0.3333333333333333,\"#9c179e\"],[0.4444444444444444,\"#bd3786\"],[0.5555555555555556,\"#d8576b\"],[0.6666666666666666,\"#ed7953\"],[0.7777777777777778,\"#fb9f3a\"],[0.8888888888888888,\"#fdca26\"],[1.0,\"#f0f921\"]],\"type\":\"histogram2dcontour\"}],\"mesh3d\":[{\"colorbar\":{\"outlinewidth\":0,\"ticks\":\"\"},\"type\":\"mesh3d\"}],\"parcoords\":[{\"line\":{\"colorbar\":{\"outlinewidth\":0,\"ticks\":\"\"}},\"type\":\"parcoords\"}],\"pie\":[{\"automargin\":true,\"type\":\"pie\"}],\"scatter\":[{\"marker\":{\"colorbar\":{\"outlinewidth\":0,\"ticks\":\"\"}},\"type\":\"scatter\"}],\"scatter3d\":[{\"line\":{\"colorbar\":{\"outlinewidth\":0,\"ticks\":\"\"}},\"marker\":{\"colorbar\":{\"outlinewidth\":0,\"ticks\":\"\"}},\"type\":\"scatter3d\"}],\"scattercarpet\":[{\"marker\":{\"colorbar\":{\"outlinewidth\":0,\"ticks\":\"\"}},\"type\":\"scattercarpet\"}],\"scattergeo\":[{\"marker\":{\"colorbar\":{\"outlinewidth\":0,\"ticks\":\"\"}},\"type\":\"scattergeo\"}],\"scattergl\":[{\"marker\":{\"colorbar\":{\"outlinewidth\":0,\"ticks\":\"\"}},\"type\":\"scattergl\"}],\"scattermapbox\":[{\"marker\":{\"colorbar\":{\"outlinewidth\":0,\"ticks\":\"\"}},\"type\":\"scattermapbox\"}],\"scatterpolar\":[{\"marker\":{\"colorbar\":{\"outlinewidth\":0,\"ticks\":\"\"}},\"type\":\"scatterpolar\"}],\"scatterpolargl\":[{\"marker\":{\"colorbar\":{\"outlinewidth\":0,\"ticks\":\"\"}},\"type\":\"scatterpolargl\"}],\"scatterternary\":[{\"marker\":{\"colorbar\":{\"outlinewidth\":0,\"ticks\":\"\"}},\"type\":\"scatterternary\"}],\"surface\":[{\"colorbar\":{\"outlinewidth\":0,\"ticks\":\"\"},\"colorscale\":[[0.0,\"#0d0887\"],[0.1111111111111111,\"#46039f\"],[0.2222222222222222,\"#7201a8\"],[0.3333333333333333,\"#9c179e\"],[0.4444444444444444,\"#bd3786\"],[0.5555555555555556,\"#d8576b\"],[0.6666666666666666,\"#ed7953\"],[0.7777777777777778,\"#fb9f3a\"],[0.8888888888888888,\"#fdca26\"],[1.0,\"#f0f921\"]],\"type\":\"surface\"}],\"table\":[{\"cells\":{\"fill\":{\"color\":\"#EBF0F8\"},\"line\":{\"color\":\"white\"}},\"header\":{\"fill\":{\"color\":\"#C8D4E3\"},\"line\":{\"color\":\"white\"}},\"type\":\"table\"}]},\"layout\":{\"annotationdefaults\":{\"arrowcolor\":\"#2a3f5f\",\"arrowhead\":0,\"arrowwidth\":1},\"autotypenumbers\":\"strict\",\"coloraxis\":{\"colorbar\":{\"outlinewidth\":0,\"ticks\":\"\"}},\"colorscale\":{\"diverging\":[[0,\"#8e0152\"],[0.1,\"#c51b7d\"],[0.2,\"#de77ae\"],[0.3,\"#f1b6da\"],[0.4,\"#fde0ef\"],[0.5,\"#f7f7f7\"],[0.6,\"#e6f5d0\"],[0.7,\"#b8e186\"],[0.8,\"#7fbc41\"],[0.9,\"#4d9221\"],[1,\"#276419\"]],\"sequential\":[[0.0,\"#0d0887\"],[0.1111111111111111,\"#46039f\"],[0.2222222222222222,\"#7201a8\"],[0.3333333333333333,\"#9c179e\"],[0.4444444444444444,\"#bd3786\"],[0.5555555555555556,\"#d8576b\"],[0.6666666666666666,\"#ed7953\"],[0.7777777777777778,\"#fb9f3a\"],[0.8888888888888888,\"#fdca26\"],[1.0,\"#f0f921\"]],\"sequentialminus\":[[0.0,\"#0d0887\"],[0.1111111111111111,\"#46039f\"],[0.2222222222222222,\"#7201a8\"],[0.3333333333333333,\"#9c179e\"],[0.4444444444444444,\"#bd3786\"],[0.5555555555555556,\"#d8576b\"],[0.6666666666666666,\"#ed7953\"],[0.7777777777777778,\"#fb9f3a\"],[0.8888888888888888,\"#fdca26\"],[1.0,\"#f0f921\"]]},\"colorway\":[\"#636efa\",\"#EF553B\",\"#00cc96\",\"#ab63fa\",\"#FFA15A\",\"#19d3f3\",\"#FF6692\",\"#B6E880\",\"#FF97FF\",\"#FECB52\"],\"font\":{\"color\":\"#2a3f5f\"},\"geo\":{\"bgcolor\":\"white\",\"lakecolor\":\"white\",\"landcolor\":\"#E5ECF6\",\"showlakes\":true,\"showland\":true,\"subunitcolor\":\"white\"},\"hoverlabel\":{\"align\":\"left\"},\"hovermode\":\"closest\",\"mapbox\":{\"style\":\"light\"},\"paper_bgcolor\":\"white\",\"plot_bgcolor\":\"#E5ECF6\",\"polar\":{\"angularaxis\":{\"gridcolor\":\"white\",\"linecolor\":\"white\",\"ticks\":\"\"},\"bgcolor\":\"#E5ECF6\",\"radialaxis\":{\"gridcolor\":\"white\",\"linecolor\":\"white\",\"ticks\":\"\"}},\"scene\":{\"xaxis\":{\"backgroundcolor\":\"#E5ECF6\",\"gridcolor\":\"white\",\"gridwidth\":2,\"linecolor\":\"white\",\"showbackground\":true,\"ticks\":\"\",\"zerolinecolor\":\"white\"},\"yaxis\":{\"backgroundcolor\":\"#E5ECF6\",\"gridcolor\":\"white\",\"gridwidth\":2,\"linecolor\":\"white\",\"showbackground\":true,\"ticks\":\"\",\"zerolinecolor\":\"white\"},\"zaxis\":{\"backgroundcolor\":\"#E5ECF6\",\"gridcolor\":\"white\",\"gridwidth\":2,\"linecolor\":\"white\",\"showbackground\":true,\"ticks\":\"\",\"zerolinecolor\":\"white\"}},\"shapedefaults\":{\"line\":{\"color\":\"#2a3f5f\"}},\"ternary\":{\"aaxis\":{\"gridcolor\":\"white\",\"linecolor\":\"white\",\"ticks\":\"\"},\"baxis\":{\"gridcolor\":\"white\",\"linecolor\":\"white\",\"ticks\":\"\"},\"bgcolor\":\"#E5ECF6\",\"caxis\":{\"gridcolor\":\"white\",\"linecolor\":\"white\",\"ticks\":\"\"}},\"title\":{\"x\":0.05},\"xaxis\":{\"automargin\":true,\"gridcolor\":\"white\",\"linecolor\":\"white\",\"ticks\":\"\",\"title\":{\"standoff\":15},\"zerolinecolor\":\"white\",\"zerolinewidth\":2},\"yaxis\":{\"automargin\":true,\"gridcolor\":\"white\",\"linecolor\":\"white\",\"ticks\":\"\",\"title\":{\"standoff\":15},\"zerolinecolor\":\"white\",\"zerolinewidth\":2}}},\"xaxis\":{\"anchor\":\"y\",\"domain\":[0.0,1.0],\"title\":{\"text\":\"\\u0412\\u0440\\u0435\\u043c\\u044f\"}},\"yaxis\":{\"anchor\":\"x\",\"domain\":[0.0,1.0],\"title\":{\"text\":\"\\u041e\\u0431\\u043d\\u043e\\u0432\\u043b\\u0451\\u043d\\u043d\\u044b\\u0435 \\u0437\\u0430\\u043f\\u0438\\u0441\\u0438 \\u0437\\u0430\\u043f\\u0438\\u0441\\u0438\"}},\"legend\":{\"tracegroupgap\":0},\"margin\":{\"t\":30,\"l\":0,\"r\":30,\"b\":0},\"barmode\":\"relative\",\"font\":{\"family\":\"Courier New\",\"color\":\"blue\"},\"title\":{\"text\":\"\\u0413\\u0438\\u0441\\u0442\\u043e\\u0433\\u0440\\u0430\\u043c\\u043c\\u0430 \\u043a\\u043e\\u043b\\u0438\\u0447\\u0435\\u0441\\u0442\\u0432\\u0430 \\u043e\\u0431\\u043d\\u043e\\u0432\\u043b\\u0451\\u043d\\u043d\\u044b\\u0445 \\u0441\\u0430\\u0439\\u0442\\u043e\\u0432 \\u0437\\u0430 \\u043c\\u0435\\u0441\\u044f\\u0446\",\"font\":{\"family\":\"Times New Roman\",\"color\":\"green\"}}},                        {\"responsive\": true}                    ).then(function(){\n",
              "                            \n",
              "var gd = document.getElementById('b92fe548-0e34-4bb4-a771-6e74965f2f46');\n",
              "var x = new MutationObserver(function (mutations, observer) {{\n",
              "        var display = window.getComputedStyle(gd).display;\n",
              "        if (!display || display === 'none') {{\n",
              "            console.log([gd, 'removed!']);\n",
              "            Plotly.purge(gd);\n",
              "            observer.disconnect();\n",
              "        }}\n",
              "}});\n",
              "\n",
              "// Listen for the removal of the full notebook cells\n",
              "var notebookContainer = gd.closest('#notebook-container');\n",
              "if (notebookContainer) {{\n",
              "    x.observe(notebookContainer, {childList: true});\n",
              "}}\n",
              "\n",
              "// Listen for the clearing of the current output cell\n",
              "var outputEl = gd.closest('.output');\n",
              "if (outputEl) {{\n",
              "    x.observe(outputEl, {childList: true});\n",
              "}}\n",
              "\n",
              "                        })                };                            </script>        </div>\n",
              "</body>\n",
              "</html>"
            ]
          },
          "metadata": {}
        }
      ],
      "source": [
        "datesUpdated = entries.copy().drop_duplicates(subset = [\"name\"]).groupby([entries[\"dateUpdated\"].dt.year, entries[\"dateUpdated\"].dt.month]).count();\n",
        "datesUpdatedY = datesUpdated.id.values;\n",
        "datesUpdatedX = [(str(i[0]) + ':' + str(i[1])) for i in datesUpdated.index.values];\n",
        "\n",
        "data_relevance = px.bar(x=datesUpdatedX, y=datesUpdatedY, labels={'x':'Дата', 'y':'Количество обновлённых записей'})\n",
        "data_relevance.update_layout(\n",
        "    margin=dict(l=0, r=30, t=30, b=0),\n",
        "    title=\"Гистограмма количества обновлённых сайтов за месяц\",\n",
        "    xaxis_title=\"Время\",\n",
        "    yaxis_title=\"Обновлённые записи записи\",\n",
        "    font_family=\"Courier New\",\n",
        "    font_color=\"blue\",\n",
        "    title_font_family=\"Times New Roman\",\n",
        "    title_font_color=\"green\"\n",
        "    )\n",
        "\n",
        "data_relevance.show();"
      ]
    },
    {
      "cell_type": "markdown",
      "metadata": {
        "id": "fi-x0xvw7GAu"
      },
      "source": [
        "**Микровывод**: Как мы можем заметить, многие компании наблюдаются уже не первый год.\n",
        "\n",
        "В целом видно, что информация обновляется достаточно часто. Но датасет не самый свежий (соревнование давно закончилось), поэтому скажем, что его стоило бы обновить для более точного анализа.\n"
      ]
    },
    {
      "cell_type": "markdown",
      "metadata": {
        "id": "dsXqJi5nEHM-"
      },
      "source": [
        "## Анализ компаний по главным критериям"
      ]
    },
    {
      "cell_type": "markdown",
      "metadata": {
        "id": "lmUIzb22ELsm"
      },
      "source": [
        "Посмотрим, какие категории у нас имеются и в каком соотношении они представляют датасет"
      ]
    },
    {
      "cell_type": "code",
      "execution_count": null,
      "metadata": {
        "id": "TPQA0iupEX9x",
        "colab": {
          "base_uri": "https://localhost:8080/",
          "height": 542
        },
        "outputId": "7094cb9b-842a-4a71-c988-f4e9272d38ef"
      },
      "outputs": [
        {
          "output_type": "display_data",
          "data": {
            "text/html": [
              "<html>\n",
              "<head><meta charset=\"utf-8\" /></head>\n",
              "<body>\n",
              "    <div>            <script src=\"https://cdnjs.cloudflare.com/ajax/libs/mathjax/2.7.5/MathJax.js?config=TeX-AMS-MML_SVG\"></script><script type=\"text/javascript\">if (window.MathJax) {MathJax.Hub.Config({SVG: {font: \"STIX-Web\"}});}</script>                <script type=\"text/javascript\">window.PlotlyConfig = {MathJaxConfig: 'local'};</script>\n",
              "        <script src=\"https://cdn.plot.ly/plotly-2.8.3.min.js\"></script>                <div id=\"d6d412ef-a0bd-4529-8f30-f1d530324ee6\" class=\"plotly-graph-div\" style=\"height:525px; width:100%;\"></div>            <script type=\"text/javascript\">                                    window.PLOTLYENV=window.PLOTLYENV || {};                                    if (document.getElementById(\"d6d412ef-a0bd-4529-8f30-f1d530324ee6\")) {                    Plotly.newPlot(                        \"d6d412ef-a0bd-4529-8f30-f1d530324ee6\",                        [{\"hole\":0.3,\"labels\":[\"Accommodation & Food Services\",\"Accommodation & Food Services,Arts Entertainment & Recreation\",\"Arts Entertainment & Recreation\",\"Healthcare & Social Assistance,Accommodation & Food Services\",\"Utilities\",\"Wholesale Trade,Accommodation & Food Services\"],\"values\":[1659,1,5,1,1,3],\"type\":\"pie\"}],                        {\"template\":{\"data\":{\"bar\":[{\"error_x\":{\"color\":\"#2a3f5f\"},\"error_y\":{\"color\":\"#2a3f5f\"},\"marker\":{\"line\":{\"color\":\"#E5ECF6\",\"width\":0.5},\"pattern\":{\"fillmode\":\"overlay\",\"size\":10,\"solidity\":0.2}},\"type\":\"bar\"}],\"barpolar\":[{\"marker\":{\"line\":{\"color\":\"#E5ECF6\",\"width\":0.5},\"pattern\":{\"fillmode\":\"overlay\",\"size\":10,\"solidity\":0.2}},\"type\":\"barpolar\"}],\"carpet\":[{\"aaxis\":{\"endlinecolor\":\"#2a3f5f\",\"gridcolor\":\"white\",\"linecolor\":\"white\",\"minorgridcolor\":\"white\",\"startlinecolor\":\"#2a3f5f\"},\"baxis\":{\"endlinecolor\":\"#2a3f5f\",\"gridcolor\":\"white\",\"linecolor\":\"white\",\"minorgridcolor\":\"white\",\"startlinecolor\":\"#2a3f5f\"},\"type\":\"carpet\"}],\"choropleth\":[{\"colorbar\":{\"outlinewidth\":0,\"ticks\":\"\"},\"type\":\"choropleth\"}],\"contour\":[{\"colorbar\":{\"outlinewidth\":0,\"ticks\":\"\"},\"colorscale\":[[0.0,\"#0d0887\"],[0.1111111111111111,\"#46039f\"],[0.2222222222222222,\"#7201a8\"],[0.3333333333333333,\"#9c179e\"],[0.4444444444444444,\"#bd3786\"],[0.5555555555555556,\"#d8576b\"],[0.6666666666666666,\"#ed7953\"],[0.7777777777777778,\"#fb9f3a\"],[0.8888888888888888,\"#fdca26\"],[1.0,\"#f0f921\"]],\"type\":\"contour\"}],\"contourcarpet\":[{\"colorbar\":{\"outlinewidth\":0,\"ticks\":\"\"},\"type\":\"contourcarpet\"}],\"heatmap\":[{\"colorbar\":{\"outlinewidth\":0,\"ticks\":\"\"},\"colorscale\":[[0.0,\"#0d0887\"],[0.1111111111111111,\"#46039f\"],[0.2222222222222222,\"#7201a8\"],[0.3333333333333333,\"#9c179e\"],[0.4444444444444444,\"#bd3786\"],[0.5555555555555556,\"#d8576b\"],[0.6666666666666666,\"#ed7953\"],[0.7777777777777778,\"#fb9f3a\"],[0.8888888888888888,\"#fdca26\"],[1.0,\"#f0f921\"]],\"type\":\"heatmap\"}],\"heatmapgl\":[{\"colorbar\":{\"outlinewidth\":0,\"ticks\":\"\"},\"colorscale\":[[0.0,\"#0d0887\"],[0.1111111111111111,\"#46039f\"],[0.2222222222222222,\"#7201a8\"],[0.3333333333333333,\"#9c179e\"],[0.4444444444444444,\"#bd3786\"],[0.5555555555555556,\"#d8576b\"],[0.6666666666666666,\"#ed7953\"],[0.7777777777777778,\"#fb9f3a\"],[0.8888888888888888,\"#fdca26\"],[1.0,\"#f0f921\"]],\"type\":\"heatmapgl\"}],\"histogram\":[{\"marker\":{\"pattern\":{\"fillmode\":\"overlay\",\"size\":10,\"solidity\":0.2}},\"type\":\"histogram\"}],\"histogram2d\":[{\"colorbar\":{\"outlinewidth\":0,\"ticks\":\"\"},\"colorscale\":[[0.0,\"#0d0887\"],[0.1111111111111111,\"#46039f\"],[0.2222222222222222,\"#7201a8\"],[0.3333333333333333,\"#9c179e\"],[0.4444444444444444,\"#bd3786\"],[0.5555555555555556,\"#d8576b\"],[0.6666666666666666,\"#ed7953\"],[0.7777777777777778,\"#fb9f3a\"],[0.8888888888888888,\"#fdca26\"],[1.0,\"#f0f921\"]],\"type\":\"histogram2d\"}],\"histogram2dcontour\":[{\"colorbar\":{\"outlinewidth\":0,\"ticks\":\"\"},\"colorscale\":[[0.0,\"#0d0887\"],[0.1111111111111111,\"#46039f\"],[0.2222222222222222,\"#7201a8\"],[0.3333333333333333,\"#9c179e\"],[0.4444444444444444,\"#bd3786\"],[0.5555555555555556,\"#d8576b\"],[0.6666666666666666,\"#ed7953\"],[0.7777777777777778,\"#fb9f3a\"],[0.8888888888888888,\"#fdca26\"],[1.0,\"#f0f921\"]],\"type\":\"histogram2dcontour\"}],\"mesh3d\":[{\"colorbar\":{\"outlinewidth\":0,\"ticks\":\"\"},\"type\":\"mesh3d\"}],\"parcoords\":[{\"line\":{\"colorbar\":{\"outlinewidth\":0,\"ticks\":\"\"}},\"type\":\"parcoords\"}],\"pie\":[{\"automargin\":true,\"type\":\"pie\"}],\"scatter\":[{\"marker\":{\"colorbar\":{\"outlinewidth\":0,\"ticks\":\"\"}},\"type\":\"scatter\"}],\"scatter3d\":[{\"line\":{\"colorbar\":{\"outlinewidth\":0,\"ticks\":\"\"}},\"marker\":{\"colorbar\":{\"outlinewidth\":0,\"ticks\":\"\"}},\"type\":\"scatter3d\"}],\"scattercarpet\":[{\"marker\":{\"colorbar\":{\"outlinewidth\":0,\"ticks\":\"\"}},\"type\":\"scattercarpet\"}],\"scattergeo\":[{\"marker\":{\"colorbar\":{\"outlinewidth\":0,\"ticks\":\"\"}},\"type\":\"scattergeo\"}],\"scattergl\":[{\"marker\":{\"colorbar\":{\"outlinewidth\":0,\"ticks\":\"\"}},\"type\":\"scattergl\"}],\"scattermapbox\":[{\"marker\":{\"colorbar\":{\"outlinewidth\":0,\"ticks\":\"\"}},\"type\":\"scattermapbox\"}],\"scatterpolar\":[{\"marker\":{\"colorbar\":{\"outlinewidth\":0,\"ticks\":\"\"}},\"type\":\"scatterpolar\"}],\"scatterpolargl\":[{\"marker\":{\"colorbar\":{\"outlinewidth\":0,\"ticks\":\"\"}},\"type\":\"scatterpolargl\"}],\"scatterternary\":[{\"marker\":{\"colorbar\":{\"outlinewidth\":0,\"ticks\":\"\"}},\"type\":\"scatterternary\"}],\"surface\":[{\"colorbar\":{\"outlinewidth\":0,\"ticks\":\"\"},\"colorscale\":[[0.0,\"#0d0887\"],[0.1111111111111111,\"#46039f\"],[0.2222222222222222,\"#7201a8\"],[0.3333333333333333,\"#9c179e\"],[0.4444444444444444,\"#bd3786\"],[0.5555555555555556,\"#d8576b\"],[0.6666666666666666,\"#ed7953\"],[0.7777777777777778,\"#fb9f3a\"],[0.8888888888888888,\"#fdca26\"],[1.0,\"#f0f921\"]],\"type\":\"surface\"}],\"table\":[{\"cells\":{\"fill\":{\"color\":\"#EBF0F8\"},\"line\":{\"color\":\"white\"}},\"header\":{\"fill\":{\"color\":\"#C8D4E3\"},\"line\":{\"color\":\"white\"}},\"type\":\"table\"}]},\"layout\":{\"annotationdefaults\":{\"arrowcolor\":\"#2a3f5f\",\"arrowhead\":0,\"arrowwidth\":1},\"autotypenumbers\":\"strict\",\"coloraxis\":{\"colorbar\":{\"outlinewidth\":0,\"ticks\":\"\"}},\"colorscale\":{\"diverging\":[[0,\"#8e0152\"],[0.1,\"#c51b7d\"],[0.2,\"#de77ae\"],[0.3,\"#f1b6da\"],[0.4,\"#fde0ef\"],[0.5,\"#f7f7f7\"],[0.6,\"#e6f5d0\"],[0.7,\"#b8e186\"],[0.8,\"#7fbc41\"],[0.9,\"#4d9221\"],[1,\"#276419\"]],\"sequential\":[[0.0,\"#0d0887\"],[0.1111111111111111,\"#46039f\"],[0.2222222222222222,\"#7201a8\"],[0.3333333333333333,\"#9c179e\"],[0.4444444444444444,\"#bd3786\"],[0.5555555555555556,\"#d8576b\"],[0.6666666666666666,\"#ed7953\"],[0.7777777777777778,\"#fb9f3a\"],[0.8888888888888888,\"#fdca26\"],[1.0,\"#f0f921\"]],\"sequentialminus\":[[0.0,\"#0d0887\"],[0.1111111111111111,\"#46039f\"],[0.2222222222222222,\"#7201a8\"],[0.3333333333333333,\"#9c179e\"],[0.4444444444444444,\"#bd3786\"],[0.5555555555555556,\"#d8576b\"],[0.6666666666666666,\"#ed7953\"],[0.7777777777777778,\"#fb9f3a\"],[0.8888888888888888,\"#fdca26\"],[1.0,\"#f0f921\"]]},\"colorway\":[\"#636efa\",\"#EF553B\",\"#00cc96\",\"#ab63fa\",\"#FFA15A\",\"#19d3f3\",\"#FF6692\",\"#B6E880\",\"#FF97FF\",\"#FECB52\"],\"font\":{\"color\":\"#2a3f5f\"},\"geo\":{\"bgcolor\":\"white\",\"lakecolor\":\"white\",\"landcolor\":\"#E5ECF6\",\"showlakes\":true,\"showland\":true,\"subunitcolor\":\"white\"},\"hoverlabel\":{\"align\":\"left\"},\"hovermode\":\"closest\",\"mapbox\":{\"style\":\"light\"},\"paper_bgcolor\":\"white\",\"plot_bgcolor\":\"#E5ECF6\",\"polar\":{\"angularaxis\":{\"gridcolor\":\"white\",\"linecolor\":\"white\",\"ticks\":\"\"},\"bgcolor\":\"#E5ECF6\",\"radialaxis\":{\"gridcolor\":\"white\",\"linecolor\":\"white\",\"ticks\":\"\"}},\"scene\":{\"xaxis\":{\"backgroundcolor\":\"#E5ECF6\",\"gridcolor\":\"white\",\"gridwidth\":2,\"linecolor\":\"white\",\"showbackground\":true,\"ticks\":\"\",\"zerolinecolor\":\"white\"},\"yaxis\":{\"backgroundcolor\":\"#E5ECF6\",\"gridcolor\":\"white\",\"gridwidth\":2,\"linecolor\":\"white\",\"showbackground\":true,\"ticks\":\"\",\"zerolinecolor\":\"white\"},\"zaxis\":{\"backgroundcolor\":\"#E5ECF6\",\"gridcolor\":\"white\",\"gridwidth\":2,\"linecolor\":\"white\",\"showbackground\":true,\"ticks\":\"\",\"zerolinecolor\":\"white\"}},\"shapedefaults\":{\"line\":{\"color\":\"#2a3f5f\"}},\"ternary\":{\"aaxis\":{\"gridcolor\":\"white\",\"linecolor\":\"white\",\"ticks\":\"\"},\"baxis\":{\"gridcolor\":\"white\",\"linecolor\":\"white\",\"ticks\":\"\"},\"bgcolor\":\"#E5ECF6\",\"caxis\":{\"gridcolor\":\"white\",\"linecolor\":\"white\",\"ticks\":\"\"}},\"title\":{\"x\":0.05},\"xaxis\":{\"automargin\":true,\"gridcolor\":\"white\",\"linecolor\":\"white\",\"ticks\":\"\",\"title\":{\"standoff\":15},\"zerolinecolor\":\"white\",\"zerolinewidth\":2},\"yaxis\":{\"automargin\":true,\"gridcolor\":\"white\",\"linecolor\":\"white\",\"ticks\":\"\",\"title\":{\"standoff\":15},\"zerolinecolor\":\"white\",\"zerolinewidth\":2}}},\"margin\":{\"l\":0,\"r\":30,\"t\":30,\"b\":0},\"title\":{\"text\":\"\\u0414\\u0438\\u0430\\u0433\\u0440\\u0430\\u043c\\u043c\\u0430 \\u0433\\u043b\\u0430\\u0432\\u043d\\u044b\\u0445 \\u043a\\u0430\\u0442\\u0435\\u0433\\u043e\\u0440\\u0438\\u0439 \\u043a\\u043e\\u043c\\u043f\\u0430\\u043d\\u0438\\u0439\",\"font\":{\"family\":\"Times New Roman\",\"color\":\"green\"}}},                        {\"responsive\": true}                    ).then(function(){\n",
              "                            \n",
              "var gd = document.getElementById('d6d412ef-a0bd-4529-8f30-f1d530324ee6');\n",
              "var x = new MutationObserver(function (mutations, observer) {{\n",
              "        var display = window.getComputedStyle(gd).display;\n",
              "        if (!display || display === 'none') {{\n",
              "            console.log([gd, 'removed!']);\n",
              "            Plotly.purge(gd);\n",
              "            observer.disconnect();\n",
              "        }}\n",
              "}});\n",
              "\n",
              "// Listen for the removal of the full notebook cells\n",
              "var notebookContainer = gd.closest('#notebook-container');\n",
              "if (notebookContainer) {{\n",
              "    x.observe(notebookContainer, {childList: true});\n",
              "}}\n",
              "\n",
              "// Listen for the clearing of the current output cell\n",
              "var outputEl = gd.closest('.output');\n",
              "if (outputEl) {{\n",
              "    x.observe(outputEl, {childList: true});\n",
              "}}\n",
              "\n",
              "                        })                };                            </script>        </div>\n",
              "</body>\n",
              "</html>"
            ]
          },
          "metadata": {}
        }
      ],
      "source": [
        "primaryCategories = entries.copy().drop_duplicates(subset = [\"name\"]).groupby([entries[\"primaryCategories\"]]).count();\n",
        "primaryCategoriesValues = primaryCategories.id.values;\n",
        "primaryCategoriesNames = primaryCategories.index;\n",
        "\n",
        "data_primary_categories = go.Figure(\n",
        "    data=[go.Pie(labels=primaryCategoriesNames, values=primaryCategoriesValues, hole=.3)]\n",
        "    );\n",
        "data_primary_categories.update_layout(\n",
        "    margin=dict(l=0, r=30, t=30, b=0),\n",
        "    title=\"Диаграмма главных категорий компаний\",\n",
        "    title_font_family=\"Times New Roman\",\n",
        "    title_font_color=\"green\"\n",
        "    )\n",
        "\n",
        "data_primary_categories.show();"
      ]
    },
    {
      "cell_type": "markdown",
      "metadata": {
        "id": "RnvBB7lWEkuF"
      },
      "source": [
        "Микровывод: Как мы можем увидеть, практически весь датасет представляет собой информацию об компаниях по проживанию и питанию, то есть из отелей. Так как нас интересует именно эта информация, отфильтруем наши датасеты по главной категории."
      ]
    },
    {
      "cell_type": "markdown",
      "metadata": {
        "id": "EI6a0AX1EsGR"
      },
      "source": [
        "## Представление распределения отелей на карте\n"
      ]
    },
    {
      "cell_type": "markdown",
      "metadata": {
        "id": "v4XhFBEmE5LJ"
      },
      "source": [
        "Рассмотрим распределение отелей на карте"
      ]
    },
    {
      "cell_type": "code",
      "execution_count": null,
      "metadata": {
        "id": "x-W9U-DWE8M_",
        "colab": {
          "base_uri": "https://localhost:8080/",
          "height": 542
        },
        "outputId": "89ddb7fd-76e5-4693-fcfa-f65767ab34d7"
      },
      "outputs": [
        {
          "output_type": "display_data",
          "data": {
            "text/html": [
              "<html>\n",
              "<head><meta charset=\"utf-8\" /></head>\n",
              "<body>\n",
              "    <div>            <script src=\"https://cdnjs.cloudflare.com/ajax/libs/mathjax/2.7.5/MathJax.js?config=TeX-AMS-MML_SVG\"></script><script type=\"text/javascript\">if (window.MathJax) {MathJax.Hub.Config({SVG: {font: \"STIX-Web\"}});}</script>                <script type=\"text/javascript\">window.PlotlyConfig = {MathJaxConfig: 'local'};</script>\n",
              "        <script src=\"https://cdn.plot.ly/plotly-2.8.3.min.js\"></script>                <div id=\"825a6f16-88e2-48e5-9da8-cf4394cc56ad\" class=\"plotly-graph-div\" style=\"height:525px; width:100%;\"></div>            <script type=\"text/javascript\">                                    window.PLOTLYENV=window.PLOTLYENV || {};                                    if (document.getElementById(\"825a6f16-88e2-48e5-9da8-cf4394cc56ad\")) {                    Plotly.newPlot(                        \"825a6f16-88e2-48e5-9da8-cf4394cc56ad\",                        [{\"lat\":[32.431565,36.71427,33.56113,47.64428,41.06439,43.656015,43.655,35.1013125,36.305824,44.604025,40.611755,34.0388145,38.91786,41.124545,35.1937455,42.00940166666667,33.810279275,61.19269,40.05478,42.694687,41.7307,42.23898,38.97900633333333,44.26229333333333,34.17416666666667,37.08145,37.128277229999995,31.71023,35.690852,35.5268,38.397175,44.07112,35.50765,33.950295,33.7870238,39.355287600000004,45.715745,38.151646666666664,40.5370925,30.290894555555553,41.783825,39.06462,39.60615,27.58878,45.03515,47.6331,31.72303,30.98559,39.28726245,44.399505,43.47777,34.896855,39.353466,44.24533,30.413530999999995,41.45884,39.639038,37.75158,45.74652,45.48883,37.789500000000004,40.051795,44.4307,44.04890333333333,40.09805,41.29735,42.07398,36.38413,37.869,41.534631499999996,41.53887,42.58464,34.069582,43.46864,34.26359,32.2447585,45.762928666666674,45.65921,40.3167,44.2853,37.22948,36.81465,48.937325,36.70791,41.940625,39.1655605,43.837498,33.6062,43.61670125,36.72937,41.71412,43.57664,37.90469,42.03567,40.12797,32.522715000000005,42.35643716,39.998386,41.1718009,43.17048,36.944006200000004,45.698809999999995,27.49698,27.465455,41.912964,41.26547,27.897234,33.68824,36.668460753333335,41.75069,43.349243,39.96016,36.0628,34.11123,31.07443,43.177135,42.340454,40.659453199999994,28.52093,39.883358,39.86117,33.858124,43.36049166666667,34.06565,32.53912,30.758940000000003,45.984700000000004,42.813064,33.9216,38.58161,34.2174185,42.372406,39.8524,45.89084,38.58548666666667,34.98018,26.560802,38.93066,19.438604,26.51793,40.20387,39.979647666666665,36.478078,34.392311,36.12224,34.1132,35.739197,38.396343,42.762052,37.13337,38.44849,37.67414,42.00486,40.54714,31.8107,43.59801,42.82176,29.950949,36.872215,33.31240466666667,38.884910500000004,35.921295,32.782187274,45.307198,36.6616048,38.070485000000005,35.03568333333333,43.75215,35.48909,36.7788,41.121615,41.88767790529412,39.36006,35.44104,37.9309395,39.180093,32.37517,36.57666,43.14796,41.035479,27.92699,27.972376,34.68927,28.5474,39.40021,35.830886,40.09727,36.1382,28.32162,47.69122275,44.50365,38.68394,38.949329,37.4636796,39.18203963636363,48.17455,30.33831,41.32329,60.48985,42.69572,47.47017,41.67948,36.976312,36.41082,32.683517,27.80167,35.224602,32.100357,37.348827,44.56205,38.24331,35.79789,40.26929,33.635284,28.43834,40.0773,38.86794,30.72009,41.21639,33.99515,36.05976,38.850235,41.3887788,39.84236883333333,34.894849,34.14215,38.765553499999996,29.1848125,41.9303,29.0264,30.8644,29.69769,42.1553865,41.31174,42.6254,32.273999,33.20695,39.770028333333336,41.9957395,33.9427,30.38722,42.33783,46.903035,36.0227,45.22677,37.760345,37.84266,39.1717665,41.74527,42.04168,47.09434,38.595895,43.54667,33.95505,34.91312,40.43262,28.0131,42.46034,35.989672,42.9556,40.67142,41.72939,42.83037,43.091535,44.279312,38.78004,48.64759,44.78551,41.389039,28.9734,40.52118,35.65203,32.80371,32.77691,31.793153333333333,33.92775,42.093964,40.6846,35.42172,42.016999999999996,41.7344,38.89436,40.830021,39.17432,46.00641,38.94734,38.95378,34.66222,43.12224,45.42685,42.0669336,39.05286,37.77001,40.38819,44.0532,40.79636,36.39969,40.38449,39.606719999999996,47.97802,37.528902,64.83452,38.8625665,38.2227,41.64345,38.600826,41.55363,46.86508,44.32076,36.720617,35.71582766666666,47.3165055,38.54174,38.08516,35.19310816666667,42.98943,38.0731186,32.65476,43.75597,45.52033,32.75547,39.92003,40.58451,44.98287,30.592897,26.09219,26.5991,30.396564,41.131915000000006,32.72561733333333,41.18055,44.2226,43.323566,37.294396500000005,30.24494,40.247444,42.292355,27.88269,41.39669,36.8165355,48.53222,36.34853,38.32658,40.011575,29.626045,36.68654,42.40687,33.791307,33.86182,42.56463,35.71150333333333,44.27597,45.380906,39.197683,34.14227,42.087938,40.875244333333335,39.753886,45.82375,36.317753333333336,32.4386,42.243,47.937267,47.921724,43.050495,40.89339,39.080585,40.25294,32.733219999999996,42.932986,42.43965,47.49504,40.42074,34.4130555,45.488396,44.497434999999996,39.88177,38.5025,41.3068,46.47089,38.71730142857143,40.297317,32.275773,31.07802,40.261591,40.74016,34.38305,42.7745,33.907571000000004,34.426613,34.70175,46.596709000000004,36.65693166666667,43.058216,43.0183,38.7061,38.958011,42.57516,25.865461,35.05353,40.03189,19.722576,32.21591,42.775562,26.022092500000003,21.2766645,33.68434,34.96104,37.20476,42.16242,29.56927,29.736876499999997,44.9577,37.168224,40.527478,33.6551537,38.957893,39.57106033333333,45.39307,40.609085,39.8976242,37.414916500000004,33.71028,33.931244,48.58393,30.914852,46.46296,32.884045,32.7848,42.423958,36.9507,30.25939,40.6841695,39.098763,42.7283,38.55648,36.34292,41.519547,35.819615,36.20057,58.362766,26.92688,70.13362,48.1974,41.07975,39.11727475,29.787806,40.667,41.5961,60.614468,34.032859,44.27235,25.6956,24.562714999999997,47.37409,43.6438325,36.638185,40.0906875,35.21297,39.23726,30.7902135,36.47651,37.00895,28.319395703999998,43.09556,42.20362,35.955999999999996,21.892287500000002,20.704187,48.392075,32.849515,33.04225,33.119412857142855,33.541065,20.9308615,30.21529,33.6647,33.658707,43.42851,28.78799,35.800788,28.099893,42.19361,34.701126,43.72242,38.961701,42.71665,27.563017,36.0963365875,34.338232,35.15905,39.97708,34.4469,38.99078,37.565834,39.10693,37.482002,38.7642,35.44497,38.2687746,40.822645,44.97287,35.478893,39.20396375,33.69906,34.74483,40.563321,43.1531,41.7407,43.20496,39.5546,33.76542066666667,34.744339,34.0588662,38.22006914285714,41.27468,33.57681,43.39657,31.28933,38.6617,37.3338,44.514168,45.76926,40.45859,32.90634,43.053344333333335,44.643402,40.94069,37.34726,39.18661,44.24713,38.858235,32.479057,30.58338,36.6651605,36.6899985,45.08529986,39.77748,42.343487,46.54273,32.49535,39.44466,48.050396,39.29647,40.98069,39.48323,34.91148,26.19224,33.4254,42.033339000000005,42.342650000000006,41.13805,41.143414,43.65495,33.387575,36.808155,25.750972,25.78959529875,41.50635433333333,31.97716,37.41103,46.39322,41.231083,41.03202,33.11612,30.61252,42.976194666666665,44.919025000000005,41.45697,48.20631,46.90716,32.491905,34.15157,43.79297,36.5928,34.0484145,30.3465,45.29393,41.05463,46.43463,41.36367,39.62408,45.48265,35.13015,36.200363,40.20745,35.3666,47.1032,43.756012,36.51006,40.89989,38.267345000000006,42.04651,42.770035,36.360960000000006,47.92105,27.89427,46.40707,36.63396,43.18893,33.712886624999996,31.57381,38.28580275,26.1743905,42.786207,36.19545,39.69372,40.08908,29.72029,39.6611,40.364353,29.958674766666668,40.4914115,40.6991,40.74488229769231,40.51985175,43.4198,42.810971,43.85843,41.69533,35.9458,37.113538,43.08565831,41.3232,30.52327,33.911578,37.892511,40.53312,41.63823,36.24119,41.113922,40.23447,43.446304,41.1166,38.13104,39.371399999999994,37.735054,47.01099,31.88892,43.25888,34.44761333333333,27.20806,35.449555454545454,43.7041,43.519434000000004,28.03667,47.062,41.258733,43.87766,44.02684,33.787749,35.969135,33.55326,28.431249054444447,29.276235,38.49181,43.9809,39.24089,38.782134,31.73313,26.699856,33.804535,37.416336,30.15907,30.1928,37.82757,35.33854,38.56981,40.66722,34.1462285,46.249184,35.644875,40.45457,42.5338,36.568333,31.39617,45.67062,30.494999999999997,40.693375,32.46976933333334,41.32815,45.350616,39.93255,33.5434486,40.130295,35.808780000000006,38.083,42.86604,34.126335,35.085454999999996,35.143365,37.44348,40.4536375,41.33131,40.78503,33.065345,39.35104,37.68912,40.12212,41.82098,30.44533,27.8342745,29.93453,43.927223,28.31166,32.39842,42.541394999999994,44.991351375,38.79585,47.711864,43.052814999999995,30.33599,34.54057,38.53535,39.379063,46.21565,36.30456,38.30646,46.73,26.9384,47.208492,37.12588,40.6041,35.8267,41.071,34.105037,32.990959,43.5591,40.30645,36.88481,40.340868,40.16859,40.800117,36.709817666666666,44.24753,47.46391,48.64944,39.937776,45.61398,34.10627,32.98085,44.99834,46.264046,38.083664999999996,35.61471,44.007782,39.16258,37.33265,43.43228666666667,45.61126,42.269421333333334,44.10101,35.9791,40.020752,34.062984,45.69596,33.316948,45.68442,38.87145,43.540095,38.59561,32.83477,43.48216,45.55158,45.902782,38.605623666666666,41.40103,41.69049733333333,38.815885,29.490219285714286,32.825780111111115,37.786007875,37.275494,35.28881575,29.869452,33.40756,37.764274,37.52771,26.44,34.41914525,35.647822999999995,34.00744433333333,38.423534,27.365702,37.8553615,42.091,32.7041284,40.04935,41.955927,33.508044999999996,41.4512,35.2486,47.62103477777778,40.7920295,34.81407669666667,48.07519,35.82713,40.88648,35.2265,43.746857,42.58192,44.53967,47.7107,36.891675,38.998349,47.6497,37.811882,34.71454,42.4416,43.508995999999996,45.183535,41.47176,33.830417,34.59591,40.52949,42.40455,38.95170433333333,34.96276,42.48953,34.958664,44.49275,43.49605,47.66092,36.17125,38.6765515,36.87769666666667,29.602158,38.82116,30.2157115,33.038757,37.382813,46.72153,38.39351,47.2429,30.44788325,27.991135857142858,34.172752,28.82072,33.519298000000006,33.4700225,44.95912,41.68327,35.115998,46.70786,33.46514,44.017819,37.59895,37.758295,44.75914,37.16165,40.037395,42.001747,45.38189,32.31885,35.391792,36.08176783333334,34.289195,44.22526,34.1347,44.27489,32.00162,32.30153433333333,39.14692,37.59823,41.76658,40.6510205,39.635834,34.419028499999996,38.14463,35.46072,45.6369395,39.8914,43.12996,43.02184,38.92966,39.487449,30.14833,36.855303581818184,33.17071,31.50932,38.63036,43.99136,46.07083,47.47299,32.88091,42.3643,40.5601,32.615604,40.16529,44.89019,43.948467,27.56321,35.535046,29.5356,45.3366,39.961011,41.55856,46.85033,34.08991,41.185978,26.704671,42.0367,40.7418035,41.49401,41.812249,44.025180500000005,38.724,40.83828,41.07905,36.4666,37.66513,33.9652,42.14945,34.91567,35.25156,37.27172089,39.6033,48.18328,39.39798,34.1329,39.1657,42.30376,38.546457,37.23989,31.92594,43.616169666666664,42.488655,38.666375,40.58574796,36.95379833333333,44.3226,59.51068,39.80384,39.98381,41.0196,38.4029,39.13865,32.70317],\"lon\":[-99.76810499999999,-81.94195,-81.72195,-117.5762,-81.48047,-98.420738,-93.33815,-106.59670333333334,-82.22767466666666,-87.438455,-75.528535,-84.3104355,-90.16267,-85.89665500000001,-101.9030355,-93.61013666666666,-117.9221355,-149.90865333333332,-85.64918,-71.19811,-93.57961,-83.73515,-76.55306366666666,-88.44403133333333,-97.16496666666667,-97.04019,-82.78476731714285,-83.63835,-79.811435,-82.6059,-82.71136,-111.45362,-120.684465,-83.41106500000001,-84.40536726666666,-74.4393644,-96.227895,-92.17338666666666,-93.12254999999999,-97.73724422222222,-80.85764,-74.74948,-106.52093,-81.51549,-87.14832,-122.517,-99.96092,-103.74583,-76.60764092833334,-68.22655,-89.76794,-117.027095,-106.99875,-68.3452,-91.10940666666666,-81.4874,-75.65063,-81.073105,-85.52234,-122.81558,-81.21095,-78.511575,-68.96626,-121.31196,-101.534355,-76.37285,-86.42714,-94.17688,-122.25495,-74.46006025,-90.51887,-70.88503,-118.39946499999999,-70.48605,-116.81884,-101.480835,-108.52889333333333,-91.54932,-75.8044,-90.83532,-80.42931,-97.33988,-122.752426,-107.98583,-88.113973,-86.552978,-74.42983,-114.56938,-116.25066,-102.50123,-88.03888,-73.671394,-90.51503,-93.867,-74.705421,-93.705,-71.06233404,-105.254036,-87.84998948,-71.53343,-86.4216842,-111.04844499999999,-82.57156,-82.69764,-78.64178,-88.21184,-82.29956,-85.15169,-98.4284292,-70.12027,-83.865616,-104.77092,-95.7756,-94.73979,-94.02309,-110.50945,-71.11488,-73.9934616,-82.56659,-105.072334,-86.39668,-118.02875,-88.12096833333334,-83.98985,-97.31124,-98.234995,-112.50550000000001,-85.670067,-116.800735,-122.57706999999999,-119.05102500000001,-71.12297,-82.83008,-123.96149,-86.90572333333334,-101.91008,-81.945294,-74.92333,-155.88747,-82.19204,-77.19458,-86.14590333333335,-121.727199,-119.510037,-85.08401,-84.7152,-78.786698,-79.91434,-91.057274,-85.9731,-105.21887,-113.06217,-91.663155,-84.57129,-94.19453,-73.02295,-103.01637,-89.960338,-106.58516,-111.86062866666667,-77.437872,-79.00707,-79.936885172,-85.2588,-81.671988,-78.48575,-85.23041333333333,-70.10282,-83.30892,-76.24254,-104.81794500000001,-87.65005784411765,-82.97827,-82.2557375,-75.36433099999999,-84.45180533333333,-98.96811,-87.3143,-93.3574,-78.400927,-82.725965,-82.82521666666666,-82.81385,-81.5775,-82.76181,-91.53504,-79.8839,-120.35749,-80.60826,-116.79237925,-73.17785,-90.01067,-104.804688,-79.6635462,-85.69034145454545,-111.94314,-95.4776,-79.201515,-149.82098,-74.93355,-87.89198,-91.56688,-84.112884,-90.59328,-117.176483,-97.48389,-106.642502,-96.44006,-108.57997499999999,-123.26366,-86.12626,-83.23808,-81.87704,-117.92447,-99.23574,-86.9033,-106.98239,-86.56942,-86.42251,-118.39406,-102.52154,-110.10257,-73.5151005,-82.57245333333333,-86.08884549999999,-97.11329,-84.392771,-80.9924525,-88.77633,-81.33628,-93.2873,-95.12491,-87.844315,-84.36274,-88.6257,-107.717523,-97.1362,-104.91095833333333,-87.87421699999999,-116.5013,-86.40029,-83.058725,-102.78791000000001,-87.33635,-112.62817,-100.05582,-77.45064,-75.5212625,-73.58454,-75.02345,-122.62267,-81.873445,-109.66234,-84.12618,-82.1042,-78.41421,-82.7924,-79.31647,-78.91735059999999,-72.8101,-89.5763,-70.39925,-74.80929,-76.08451500000001,-83.4876,-76.05926,-122.87083,-91.5288,-70.513133,-80.8977,-74.33896,-97.42866,-116.9519,-115.57139,-106.45369333333333,-118.39677,-88.33668,-74.1939,-99.3762,-87.948985,-85.975488,-79.84026,-115.7683195,-76.78594,-98.52794,-99.55955,-90.36155,-77.03402,-94.69949,-117.28027,-80.07446159999999,-84.63176,-111.60876,-105.55342999999999,-123.0895,-124.176915,-93.74742,-104.69045,-93.77890666666667,-122.21388,-75.832143,-147.82867,-77.34336400000001,-122.1251,-70.8845,-89.988815,-70.62125,-96.84595,-93.29714,-108.181824,-89.07575133333334,-122.298817,-90.46675,-78.98658,-111.62089333333334,-83.739,-90.6062874,-79.94238,-88.475136,-123.07692,-96.46963,-88.95218,-105.07762,-74.51778,-103.9436,-80.155285,-81.84448,-86.59549,-85.15975499999999,-97.36786166666667,-83.41996,-71.73549,-83.74079,-83.077,-98.90791,-74.29787,-89.62501,-98.61365,-83.11053,-119.78739250000001,-123.0237,-101.42942,-75.61477,-108.18413000000001,-82.362615,-80.88493,-90.41977,-117.915652,-118.29887,-71.949262,-83.51653333333333,-105.48853,-122.582158,-76.614455,-118.241,-87.868059,-72.59985999999999,-105.22034,-120.81071,-86.70123333333333,-97.7612,-72.55,-119.00316,-97.0824035,-86.23268999999999,-98.339315,-108.54971,-105.82526,-97.0401,-85.625134,-123.31428999999999,-111.28957,-104.7723,-85.7954695,-69.63753,-108.055815,-83.04512,-122.9954,-72.71891,-113.23608,-74.79685785714285,-75.61252675,-81.081571,-97.65605,-76.816051,-74.1558,-80.07719,-71.1166,-118.375547,-110.58548,-83.72436,-112.008535,-105.88822799999998,-77.65022,-74.9926,-91.4379,-77.41702,-113.72761,-80.321754,-83.20065,-83.11967,-155.084253,-80.70064,-86.07773,-80.1482,-157.81235999999998,-93.61175,-90.00876,-85.94012,-76.87095,-90.68337,-95.38283283333334,-92.72025,-101.33462,-77.969763,-117.9990691,-76.86916,-93.99247166666667,-84.63174,-79.15623500000001,-86.12991099999999,-92.1120675,-116.23897,-118.33846,-93.39711,-101.90482,-90.15438,-96.95534,-79.7901,-76.50021699999999,-87.47720000000001,-81.565065,-73.7996685,-80.3915,-88.99373,-92.19542,-82.37072,-88.185165,-90.67685,-80.81212,-134.52943,-80.07808,-143.61252,-114.3135,-87.86492,-94.55581275,-95.731575,-99.0869,-82.7249,-151.25456,-84.573784,-92.9862,-80.1571,-81.778425,-102.75508,-72.792565,-93.41322,-75.40258,-114.01386,-120.02821,-81.658785,-82.49277,-98.48913,-81.51345952,-70.74672,-121.71017,-83.97178000000001,-159.45752,-156.445865,-122.49484,-117.26474400000001,-84.9643,-90.54085285714287,-117.78296,-156.683968,-93.22199,-117.3047,-117.69878,-73.71063,-81.3551,-77.669433,-81.964621,-120.34695,-118.172455,-91.97672,-76.863145,-84.58061000000001,-99.50086,-114.5388614375,-79.522479,-114.57174,-74.06784,-83.13329999999999,-95.23017,-85.26681,-77.54327,-90.842545,-75.2114,-86.77547,-83.459411,-96.657043,-124.01641,-81.23537,-76.681844,-84.0956295,-92.26631,-93.84146766666667,-78.697,-111.8348,-72.7731,-104.8763,-118.19277666666666,-120.278909,-118.2961004,-85.74904071428571,-98.96891,-101.90021,-72.69589,-94.72938,-78.4757,-79.1907,-72.01139,-84.73103,-90.64939,-83.68974,-89.33055,-121.13107,-73.74256,-108.28728,-96.54947,-86.33132,-104.893765,-111.0887,-98.27234,-82.960328,-121.7946175,-87.65248137,-79.50026,-71.577736,-87.41838,-94.35807,-77.9805,-122.18249,-84.31937,-72.53356,-88.34597,-95.74688,-98.23212,-84.1771,-110.70838333333334,-122.8707166,-81.79652,-80.16579,-71.49751,-111.78104,-114.064885,-80.201645,-80.12917025375,-72.77133666666667,-102.11606,-77.65369,-105.82188,-73.029299,-77.52054,-83.26032,-86.95989,-87.93648366666666,-93.27583,-88.27347,-101.31634,-114.03886,-92.054765,-118.00577,-89.33126,-121.8742,-118.1191355,-95.7926,-93.80017,-74.07048,-92.74935,-75.68512,-79.96307,-120.73244,-92.89413,-83.338806,-74.7753,-120.8507,-119.3176,-71.394135,-80.62639,-74.63469,-89.362965,-74.27305,-108.06652,-92.270965,-122.30019,-81.94892,-86.6519,-88.31188,-86.23799,-78.863013375,-94.67471,-122.300374875,-81.7421985,-71.509771,-86.6936,-111.83562,-82.79144,-98.12683,-75.6098,-74.952515,-90.06497333333333,-81.4718005,-74.4034,-73.98844424076923,-76.03878975,-85.759384,-70.873691,-104.19614,-72.70536,-83.2056,-76.49438433333334,-79.06208038,-72.197,-86.49571,-84.204094,-80.468343,-88.99778,-71.02717,-115.11024,-100.76719,-75.23658,-93.35595,-73.4067,-108.29169,-76.46058,-122.196815,-124.16695,-102.33335,-70.59891,-119.23883333333333,-80.83182,-97.53491727272727,-74.98307,-70.37567,-82.65676,-122.762,-96.0331724,-91.18924,-116.94428,-117.865958,-88.67261500000001,-80.82463,-81.45810408222222,-81.03184,-94.94932,-88.585,-80.000635,-77.015018,-95.6215,-80.034656,-116.54603,-122.12852,-85.66929,-85.8347,-112.43551,-101.37998,-94.85776,-111.51419,-118.0964295,-119.104385,-120.68842,-88.1156,-70.9896,-121.95,-103.50528,-118.78643,-87.22471,-89.58752,-83.745359,-89.15072,-84.967575,-75.19317,-112.10954369999999,-75.450645,-83.56724333333334,-89.33598,-109.87216,-109.9225,-80.88145,-120.6453725,-94.70742,-80.03129849999999,-75.73683,-73.445568,-96.81743499999999,-94.76145,-121.90091,-75.28333,-78.28738,-91.24407,-97.0623595,-93.97645,-69.253334,-82.70066,-80.68583,-88.33943500000001,-106.92771404,-82.98497,-116.997625,-91.13522,-90.98923,-112.47056,-76.58334,-85.25334000000001,-119.78738,-95.3192,-104.6112,-117.18244,-82.05265,-122.29389,-80.53854,-74.2627,-78.58679,-74.1392,-117.566156,-117.186136,-87.9405,-88.17536,-104.4348,-75.94489999999999,-122.22747,-105.58694,-105.40906333333334,-121.1896,-122.21961,-118.73789,-82.829242,-89.34041,-117.3777,-96.70812,-72.67514,-119.252464,-79.28333500000001,-117.6715,-73.03459,-94.62122,-79.963555,-82.58122,-123.94556,-88.990365,-69.1094,-77.8473,-76.18583,-118.08123,-120.73317,-105.63385,-92.96185,-98.85518,-70.42408,-121.5024725,-109.72461,-83.96853,-94.20826,-84.73701,-90.28195222222222,-78.56155,-91.42082,-97.62104,-98.54471571428572,-117.16888900000001,-122.40837499999999,-121.81208533333331,-120.65377,-97.93804,-105.33138,-121.965322,-77.32922,-82.0396,-119.690566,-105.98171333333333,-118.49002033333333,-122.71286,-82.543632,-122.4794,-90.1379,-82.5585984,-78.63733,-87.883266,-111.912315,-75.6368,-91.7278,-122.33724477777777,-74.0534595,-111.76124003333332,-123.13643,-83.574326,-97.10204,-100.2422,-87.705215,-85.514609,-107.7613,-104.16141,-89.53347,-77.026281,-122.6936,-107.66423,-82.25216,-96.35185,-96.775217,-87.1366,-77.5044,-84.49147,-120.144447,-74.51853,-86.27374,-119.95472666666666,-89.99557,-83.27823,-81.99982994999999,-103.85212,-74.36086,-117.40987,-94.18552,-86.42439216666666,-76.43975666666667,-95.624944,-76.91518,-93.350525,-80.153916,-122.0333045,-92.07006,-120.80292,-122.4379,-84.275485,-82.44069814285714,-118.55712,-81.7137,-117.120633,-94.044155,-90.80042,-79.4136,-80.242765,-123.98496,-112.24111,-90.4984595,-76.44419,-121.45209,-85.58099,-104.51319,-84.20315,-70.024864,-122.76094,-110.97626,-86.23972,-95.89120333333334,-88.71117000000001,-74.45488,-116.1031,-71.54113,-80.84593,-95.300748,-123.19738,-122.068275,-75.48286,-89.1343825,-106.332135,-118.57195250000001,-122.23478,-94.34663,-122.558133,-84.1907,-75.581,-77.43977,-77.248634,-75.044475,-93.63858,-76.07368060454546,-117.2255,-97.14415,-76.91391,-102.24139,-118.34145,-115.9263,-80.71389,-71.24418,-84.17172,-83.70226,-80.27335,-97.14418,-71.505104,-81.81509,-98.6996,-95.14122,-121.96684,-75.605662,-93.79359,-96.88209,-118.3854,-80.453261,-80.06133733333333,-76.5399,-73.59588,-76.95222000000001,-87.950818,-98.70956050000001,-82.85906,-74.44332,-75.77149,-86.67885,-97.28566000000001,-112.73532,-72.47322,-95.31804,-112.18606,-76.69057778999999,-77.8091,-103.62949,-123.35002,-77.8957,-78.16738,-74.28881,-122.809174,-97.0039,-92.64767,-89.7790111111111,-71.116585,-77.250458,-83.48082516,-81.0584,-124.1019,-139.66888,-83.89002,-76.73349,-80.6331,-122.3603,-121.63607,-114.62213],\"marker\":{\"color\":[2,1,1,1,1,2,2,6,3,2,2,2,1,2,2,3,8,3,1,1,1,1,3,3,3,1,7,1,2,1,1,1,2,2,15,5,2,3,2,9,1,1,1,1,1,1,1,1,6,4,1,2,1,1,3,1,1,1,1,1,2,2,1,3,1,1,1,1,1,4,1,1,2,1,1,2,3,1,1,1,1,1,1,1,1,2,1,1,4,1,1,1,1,1,1,2,10,1,1,1,5,2,1,2,1,1,1,1,3,1,1,1,1,1,1,2,1,5,1,1,1,1,6,1,1,2,2,1,1,2,2,1,1,1,3,1,1,1,1,1,2,3,1,1,2,1,1,1,1,1,1,1,2,1,1,1,1,1,1,3,2,2,5,1,5,2,3,1,2,1,2,17,1,2,2,3,1,3,1,1,2,3,1,1,3,2,1,1,1,4,1,1,1,5,11,1,1,1,1,1,1,1,1,1,1,1,1,1,2,1,1,1,1,1,1,1,1,1,1,1,1,2,1,6,2,1,4,4,1,2,1,1,2,1,1,1,2,6,2,1,1,2,2,1,1,2,1,2,1,1,1,2,1,1,1,1,1,1,5,1,1,1,1,2,1,2,1,1,1,1,1,1,1,1,3,1,1,1,1,2,1,1,2,1,1,1,1,1,1,1,5,1,1,2,1,2,1,1,3,1,1,1,2,1,1,1,1,1,1,1,3,2,1,1,6,1,5,1,1,1,1,1,1,1,1,2,1,1,2,3,1,1,1,2,1,1,2,1,1,2,1,2,1,2,2,1,1,1,1,1,3,1,1,1,1,1,3,1,1,3,1,1,1,2,2,2,2,1,3,3,3,1,1,4,1,2,1,1,1,1,7,4,1,1,4,1,1,1,2,1,1,2,3,1,1,1,1,1,1,1,1,1,1,1,10,4,1,1,1,1,1,6,1,1,1,1,1,3,1,2,5,2,1,1,1,1,1,1,1,2,4,4,2,1,1,1,1,1,2,1,1,1,1,1,1,4,1,1,1,1,1,1,1,2,1,2,2,2,1,1,2,1,1,5,1,1,3,2,1,1,2,1,7,1,2,3,1,1,1,1,2,2,1,1,1,1,2,1,16,1,1,1,2,1,1,1,1,1,1,5,2,1,1,4,2,1,3,1,1,1,1,3,1,5,7,1,1,1,1,1,1,1,1,1,1,3,1,1,1,1,1,2,1,1,2,2,1,1,1,1,1,1,1,1,1,1,1,1,1,3,5,1,1,1,2,2,2,8,3,1,1,1,1,1,1,1,3,2,1,1,1,2,1,1,1,2,1,1,1,1,1,1,1,1,1,1,1,1,1,1,1,2,1,2,2,1,1,1,1,1,8,1,4,4,1,3,1,1,1,1,1,18,2,1,13,4,1,1,1,1,1,3,1,1,1,1,5,1,1,1,1,1,1,1,1,2,1,1,1,1,3,1,11,1,5,1,1,5,1,1,1,2,1,9,2,1,1,2,1,1,1,2,1,1,1,1,1,1,1,2,1,1,1,1,1,1,1,2,1,3,1,1,3,10,1,3,1,1,2,2,2,1,4,1,1,2,1,1,1,1,1,2,1,1,1,1,2,10,1,1,2,1,1,1,2,1,1,1,1,1,1,1,1,1,1,1,1,1,1,1,2,1,1,3,2,1,1,1,1,1,1,1,1,4,1,1,1,2,3,1,3,1,1,1,1,1,1,1,1,2,2,1,1,1,1,9,1,3,2,7,9,8,3,4,1,1,1,1,1,4,3,3,1,2,2,1,5,1,1,2,1,1,9,2,3,1,1,1,1,1,1,1,1,2,1,1,1,1,2,4,2,1,1,1,1,1,3,1,1,2,1,1,1,1,12,3,1,1,2,1,2,1,1,1,4,7,1,1,2,4,1,1,2,1,1,2,1,2,1,1,1,1,1,1,1,6,2,1,1,1,1,3,1,1,1,4,2,2,1,1,2,1,1,1,1,1,1,11,1,1,1,1,1,1,1,1,1,1,1,1,1,1,1,1,1,1,1,1,2,1,3,2,2,2,1,2,1,1,1,1,2,1,1,1,1,4,1,1,1,1,1,1,1,1,1,9,1,1,2,3,1,1,1,1,1,1,1,2],\"colorbar\":{\"title\":{\"text\":\"\\u041a\\u043e\\u043b\\u0438\\u0447\\u0435\\u0441\\u0442\\u0432\\u043e \\u043e\\u0442\\u0435\\u043b\\u0435\\u0439\"}},\"size\":[2,1,1,1,1,2,2,6,3,2,2,2,1,2,2,3,8,3,1,1,1,1,3,3,3,1,7,1,2,1,1,1,2,2,15,5,2,3,2,9,1,1,1,1,1,1,1,1,6,4,1,2,1,1,3,1,1,1,1,1,2,2,1,3,1,1,1,1,1,4,1,1,2,1,1,2,3,1,1,1,1,1,1,1,1,2,1,1,4,1,1,1,1,1,1,2,10,1,1,1,5,2,1,2,1,1,1,1,3,1,1,1,1,1,1,2,1,5,1,1,1,1,6,1,1,2,2,1,1,2,2,1,1,1,3,1,1,1,1,1,2,3,1,1,2,1,1,1,1,1,1,1,2,1,1,1,1,1,1,3,2,2,5,1,5,2,3,1,2,1,2,17,1,2,2,3,1,3,1,1,2,3,1,1,3,2,1,1,1,4,1,1,1,5,11,1,1,1,1,1,1,1,1,1,1,1,1,1,2,1,1,1,1,1,1,1,1,1,1,1,1,2,1,6,2,1,4,4,1,2,1,1,2,1,1,1,2,6,2,1,1,2,2,1,1,2,1,2,1,1,1,2,1,1,1,1,1,1,5,1,1,1,1,2,1,2,1,1,1,1,1,1,1,1,3,1,1,1,1,2,1,1,2,1,1,1,1,1,1,1,5,1,1,2,1,2,1,1,3,1,1,1,2,1,1,1,1,1,1,1,3,2,1,1,6,1,5,1,1,1,1,1,1,1,1,2,1,1,2,3,1,1,1,2,1,1,2,1,1,2,1,2,1,2,2,1,1,1,1,1,3,1,1,1,1,1,3,1,1,3,1,1,1,2,2,2,2,1,3,3,3,1,1,4,1,2,1,1,1,1,7,4,1,1,4,1,1,1,2,1,1,2,3,1,1,1,1,1,1,1,1,1,1,1,10,4,1,1,1,1,1,6,1,1,1,1,1,3,1,2,5,2,1,1,1,1,1,1,1,2,4,4,2,1,1,1,1,1,2,1,1,1,1,1,1,4,1,1,1,1,1,1,1,2,1,2,2,2,1,1,2,1,1,5,1,1,3,2,1,1,2,1,7,1,2,3,1,1,1,1,2,2,1,1,1,1,2,1,16,1,1,1,2,1,1,1,1,1,1,5,2,1,1,4,2,1,3,1,1,1,1,3,1,5,7,1,1,1,1,1,1,1,1,1,1,3,1,1,1,1,1,2,1,1,2,2,1,1,1,1,1,1,1,1,1,1,1,1,1,3,5,1,1,1,2,2,2,8,3,1,1,1,1,1,1,1,3,2,1,1,1,2,1,1,1,2,1,1,1,1,1,1,1,1,1,1,1,1,1,1,1,2,1,2,2,1,1,1,1,1,8,1,4,4,1,3,1,1,1,1,1,18,2,1,13,4,1,1,1,1,1,3,1,1,1,1,5,1,1,1,1,1,1,1,1,2,1,1,1,1,3,1,11,1,5,1,1,5,1,1,1,2,1,9,2,1,1,2,1,1,1,2,1,1,1,1,1,1,1,2,1,1,1,1,1,1,1,2,1,3,1,1,3,10,1,3,1,1,2,2,2,1,4,1,1,2,1,1,1,1,1,2,1,1,1,1,2,10,1,1,2,1,1,1,2,1,1,1,1,1,1,1,1,1,1,1,1,1,1,1,2,1,1,3,2,1,1,1,1,1,1,1,1,4,1,1,1,2,3,1,3,1,1,1,1,1,1,1,1,2,2,1,1,1,1,9,1,3,2,7,9,8,3,4,1,1,1,1,1,4,3,3,1,2,2,1,5,1,1,2,1,1,9,2,3,1,1,1,1,1,1,1,1,2,1,1,1,1,2,4,2,1,1,1,1,1,3,1,1,2,1,1,1,1,12,3,1,1,2,1,2,1,1,1,4,7,1,1,2,4,1,1,2,1,1,2,1,2,1,1,1,1,1,1,1,6,2,1,1,1,1,3,1,1,1,4,2,2,1,1,2,1,1,1,1,1,1,11,1,1,1,1,1,1,1,1,1,1,1,1,1,1,1,1,1,1,1,1,2,1,3,2,2,2,1,2,1,1,1,1,2,1,1,1,1,4,1,1,1,1,1,1,1,1,1,9,1,1,2,3,1,1,1,1,1,1,1,2]},\"text\":[\"Abilene<br>\\u041e\\u0442\\u0435\\u043b\\u0435\\u0439: 2\",\"Abingdon<br>\\u041e\\u0442\\u0435\\u043b\\u0435\\u0439: 1\",\"Aiken<br>\\u041e\\u0442\\u0435\\u043b\\u0435\\u0439: 1\",\"Airway Heights<br>\\u041e\\u0442\\u0435\\u043b\\u0435\\u0439: 1\",\"Akron<br>\\u041e\\u0442\\u0435\\u043b\\u0435\\u0439: 1\",\"Albany<br>\\u041e\\u0442\\u0435\\u043b\\u0435\\u0439: 2\",\"Albert Lea<br>\\u041e\\u0442\\u0435\\u043b\\u0435\\u0439: 2\",\"Albuquerque<br>\\u041e\\u0442\\u0435\\u043b\\u0435\\u0439: 6\",\"Alexandria<br>\\u041e\\u0442\\u0435\\u043b\\u0435\\u0439: 3\",\"Algoma<br>\\u041e\\u0442\\u0435\\u043b\\u0435\\u0439: 2\",\"Allentown<br>\\u041e\\u0442\\u0435\\u043b\\u0435\\u0439: 2\",\"Alpharetta<br>\\u041e\\u0442\\u0435\\u043b\\u0435\\u0439: 2\",\"Alton<br>\\u041e\\u0442\\u0435\\u043b\\u0435\\u0439: 1\",\"Altoona<br>\\u041e\\u0442\\u0435\\u043b\\u0435\\u0439: 2\",\"Amarillo<br>\\u041e\\u0442\\u0435\\u043b\\u0435\\u0439: 2\",\"Ames<br>\\u041e\\u0442\\u0435\\u043b\\u0435\\u0439: 3\",\"Anaheim<br>\\u041e\\u0442\\u0435\\u043b\\u0435\\u0439: 8\",\"Anchorage<br>\\u041e\\u0442\\u0435\\u043b\\u0435\\u0439: 3\",\"Anderson<br>\\u041e\\u0442\\u0435\\u043b\\u0435\\u0439: 1\",\"Andover<br>\\u041e\\u0442\\u0435\\u043b\\u0435\\u0439: 1\",\"Ankeny<br>\\u041e\\u0442\\u0435\\u043b\\u0435\\u0439: 1\",\"Ann Arbor<br>\\u041e\\u0442\\u0435\\u043b\\u0435\\u0439: 1\",\"Annapolis<br>\\u041e\\u0442\\u0435\\u043b\\u0435\\u0439: 3\",\"Appleton<br>\\u041e\\u0442\\u0435\\u043b\\u0435\\u0439: 3\",\"Ardmore<br>\\u041e\\u0442\\u0435\\u043b\\u0435\\u0439: 3\",\"Arkansas City<br>\\u041e\\u0442\\u0435\\u043b\\u0435\\u0439: 1\",\"Arlington<br>\\u041e\\u0442\\u0435\\u043b\\u0435\\u0439: 7\",\"Ashburn<br>\\u041e\\u0442\\u0435\\u043b\\u0435\\u0439: 1\",\"Asheboro<br>\\u041e\\u0442\\u0435\\u043b\\u0435\\u0439: 2\",\"Asheville<br>\\u041e\\u0442\\u0435\\u043b\\u0435\\u0439: 1\",\"Ashland<br>\\u041e\\u0442\\u0435\\u043b\\u0435\\u0439: 1\",\"Ashton<br>\\u041e\\u0442\\u0435\\u043b\\u0435\\u0439: 1\",\"Atascadero<br>\\u041e\\u0442\\u0435\\u043b\\u0435\\u0439: 2\",\"Athens<br>\\u041e\\u0442\\u0435\\u043b\\u0435\\u0439: 2\",\"Atlanta<br>\\u041e\\u0442\\u0435\\u043b\\u0435\\u0439: 15\",\"Atlantic City<br>\\u041e\\u0442\\u0435\\u043b\\u0435\\u0439: 5\",\"Auburn<br>\\u041e\\u0442\\u0435\\u043b\\u0435\\u0439: 2\",\"Augusta<br>\\u041e\\u0442\\u0435\\u043b\\u0435\\u0439: 3\",\"Aurora<br>\\u041e\\u0442\\u0435\\u043b\\u0435\\u0439: 2\",\"Austin<br>\\u041e\\u0442\\u0435\\u043b\\u0435\\u0439: 9\",\"Austinburg<br>\\u041e\\u0442\\u0435\\u043b\\u0435\\u0439: 1\",\"Avalon<br>\\u041e\\u0442\\u0435\\u043b\\u0435\\u0439: 1\",\"Avon<br>\\u041e\\u0442\\u0435\\u043b\\u0435\\u0439: 1\",\"Avon Park<br>\\u041e\\u0442\\u0435\\u043b\\u0435\\u0439: 1\",\"Baileys Harbor<br>\\u041e\\u0442\\u0435\\u043b\\u0435\\u0439: 1\",\"Bainbridge Island<br>\\u041e\\u0442\\u0435\\u043b\\u0435\\u0439: 1\",\"Ballinger<br>\\u041e\\u0442\\u0435\\u043b\\u0435\\u0439: 1\",\"Balmorhea<br>\\u041e\\u0442\\u0435\\u043b\\u0435\\u0439: 1\",\"Baltimore<br>\\u041e\\u0442\\u0435\\u043b\\u0435\\u0439: 6\",\"Bar Harbor<br>\\u041e\\u0442\\u0435\\u043b\\u0435\\u0439: 4\",\"Baraboo<br>\\u041e\\u0442\\u0435\\u043b\\u0435\\u0439: 1\",\"Barstow<br>\\u041e\\u0442\\u0435\\u043b\\u0435\\u0439: 2\",\"Basalt<br>\\u041e\\u0442\\u0435\\u043b\\u0435\\u0439: 1\",\"Bass Harbor<br>\\u041e\\u0442\\u0435\\u043b\\u0435\\u0439: 1\",\"Baton Rouge<br>\\u041e\\u0442\\u0435\\u043b\\u0435\\u0439: 3\",\"Beachwood<br>\\u041e\\u0442\\u0435\\u043b\\u0435\\u0439: 1\",\"Bear<br>\\u041e\\u0442\\u0435\\u043b\\u0435\\u0439: 1\",\"Beaver<br>\\u041e\\u0442\\u0435\\u043b\\u0435\\u0439: 1\",\"Beaver Island<br>\\u041e\\u0442\\u0435\\u043b\\u0435\\u0439: 1\",\"Beaverton<br>\\u041e\\u0442\\u0435\\u043b\\u0435\\u0439: 1\",\"Beckley<br>\\u041e\\u0442\\u0435\\u043b\\u0435\\u0439: 2\",\"Bedford<br>\\u041e\\u0442\\u0435\\u043b\\u0435\\u0439: 2\",\"Belfast<br>\\u041e\\u0442\\u0435\\u043b\\u0435\\u0439: 1\",\"Bend<br>\\u041e\\u0442\\u0435\\u043b\\u0435\\u0439: 3\",\"Benkelman<br>\\u041e\\u0442\\u0435\\u043b\\u0435\\u0439: 1\",\"Benton<br>\\u041e\\u0442\\u0435\\u043b\\u0435\\u0439: 1\",\"Benton Harbor<br>\\u041e\\u0442\\u0435\\u043b\\u0435\\u0439: 1\",\"Bentonville<br>\\u041e\\u0442\\u0435\\u043b\\u0435\\u0439: 1\",\"Berkeley<br>\\u041e\\u0442\\u0435\\u043b\\u0435\\u0439: 1\",\"Bethlehem<br>\\u041e\\u0442\\u0435\\u043b\\u0435\\u0439: 4\",\"Bettendorf<br>\\u041e\\u0442\\u0435\\u043b\\u0435\\u0439: 1\",\"Beverly<br>\\u041e\\u0442\\u0435\\u043b\\u0435\\u0439: 1\",\"Beverly Hills<br>\\u041e\\u0442\\u0435\\u043b\\u0435\\u0439: 2\",\"Biddeford<br>\\u041e\\u0442\\u0435\\u043b\\u0435\\u0439: 1\",\"Big Bear City<br>\\u041e\\u0442\\u0435\\u043b\\u0435\\u0439: 1\",\"Big Spring<br>\\u041e\\u0442\\u0435\\u043b\\u0435\\u0439: 2\",\"Billings<br>\\u041e\\u0442\\u0435\\u043b\\u0435\\u0439: 3\",\"Birchwood<br>\\u041e\\u0442\\u0435\\u043b\\u0435\\u0439: 1\",\"Birdsboro<br>\\u041e\\u0442\\u0435\\u043b\\u0435\\u0439: 1\",\"Black River Falls<br>\\u041e\\u0442\\u0435\\u043b\\u0435\\u0439: 1\",\"Blacksburg<br>\\u041e\\u0442\\u0435\\u043b\\u0435\\u0439: 1\",\"Blackwell<br>\\u041e\\u0442\\u0435\\u043b\\u0435\\u0439: 1\",\"Blaine<br>\\u041e\\u0442\\u0435\\u043b\\u0435\\u0439: 1\",\"Bloomfield<br>\\u041e\\u0442\\u0435\\u043b\\u0435\\u0439: 1\",\"Bloomingdale<br>\\u041e\\u0442\\u0435\\u043b\\u0435\\u0439: 1\",\"Bloomington<br>\\u041e\\u0442\\u0435\\u043b\\u0435\\u0439: 2\",\"Blue Mountain Lake<br>\\u041e\\u0442\\u0435\\u043b\\u0435\\u0439: 1\",\"Blythe<br>\\u041e\\u0442\\u0435\\u043b\\u0435\\u0439: 1\",\"Boise<br>\\u041e\\u0442\\u0435\\u043b\\u0435\\u0439: 4\",\"Boise City<br>\\u041e\\u0442\\u0435\\u043b\\u0435\\u0439: 1\",\"Bolingbrook<br>\\u041e\\u0442\\u0435\\u043b\\u0435\\u0439: 1\",\"Bolton Landing<br>\\u041e\\u0442\\u0435\\u043b\\u0435\\u0439: 1\",\"Bonne Terre<br>\\u041e\\u0442\\u0435\\u043b\\u0435\\u0439: 1\",\"Boone<br>\\u041e\\u0442\\u0435\\u043b\\u0435\\u0439: 1\",\"Bordentown<br>\\u041e\\u0442\\u0435\\u043b\\u0435\\u0439: 1\",\"Bossier City<br>\\u041e\\u0442\\u0435\\u043b\\u0435\\u0439: 2\",\"Boston<br>\\u041e\\u0442\\u0435\\u043b\\u0435\\u0439: 10\",\"Boulder<br>\\u041e\\u0442\\u0435\\u043b\\u0435\\u0439: 1\",\"Bourbonnais<br>\\u041e\\u0442\\u0435\\u043b\\u0435\\u0439: 1\",\"Bow<br>\\u041e\\u0442\\u0435\\u043b\\u0435\\u0439: 1\",\"Bowling Green<br>\\u041e\\u0442\\u0435\\u043b\\u0435\\u0439: 5\",\"Bozeman<br>\\u041e\\u0442\\u0435\\u043b\\u0435\\u0439: 2\",\"Bradenton<br>\\u041e\\u0442\\u0435\\u043b\\u0435\\u0439: 1\",\"Bradenton Beach<br>\\u041e\\u0442\\u0435\\u043b\\u0435\\u0439: 2\",\"Bradford<br>\\u041e\\u0442\\u0435\\u043b\\u0435\\u0439: 1\",\"Braidwood<br>\\u041e\\u0442\\u0435\\u043b\\u0435\\u0439: 1\",\"Brandon<br>\\u041e\\u0442\\u0435\\u043b\\u0435\\u0439: 1\",\"Bremen<br>\\u041e\\u0442\\u0435\\u043b\\u0435\\u0439: 1\",\"Brentwood<br>\\u041e\\u0442\\u0435\\u043b\\u0435\\u0439: 3\",\"Brewster<br>\\u041e\\u0442\\u0435\\u043b\\u0435\\u0439: 1\",\"Bridgeport<br>\\u041e\\u0442\\u0435\\u043b\\u0435\\u0439: 1\",\"Brighton<br>\\u041e\\u0442\\u0435\\u043b\\u0435\\u0439: 1\",\"Broken Arrow<br>\\u041e\\u0442\\u0435\\u043b\\u0435\\u0439: 1\",\"Broken Bow<br>\\u041e\\u0442\\u0435\\u043b\\u0435\\u0439: 1\",\"Brookeland<br>\\u041e\\u0442\\u0435\\u043b\\u0435\\u0439: 1\",\"Brookings<br>\\u041e\\u0442\\u0435\\u043b\\u0435\\u0439: 2\",\"Brookline<br>\\u041e\\u0442\\u0435\\u043b\\u0435\\u0439: 1\",\"Brooklyn<br>\\u041e\\u0442\\u0435\\u043b\\u0435\\u0439: 5\",\"Brooksville<br>\\u041e\\u0442\\u0435\\u043b\\u0435\\u0439: 1\",\"Broomfield<br>\\u041e\\u0442\\u0435\\u043b\\u0435\\u0439: 1\",\"Brownsburg<br>\\u041e\\u0442\\u0435\\u043b\\u0435\\u0439: 1\",\"Buena Park<br>\\u041e\\u0442\\u0435\\u043b\\u0435\\u0439: 1\",\"Buffalo<br>\\u041e\\u0442\\u0435\\u043b\\u0435\\u0439: 6\",\"Buford<br>\\u041e\\u0442\\u0435\\u043b\\u0435\\u0439: 1\",\"Burleson<br>\\u041e\\u0442\\u0435\\u043b\\u0435\\u0439: 1\",\"Burnet<br>\\u041e\\u0442\\u0435\\u043b\\u0435\\u0439: 2\",\"Butte<br>\\u041e\\u0442\\u0435\\u043b\\u0435\\u0439: 2\",\"Byron Center<br>\\u041e\\u0442\\u0435\\u043b\\u0435\\u0439: 1\",\"Cabazon<br>\\u041e\\u0442\\u0435\\u043b\\u0435\\u0439: 1\",\"Calistoga<br>\\u041e\\u0442\\u0435\\u043b\\u0435\\u0439: 2\",\"Camarillo<br>\\u041e\\u0442\\u0435\\u043b\\u0435\\u0439: 2\",\"Cambridge<br>\\u041e\\u0442\\u0435\\u043b\\u0435\\u0439: 1\",\"Canal Winchester<br>\\u041e\\u0442\\u0435\\u043b\\u0435\\u0439: 1\",\"Cannon Beach<br>\\u041e\\u0442\\u0435\\u043b\\u0435\\u0439: 1\",\"Canton<br>\\u041e\\u0442\\u0435\\u043b\\u0435\\u0439: 3\",\"Canyon<br>\\u041e\\u0442\\u0435\\u043b\\u0435\\u0439: 1\",\"Cape Coral<br>\\u041e\\u0442\\u0435\\u043b\\u0435\\u0439: 1\",\"Cape May<br>\\u041e\\u0442\\u0435\\u043b\\u0435\\u0439: 1\",\"Captain Cook<br>\\u041e\\u0442\\u0435\\u043b\\u0435\\u0439: 1\",\"Captiva<br>\\u041e\\u0442\\u0435\\u043b\\u0435\\u0439: 1\",\"Carlisle<br>\\u041e\\u0442\\u0435\\u043b\\u0435\\u0439: 2\",\"Carmel<br>\\u041e\\u0442\\u0435\\u043b\\u0435\\u0439: 3\",\"Carmel Valley<br>\\u041e\\u0442\\u0435\\u043b\\u0435\\u0439: 1\",\"Carpinteria<br>\\u041e\\u0442\\u0435\\u043b\\u0435\\u0439: 1\",\"Carrollton<br>\\u041e\\u0442\\u0435\\u043b\\u0435\\u0439: 2\",\"Cartersville<br>\\u041e\\u0442\\u0435\\u043b\\u0435\\u0439: 1\",\"Cary<br>\\u041e\\u0442\\u0435\\u043b\\u0435\\u0439: 1\",\"Cass<br>\\u041e\\u0442\\u0435\\u043b\\u0435\\u0439: 1\",\"Cassville<br>\\u041e\\u0442\\u0435\\u043b\\u0435\\u0439: 1\",\"Cave City<br>\\u041e\\u0442\\u0435\\u043b\\u0435\\u0439: 1\",\"Ca\\u221a\\u00b1on City<br>\\u041e\\u0442\\u0435\\u043b\\u0435\\u0439: 1\",\"Cedar City<br>\\u041e\\u0442\\u0435\\u043b\\u0435\\u0439: 1\",\"Cedar Rapids<br>\\u041e\\u0442\\u0435\\u043b\\u0435\\u0439: 2\",\"Celina<br>\\u041e\\u0442\\u0435\\u043b\\u0435\\u0439: 1\",\"Center<br>\\u041e\\u0442\\u0435\\u043b\\u0435\\u0439: 1\",\"Center Rutland<br>\\u041e\\u0442\\u0435\\u043b\\u0435\\u0439: 1\",\"Chadron<br>\\u041e\\u0442\\u0435\\u043b\\u0435\\u0439: 1\",\"Chalmette<br>\\u041e\\u0442\\u0435\\u043b\\u0435\\u0439: 1\",\"Chama<br>\\u041e\\u0442\\u0435\\u043b\\u0435\\u0439: 1\",\"Chandler<br>\\u041e\\u0442\\u0435\\u043b\\u0435\\u0439: 3\",\"Chantilly<br>\\u041e\\u0442\\u0435\\u043b\\u0435\\u0439: 2\",\"Chapel Hill<br>\\u041e\\u0442\\u0435\\u043b\\u0435\\u0439: 2\",\"Charleston<br>\\u041e\\u0442\\u0435\\u043b\\u0435\\u0439: 5\",\"Charlevoix<br>\\u041e\\u0442\\u0435\\u043b\\u0435\\u0439: 1\",\"Charlotte<br>\\u041e\\u0442\\u0435\\u043b\\u0435\\u0439: 5\",\"Charlottesville<br>\\u041e\\u0442\\u0435\\u043b\\u0435\\u0439: 2\",\"Chattanooga<br>\\u041e\\u0442\\u0435\\u043b\\u0435\\u0439: 3\",\"Chebeague Island<br>\\u041e\\u0442\\u0435\\u043b\\u0435\\u0439: 1\",\"Cherokee<br>\\u041e\\u0442\\u0435\\u043b\\u0435\\u0439: 2\",\"Chesapeake<br>\\u041e\\u0442\\u0435\\u043b\\u0435\\u0439: 1\",\"Cheyenne<br>\\u041e\\u0442\\u0435\\u043b\\u0435\\u0439: 2\",\"Chicago<br>\\u041e\\u0442\\u0435\\u043b\\u0435\\u0439: 17\",\"Chillicothe<br>\\u041e\\u0442\\u0435\\u043b\\u0435\\u0439: 1\",\"Chimney Rock<br>\\u041e\\u0442\\u0435\\u043b\\u0435\\u0439: 2\",\"Chincoteague Island<br>\\u041e\\u0442\\u0435\\u043b\\u0435\\u0439: 2\",\"Cincinnati<br>\\u041e\\u0442\\u0435\\u043b\\u0435\\u0439: 3\",\"Cisco<br>\\u041e\\u0442\\u0435\\u043b\\u0435\\u0439: 1\",\"Clarksville<br>\\u041e\\u0442\\u0435\\u043b\\u0435\\u0439: 3\",\"Clear Lake<br>\\u041e\\u0442\\u0435\\u043b\\u0435\\u0439: 1\",\"Clearfield<br>\\u041e\\u0442\\u0435\\u043b\\u0435\\u0439: 1\",\"Clearwater<br>\\u041e\\u0442\\u0435\\u043b\\u0435\\u0439: 2\",\"Clearwater Beach<br>\\u041e\\u0442\\u0435\\u043b\\u0435\\u0439: 3\",\"Clemson<br>\\u041e\\u0442\\u0435\\u043b\\u0435\\u0439: 1\",\"Clermont<br>\\u041e\\u0442\\u0435\\u043b\\u0435\\u0439: 1\",\"Cleveland<br>\\u041e\\u0442\\u0435\\u043b\\u0435\\u0439: 3\",\"Clinton<br>\\u041e\\u0442\\u0435\\u043b\\u0435\\u0439: 2\",\"Coal Center<br>\\u041e\\u0442\\u0435\\u043b\\u0435\\u0439: 1\",\"Coalinga<br>\\u041e\\u0442\\u0435\\u043b\\u0435\\u0439: 1\",\"Cocoa Beach<br>\\u041e\\u0442\\u0435\\u043b\\u0435\\u0439: 1\",\"Coeur d'Alene<br>\\u041e\\u0442\\u0435\\u043b\\u0435\\u0439: 4\",\"Colchester<br>\\u041e\\u0442\\u0435\\u043b\\u0435\\u0439: 1\",\"Collinsville<br>\\u041e\\u0442\\u0435\\u043b\\u0435\\u0439: 1\",\"Colorado Springs<br>\\u041e\\u0442\\u0435\\u043b\\u0435\\u0439: 1\",\"Columbia<br>\\u041e\\u0442\\u0435\\u043b\\u0435\\u0439: 5\",\"Columbus<br>\\u041e\\u0442\\u0435\\u043b\\u0435\\u0439: 11\",\"Conrad<br>\\u041e\\u0442\\u0435\\u043b\\u0435\\u0439: 1\",\"Conroe<br>\\u041e\\u0442\\u0435\\u043b\\u0435\\u0439: 1\",\"Cooksburg<br>\\u041e\\u0442\\u0435\\u043b\\u0435\\u0439: 1\",\"Cooper Landing<br>\\u041e\\u0442\\u0435\\u043b\\u0435\\u0439: 1\",\"Cooperstown<br>\\u041e\\u0442\\u0435\\u043b\\u0435\\u0439: 1\",\"Copper Harbor<br>\\u041e\\u0442\\u0435\\u043b\\u0435\\u0439: 1\",\"Coralville<br>\\u041e\\u0442\\u0435\\u043b\\u0435\\u0439: 1\",\"Corbin<br>\\u041e\\u0442\\u0435\\u043b\\u0435\\u0439: 1\",\"Corning<br>\\u041e\\u0442\\u0435\\u043b\\u0435\\u0439: 1\",\"Coronado<br>\\u041e\\u0442\\u0435\\u043b\\u0435\\u0439: 1\",\"Corpus Christi<br>\\u041e\\u0442\\u0435\\u043b\\u0435\\u0439: 1\",\"Corrales<br>\\u041e\\u0442\\u0435\\u043b\\u0435\\u0439: 1\",\"Corsicana<br>\\u041e\\u0442\\u0435\\u043b\\u0435\\u0439: 1\",\"Cortez<br>\\u041e\\u0442\\u0435\\u043b\\u0435\\u0439: 2\",\"Corvallis<br>\\u041e\\u0442\\u0435\\u043b\\u0435\\u0439: 1\",\"Corydon<br>\\u041e\\u0442\\u0435\\u043b\\u0435\\u0439: 1\",\"Cosby<br>\\u041e\\u0442\\u0435\\u043b\\u0435\\u0439: 1\",\"Coshocton<br>\\u041e\\u0442\\u0435\\u043b\\u0435\\u0439: 1\",\"Costa Mesa<br>\\u041e\\u0442\\u0435\\u043b\\u0435\\u0439: 1\",\"Cotulla<br>\\u041e\\u0442\\u0435\\u043b\\u0435\\u0439: 1\",\"Crawfordsville<br>\\u041e\\u0442\\u0435\\u043b\\u0435\\u0439: 1\",\"Crested Butte<br>\\u041e\\u0442\\u0435\\u043b\\u0435\\u0439: 1\",\"Crestview<br>\\u041e\\u0442\\u0435\\u043b\\u0435\\u0439: 1\",\"Culver<br>\\u041e\\u0442\\u0435\\u043b\\u0435\\u0439: 1\",\"Culver City<br>\\u041e\\u0442\\u0435\\u043b\\u0435\\u0439: 1\",\"Dalhart<br>\\u041e\\u0442\\u0435\\u043b\\u0435\\u0439: 1\",\"Dallas<br>\\u041e\\u0442\\u0435\\u043b\\u0435\\u0439: 2\",\"Danbury<br>\\u041e\\u0442\\u0435\\u043b\\u0435\\u0439: 1\",\"Danville<br>\\u041e\\u0442\\u0435\\u043b\\u0435\\u0439: 6\",\"Davenport<br>\\u041e\\u0442\\u0435\\u043b\\u0435\\u0439: 2\",\"Davis<br>\\u041e\\u0442\\u0435\\u043b\\u0435\\u0439: 1\",\"Dayton<br>\\u041e\\u0442\\u0435\\u043b\\u0435\\u0439: 4\",\"Daytona Beach<br>\\u041e\\u0442\\u0435\\u043b\\u0435\\u0439: 4\",\"DeKalb<br>\\u041e\\u0442\\u0435\\u043b\\u0435\\u0439: 1\",\"DeLand<br>\\u041e\\u0442\\u0435\\u043b\\u0435\\u0439: 2\",\"DeRidder<br>\\u041e\\u0442\\u0435\\u043b\\u0435\\u0439: 1\",\"Deer Park<br>\\u041e\\u0442\\u0435\\u043b\\u0435\\u0439: 1\",\"Deerfield<br>\\u041e\\u0442\\u0435\\u043b\\u0435\\u0439: 2\",\"Defiance<br>\\u041e\\u0442\\u0435\\u043b\\u0435\\u0439: 1\",\"Delavan<br>\\u041e\\u0442\\u0435\\u043b\\u0435\\u0439: 1\",\"Deming<br>\\u041e\\u0442\\u0435\\u043b\\u0435\\u0439: 1\",\"Denton<br>\\u041e\\u0442\\u0435\\u043b\\u0435\\u0439: 2\",\"Denver<br>\\u041e\\u0442\\u0435\\u043b\\u0435\\u0439: 6\",\"Des Plaines<br>\\u041e\\u0442\\u0435\\u043b\\u0435\\u0439: 2\",\"Desert Hot Springs<br>\\u041e\\u0442\\u0435\\u043b\\u0435\\u0439: 1\",\"Destin<br>\\u041e\\u0442\\u0435\\u043b\\u0435\\u0439: 1\",\"Detroit<br>\\u041e\\u0442\\u0435\\u043b\\u0435\\u0439: 2\",\"Dickinson<br>\\u041e\\u0442\\u0435\\u043b\\u0435\\u0439: 2\",\"Dickson<br>\\u041e\\u0442\\u0435\\u043b\\u0435\\u0439: 1\",\"Dillon<br>\\u041e\\u0442\\u0435\\u043b\\u0435\\u0439: 1\",\"Dodge City<br>\\u041e\\u0442\\u0435\\u043b\\u0435\\u0439: 2\",\"Doswell<br>\\u041e\\u0442\\u0435\\u043b\\u0435\\u0439: 1\",\"Dover<br>\\u041e\\u0442\\u0435\\u043b\\u0435\\u0439: 2\",\"Dover Plains<br>\\u041e\\u0442\\u0435\\u043b\\u0435\\u0439: 1\",\"Downsville<br>\\u041e\\u0442\\u0435\\u043b\\u0435\\u0439: 1\",\"DuPont<br>\\u041e\\u0442\\u0435\\u043b\\u0435\\u0439: 1\",\"Dublin<br>\\u041e\\u0442\\u0435\\u043b\\u0435\\u0439: 2\",\"Dubois<br>\\u041e\\u0442\\u0435\\u043b\\u0435\\u0439: 1\",\"Duluth<br>\\u041e\\u0442\\u0435\\u043b\\u0435\\u0439: 1\",\"Duncan<br>\\u041e\\u0442\\u0435\\u043b\\u0435\\u0439: 1\",\"Duncansville<br>\\u041e\\u0442\\u0435\\u043b\\u0435\\u0439: 1\",\"Dunedin<br>\\u041e\\u0442\\u0435\\u043b\\u0435\\u0439: 1\",\"Dunkirk<br>\\u041e\\u0442\\u0435\\u043b\\u0435\\u0439: 1\",\"Durham<br>\\u041e\\u0442\\u0435\\u043b\\u0435\\u0439: 5\",\"East Dover<br>\\u041e\\u0442\\u0435\\u043b\\u0435\\u0439: 1\",\"East Peoria<br>\\u041e\\u0442\\u0435\\u043b\\u0435\\u0439: 1\",\"East Sandwich<br>\\u041e\\u0442\\u0435\\u043b\\u0435\\u0439: 1\",\"East Springfield<br>\\u041e\\u0442\\u0435\\u043b\\u0435\\u0439: 1\",\"East Syracuse<br>\\u041e\\u0442\\u0435\\u043b\\u0435\\u0439: 2\",\"East Tawas<br>\\u041e\\u0442\\u0435\\u043b\\u0435\\u0439: 1\",\"Easton<br>\\u041e\\u0442\\u0435\\u043b\\u0435\\u0439: 2\",\"Eastsound<br>\\u041e\\u0442\\u0435\\u043b\\u0435\\u0439: 1\",\"Eau Claire<br>\\u041e\\u0442\\u0435\\u043b\\u0435\\u0439: 1\",\"Edgartown<br>\\u041e\\u0442\\u0435\\u043b\\u0435\\u0439: 1\",\"Edgewater<br>\\u041e\\u0442\\u0435\\u043b\\u0435\\u0439: 1\",\"Edison<br>\\u041e\\u0442\\u0435\\u043b\\u0435\\u0439: 1\",\"Edmond<br>\\u041e\\u0442\\u0435\\u043b\\u0435\\u0439: 1\",\"El Cajon<br>\\u041e\\u0442\\u0435\\u043b\\u0435\\u0439: 1\",\"El Centro<br>\\u041e\\u0442\\u0435\\u043b\\u0435\\u0439: 1\",\"El Paso<br>\\u041e\\u0442\\u0435\\u043b\\u0435\\u0439: 3\",\"El Segundo<br>\\u041e\\u0442\\u0435\\u043b\\u0435\\u0439: 1\",\"Elgin<br>\\u041e\\u0442\\u0435\\u043b\\u0435\\u0439: 1\",\"Elizabeth<br>\\u041e\\u0442\\u0435\\u043b\\u0435\\u0439: 1\",\"Elk City<br>\\u041e\\u0442\\u0435\\u043b\\u0435\\u0439: 1\",\"Elk Grove Village<br>\\u041e\\u0442\\u0435\\u043b\\u0435\\u0439: 2\",\"Elkhart<br>\\u041e\\u0442\\u0435\\u043b\\u0435\\u0439: 1\",\"Elkins<br>\\u041e\\u0442\\u0435\\u043b\\u0435\\u0439: 1\",\"Elko<br>\\u041e\\u0442\\u0435\\u043b\\u0435\\u0439: 2\",\"Elkridge<br>\\u041e\\u0442\\u0435\\u043b\\u0435\\u0439: 1\",\"Ellendale<br>\\u041e\\u0442\\u0435\\u043b\\u0435\\u0439: 1\",\"Ellis<br>\\u041e\\u0442\\u0435\\u043b\\u0435\\u0439: 1\",\"Elsah<br>\\u041e\\u0442\\u0435\\u043b\\u0435\\u0439: 1\",\"Emerald Isle<br>\\u041e\\u0442\\u0435\\u043b\\u0435\\u0439: 1\",\"Emmetsburg<br>\\u041e\\u0442\\u0435\\u043b\\u0435\\u0439: 1\",\"Enterprise<br>\\u041e\\u0442\\u0435\\u043b\\u0435\\u0439: 1\",\"Erie<br>\\u041e\\u0442\\u0435\\u043b\\u0435\\u0439: 5\",\"Erlanger<br>\\u041e\\u0442\\u0435\\u043b\\u0435\\u0439: 1\",\"Escalante<br>\\u041e\\u0442\\u0435\\u043b\\u0435\\u0439: 1\",\"Estes Park<br>\\u041e\\u0442\\u0435\\u043b\\u0435\\u0439: 2\",\"Eugene<br>\\u041e\\u0442\\u0435\\u043b\\u0435\\u0439: 1\",\"Eureka<br>\\u041e\\u0442\\u0435\\u043b\\u0435\\u0439: 2\",\"Eureka Springs<br>\\u041e\\u0442\\u0435\\u043b\\u0435\\u0439: 1\",\"Evans<br>\\u041e\\u0442\\u0435\\u043b\\u0435\\u0439: 1\",\"Evansville<br>\\u041e\\u0442\\u0435\\u043b\\u0435\\u0439: 3\",\"Everett<br>\\u041e\\u0442\\u0435\\u043b\\u0435\\u0439: 1\",\"Exmore<br>\\u041e\\u0442\\u0435\\u043b\\u0435\\u0439: 1\",\"Fairbanks<br>\\u041e\\u0442\\u0435\\u043b\\u0435\\u0439: 1\",\"Fairfax<br>\\u041e\\u0442\\u0435\\u043b\\u0435\\u0439: 2\",\"Fairfield<br>\\u041e\\u0442\\u0435\\u043b\\u0435\\u0439: 1\",\"Fairhaven<br>\\u041e\\u0442\\u0435\\u043b\\u0435\\u0439: 1\",\"Fairview Heights<br>\\u041e\\u0442\\u0435\\u043b\\u0435\\u0439: 1\",\"Falmouth<br>\\u041e\\u0442\\u0435\\u043b\\u0435\\u0439: 1\",\"Fargo<br>\\u041e\\u0442\\u0435\\u043b\\u0435\\u0439: 1\",\"Faribault<br>\\u041e\\u0442\\u0435\\u043b\\u0435\\u0439: 1\",\"Farmington<br>\\u041e\\u0442\\u0435\\u043b\\u0435\\u0439: 1\",\"Fayetteville<br>\\u041e\\u0442\\u0435\\u043b\\u0435\\u0439: 3\",\"Federal Way<br>\\u041e\\u0442\\u0435\\u043b\\u0435\\u0439: 2\",\"Fenton<br>\\u041e\\u0442\\u0435\\u043b\\u0435\\u0439: 1\",\"Fishersville<br>\\u041e\\u0442\\u0435\\u043b\\u0435\\u0439: 1\",\"Flagstaff<br>\\u041e\\u0442\\u0435\\u043b\\u0435\\u0439: 6\",\"Flint<br>\\u041e\\u0442\\u0435\\u043b\\u0435\\u0439: 1\",\"Florence<br>\\u041e\\u0442\\u0435\\u043b\\u0435\\u0439: 5\",\"Folly Beach<br>\\u041e\\u0442\\u0435\\u043b\\u0435\\u0439: 1\",\"Fond du Lac<br>\\u041e\\u0442\\u0435\\u043b\\u0435\\u0439: 1\",\"Forest Grove<br>\\u041e\\u0442\\u0435\\u043b\\u0435\\u0439: 1\",\"Forney<br>\\u041e\\u0442\\u0435\\u043b\\u0435\\u0439: 1\",\"Forsyth<br>\\u041e\\u0442\\u0435\\u043b\\u0435\\u0439: 1\",\"Fort Collins<br>\\u041e\\u0442\\u0435\\u043b\\u0435\\u0439: 1\",\"Fort Covington<br>\\u041e\\u0442\\u0435\\u043b\\u0435\\u0439: 1\",\"Fort Davis<br>\\u041e\\u0442\\u0435\\u043b\\u0435\\u0439: 1\",\"Fort Lauderdale<br>\\u041e\\u0442\\u0435\\u043b\\u0435\\u0439: 2\",\"Fort Myers<br>\\u041e\\u0442\\u0435\\u043b\\u0435\\u0439: 1\",\"Fort Walton Beach<br>\\u041e\\u0442\\u0435\\u043b\\u0435\\u0439: 1\",\"Fort Wayne<br>\\u041e\\u0442\\u0435\\u043b\\u0435\\u0439: 2\",\"Fort Worth<br>\\u041e\\u0442\\u0435\\u043b\\u0435\\u0439: 3\",\"Fostoria<br>\\u041e\\u0442\\u0435\\u043b\\u0435\\u0439: 1\",\"Franconia<br>\\u041e\\u0442\\u0435\\u043b\\u0435\\u0439: 1\",\"Frankenmuth<br>\\u041e\\u0442\\u0435\\u043b\\u0435\\u0439: 1\",\"Franklin<br>\\u041e\\u0442\\u0435\\u043b\\u0435\\u0439: 2\",\"Fredericksburg<br>\\u041e\\u0442\\u0435\\u043b\\u0435\\u0439: 1\",\"Freehold<br>\\u041e\\u0442\\u0435\\u043b\\u0435\\u0439: 1\",\"Freeport<br>\\u041e\\u0442\\u0435\\u043b\\u0435\\u0439: 2\",\"Freer<br>\\u041e\\u0442\\u0435\\u043b\\u0435\\u0439: 1\",\"Fremont<br>\\u041e\\u0442\\u0435\\u043b\\u0435\\u0439: 1\",\"Fresno<br>\\u041e\\u0442\\u0435\\u043b\\u0435\\u0439: 2\",\"Friday Harbor<br>\\u041e\\u0442\\u0435\\u043b\\u0435\\u0439: 1\",\"Frisco<br>\\u041e\\u0442\\u0435\\u043b\\u0435\\u0439: 2\",\"Fruitland<br>\\u041e\\u0442\\u0435\\u043b\\u0435\\u0439: 1\",\"Fullerton<br>\\u041e\\u0442\\u0435\\u043b\\u0435\\u0439: 2\",\"Gainesville<br>\\u041e\\u0442\\u0435\\u043b\\u0435\\u0439: 2\",\"Galax<br>\\u041e\\u0442\\u0435\\u043b\\u0435\\u0439: 1\",\"Galena<br>\\u041e\\u0442\\u0435\\u043b\\u0435\\u0439: 1\",\"Garden Grove<br>\\u041e\\u0442\\u0435\\u043b\\u0435\\u0439: 1\",\"Gardena<br>\\u041e\\u0442\\u0435\\u043b\\u0435\\u0439: 1\",\"Gardner<br>\\u041e\\u0442\\u0435\\u043b\\u0435\\u0439: 1\",\"Gatlinburg<br>\\u041e\\u0442\\u0435\\u043b\\u0435\\u0439: 3\",\"Gillette<br>\\u041e\\u0442\\u0435\\u043b\\u0435\\u0439: 1\",\"Gladstone<br>\\u041e\\u0442\\u0435\\u043b\\u0435\\u0439: 1\",\"Glen Burnie<br>\\u041e\\u0442\\u0435\\u043b\\u0435\\u0439: 1\",\"Glendale<br>\\u041e\\u0442\\u0435\\u043b\\u0435\\u0439: 1\",\"Glenview<br>\\u041e\\u0442\\u0435\\u043b\\u0435\\u0439: 1\",\"Gloucester<br>\\u041e\\u0442\\u0435\\u043b\\u0435\\u0439: 3\",\"Golden<br>\\u041e\\u0442\\u0435\\u043b\\u0435\\u0439: 1\",\"Goldendale<br>\\u041e\\u0442\\u0435\\u043b\\u0435\\u0439: 1\",\"Goodlettsville<br>\\u041e\\u0442\\u0435\\u043b\\u0435\\u0439: 3\",\"Granbury<br>\\u041e\\u0442\\u0435\\u043b\\u0435\\u0439: 1\",\"Granby<br>\\u041e\\u0442\\u0435\\u043b\\u0435\\u0439: 1\",\"Grand Coulee<br>\\u041e\\u0442\\u0435\\u043b\\u0435\\u0439: 1\",\"Grand Forks<br>\\u041e\\u0442\\u0435\\u043b\\u0435\\u0439: 2\",\"Grand Haven<br>\\u041e\\u0442\\u0435\\u043b\\u0435\\u0439: 2\",\"Grand Island<br>\\u041e\\u0442\\u0435\\u043b\\u0435\\u0439: 2\",\"Grand Junction<br>\\u041e\\u0442\\u0435\\u043b\\u0435\\u0439: 2\",\"Grand Lake<br>\\u041e\\u0442\\u0435\\u043b\\u0435\\u0439: 1\",\"Grand Prairie<br>\\u041e\\u0442\\u0435\\u043b\\u0435\\u0439: 3\",\"Grand Rapids<br>\\u041e\\u0442\\u0435\\u043b\\u0435\\u0439: 3\",\"Grants Pass<br>\\u041e\\u0442\\u0435\\u043b\\u0435\\u0439: 3\",\"Great Falls<br>\\u041e\\u0442\\u0435\\u043b\\u0435\\u0439: 1\",\"Greeley<br>\\u041e\\u0442\\u0435\\u043b\\u0435\\u0439: 1\",\"Greenville<br>\\u041e\\u0442\\u0435\\u043b\\u0435\\u0439: 4\",\"Greenville Junction<br>\\u041e\\u0442\\u0435\\u043b\\u0435\\u0439: 1\",\"Greybull<br>\\u041e\\u0442\\u0435\\u043b\\u0435\\u0439: 2\",\"Grove City<br>\\u041e\\u0442\\u0435\\u043b\\u0435\\u0439: 1\",\"Guerneville<br>\\u041e\\u0442\\u0435\\u043b\\u0435\\u0439: 1\",\"Guilford<br>\\u041e\\u0442\\u0435\\u043b\\u0435\\u0439: 1\",\"Hall<br>\\u041e\\u0442\\u0435\\u043b\\u0435\\u0439: 1\",\"Hampton<br>\\u041e\\u0442\\u0435\\u043b\\u0435\\u0439: 7\",\"Hanover<br>\\u041e\\u0442\\u0435\\u043b\\u0435\\u0439: 4\",\"Hardeeville<br>\\u041e\\u0442\\u0435\\u043b\\u0435\\u0439: 1\",\"Harker Heights<br>\\u041e\\u0442\\u0435\\u043b\\u0435\\u0439: 1\",\"Harrisburg<br>\\u041e\\u0442\\u0435\\u043b\\u0435\\u0439: 4\",\"Harrison<br>\\u041e\\u0442\\u0435\\u043b\\u0435\\u0439: 1\",\"Hartsville<br>\\u041e\\u0442\\u0435\\u043b\\u0435\\u0439: 1\",\"Haverhill<br>\\u041e\\u0442\\u0435\\u043b\\u0435\\u0439: 1\",\"Hawthorne<br>\\u041e\\u0442\\u0435\\u043b\\u0435\\u0439: 2\",\"Heber<br>\\u041e\\u0442\\u0435\\u043b\\u0435\\u0439: 1\",\"Helen<br>\\u041e\\u0442\\u0435\\u043b\\u0435\\u0439: 1\",\"Helena<br>\\u041e\\u0442\\u0435\\u043b\\u0435\\u0439: 2\",\"Henderson<br>\\u041e\\u0442\\u0435\\u043b\\u0435\\u0439: 3\",\"Henrietta<br>\\u041e\\u0442\\u0435\\u043b\\u0435\\u0439: 1\",\"Herkimer<br>\\u041e\\u0442\\u0435\\u043b\\u0435\\u0439: 1\",\"Hermann<br>\\u041e\\u0442\\u0435\\u043b\\u0435\\u0439: 1\",\"Herndon<br>\\u041e\\u0442\\u0435\\u043b\\u0435\\u0439: 1\",\"Heyburn<br>\\u041e\\u0442\\u0435\\u043b\\u0435\\u0439: 1\",\"Hialeah<br>\\u041e\\u0442\\u0435\\u043b\\u0435\\u0439: 1\",\"Highlands<br>\\u041e\\u0442\\u0435\\u043b\\u0435\\u0439: 1\",\"Hilliard<br>\\u041e\\u0442\\u0435\\u043b\\u0435\\u0439: 1\",\"Hilo<br>\\u041e\\u0442\\u0435\\u043b\\u0435\\u0439: 1\",\"Hilton Head Island<br>\\u041e\\u0442\\u0435\\u043b\\u0435\\u0439: 1\",\"Holland<br>\\u041e\\u0442\\u0435\\u043b\\u0435\\u0439: 1\",\"Hollywood<br>\\u041e\\u0442\\u0435\\u043b\\u0435\\u0439: 10\",\"Honolulu<br>\\u041e\\u0442\\u0435\\u043b\\u0435\\u0439: 4\",\"Hope<br>\\u041e\\u0442\\u0435\\u043b\\u0435\\u0439: 1\",\"Horn Lake<br>\\u041e\\u0442\\u0435\\u043b\\u0435\\u0439: 1\",\"Horse Cave<br>\\u041e\\u0442\\u0435\\u043b\\u0435\\u0439: 1\",\"Horseheads<br>\\u041e\\u0442\\u0435\\u043b\\u0435\\u0439: 1\",\"Houma<br>\\u041e\\u0442\\u0435\\u043b\\u0435\\u0439: 1\",\"Houston<br>\\u041e\\u0442\\u0435\\u043b\\u0435\\u0439: 6\",\"Hudson<br>\\u041e\\u0442\\u0435\\u043b\\u0435\\u0439: 1\",\"Hugoton<br>\\u041e\\u0442\\u0435\\u043b\\u0435\\u0439: 1\",\"Huntingdon<br>\\u041e\\u0442\\u0435\\u043b\\u0435\\u0439: 1\",\"Huntington Beach<br>\\u041e\\u0442\\u0435\\u043b\\u0435\\u0439: 1\",\"Hyattsville<br>\\u041e\\u0442\\u0435\\u043b\\u0435\\u0439: 1\",\"Independence<br>\\u041e\\u0442\\u0435\\u043b\\u0435\\u0439: 3\",\"Indian River<br>\\u041e\\u0442\\u0435\\u043b\\u0435\\u0439: 1\",\"Indiana<br>\\u041e\\u0442\\u0435\\u043b\\u0435\\u0439: 2\",\"Indianapolis<br>\\u041e\\u0442\\u0435\\u043b\\u0435\\u0439: 5\",\"Indianola<br>\\u041e\\u0442\\u0435\\u043b\\u0435\\u0439: 2\",\"Indio<br>\\u041e\\u0442\\u0435\\u043b\\u0435\\u0439: 1\",\"Inglewood<br>\\u041e\\u0442\\u0435\\u043b\\u0435\\u0439: 1\",\"International Falls<br>\\u041e\\u0442\\u0435\\u043b\\u0435\\u0439: 1\",\"Iraan<br>\\u041e\\u0442\\u0435\\u043b\\u0435\\u0439: 1\",\"Ironwood<br>\\u041e\\u0442\\u0435\\u043b\\u0435\\u0439: 1\",\"Irving<br>\\u041e\\u0442\\u0435\\u043b\\u0435\\u0439: 1\",\"Isle of Palms<br>\\u041e\\u0442\\u0435\\u043b\\u0435\\u0439: 1\",\"Ithaca<br>\\u041e\\u0442\\u0435\\u043b\\u0435\\u0439: 2\",\"Jackson<br>\\u041e\\u0442\\u0435\\u043b\\u0435\\u0439: 4\",\"Jacksonville<br>\\u041e\\u0442\\u0435\\u043b\\u0435\\u0439: 4\",\"Jamaica<br>\\u041e\\u0442\\u0435\\u043b\\u0435\\u0439: 2\",\"Jane Lew<br>\\u041e\\u0442\\u0435\\u043b\\u0435\\u0439: 1\",\"Janesville<br>\\u041e\\u0442\\u0435\\u043b\\u0435\\u0439: 1\",\"Jefferson City<br>\\u041e\\u0442\\u0435\\u043b\\u0435\\u0439: 1\",\"Johnson City<br>\\u041e\\u0442\\u0435\\u043b\\u0435\\u0439: 1\",\"Joliet<br>\\u041e\\u0442\\u0435\\u043b\\u0435\\u0439: 1\",\"Jonesboro<br>\\u041e\\u0442\\u0435\\u043b\\u0435\\u0439: 2\",\"Jonesville<br>\\u041e\\u0442\\u0435\\u043b\\u0435\\u0439: 1\",\"Juneau<br>\\u041e\\u0442\\u0435\\u043b\\u0435\\u0439: 1\",\"Jupiter<br>\\u041e\\u0442\\u0435\\u043b\\u0435\\u0439: 1\",\"Kaktovik<br>\\u041e\\u0442\\u0435\\u043b\\u0435\\u0439: 1\",\"Kalispell<br>\\u041e\\u0442\\u0435\\u043b\\u0435\\u0439: 1\",\"Kankakee<br>\\u041e\\u0442\\u0435\\u043b\\u0435\\u0439: 1\",\"Kansas City<br>\\u041e\\u0442\\u0435\\u043b\\u0435\\u0439: 4\",\"Katy<br>\\u041e\\u0442\\u0435\\u043b\\u0435\\u0439: 1\",\"Kearney<br>\\u041e\\u0442\\u0435\\u043b\\u0435\\u0439: 1\",\"Kelleys Island<br>\\u041e\\u0442\\u0435\\u043b\\u0435\\u0439: 1\",\"Kenai<br>\\u041e\\u0442\\u0435\\u043b\\u0435\\u0439: 1\",\"Kennesaw<br>\\u041e\\u0442\\u0435\\u043b\\u0435\\u0439: 1\",\"Kenyon<br>\\u041e\\u0442\\u0435\\u043b\\u0435\\u0439: 1\",\"Key Biscayne<br>\\u041e\\u0442\\u0435\\u043b\\u0435\\u0439: 1\",\"Key West<br>\\u041e\\u0442\\u0435\\u043b\\u0435\\u0439: 2\",\"Killdeer<br>\\u041e\\u0442\\u0435\\u043b\\u0435\\u0439: 1\",\"Killington<br>\\u041e\\u0442\\u0435\\u043b\\u0435\\u0439: 2\",\"Kimberling City<br>\\u041e\\u0442\\u0435\\u043b\\u0435\\u0439: 2\",\"King of Prussia<br>\\u041e\\u0442\\u0435\\u043b\\u0435\\u0439: 2\",\"Kingman<br>\\u041e\\u0442\\u0435\\u043b\\u0435\\u0439: 1\",\"Kings Beach<br>\\u041e\\u0442\\u0435\\u043b\\u0435\\u0439: 1\",\"Kingsland<br>\\u041e\\u0442\\u0435\\u043b\\u0435\\u0439: 2\",\"Kingsport<br>\\u041e\\u0442\\u0435\\u043b\\u0435\\u0439: 1\",\"Kiowa<br>\\u041e\\u0442\\u0435\\u043b\\u0435\\u0439: 1\",\"Kissimmee<br>\\u041e\\u0442\\u0435\\u043b\\u0435\\u0439: 5\",\"Kittery<br>\\u041e\\u0442\\u0435\\u043b\\u0435\\u0439: 1\",\"Klamath Falls<br>\\u041e\\u0442\\u0435\\u043b\\u0435\\u0439: 1\",\"Knoxville<br>\\u041e\\u0442\\u0435\\u043b\\u0435\\u0439: 3\",\"Koloa<br>\\u041e\\u0442\\u0435\\u043b\\u0435\\u0439: 2\",\"K\\u0192\\u00b4hei<br>\\u041e\\u0442\\u0435\\u043b\\u0435\\u0439: 1\",\"La Conner<br>\\u041e\\u0442\\u0435\\u043b\\u0435\\u0439: 1\",\"La Jolla<br>\\u041e\\u0442\\u0435\\u043b\\u0435\\u0439: 2\",\"LaGrange<br>\\u041e\\u0442\\u0435\\u043b\\u0435\\u0439: 1\",\"Lafayette<br>\\u041e\\u0442\\u0435\\u043b\\u0435\\u0439: 7\",\"Laguna Beach<br>\\u041e\\u0442\\u0435\\u043b\\u0435\\u0439: 1\",\"Lahaina<br>\\u041e\\u0442\\u0435\\u043b\\u0435\\u0439: 2\",\"Lake Charles<br>\\u041e\\u0442\\u0435\\u043b\\u0435\\u0439: 3\",\"Lake Elsinore<br>\\u041e\\u0442\\u0435\\u043b\\u0435\\u0439: 1\",\"Lake Forest<br>\\u041e\\u0442\\u0435\\u043b\\u0435\\u0439: 1\",\"Lake George<br>\\u041e\\u0442\\u0435\\u043b\\u0435\\u0439: 1\",\"Lake Mary<br>\\u041e\\u0442\\u0435\\u043b\\u0435\\u0439: 1\",\"Lake Placid<br>\\u041e\\u0442\\u0435\\u043b\\u0435\\u0439: 2\",\"Lakeland<br>\\u041e\\u0442\\u0435\\u043b\\u0435\\u0439: 2\",\"Lakeview<br>\\u041e\\u0442\\u0435\\u043b\\u0435\\u0439: 1\",\"Lancaster<br>\\u041e\\u0442\\u0435\\u043b\\u0435\\u0439: 1\",\"Lanesboro<br>\\u041e\\u0442\\u0435\\u043b\\u0435\\u0439: 1\",\"Lanham<br>\\u041e\\u0442\\u0435\\u043b\\u0435\\u0439: 1\",\"Lansing<br>\\u041e\\u0442\\u0435\\u043b\\u0435\\u0439: 2\",\"Laredo<br>\\u041e\\u0442\\u0435\\u043b\\u0435\\u0439: 1\",\"Las Vegas<br>\\u041e\\u0442\\u0435\\u043b\\u0435\\u0439: 16\",\"Latta<br>\\u041e\\u0442\\u0435\\u043b\\u0435\\u0439: 1\",\"Laughlin<br>\\u041e\\u0442\\u0435\\u043b\\u0435\\u0439: 1\",\"Lavallette<br>\\u041e\\u0442\\u0435\\u043b\\u0435\\u0439: 1\",\"Lavonia<br>\\u041e\\u0442\\u0435\\u043b\\u0435\\u0439: 2\",\"Lawrence<br>\\u041e\\u0442\\u0435\\u043b\\u0435\\u0439: 1\",\"Lebanon<br>\\u041e\\u0442\\u0435\\u043b\\u0435\\u0439: 1\",\"Leesburg<br>\\u041e\\u0442\\u0435\\u043b\\u0435\\u0439: 1\",\"Lesterville<br>\\u041e\\u0442\\u0435\\u043b\\u0435\\u0439: 1\",\"Lewes<br>\\u041e\\u0442\\u0435\\u043b\\u0435\\u0439: 1\",\"Lewisburg<br>\\u041e\\u0442\\u0435\\u043b\\u0435\\u0439: 1\",\"Lexington<br>\\u041e\\u0442\\u0435\\u043b\\u0435\\u0439: 5\",\"Lincoln<br>\\u041e\\u0442\\u0435\\u043b\\u0435\\u0439: 2\",\"Lincoln City<br>\\u041e\\u0442\\u0435\\u043b\\u0435\\u0439: 1\",\"Lincolnton<br>\\u041e\\u0442\\u0435\\u043b\\u0435\\u0439: 1\",\"Linthicum Heights<br>\\u041e\\u0442\\u0435\\u043b\\u0435\\u0439: 4\",\"Lithonia<br>\\u041e\\u0442\\u0435\\u043b\\u0435\\u0439: 2\",\"Little Rock<br>\\u041e\\u0442\\u0435\\u043b\\u0435\\u0439: 1\",\"Littleton<br>\\u041e\\u0442\\u0435\\u043b\\u0435\\u0439: 3\",\"Lockport<br>\\u041e\\u0442\\u0435\\u043b\\u0435\\u0439: 1\",\"Logan<br>\\u041e\\u0442\\u0435\\u043b\\u0435\\u0439: 1\",\"Londonderry<br>\\u041e\\u0442\\u0435\\u043b\\u0435\\u0439: 1\",\"Lone Tree<br>\\u041e\\u0442\\u0435\\u043b\\u0435\\u0439: 1\",\"Long Beach<br>\\u041e\\u0442\\u0435\\u043b\\u0435\\u0439: 3\",\"Los Alamos<br>\\u041e\\u0442\\u0435\\u043b\\u0435\\u0439: 1\",\"Los Angeles<br>\\u041e\\u0442\\u0435\\u043b\\u0435\\u0439: 5\",\"Louisville<br>\\u041e\\u0442\\u0435\\u043b\\u0435\\u0439: 7\",\"Loup City<br>\\u041e\\u0442\\u0435\\u043b\\u0435\\u0439: 1\",\"Lubbock<br>\\u041e\\u0442\\u0435\\u043b\\u0435\\u0439: 1\",\"Ludlow<br>\\u041e\\u0442\\u0435\\u043b\\u0435\\u0439: 1\",\"Lufkin<br>\\u041e\\u0442\\u0435\\u043b\\u0435\\u0439: 1\",\"Luray<br>\\u041e\\u0442\\u0435\\u043b\\u0435\\u0439: 1\",\"Lynchburg<br>\\u041e\\u0442\\u0435\\u043b\\u0435\\u0439: 1\",\"Lyndon<br>\\u041e\\u0442\\u0435\\u043b\\u0435\\u0439: 1\",\"Mackinaw City<br>\\u041e\\u0442\\u0435\\u043b\\u0435\\u0439: 1\",\"Macomb<br>\\u041e\\u0442\\u0435\\u043b\\u0435\\u0439: 1\",\"Macon<br>\\u041e\\u0442\\u0435\\u043b\\u0435\\u0439: 1\",\"Madison<br>\\u041e\\u0442\\u0435\\u043b\\u0435\\u0439: 3\",\"Madras<br>\\u041e\\u0442\\u0435\\u043b\\u0435\\u0439: 1\",\"Mamaroneck<br>\\u041e\\u0442\\u0435\\u043b\\u0435\\u0439: 1\",\"Mancos<br>\\u041e\\u0442\\u0435\\u043b\\u0435\\u0439: 1\",\"Manhattan<br>\\u041e\\u0442\\u0435\\u043b\\u0435\\u0439: 1\",\"Manistee<br>\\u041e\\u0442\\u0435\\u043b\\u0435\\u0439: 1\",\"Manitou Springs<br>\\u041e\\u0442\\u0435\\u043b\\u0435\\u0439: 2\",\"Marana<br>\\u041e\\u0442\\u0435\\u043b\\u0435\\u0439: 1\",\"Marble Falls<br>\\u041e\\u0442\\u0435\\u043b\\u0435\\u0439: 1\",\"Marietta<br>\\u041e\\u0442\\u0435\\u043b\\u0435\\u0439: 2\",\"Marina<br>\\u041e\\u0442\\u0435\\u043b\\u0435\\u0439: 2\",\"Marinette<br>\\u041e\\u0442\\u0435\\u043b\\u0435\\u0439: 1\",\"Markleysburg<br>\\u041e\\u0442\\u0435\\u043b\\u0435\\u0439: 1\",\"Marlborough<br>\\u041e\\u0442\\u0435\\u043b\\u0435\\u0439: 1\",\"Marquette<br>\\u041e\\u0442\\u0435\\u043b\\u0435\\u0439: 1\",\"Marshall<br>\\u041e\\u0442\\u0435\\u043b\\u0435\\u0439: 1\",\"Martinsburg<br>\\u041e\\u0442\\u0435\\u043b\\u0435\\u0439: 1\",\"Marysville<br>\\u041e\\u0442\\u0435\\u043b\\u0435\\u0439: 1\",\"Mason<br>\\u041e\\u0442\\u0435\\u043b\\u0435\\u0439: 1\",\"Mattituck<br>\\u041e\\u0442\\u0435\\u043b\\u0435\\u0439: 1\",\"Mattoon<br>\\u041e\\u0442\\u0435\\u043b\\u0435\\u0439: 1\",\"McAlester<br>\\u041e\\u0442\\u0435\\u043b\\u0435\\u0439: 1\",\"McAllen<br>\\u041e\\u0442\\u0435\\u043b\\u0435\\u0439: 1\",\"McDonough<br>\\u041e\\u0442\\u0435\\u043b\\u0435\\u0439: 1\",\"McMinnville<br>\\u041e\\u0442\\u0435\\u043b\\u0435\\u0439: 3\",\"Medford<br>\\u041e\\u0442\\u0435\\u043b\\u0435\\u0439: 5\",\"Medina<br>\\u041e\\u0442\\u0435\\u043b\\u0435\\u0439: 1\",\"Mercer<br>\\u041e\\u0442\\u0435\\u043b\\u0435\\u0439: 1\",\"Meredith<br>\\u041e\\u0442\\u0435\\u043b\\u0435\\u0439: 1\",\"Mesa<br>\\u041e\\u0442\\u0435\\u043b\\u0435\\u0439: 2\",\"Mesquite<br>\\u041e\\u0442\\u0435\\u043b\\u0435\\u0439: 2\",\"Miami<br>\\u041e\\u0442\\u0435\\u043b\\u0435\\u0439: 2\",\"Miami Beach<br>\\u041e\\u0442\\u0435\\u043b\\u0435\\u0439: 8\",\"Middletown<br>\\u041e\\u0442\\u0435\\u043b\\u0435\\u0439: 3\",\"Midland<br>\\u041e\\u0442\\u0435\\u043b\\u0435\\u0439: 1\",\"Midlothian<br>\\u041e\\u0442\\u0435\\u043b\\u0435\\u0439: 1\",\"Miles City<br>\\u041e\\u0442\\u0435\\u043b\\u0435\\u0439: 1\",\"Milford<br>\\u041e\\u0442\\u0435\\u043b\\u0435\\u0439: 1\",\"Mill Hall<br>\\u041e\\u0442\\u0435\\u043b\\u0435\\u0439: 1\",\"Milledgeville<br>\\u041e\\u0442\\u0435\\u043b\\u0435\\u0439: 1\",\"Milton<br>\\u041e\\u0442\\u0435\\u043b\\u0435\\u0439: 1\",\"Milwaukee<br>\\u041e\\u0442\\u0435\\u043b\\u0435\\u0439: 3\",\"Minneapolis<br>\\u041e\\u0442\\u0435\\u043b\\u0435\\u0439: 2\",\"Minooka<br>\\u041e\\u0442\\u0435\\u043b\\u0435\\u0439: 1\",\"Minot<br>\\u041e\\u0442\\u0435\\u043b\\u0435\\u0439: 1\",\"Missoula<br>\\u041e\\u0442\\u0435\\u043b\\u0435\\u0439: 1\",\"Monroe<br>\\u041e\\u0442\\u0435\\u043b\\u0435\\u0439: 2\",\"Monrovia<br>\\u041e\\u0442\\u0435\\u043b\\u0435\\u0439: 1\",\"Montello<br>\\u041e\\u0442\\u0435\\u043b\\u0435\\u0439: 1\",\"Monterey<br>\\u041e\\u0442\\u0435\\u043b\\u0435\\u0439: 1\",\"Monterey Park<br>\\u041e\\u0442\\u0435\\u043b\\u0435\\u0439: 2\",\"Montgomery<br>\\u041e\\u0442\\u0435\\u043b\\u0435\\u0439: 1\",\"Monticello<br>\\u041e\\u0442\\u0435\\u043b\\u0435\\u0439: 1\",\"Montvale<br>\\u041e\\u0442\\u0435\\u043b\\u0435\\u0439: 1\",\"Moose Lake<br>\\u041e\\u0442\\u0435\\u043b\\u0435\\u0439: 1\",\"Moosic<br>\\u041e\\u0442\\u0435\\u043b\\u0435\\u0439: 1\",\"Morgantown<br>\\u041e\\u0442\\u0435\\u043b\\u0435\\u0439: 1\",\"Moro<br>\\u041e\\u0442\\u0435\\u043b\\u0435\\u0439: 1\",\"Morrilton<br>\\u041e\\u0442\\u0435\\u043b\\u0435\\u0439: 1\",\"Morristown<br>\\u041e\\u0442\\u0435\\u043b\\u0435\\u0439: 1\",\"Morrisville<br>\\u041e\\u0442\\u0435\\u043b\\u0435\\u0439: 1\",\"Morro Bay<br>\\u041e\\u0442\\u0435\\u043b\\u0435\\u0439: 1\",\"Moses Lake<br>\\u041e\\u0442\\u0435\\u043b\\u0435\\u0439: 1\",\"Moultonborough<br>\\u041e\\u0442\\u0435\\u043b\\u0435\\u0439: 1\",\"Mount Airy<br>\\u041e\\u0442\\u0435\\u043b\\u0435\\u0439: 1\",\"Mount Arlington<br>\\u041e\\u0442\\u0435\\u043b\\u0435\\u0439: 1\",\"Mount Pleasant<br>\\u041e\\u0442\\u0435\\u043b\\u0435\\u0439: 2\",\"Mount Tremper<br>\\u041e\\u0442\\u0435\\u043b\\u0435\\u0439: 1\",\"Mount Vernon<br>\\u041e\\u0442\\u0435\\u043b\\u0435\\u0439: 2\",\"Mountain Home<br>\\u041e\\u0442\\u0435\\u043b\\u0435\\u0439: 2\",\"Mukilteo<br>\\u041e\\u0442\\u0435\\u043b\\u0435\\u0439: 1\",\"Mulberry<br>\\u041e\\u0442\\u0435\\u043b\\u0435\\u0439: 1\",\"Munising<br>\\u041e\\u0442\\u0435\\u043b\\u0435\\u0439: 1\",\"Murray<br>\\u041e\\u0442\\u0435\\u043b\\u0435\\u0439: 1\",\"Muskegon<br>\\u041e\\u0442\\u0435\\u043b\\u0435\\u0439: 1\",\"Myrtle Beach<br>\\u041e\\u0442\\u0435\\u043b\\u0435\\u0439: 8\",\"Nacogdoches<br>\\u041e\\u0442\\u0435\\u043b\\u0435\\u0439: 1\",\"Napa<br>\\u041e\\u0442\\u0435\\u043b\\u0435\\u0439: 4\",\"Naples<br>\\u041e\\u0442\\u0435\\u043b\\u0435\\u0439: 4\",\"Nashua<br>\\u041e\\u0442\\u0435\\u043b\\u0435\\u0439: 1\",\"Nashville<br>\\u041e\\u0442\\u0435\\u043b\\u0435\\u0439: 3\",\"Nephi<br>\\u041e\\u0442\\u0435\\u043b\\u0435\\u0439: 1\",\"New Albany<br>\\u041e\\u0442\\u0435\\u043b\\u0435\\u0439: 1\",\"New Braunfels<br>\\u041e\\u0442\\u0435\\u043b\\u0435\\u0439: 1\",\"New Castle<br>\\u041e\\u0442\\u0435\\u043b\\u0435\\u0439: 1\",\"New Hope<br>\\u041e\\u0442\\u0435\\u043b\\u0435\\u0439: 1\",\"New Orleans<br>\\u041e\\u0442\\u0435\\u043b\\u0435\\u0439: 18\",\"New Philadelphia<br>\\u041e\\u0442\\u0435\\u043b\\u0435\\u0439: 2\",\"New Providence<br>\\u041e\\u0442\\u0435\\u043b\\u0435\\u0439: 1\",\"New York<br>\\u041e\\u0442\\u0435\\u043b\\u0435\\u0439: 13\",\"Newark<br>\\u041e\\u0442\\u0435\\u043b\\u0435\\u0439: 4\",\"Newaygo<br>\\u041e\\u0442\\u0435\\u043b\\u0435\\u0439: 1\",\"Newburyport<br>\\u041e\\u0442\\u0435\\u043b\\u0435\\u0439: 1\",\"Newcastle<br>\\u041e\\u0442\\u0435\\u043b\\u0435\\u0439: 1\",\"Newington<br>\\u041e\\u0442\\u0435\\u043b\\u0435\\u0439: 1\",\"Newport<br>\\u041e\\u0442\\u0435\\u043b\\u0435\\u0439: 1\",\"Newport News<br>\\u041e\\u0442\\u0435\\u043b\\u0435\\u0439: 3\",\"Niagara Falls<br>\\u041e\\u0442\\u0435\\u043b\\u0435\\u0439: 1\",\"Niantic<br>\\u041e\\u0442\\u0435\\u043b\\u0435\\u0439: 1\",\"Niceville<br>\\u041e\\u0442\\u0435\\u043b\\u0435\\u0439: 1\",\"Norcross<br>\\u041e\\u0442\\u0435\\u043b\\u0435\\u0439: 1\",\"Norfolk<br>\\u041e\\u0442\\u0435\\u043b\\u0435\\u0439: 5\",\"Normal<br>\\u041e\\u0442\\u0435\\u043b\\u0435\\u0439: 1\",\"North Dartmouth<br>\\u041e\\u0442\\u0435\\u043b\\u0435\\u0439: 1\",\"North Las Vegas<br>\\u041e\\u0442\\u0435\\u043b\\u0435\\u0439: 1\",\"North Platte<br>\\u041e\\u0442\\u0435\\u043b\\u0435\\u0439: 1\",\"North Wales<br>\\u041e\\u0442\\u0435\\u043b\\u0435\\u0439: 1\",\"Northwood<br>\\u041e\\u0442\\u0435\\u043b\\u0435\\u0439: 1\",\"Norwalk<br>\\u041e\\u0442\\u0435\\u043b\\u0435\\u0439: 1\",\"Norwood<br>\\u041e\\u0442\\u0435\\u043b\\u0435\\u0439: 1\",\"Nottingham<br>\\u041e\\u0442\\u0435\\u043b\\u0435\\u0439: 2\",\"Oakland<br>\\u041e\\u0442\\u0435\\u043b\\u0435\\u0439: 1\",\"Ocean Shores<br>\\u041e\\u0442\\u0435\\u043b\\u0435\\u0439: 1\",\"Odessa<br>\\u041e\\u0442\\u0435\\u043b\\u0435\\u0439: 1\",\"Ogunquit<br>\\u041e\\u0442\\u0435\\u043b\\u0435\\u0439: 1\",\"Ojai<br>\\u041e\\u0442\\u0435\\u043b\\u0435\\u0439: 3\",\"Okeechobee<br>\\u041e\\u0442\\u0435\\u043b\\u0435\\u0439: 1\",\"Oklahoma City<br>\\u041e\\u0442\\u0435\\u043b\\u0435\\u0439: 11\",\"Old Forge<br>\\u041e\\u0442\\u0435\\u043b\\u0435\\u0439: 1\",\"Old Orchard Beach<br>\\u041e\\u0442\\u0435\\u043b\\u0435\\u0439: 5\",\"Oldsmar<br>\\u041e\\u0442\\u0435\\u043b\\u0435\\u0439: 1\",\"Olympia<br>\\u041e\\u0442\\u0435\\u043b\\u0435\\u0439: 1\",\"Omaha<br>\\u041e\\u0442\\u0435\\u043b\\u0435\\u0439: 5\",\"Onalaska<br>\\u041e\\u0442\\u0435\\u043b\\u0435\\u0439: 1\",\"Ontario<br>\\u041e\\u0442\\u0435\\u043b\\u0435\\u0439: 1\",\"Orange<br>\\u041e\\u0442\\u0435\\u043b\\u0435\\u0439: 1\",\"Orange City<br>\\u041e\\u0442\\u0435\\u043b\\u0435\\u0439: 2\",\"Orangeburg<br>\\u041e\\u0442\\u0435\\u043b\\u0435\\u0439: 1\",\"Orlando<br>\\u041e\\u0442\\u0435\\u043b\\u0435\\u0439: 9\",\"Ormond Beach<br>\\u041e\\u0442\\u0435\\u043b\\u0435\\u0439: 2\",\"Osawatomie<br>\\u041e\\u0442\\u0435\\u043b\\u0435\\u0439: 1\",\"Oshkosh<br>\\u041e\\u0442\\u0435\\u043b\\u0435\\u0439: 1\",\"Oxford<br>\\u041e\\u0442\\u0435\\u043b\\u0435\\u0439: 2\",\"Oxon Hill<br>\\u041e\\u0442\\u0435\\u043b\\u0435\\u0439: 1\",\"Palestine<br>\\u041e\\u0442\\u0435\\u043b\\u0435\\u0439: 1\",\"Palm Beach<br>\\u041e\\u0442\\u0435\\u043b\\u0435\\u0439: 1\",\"Palm Springs<br>\\u041e\\u0442\\u0435\\u043b\\u0435\\u0439: 2\",\"Palo Alto<br>\\u041e\\u0442\\u0435\\u043b\\u0435\\u0439: 1\",\"Panama City<br>\\u041e\\u0442\\u0435\\u043b\\u0435\\u0439: 1\",\"Panama City Beach<br>\\u041e\\u0442\\u0435\\u043b\\u0435\\u0439: 1\",\"Panguitch<br>\\u041e\\u0442\\u0435\\u043b\\u0435\\u0439: 1\",\"Panhandle<br>\\u041e\\u0442\\u0435\\u043b\\u0435\\u0439: 1\",\"Paola<br>\\u041e\\u0442\\u0435\\u043b\\u0435\\u0439: 1\",\"Park City<br>\\u041e\\u0442\\u0435\\u043b\\u0435\\u0439: 1\",\"Pasadena<br>\\u041e\\u0442\\u0435\\u043b\\u0435\\u0439: 2\",\"Pasco<br>\\u041e\\u0442\\u0435\\u043b\\u0435\\u0439: 1\",\"Paso Robles<br>\\u041e\\u0442\\u0435\\u043b\\u0435\\u0439: 1\",\"Paxton<br>\\u041e\\u0442\\u0435\\u043b\\u0435\\u0439: 1\",\"Peabody<br>\\u041e\\u0442\\u0435\\u043b\\u0435\\u0439: 1\",\"Pebble Beach<br>\\u041e\\u0442\\u0435\\u043b\\u0435\\u0439: 1\",\"Pecos<br>\\u041e\\u0442\\u0435\\u043b\\u0435\\u0439: 1\",\"Pendleton<br>\\u041e\\u0442\\u0435\\u043b\\u0435\\u0439: 1\",\"Pensacola<br>\\u041e\\u0442\\u0435\\u043b\\u0435\\u0439: 2\",\"Peoria<br>\\u041e\\u0442\\u0435\\u043b\\u0435\\u0439: 1\",\"Perry<br>\\u041e\\u0442\\u0435\\u043b\\u0435\\u0439: 3\",\"Peru<br>\\u041e\\u0442\\u0435\\u043b\\u0435\\u0439: 1\",\"Petoskey<br>\\u041e\\u0442\\u0435\\u043b\\u0435\\u0439: 1\",\"Philadelphia<br>\\u041e\\u0442\\u0435\\u043b\\u0435\\u0439: 3\",\"Phoenix<br>\\u041e\\u0442\\u0435\\u043b\\u0435\\u0439: 10\",\"Phoenixville<br>\\u041e\\u0442\\u0435\\u043b\\u0435\\u0439: 1\",\"Pigeon Forge<br>\\u041e\\u0442\\u0435\\u043b\\u0435\\u0439: 3\",\"Pinckneyville<br>\\u041e\\u0442\\u0435\\u043b\\u0435\\u0439: 1\",\"Pinedale<br>\\u041e\\u0442\\u0435\\u043b\\u0435\\u0439: 1\",\"Pinetop<br>\\u041e\\u0442\\u0435\\u043b\\u0435\\u0439: 2\",\"Pineville<br>\\u041e\\u0442\\u0435\\u043b\\u0435\\u0439: 2\",\"Pismo Beach<br>\\u041e\\u0442\\u0435\\u043b\\u0435\\u0439: 2\",\"Pittsburg<br>\\u041e\\u0442\\u0435\\u043b\\u0435\\u0439: 1\",\"Pittsburgh<br>\\u041e\\u0442\\u0435\\u043b\\u0435\\u0439: 4\",\"Pittston<br>\\u041e\\u0442\\u0435\\u043b\\u0435\\u0439: 1\",\"Plainview<br>\\u041e\\u0442\\u0435\\u043b\\u0435\\u0439: 1\",\"Plano<br>\\u041e\\u0442\\u0435\\u043b\\u0435\\u0439: 2\",\"Platte City<br>\\u041e\\u0442\\u0435\\u043b\\u0435\\u0439: 1\",\"Pleasanton<br>\\u041e\\u0442\\u0435\\u043b\\u0435\\u0439: 1\",\"Plymouth Meeting<br>\\u041e\\u0442\\u0435\\u043b\\u0435\\u0439: 1\",\"Port Allegany<br>\\u041e\\u0442\\u0435\\u043b\\u0435\\u0439: 1\",\"Port Allen<br>\\u041e\\u0442\\u0435\\u043b\\u0435\\u0439: 1\",\"Port Aransas<br>\\u041e\\u0442\\u0435\\u043b\\u0435\\u0439: 2\",\"Port Arthur<br>\\u041e\\u0442\\u0435\\u043b\\u0435\\u0439: 1\",\"Port Clyde<br>\\u041e\\u0442\\u0435\\u043b\\u0435\\u0439: 1\",\"Port Richey<br>\\u041e\\u0442\\u0435\\u043b\\u0435\\u0439: 1\",\"Port Royal<br>\\u041e\\u0442\\u0435\\u043b\\u0435\\u0439: 1\",\"Portage<br>\\u041e\\u0442\\u0435\\u043b\\u0435\\u0439: 2\",\"Portland<br>\\u041e\\u0442\\u0435\\u043b\\u0435\\u0439: 10\",\"Portsmouth<br>\\u041e\\u0442\\u0435\\u043b\\u0435\\u0439: 1\",\"Post Falls<br>\\u041e\\u0442\\u0435\\u043b\\u0435\\u0439: 1\",\"Prairie du Chien<br>\\u041e\\u0442\\u0435\\u043b\\u0435\\u0439: 2\",\"Prairieville<br>\\u041e\\u0442\\u0435\\u043b\\u0435\\u0439: 1\",\"Prescott<br>\\u041e\\u0442\\u0435\\u043b\\u0435\\u0439: 1\",\"Prince Frederick<br>\\u041e\\u0442\\u0435\\u043b\\u0435\\u0439: 1\",\"Princeton<br>\\u041e\\u0442\\u0435\\u043b\\u0435\\u0439: 2\",\"Prosser<br>\\u041e\\u0442\\u0435\\u043b\\u0435\\u0439: 1\",\"Pryor<br>\\u041e\\u0442\\u0435\\u043b\\u0435\\u0439: 1\",\"Pueblo<br>\\u041e\\u0442\\u0435\\u043b\\u0435\\u0439: 1\",\"Pullman<br>\\u041e\\u0442\\u0435\\u043b\\u0435\\u0439: 1\",\"Punta Gorda<br>\\u041e\\u0442\\u0435\\u043b\\u0435\\u0439: 1\",\"Puyallup<br>\\u041e\\u0442\\u0435\\u043b\\u0435\\u0439: 1\",\"Radford<br>\\u041e\\u0442\\u0435\\u043b\\u0435\\u0439: 1\",\"Rahway<br>\\u041e\\u0442\\u0435\\u043b\\u0435\\u0439: 1\",\"Raleigh<br>\\u041e\\u0442\\u0435\\u043b\\u0435\\u0439: 1\",\"Ramsey<br>\\u041e\\u0442\\u0435\\u043b\\u0435\\u0439: 1\",\"Rancho Cucamonga<br>\\u041e\\u0442\\u0435\\u043b\\u0435\\u0439: 1\",\"Rancho Santa Fe<br>\\u041e\\u0442\\u0435\\u043b\\u0435\\u0439: 1\",\"Random Lake<br>\\u041e\\u0442\\u0435\\u043b\\u0435\\u0439: 1\",\"Rantoul<br>\\u041e\\u0442\\u0435\\u043b\\u0435\\u0439: 1\",\"Raton<br>\\u041e\\u0442\\u0435\\u043b\\u0435\\u0439: 1\",\"Reading<br>\\u041e\\u0442\\u0435\\u043b\\u0435\\u0439: 2\",\"Red Bluff<br>\\u041e\\u0442\\u0435\\u043b\\u0435\\u0439: 1\",\"Red Feather Lakes<br>\\u041e\\u0442\\u0435\\u043b\\u0435\\u0439: 1\",\"Red River<br>\\u041e\\u0442\\u0435\\u043b\\u0435\\u0439: 3\",\"Redmond<br>\\u041e\\u0442\\u0435\\u043b\\u0435\\u0439: 2\",\"Renton<br>\\u041e\\u0442\\u0435\\u043b\\u0435\\u0439: 1\",\"Republic<br>\\u041e\\u0442\\u0435\\u043b\\u0435\\u0439: 1\",\"Reynoldsburg<br>\\u041e\\u0442\\u0435\\u043b\\u0435\\u0439: 1\",\"Rhinelander<br>\\u041e\\u0442\\u0435\\u043b\\u0435\\u0439: 1\",\"Rialto<br>\\u041e\\u0442\\u0435\\u043b\\u0435\\u0439: 1\",\"Richardson<br>\\u041e\\u0442\\u0435\\u043b\\u0435\\u0439: 1\",\"Richford<br>\\u041e\\u0442\\u0435\\u043b\\u0435\\u0439: 1\",\"Richland<br>\\u041e\\u0442\\u0435\\u043b\\u0435\\u0439: 1\",\"Richmond<br>\\u041e\\u0442\\u0435\\u043b\\u0435\\u0439: 4\",\"Ridgecrest<br>\\u041e\\u0442\\u0435\\u043b\\u0435\\u0439: 1\",\"Ripton<br>\\u041e\\u0442\\u0435\\u043b\\u0435\\u0439: 1\",\"Riverside<br>\\u041e\\u0442\\u0435\\u043b\\u0435\\u0439: 1\",\"Roanoke<br>\\u041e\\u0442\\u0435\\u043b\\u0435\\u0439: 2\",\"Rochester<br>\\u041e\\u0442\\u0435\\u043b\\u0435\\u0439: 3\",\"Rockaway Beach<br>\\u041e\\u0442\\u0435\\u043b\\u0435\\u0439: 1\",\"Rockford<br>\\u041e\\u0442\\u0435\\u043b\\u0435\\u0439: 3\",\"Rockland<br>\\u041e\\u0442\\u0435\\u043b\\u0435\\u0439: 1\",\"Rocky Mount<br>\\u041e\\u0442\\u0435\\u043b\\u0435\\u0439: 1\",\"Ronks<br>\\u041e\\u0442\\u0435\\u043b\\u0435\\u0439: 1\",\"Rosemead<br>\\u041e\\u0442\\u0435\\u043b\\u0435\\u0439: 1\",\"Rufus<br>\\u041e\\u0442\\u0435\\u043b\\u0435\\u0439: 1\",\"Ruidoso<br>\\u041e\\u0442\\u0435\\u043b\\u0435\\u0439: 1\",\"Rush City<br>\\u041e\\u0442\\u0435\\u043b\\u0435\\u0439: 1\",\"Russell<br>\\u041e\\u0442\\u0435\\u043b\\u0435\\u0439: 1\",\"Saco<br>\\u041e\\u0442\\u0435\\u043b\\u0435\\u0439: 2\",\"Sacramento<br>\\u041e\\u0442\\u0435\\u043b\\u0435\\u0439: 2\",\"Safford<br>\\u041e\\u0442\\u0435\\u043b\\u0435\\u0439: 1\",\"Saginaw<br>\\u041e\\u0442\\u0435\\u043b\\u0435\\u0439: 1\",\"Saint Cloud<br>\\u041e\\u0442\\u0435\\u043b\\u0435\\u0439: 1\",\"Saint Ignace<br>\\u041e\\u0442\\u0435\\u043b\\u0435\\u0439: 1\",\"Saint Louis<br>\\u041e\\u0442\\u0435\\u043b\\u0435\\u0439: 9\",\"Saint Marys<br>\\u041e\\u0442\\u0435\\u043b\\u0435\\u0439: 1\",\"Salem<br>\\u041e\\u0442\\u0435\\u043b\\u0435\\u0439: 3\",\"Salina<br>\\u041e\\u0442\\u0435\\u043b\\u0435\\u0439: 2\",\"San Antonio<br>\\u041e\\u0442\\u0435\\u043b\\u0435\\u0439: 7\",\"San Diego<br>\\u041e\\u0442\\u0435\\u043b\\u0435\\u0439: 9\",\"San Francisco<br>\\u041e\\u0442\\u0435\\u043b\\u0435\\u0439: 8\",\"San Jose<br>\\u041e\\u0442\\u0435\\u043b\\u0435\\u0439: 3\",\"San Luis Obispo<br>\\u041e\\u0442\\u0435\\u043b\\u0435\\u0439: 4\",\"San Marcos<br>\\u041e\\u0442\\u0435\\u043b\\u0435\\u0439: 1\",\"San Patricio<br>\\u041e\\u0442\\u0435\\u043b\\u0435\\u0439: 1\",\"San Ramon<br>\\u041e\\u0442\\u0435\\u043b\\u0435\\u0439: 1\",\"Sandston<br>\\u041e\\u0442\\u0435\\u043b\\u0435\\u0439: 1\",\"Sanibel<br>\\u041e\\u0442\\u0435\\u043b\\u0435\\u0439: 1\",\"Santa Barbara<br>\\u041e\\u0442\\u0435\\u043b\\u0435\\u0439: 4\",\"Santa Fe<br>\\u041e\\u0442\\u0435\\u043b\\u0435\\u0439: 3\",\"Santa Monica<br>\\u041e\\u0442\\u0435\\u043b\\u0435\\u0439: 3\",\"Santa Rosa<br>\\u041e\\u0442\\u0435\\u043b\\u0435\\u0439: 1\",\"Sarasota<br>\\u041e\\u0442\\u0435\\u043b\\u0435\\u0439: 2\",\"Sausalito<br>\\u041e\\u0442\\u0435\\u043b\\u0435\\u0439: 2\",\"Savanna<br>\\u041e\\u0442\\u0435\\u043b\\u0435\\u0439: 1\",\"Savannah<br>\\u041e\\u0442\\u0435\\u043b\\u0435\\u0439: 5\",\"Schellsburg<br>\\u041e\\u0442\\u0435\\u043b\\u0435\\u0439: 1\",\"Schiller Park<br>\\u041e\\u0442\\u0435\\u043b\\u0435\\u0439: 1\",\"Scottsdale<br>\\u041e\\u0442\\u0435\\u043b\\u0435\\u0439: 2\",\"Scranton<br>\\u041e\\u0442\\u0435\\u043b\\u0435\\u0439: 1\",\"Searcy<br>\\u041e\\u0442\\u0435\\u043b\\u0435\\u0439: 1\",\"Seattle<br>\\u041e\\u0442\\u0435\\u043b\\u0435\\u0439: 9\",\"Secaucus<br>\\u041e\\u0442\\u0435\\u043b\\u0435\\u0439: 2\",\"Sedona<br>\\u041e\\u0442\\u0435\\u043b\\u0435\\u0439: 3\",\"Sequim<br>\\u041e\\u0442\\u0435\\u043b\\u0435\\u0439: 1\",\"Sevierville<br>\\u041e\\u0442\\u0435\\u043b\\u0435\\u0439: 1\",\"Seward<br>\\u041e\\u0442\\u0435\\u043b\\u0435\\u0439: 1\",\"Shamrock<br>\\u041e\\u0442\\u0435\\u043b\\u0435\\u0439: 1\",\"Sheboygan<br>\\u041e\\u0442\\u0435\\u043b\\u0435\\u0439: 1\",\"Shelbyville<br>\\u041e\\u0442\\u0435\\u043b\\u0435\\u0439: 1\",\"Shell<br>\\u041e\\u0442\\u0435\\u043b\\u0435\\u0439: 1\",\"Sidney<br>\\u041e\\u0442\\u0435\\u043b\\u0435\\u0439: 1\",\"Sikeston<br>\\u041e\\u0442\\u0435\\u043b\\u0435\\u0439: 2\",\"Silver Spring<br>\\u041e\\u0442\\u0435\\u043b\\u0435\\u0439: 1\",\"Silverdale<br>\\u041e\\u0442\\u0435\\u043b\\u0435\\u0439: 1\",\"Silverton<br>\\u041e\\u0442\\u0435\\u043b\\u0435\\u0439: 1\",\"Simpsonville<br>\\u041e\\u0442\\u0435\\u043b\\u0435\\u0439: 1\",\"Sioux City<br>\\u041e\\u0442\\u0435\\u043b\\u0435\\u0439: 2\",\"Sioux Falls<br>\\u041e\\u0442\\u0435\\u043b\\u0435\\u0439: 4\",\"Sister Bay<br>\\u041e\\u0442\\u0435\\u043b\\u0435\\u0439: 2\",\"Slate Run<br>\\u041e\\u0442\\u0435\\u043b\\u0435\\u0439: 1\",\"Smyrna<br>\\u041e\\u0442\\u0435\\u043b\\u0435\\u0439: 1\",\"Solvang<br>\\u041e\\u0442\\u0435\\u043b\\u0435\\u0439: 1\",\"Somerset<br>\\u041e\\u0442\\u0435\\u043b\\u0435\\u0439: 1\",\"South Haven<br>\\u041e\\u0442\\u0435\\u043b\\u0435\\u0439: 1\",\"South Lake Tahoe<br>\\u041e\\u0442\\u0435\\u043b\\u0435\\u0439: 3\",\"Southaven<br>\\u041e\\u0442\\u0435\\u043b\\u0435\\u0439: 1\",\"Southfield<br>\\u041e\\u0442\\u0435\\u043b\\u0435\\u0439: 1\",\"Spartanburg<br>\\u041e\\u0442\\u0435\\u043b\\u0435\\u0439: 2\",\"Spearfish<br>\\u041e\\u0442\\u0435\\u043b\\u0435\\u0439: 1\",\"Speculator<br>\\u041e\\u0442\\u0435\\u043b\\u0435\\u0439: 1\",\"Spokane<br>\\u041e\\u0442\\u0435\\u043b\\u0435\\u0439: 1\",\"Springdale<br>\\u041e\\u0442\\u0435\\u043b\\u0435\\u0439: 1\",\"Springfield<br>\\u041e\\u0442\\u0435\\u043b\\u0435\\u0439: 12\",\"Suffolk<br>\\u041e\\u0442\\u0435\\u043b\\u0435\\u0439: 3\",\"Sugar Land<br>\\u041e\\u0442\\u0435\\u043b\\u0435\\u0439: 1\",\"Suitland<br>\\u041e\\u0442\\u0435\\u043b\\u0435\\u0439: 1\",\"Sulphur<br>\\u041e\\u0442\\u0435\\u043b\\u0435\\u0439: 2\",\"Summerville<br>\\u041e\\u0442\\u0435\\u043b\\u0435\\u0439: 1\",\"Sunnyvale<br>\\u041e\\u0442\\u0435\\u043b\\u0435\\u0439: 2\",\"Superior<br>\\u041e\\u0442\\u0435\\u043b\\u0435\\u0439: 1\",\"Sutter Creek<br>\\u041e\\u0442\\u0435\\u043b\\u0435\\u0439: 1\",\"Tacoma<br>\\u041e\\u0442\\u0435\\u043b\\u0435\\u0439: 1\",\"Tallahassee<br>\\u041e\\u0442\\u0435\\u043b\\u0435\\u0439: 4\",\"Tampa<br>\\u041e\\u0442\\u0435\\u043b\\u0435\\u0439: 7\",\"Tarzana<br>\\u041e\\u0442\\u0435\\u043b\\u0435\\u0439: 1\",\"Tavares<br>\\u041e\\u0442\\u0435\\u043b\\u0435\\u0439: 1\",\"Temecula<br>\\u041e\\u0442\\u0435\\u043b\\u0435\\u0439: 2\",\"Texarkana<br>\\u041e\\u0442\\u0435\\u043b\\u0435\\u0439: 4\",\"Thorp<br>\\u041e\\u0442\\u0435\\u043b\\u0435\\u0439: 1\",\"Tidioute<br>\\u041e\\u0442\\u0435\\u043b\\u0435\\u0439: 1\",\"Titusville<br>\\u041e\\u0442\\u0435\\u043b\\u0435\\u0439: 2\",\"Tokeland<br>\\u041e\\u0442\\u0435\\u043b\\u0435\\u0439: 1\",\"Tolleson<br>\\u041e\\u0442\\u0435\\u043b\\u0435\\u0439: 1\",\"Tomah<br>\\u041e\\u0442\\u0435\\u043b\\u0435\\u0439: 2\",\"Topping<br>\\u041e\\u0442\\u0435\\u043b\\u0435\\u0439: 1\",\"Tracy<br>\\u041e\\u0442\\u0435\\u043b\\u0435\\u0439: 2\",\"Traverse City<br>\\u041e\\u0442\\u0435\\u043b\\u0435\\u0439: 1\",\"Trinidad<br>\\u041e\\u0442\\u0435\\u043b\\u0435\\u0439: 1\",\"Troy<br>\\u041e\\u0442\\u0435\\u043b\\u0435\\u0439: 1\",\"Truro<br>\\u041e\\u0442\\u0435\\u043b\\u0435\\u0439: 1\",\"Tualatin<br>\\u041e\\u0442\\u0435\\u043b\\u0435\\u0439: 1\",\"Tucson<br>\\u041e\\u0442\\u0435\\u043b\\u0435\\u0439: 1\",\"Tullahoma<br>\\u041e\\u0442\\u0435\\u043b\\u0435\\u0439: 1\",\"Tulsa<br>\\u041e\\u0442\\u0435\\u043b\\u0435\\u0439: 6\",\"Tupelo<br>\\u041e\\u0442\\u0435\\u043b\\u0435\\u0439: 2\",\"Tupper Lake<br>\\u041e\\u0442\\u0435\\u043b\\u0435\\u0439: 1\",\"Twentynine Palms<br>\\u041e\\u0442\\u0435\\u043b\\u0435\\u0439: 1\",\"Twin Mountain<br>\\u041e\\u0442\\u0435\\u043b\\u0435\\u0439: 1\",\"Tybee Island<br>\\u041e\\u0442\\u0435\\u043b\\u0435\\u0439: 1\",\"Tyler<br>\\u041e\\u0442\\u0435\\u043b\\u0435\\u0439: 3\",\"Ukiah<br>\\u041e\\u0442\\u0435\\u043b\\u0435\\u0439: 1\",\"Union City<br>\\u041e\\u0442\\u0435\\u043b\\u0435\\u0439: 1\",\"Union Dale<br>\\u041e\\u0442\\u0435\\u043b\\u0435\\u0439: 1\",\"Urbana<br>\\u041e\\u0442\\u0435\\u043b\\u0435\\u0439: 4\",\"Vail<br>\\u041e\\u0442\\u0435\\u043b\\u0435\\u0439: 2\",\"Valencia<br>\\u041e\\u0442\\u0435\\u043b\\u0435\\u0439: 2\",\"Vallejo<br>\\u041e\\u0442\\u0435\\u043b\\u0435\\u0439: 1\",\"Van Buren<br>\\u041e\\u0442\\u0435\\u043b\\u0435\\u0439: 1\",\"Vancouver<br>\\u041e\\u0442\\u0435\\u043b\\u0435\\u0439: 2\",\"Vandalia<br>\\u041e\\u0442\\u0435\\u043b\\u0435\\u0439: 1\",\"Verona<br>\\u041e\\u0442\\u0435\\u043b\\u0435\\u0439: 1\",\"Victor<br>\\u041e\\u0442\\u0435\\u043b\\u0435\\u0439: 1\",\"Vienna<br>\\u041e\\u0442\\u0435\\u043b\\u0435\\u0439: 1\",\"Vineland<br>\\u041e\\u0442\\u0435\\u043b\\u0435\\u0439: 1\",\"Vinton<br>\\u041e\\u0442\\u0435\\u043b\\u0435\\u0439: 1\",\"Virginia Beach<br>\\u041e\\u0442\\u0435\\u043b\\u0435\\u0439: 11\",\"Vista<br>\\u041e\\u0442\\u0435\\u043b\\u0435\\u0439: 1\",\"Waco<br>\\u041e\\u0442\\u0435\\u043b\\u0435\\u0439: 1\",\"Waldorf<br>\\u041e\\u0442\\u0435\\u043b\\u0435\\u0439: 1\",\"Wall<br>\\u041e\\u0442\\u0435\\u043b\\u0435\\u0439: 1\",\"Walla Walla<br>\\u041e\\u0442\\u0435\\u043b\\u0435\\u0439: 1\",\"Wallace<br>\\u041e\\u0442\\u0435\\u043b\\u0435\\u0439: 1\",\"Walterboro<br>\\u041e\\u0442\\u0435\\u043b\\u0435\\u0439: 1\",\"Waltham<br>\\u041e\\u0442\\u0435\\u043b\\u0435\\u0439: 1\",\"Wapakoneta<br>\\u041e\\u0442\\u0435\\u043b\\u0435\\u0439: 1\",\"Warner Robins<br>\\u041e\\u0442\\u0435\\u043b\\u0435\\u0439: 1\",\"Washington<br>\\u041e\\u0442\\u0435\\u043b\\u0435\\u0439: 1\",\"Watertown<br>\\u041e\\u0442\\u0435\\u043b\\u0435\\u0439: 1\",\"Waterville Valley<br>\\u041e\\u0442\\u0435\\u043b\\u0435\\u0439: 1\",\"Wauchula<br>\\u041e\\u0442\\u0435\\u043b\\u0435\\u0439: 1\",\"Weatherford<br>\\u041e\\u0442\\u0435\\u043b\\u0435\\u0439: 1\",\"Webster<br>\\u041e\\u0442\\u0435\\u043b\\u0435\\u0439: 1\",\"Welches<br>\\u041e\\u0442\\u0435\\u043b\\u0435\\u0439: 1\",\"West Chester<br>\\u041e\\u0442\\u0435\\u043b\\u0435\\u0439: 1\",\"West Des Moines<br>\\u041e\\u0442\\u0435\\u043b\\u0435\\u0439: 1\",\"West Fargo<br>\\u041e\\u0442\\u0435\\u043b\\u0435\\u0439: 1\",\"West Hollywood<br>\\u041e\\u0442\\u0435\\u043b\\u0435\\u0439: 2\",\"West Middlesex<br>\\u041e\\u0442\\u0435\\u043b\\u0435\\u0439: 1\",\"West Palm Beach<br>\\u041e\\u0442\\u0435\\u043b\\u0435\\u0439: 3\",\"West Springfield<br>\\u041e\\u0442\\u0435\\u043b\\u0435\\u0439: 2\",\"Westbury<br>\\u041e\\u0442\\u0435\\u043b\\u0435\\u0439: 2\",\"Westfield<br>\\u041e\\u0442\\u0435\\u043b\\u0435\\u0439: 2\",\"Westmont<br>\\u041e\\u0442\\u0435\\u043b\\u0435\\u0439: 1\",\"Westport<br>\\u041e\\u0442\\u0435\\u043b\\u0435\\u0439: 2\",\"Wheelersburg<br>\\u041e\\u0442\\u0435\\u043b\\u0435\\u0439: 1\",\"Whippany<br>\\u041e\\u0442\\u0435\\u043b\\u0435\\u0439: 1\",\"White Haven<br>\\u041e\\u0442\\u0435\\u043b\\u0435\\u0439: 1\",\"White House<br>\\u041e\\u0442\\u0435\\u043b\\u0435\\u0439: 1\",\"Wichita<br>\\u041e\\u0442\\u0435\\u043b\\u0435\\u0439: 2\",\"Wickenburg<br>\\u041e\\u0442\\u0435\\u043b\\u0435\\u0439: 1\",\"Wilbraham<br>\\u041e\\u0442\\u0435\\u043b\\u0435\\u0439: 1\",\"Wilburton<br>\\u041e\\u0442\\u0435\\u043b\\u0435\\u0439: 1\",\"Williams<br>\\u041e\\u0442\\u0435\\u043b\\u0435\\u0439: 1\",\"Williamsburg<br>\\u041e\\u0442\\u0435\\u043b\\u0435\\u0439: 4\",\"Williamsport<br>\\u041e\\u0442\\u0435\\u043b\\u0435\\u0439: 1\",\"Williston<br>\\u041e\\u0442\\u0435\\u043b\\u0435\\u0439: 1\",\"Willits<br>\\u041e\\u0442\\u0435\\u043b\\u0435\\u0439: 1\",\"Wilmington<br>\\u041e\\u0442\\u0435\\u043b\\u0435\\u0439: 1\",\"Winchester<br>\\u041e\\u0442\\u0435\\u043b\\u0435\\u0439: 1\",\"Windham<br>\\u041e\\u0442\\u0435\\u043b\\u0435\\u0439: 1\",\"Windsor<br>\\u041e\\u0442\\u0435\\u043b\\u0435\\u0439: 1\",\"Winfield<br>\\u041e\\u0442\\u0435\\u043b\\u0435\\u0439: 1\",\"Winnfield<br>\\u041e\\u0442\\u0435\\u043b\\u0435\\u0439: 1\",\"Wisconsin Dells<br>\\u041e\\u0442\\u0435\\u043b\\u0435\\u0439: 9\",\"Woburn<br>\\u041e\\u0442\\u0435\\u043b\\u0435\\u0439: 1\",\"Woodbridge<br>\\u041e\\u0442\\u0435\\u043b\\u0435\\u0439: 1\",\"Woodstock<br>\\u041e\\u0442\\u0435\\u043b\\u0435\\u0439: 2\",\"Wytheville<br>\\u041e\\u0442\\u0435\\u043b\\u0435\\u0439: 3\",\"Yachats<br>\\u041e\\u0442\\u0435\\u043b\\u0435\\u0439: 1\",\"Yakutat<br>\\u041e\\u0442\\u0435\\u043b\\u0435\\u0439: 1\",\"Yellow Springs<br>\\u041e\\u0442\\u0435\\u043b\\u0435\\u0439: 1\",\"York<br>\\u041e\\u0442\\u0435\\u043b\\u0435\\u0439: 1\",\"Youngstown<br>\\u041e\\u0442\\u0435\\u043b\\u0435\\u0439: 1\",\"Yountville<br>\\u041e\\u0442\\u0435\\u043b\\u0435\\u0439: 1\",\"Yuba City<br>\\u041e\\u0442\\u0435\\u043b\\u0435\\u0439: 1\",\"Yuma<br>\\u041e\\u0442\\u0435\\u043b\\u0435\\u0439: 2\"],\"type\":\"scattermapbox\"}],                        {\"template\":{\"data\":{\"bar\":[{\"error_x\":{\"color\":\"#2a3f5f\"},\"error_y\":{\"color\":\"#2a3f5f\"},\"marker\":{\"line\":{\"color\":\"#E5ECF6\",\"width\":0.5},\"pattern\":{\"fillmode\":\"overlay\",\"size\":10,\"solidity\":0.2}},\"type\":\"bar\"}],\"barpolar\":[{\"marker\":{\"line\":{\"color\":\"#E5ECF6\",\"width\":0.5},\"pattern\":{\"fillmode\":\"overlay\",\"size\":10,\"solidity\":0.2}},\"type\":\"barpolar\"}],\"carpet\":[{\"aaxis\":{\"endlinecolor\":\"#2a3f5f\",\"gridcolor\":\"white\",\"linecolor\":\"white\",\"minorgridcolor\":\"white\",\"startlinecolor\":\"#2a3f5f\"},\"baxis\":{\"endlinecolor\":\"#2a3f5f\",\"gridcolor\":\"white\",\"linecolor\":\"white\",\"minorgridcolor\":\"white\",\"startlinecolor\":\"#2a3f5f\"},\"type\":\"carpet\"}],\"choropleth\":[{\"colorbar\":{\"outlinewidth\":0,\"ticks\":\"\"},\"type\":\"choropleth\"}],\"contour\":[{\"colorbar\":{\"outlinewidth\":0,\"ticks\":\"\"},\"colorscale\":[[0.0,\"#0d0887\"],[0.1111111111111111,\"#46039f\"],[0.2222222222222222,\"#7201a8\"],[0.3333333333333333,\"#9c179e\"],[0.4444444444444444,\"#bd3786\"],[0.5555555555555556,\"#d8576b\"],[0.6666666666666666,\"#ed7953\"],[0.7777777777777778,\"#fb9f3a\"],[0.8888888888888888,\"#fdca26\"],[1.0,\"#f0f921\"]],\"type\":\"contour\"}],\"contourcarpet\":[{\"colorbar\":{\"outlinewidth\":0,\"ticks\":\"\"},\"type\":\"contourcarpet\"}],\"heatmap\":[{\"colorbar\":{\"outlinewidth\":0,\"ticks\":\"\"},\"colorscale\":[[0.0,\"#0d0887\"],[0.1111111111111111,\"#46039f\"],[0.2222222222222222,\"#7201a8\"],[0.3333333333333333,\"#9c179e\"],[0.4444444444444444,\"#bd3786\"],[0.5555555555555556,\"#d8576b\"],[0.6666666666666666,\"#ed7953\"],[0.7777777777777778,\"#fb9f3a\"],[0.8888888888888888,\"#fdca26\"],[1.0,\"#f0f921\"]],\"type\":\"heatmap\"}],\"heatmapgl\":[{\"colorbar\":{\"outlinewidth\":0,\"ticks\":\"\"},\"colorscale\":[[0.0,\"#0d0887\"],[0.1111111111111111,\"#46039f\"],[0.2222222222222222,\"#7201a8\"],[0.3333333333333333,\"#9c179e\"],[0.4444444444444444,\"#bd3786\"],[0.5555555555555556,\"#d8576b\"],[0.6666666666666666,\"#ed7953\"],[0.7777777777777778,\"#fb9f3a\"],[0.8888888888888888,\"#fdca26\"],[1.0,\"#f0f921\"]],\"type\":\"heatmapgl\"}],\"histogram\":[{\"marker\":{\"pattern\":{\"fillmode\":\"overlay\",\"size\":10,\"solidity\":0.2}},\"type\":\"histogram\"}],\"histogram2d\":[{\"colorbar\":{\"outlinewidth\":0,\"ticks\":\"\"},\"colorscale\":[[0.0,\"#0d0887\"],[0.1111111111111111,\"#46039f\"],[0.2222222222222222,\"#7201a8\"],[0.3333333333333333,\"#9c179e\"],[0.4444444444444444,\"#bd3786\"],[0.5555555555555556,\"#d8576b\"],[0.6666666666666666,\"#ed7953\"],[0.7777777777777778,\"#fb9f3a\"],[0.8888888888888888,\"#fdca26\"],[1.0,\"#f0f921\"]],\"type\":\"histogram2d\"}],\"histogram2dcontour\":[{\"colorbar\":{\"outlinewidth\":0,\"ticks\":\"\"},\"colorscale\":[[0.0,\"#0d0887\"],[0.1111111111111111,\"#46039f\"],[0.2222222222222222,\"#7201a8\"],[0.3333333333333333,\"#9c179e\"],[0.4444444444444444,\"#bd3786\"],[0.5555555555555556,\"#d8576b\"],[0.6666666666666666,\"#ed7953\"],[0.7777777777777778,\"#fb9f3a\"],[0.8888888888888888,\"#fdca26\"],[1.0,\"#f0f921\"]],\"type\":\"histogram2dcontour\"}],\"mesh3d\":[{\"colorbar\":{\"outlinewidth\":0,\"ticks\":\"\"},\"type\":\"mesh3d\"}],\"parcoords\":[{\"line\":{\"colorbar\":{\"outlinewidth\":0,\"ticks\":\"\"}},\"type\":\"parcoords\"}],\"pie\":[{\"automargin\":true,\"type\":\"pie\"}],\"scatter\":[{\"marker\":{\"colorbar\":{\"outlinewidth\":0,\"ticks\":\"\"}},\"type\":\"scatter\"}],\"scatter3d\":[{\"line\":{\"colorbar\":{\"outlinewidth\":0,\"ticks\":\"\"}},\"marker\":{\"colorbar\":{\"outlinewidth\":0,\"ticks\":\"\"}},\"type\":\"scatter3d\"}],\"scattercarpet\":[{\"marker\":{\"colorbar\":{\"outlinewidth\":0,\"ticks\":\"\"}},\"type\":\"scattercarpet\"}],\"scattergeo\":[{\"marker\":{\"colorbar\":{\"outlinewidth\":0,\"ticks\":\"\"}},\"type\":\"scattergeo\"}],\"scattergl\":[{\"marker\":{\"colorbar\":{\"outlinewidth\":0,\"ticks\":\"\"}},\"type\":\"scattergl\"}],\"scattermapbox\":[{\"marker\":{\"colorbar\":{\"outlinewidth\":0,\"ticks\":\"\"}},\"type\":\"scattermapbox\"}],\"scatterpolar\":[{\"marker\":{\"colorbar\":{\"outlinewidth\":0,\"ticks\":\"\"}},\"type\":\"scatterpolar\"}],\"scatterpolargl\":[{\"marker\":{\"colorbar\":{\"outlinewidth\":0,\"ticks\":\"\"}},\"type\":\"scatterpolargl\"}],\"scatterternary\":[{\"marker\":{\"colorbar\":{\"outlinewidth\":0,\"ticks\":\"\"}},\"type\":\"scatterternary\"}],\"surface\":[{\"colorbar\":{\"outlinewidth\":0,\"ticks\":\"\"},\"colorscale\":[[0.0,\"#0d0887\"],[0.1111111111111111,\"#46039f\"],[0.2222222222222222,\"#7201a8\"],[0.3333333333333333,\"#9c179e\"],[0.4444444444444444,\"#bd3786\"],[0.5555555555555556,\"#d8576b\"],[0.6666666666666666,\"#ed7953\"],[0.7777777777777778,\"#fb9f3a\"],[0.8888888888888888,\"#fdca26\"],[1.0,\"#f0f921\"]],\"type\":\"surface\"}],\"table\":[{\"cells\":{\"fill\":{\"color\":\"#EBF0F8\"},\"line\":{\"color\":\"white\"}},\"header\":{\"fill\":{\"color\":\"#C8D4E3\"},\"line\":{\"color\":\"white\"}},\"type\":\"table\"}]},\"layout\":{\"annotationdefaults\":{\"arrowcolor\":\"#2a3f5f\",\"arrowhead\":0,\"arrowwidth\":1},\"autotypenumbers\":\"strict\",\"coloraxis\":{\"colorbar\":{\"outlinewidth\":0,\"ticks\":\"\"}},\"colorscale\":{\"diverging\":[[0,\"#8e0152\"],[0.1,\"#c51b7d\"],[0.2,\"#de77ae\"],[0.3,\"#f1b6da\"],[0.4,\"#fde0ef\"],[0.5,\"#f7f7f7\"],[0.6,\"#e6f5d0\"],[0.7,\"#b8e186\"],[0.8,\"#7fbc41\"],[0.9,\"#4d9221\"],[1,\"#276419\"]],\"sequential\":[[0.0,\"#0d0887\"],[0.1111111111111111,\"#46039f\"],[0.2222222222222222,\"#7201a8\"],[0.3333333333333333,\"#9c179e\"],[0.4444444444444444,\"#bd3786\"],[0.5555555555555556,\"#d8576b\"],[0.6666666666666666,\"#ed7953\"],[0.7777777777777778,\"#fb9f3a\"],[0.8888888888888888,\"#fdca26\"],[1.0,\"#f0f921\"]],\"sequentialminus\":[[0.0,\"#0d0887\"],[0.1111111111111111,\"#46039f\"],[0.2222222222222222,\"#7201a8\"],[0.3333333333333333,\"#9c179e\"],[0.4444444444444444,\"#bd3786\"],[0.5555555555555556,\"#d8576b\"],[0.6666666666666666,\"#ed7953\"],[0.7777777777777778,\"#fb9f3a\"],[0.8888888888888888,\"#fdca26\"],[1.0,\"#f0f921\"]]},\"colorway\":[\"#636efa\",\"#EF553B\",\"#00cc96\",\"#ab63fa\",\"#FFA15A\",\"#19d3f3\",\"#FF6692\",\"#B6E880\",\"#FF97FF\",\"#FECB52\"],\"font\":{\"color\":\"#2a3f5f\"},\"geo\":{\"bgcolor\":\"white\",\"lakecolor\":\"white\",\"landcolor\":\"#E5ECF6\",\"showlakes\":true,\"showland\":true,\"subunitcolor\":\"white\"},\"hoverlabel\":{\"align\":\"left\"},\"hovermode\":\"closest\",\"mapbox\":{\"style\":\"light\"},\"paper_bgcolor\":\"white\",\"plot_bgcolor\":\"#E5ECF6\",\"polar\":{\"angularaxis\":{\"gridcolor\":\"white\",\"linecolor\":\"white\",\"ticks\":\"\"},\"bgcolor\":\"#E5ECF6\",\"radialaxis\":{\"gridcolor\":\"white\",\"linecolor\":\"white\",\"ticks\":\"\"}},\"scene\":{\"xaxis\":{\"backgroundcolor\":\"#E5ECF6\",\"gridcolor\":\"white\",\"gridwidth\":2,\"linecolor\":\"white\",\"showbackground\":true,\"ticks\":\"\",\"zerolinecolor\":\"white\"},\"yaxis\":{\"backgroundcolor\":\"#E5ECF6\",\"gridcolor\":\"white\",\"gridwidth\":2,\"linecolor\":\"white\",\"showbackground\":true,\"ticks\":\"\",\"zerolinecolor\":\"white\"},\"zaxis\":{\"backgroundcolor\":\"#E5ECF6\",\"gridcolor\":\"white\",\"gridwidth\":2,\"linecolor\":\"white\",\"showbackground\":true,\"ticks\":\"\",\"zerolinecolor\":\"white\"}},\"shapedefaults\":{\"line\":{\"color\":\"#2a3f5f\"}},\"ternary\":{\"aaxis\":{\"gridcolor\":\"white\",\"linecolor\":\"white\",\"ticks\":\"\"},\"baxis\":{\"gridcolor\":\"white\",\"linecolor\":\"white\",\"ticks\":\"\"},\"bgcolor\":\"#E5ECF6\",\"caxis\":{\"gridcolor\":\"white\",\"linecolor\":\"white\",\"ticks\":\"\"}},\"title\":{\"x\":0.05},\"xaxis\":{\"automargin\":true,\"gridcolor\":\"white\",\"linecolor\":\"white\",\"ticks\":\"\",\"title\":{\"standoff\":15},\"zerolinecolor\":\"white\",\"zerolinewidth\":2},\"yaxis\":{\"automargin\":true,\"gridcolor\":\"white\",\"linecolor\":\"white\",\"ticks\":\"\",\"title\":{\"standoff\":15},\"zerolinecolor\":\"white\",\"zerolinewidth\":2}}},\"mapbox\":{\"style\":\"open-street-map\",\"center\":{\"lat\":44.786111999999996,\"lon\":-113.842035},\"zoom\":2.5}},                        {\"responsive\": true}                    ).then(function(){\n",
              "                            \n",
              "var gd = document.getElementById('825a6f16-88e2-48e5-9da8-cf4394cc56ad');\n",
              "var x = new MutationObserver(function (mutations, observer) {{\n",
              "        var display = window.getComputedStyle(gd).display;\n",
              "        if (!display || display === 'none') {{\n",
              "            console.log([gd, 'removed!']);\n",
              "            Plotly.purge(gd);\n",
              "            observer.disconnect();\n",
              "        }}\n",
              "}});\n",
              "\n",
              "// Listen for the removal of the full notebook cells\n",
              "var notebookContainer = gd.closest('#notebook-container');\n",
              "if (notebookContainer) {{\n",
              "    x.observe(notebookContainer, {childList: true});\n",
              "}}\n",
              "\n",
              "// Listen for the clearing of the current output cell\n",
              "var outputEl = gd.closest('.output');\n",
              "if (outputEl) {{\n",
              "    x.observe(outputEl, {childList: true});\n",
              "}}\n",
              "\n",
              "                        })                };                            </script>        </div>\n",
              "</body>\n",
              "</html>"
            ]
          },
          "metadata": {}
        }
      ],
      "source": [
        "hotelsCount = entries.copy().drop_duplicates(subset = [\"name\"]).groupby([entries[\"city\"]]).count();\n",
        "hotelsAvg = entries.copy().drop_duplicates(subset = [\"name\"]).groupby([entries[\"city\"]]).mean();\n",
        "hotels_map_dist = go.Figure();\n",
        "\n",
        "hotelsCount['text'] = hotelsCount.index.astype('str') + '<br>Отелей: ' + hotelsCount['id'].astype(str)\n",
        "\n",
        "hotels_map_dist = go.Figure(go.Scattermapbox(lat=hotelsAvg['latitude'], \n",
        "                                 lon=hotelsAvg['longitude'], \n",
        "                                 text=hotelsCount['text'],\n",
        "                                 marker=dict(colorbar=dict(title=\"Количество отелей\"),\n",
        "                                             color=hotelsCount['id'],\n",
        "                                             size=hotelsCount['id'])))\n",
        "map_center = go.layout.mapbox.Center(lat=(hotelsAvg['latitude'].max()+hotelsAvg['latitude'].min())/2, \n",
        "                                     lon=(hotelsAvg['longitude'].max()+hotelsAvg['longitude'].min())/2)\n",
        "hotels_map_dist.update_layout(mapbox_style=\"open-street-map\",\n",
        "                  mapbox=dict(center=map_center, zoom=2.5))\n",
        "hotels_map_dist.show()\n"
      ]
    },
    {
      "cell_type": "markdown",
      "metadata": {
        "id": "qKqWQzGBFIPg"
      },
      "source": [
        "Микровывод: Можно сказать, что в центре материка отелей значительно меньше. Основное количество сосредоточено в больших городах и на побережье. Далее нужно отметить, что в западном побережье концентрация отелей меньше, чем в восточной."
      ]
    },
    {
      "cell_type": "markdown",
      "metadata": {
        "id": "rlOOSO_MFNOq"
      },
      "source": [
        "## Средние отзывы отелей по штатам"
      ]
    },
    {
      "cell_type": "markdown",
      "metadata": {
        "id": "DJoEOcKzFRvi"
      },
      "source": [
        "Рассмотрим, какие штаты являются наиболее перспективными для размещения отеля, по отзывам клиентов"
      ]
    },
    {
      "cell_type": "code",
      "execution_count": null,
      "metadata": {
        "id": "_D7ltBDzFTsg",
        "colab": {
          "base_uri": "https://localhost:8080/",
          "height": 542
        },
        "outputId": "60994be5-5d94-4530-a4f0-e91b204b2bea"
      },
      "outputs": [
        {
          "output_type": "display_data",
          "data": {
            "text/html": [
              "<html>\n",
              "<head><meta charset=\"utf-8\" /></head>\n",
              "<body>\n",
              "    <div>            <script src=\"https://cdnjs.cloudflare.com/ajax/libs/mathjax/2.7.5/MathJax.js?config=TeX-AMS-MML_SVG\"></script><script type=\"text/javascript\">if (window.MathJax) {MathJax.Hub.Config({SVG: {font: \"STIX-Web\"}});}</script>                <script type=\"text/javascript\">window.PlotlyConfig = {MathJaxConfig: 'local'};</script>\n",
              "        <script src=\"https://cdn.plot.ly/plotly-2.8.3.min.js\"></script>                <div id=\"bee43d45-eec2-4f87-ae4d-dbdd39ab3eee\" class=\"plotly-graph-div\" style=\"height:525px; width:100%;\"></div>            <script type=\"text/javascript\">                                    window.PLOTLYENV=window.PLOTLYENV || {};                                    if (document.getElementById(\"bee43d45-eec2-4f87-ae4d-dbdd39ab3eee\")) {                    Plotly.newPlot(                        \"bee43d45-eec2-4f87-ae4d-dbdd39ab3eee\",                        [{\"alignmentgroup\":\"True\",\"hovertemplate\":\"\\u0428\\u0442\\u0430\\u0442\\u044b=%{x}<br>\\u0421\\u0440\\u0435\\u0434\\u043d\\u0438\\u0439 \\u0440\\u0435\\u0439\\u0442\\u0438\\u043d\\u0433 \\u043e\\u0442\\u0435\\u043b\\u0435\\u0439=%{y}<extra></extra>\",\"legendgroup\":\"\",\"marker\":{\"color\":\"#636efa\",\"pattern\":{\"shape\":\"\"}},\"name\":\"\",\"offsetgroup\":\"\",\"orientation\":\"v\",\"showlegend\":false,\"textposition\":\"auto\",\"x\":[\"RI\",\"WY\",\"SD\",\"MS\",\"NC\",\"NH\",\"NM\",\"MT\",\"VT\",\"MO\",\"ND\",\"MD\",\"ID\",\"ME\",\"VA\",\"IN\",\"NE\",\"CT\",\"OK\",\"OR\",\"AR\",\"HI\",\"MA\",\"KY\",\"PA\",\"SC\",\"WA\",\"FL\",\"KS\",\"NY\",\"IA\",\"AZ\",\"OH\",\"TX\",\"IL\",\"CA\",\"CO\",\"LA\",\"WI\",\"NJ\",\"WV\",\"MN\",\"MI\",\"GA\",\"TN\",\"DE\",\"NV\",\"UT\",\"AK\"],\"xaxis\":\"x\",\"y\":[5.0,4.416666666666667,4.375,4.333333333333333,4.3,4.25,4.238095238095238,4.2105263157894735,4.2,4.193548387096774,4.181818181818182,4.169117647058823,4.166666666666667,4.16,4.131645569620253,4.125,4.125,4.125,4.125,4.11195652173913,4.111111111111111,4.090909090909091,4.082857142857143,4.076923076923077,4.059701492537314,4.027777777777778,4.0227272727272725,4.011440677966102,4.0,3.9836065573770494,3.9545454545454546,3.948717948717949,3.938775510204082,3.9183673469387754,3.88,3.8028301886792453,3.7804878048780486,3.744186046511628,3.717391304347826,3.7083333333333335,3.7,3.6923076923076925,3.6842105263157894,3.6792452830188678,3.6511627906976742,3.625,3.619565217391304,3.3333333333333335,3.3333333333333335],\"yaxis\":\"y\",\"type\":\"bar\"}],                        {\"template\":{\"data\":{\"bar\":[{\"error_x\":{\"color\":\"#2a3f5f\"},\"error_y\":{\"color\":\"#2a3f5f\"},\"marker\":{\"line\":{\"color\":\"#E5ECF6\",\"width\":0.5},\"pattern\":{\"fillmode\":\"overlay\",\"size\":10,\"solidity\":0.2}},\"type\":\"bar\"}],\"barpolar\":[{\"marker\":{\"line\":{\"color\":\"#E5ECF6\",\"width\":0.5},\"pattern\":{\"fillmode\":\"overlay\",\"size\":10,\"solidity\":0.2}},\"type\":\"barpolar\"}],\"carpet\":[{\"aaxis\":{\"endlinecolor\":\"#2a3f5f\",\"gridcolor\":\"white\",\"linecolor\":\"white\",\"minorgridcolor\":\"white\",\"startlinecolor\":\"#2a3f5f\"},\"baxis\":{\"endlinecolor\":\"#2a3f5f\",\"gridcolor\":\"white\",\"linecolor\":\"white\",\"minorgridcolor\":\"white\",\"startlinecolor\":\"#2a3f5f\"},\"type\":\"carpet\"}],\"choropleth\":[{\"colorbar\":{\"outlinewidth\":0,\"ticks\":\"\"},\"type\":\"choropleth\"}],\"contour\":[{\"colorbar\":{\"outlinewidth\":0,\"ticks\":\"\"},\"colorscale\":[[0.0,\"#0d0887\"],[0.1111111111111111,\"#46039f\"],[0.2222222222222222,\"#7201a8\"],[0.3333333333333333,\"#9c179e\"],[0.4444444444444444,\"#bd3786\"],[0.5555555555555556,\"#d8576b\"],[0.6666666666666666,\"#ed7953\"],[0.7777777777777778,\"#fb9f3a\"],[0.8888888888888888,\"#fdca26\"],[1.0,\"#f0f921\"]],\"type\":\"contour\"}],\"contourcarpet\":[{\"colorbar\":{\"outlinewidth\":0,\"ticks\":\"\"},\"type\":\"contourcarpet\"}],\"heatmap\":[{\"colorbar\":{\"outlinewidth\":0,\"ticks\":\"\"},\"colorscale\":[[0.0,\"#0d0887\"],[0.1111111111111111,\"#46039f\"],[0.2222222222222222,\"#7201a8\"],[0.3333333333333333,\"#9c179e\"],[0.4444444444444444,\"#bd3786\"],[0.5555555555555556,\"#d8576b\"],[0.6666666666666666,\"#ed7953\"],[0.7777777777777778,\"#fb9f3a\"],[0.8888888888888888,\"#fdca26\"],[1.0,\"#f0f921\"]],\"type\":\"heatmap\"}],\"heatmapgl\":[{\"colorbar\":{\"outlinewidth\":0,\"ticks\":\"\"},\"colorscale\":[[0.0,\"#0d0887\"],[0.1111111111111111,\"#46039f\"],[0.2222222222222222,\"#7201a8\"],[0.3333333333333333,\"#9c179e\"],[0.4444444444444444,\"#bd3786\"],[0.5555555555555556,\"#d8576b\"],[0.6666666666666666,\"#ed7953\"],[0.7777777777777778,\"#fb9f3a\"],[0.8888888888888888,\"#fdca26\"],[1.0,\"#f0f921\"]],\"type\":\"heatmapgl\"}],\"histogram\":[{\"marker\":{\"pattern\":{\"fillmode\":\"overlay\",\"size\":10,\"solidity\":0.2}},\"type\":\"histogram\"}],\"histogram2d\":[{\"colorbar\":{\"outlinewidth\":0,\"ticks\":\"\"},\"colorscale\":[[0.0,\"#0d0887\"],[0.1111111111111111,\"#46039f\"],[0.2222222222222222,\"#7201a8\"],[0.3333333333333333,\"#9c179e\"],[0.4444444444444444,\"#bd3786\"],[0.5555555555555556,\"#d8576b\"],[0.6666666666666666,\"#ed7953\"],[0.7777777777777778,\"#fb9f3a\"],[0.8888888888888888,\"#fdca26\"],[1.0,\"#f0f921\"]],\"type\":\"histogram2d\"}],\"histogram2dcontour\":[{\"colorbar\":{\"outlinewidth\":0,\"ticks\":\"\"},\"colorscale\":[[0.0,\"#0d0887\"],[0.1111111111111111,\"#46039f\"],[0.2222222222222222,\"#7201a8\"],[0.3333333333333333,\"#9c179e\"],[0.4444444444444444,\"#bd3786\"],[0.5555555555555556,\"#d8576b\"],[0.6666666666666666,\"#ed7953\"],[0.7777777777777778,\"#fb9f3a\"],[0.8888888888888888,\"#fdca26\"],[1.0,\"#f0f921\"]],\"type\":\"histogram2dcontour\"}],\"mesh3d\":[{\"colorbar\":{\"outlinewidth\":0,\"ticks\":\"\"},\"type\":\"mesh3d\"}],\"parcoords\":[{\"line\":{\"colorbar\":{\"outlinewidth\":0,\"ticks\":\"\"}},\"type\":\"parcoords\"}],\"pie\":[{\"automargin\":true,\"type\":\"pie\"}],\"scatter\":[{\"marker\":{\"colorbar\":{\"outlinewidth\":0,\"ticks\":\"\"}},\"type\":\"scatter\"}],\"scatter3d\":[{\"line\":{\"colorbar\":{\"outlinewidth\":0,\"ticks\":\"\"}},\"marker\":{\"colorbar\":{\"outlinewidth\":0,\"ticks\":\"\"}},\"type\":\"scatter3d\"}],\"scattercarpet\":[{\"marker\":{\"colorbar\":{\"outlinewidth\":0,\"ticks\":\"\"}},\"type\":\"scattercarpet\"}],\"scattergeo\":[{\"marker\":{\"colorbar\":{\"outlinewidth\":0,\"ticks\":\"\"}},\"type\":\"scattergeo\"}],\"scattergl\":[{\"marker\":{\"colorbar\":{\"outlinewidth\":0,\"ticks\":\"\"}},\"type\":\"scattergl\"}],\"scattermapbox\":[{\"marker\":{\"colorbar\":{\"outlinewidth\":0,\"ticks\":\"\"}},\"type\":\"scattermapbox\"}],\"scatterpolar\":[{\"marker\":{\"colorbar\":{\"outlinewidth\":0,\"ticks\":\"\"}},\"type\":\"scatterpolar\"}],\"scatterpolargl\":[{\"marker\":{\"colorbar\":{\"outlinewidth\":0,\"ticks\":\"\"}},\"type\":\"scatterpolargl\"}],\"scatterternary\":[{\"marker\":{\"colorbar\":{\"outlinewidth\":0,\"ticks\":\"\"}},\"type\":\"scatterternary\"}],\"surface\":[{\"colorbar\":{\"outlinewidth\":0,\"ticks\":\"\"},\"colorscale\":[[0.0,\"#0d0887\"],[0.1111111111111111,\"#46039f\"],[0.2222222222222222,\"#7201a8\"],[0.3333333333333333,\"#9c179e\"],[0.4444444444444444,\"#bd3786\"],[0.5555555555555556,\"#d8576b\"],[0.6666666666666666,\"#ed7953\"],[0.7777777777777778,\"#fb9f3a\"],[0.8888888888888888,\"#fdca26\"],[1.0,\"#f0f921\"]],\"type\":\"surface\"}],\"table\":[{\"cells\":{\"fill\":{\"color\":\"#EBF0F8\"},\"line\":{\"color\":\"white\"}},\"header\":{\"fill\":{\"color\":\"#C8D4E3\"},\"line\":{\"color\":\"white\"}},\"type\":\"table\"}]},\"layout\":{\"annotationdefaults\":{\"arrowcolor\":\"#2a3f5f\",\"arrowhead\":0,\"arrowwidth\":1},\"autotypenumbers\":\"strict\",\"coloraxis\":{\"colorbar\":{\"outlinewidth\":0,\"ticks\":\"\"}},\"colorscale\":{\"diverging\":[[0,\"#8e0152\"],[0.1,\"#c51b7d\"],[0.2,\"#de77ae\"],[0.3,\"#f1b6da\"],[0.4,\"#fde0ef\"],[0.5,\"#f7f7f7\"],[0.6,\"#e6f5d0\"],[0.7,\"#b8e186\"],[0.8,\"#7fbc41\"],[0.9,\"#4d9221\"],[1,\"#276419\"]],\"sequential\":[[0.0,\"#0d0887\"],[0.1111111111111111,\"#46039f\"],[0.2222222222222222,\"#7201a8\"],[0.3333333333333333,\"#9c179e\"],[0.4444444444444444,\"#bd3786\"],[0.5555555555555556,\"#d8576b\"],[0.6666666666666666,\"#ed7953\"],[0.7777777777777778,\"#fb9f3a\"],[0.8888888888888888,\"#fdca26\"],[1.0,\"#f0f921\"]],\"sequentialminus\":[[0.0,\"#0d0887\"],[0.1111111111111111,\"#46039f\"],[0.2222222222222222,\"#7201a8\"],[0.3333333333333333,\"#9c179e\"],[0.4444444444444444,\"#bd3786\"],[0.5555555555555556,\"#d8576b\"],[0.6666666666666666,\"#ed7953\"],[0.7777777777777778,\"#fb9f3a\"],[0.8888888888888888,\"#fdca26\"],[1.0,\"#f0f921\"]]},\"colorway\":[\"#636efa\",\"#EF553B\",\"#00cc96\",\"#ab63fa\",\"#FFA15A\",\"#19d3f3\",\"#FF6692\",\"#B6E880\",\"#FF97FF\",\"#FECB52\"],\"font\":{\"color\":\"#2a3f5f\"},\"geo\":{\"bgcolor\":\"white\",\"lakecolor\":\"white\",\"landcolor\":\"#E5ECF6\",\"showlakes\":true,\"showland\":true,\"subunitcolor\":\"white\"},\"hoverlabel\":{\"align\":\"left\"},\"hovermode\":\"closest\",\"mapbox\":{\"style\":\"light\"},\"paper_bgcolor\":\"white\",\"plot_bgcolor\":\"#E5ECF6\",\"polar\":{\"angularaxis\":{\"gridcolor\":\"white\",\"linecolor\":\"white\",\"ticks\":\"\"},\"bgcolor\":\"#E5ECF6\",\"radialaxis\":{\"gridcolor\":\"white\",\"linecolor\":\"white\",\"ticks\":\"\"}},\"scene\":{\"xaxis\":{\"backgroundcolor\":\"#E5ECF6\",\"gridcolor\":\"white\",\"gridwidth\":2,\"linecolor\":\"white\",\"showbackground\":true,\"ticks\":\"\",\"zerolinecolor\":\"white\"},\"yaxis\":{\"backgroundcolor\":\"#E5ECF6\",\"gridcolor\":\"white\",\"gridwidth\":2,\"linecolor\":\"white\",\"showbackground\":true,\"ticks\":\"\",\"zerolinecolor\":\"white\"},\"zaxis\":{\"backgroundcolor\":\"#E5ECF6\",\"gridcolor\":\"white\",\"gridwidth\":2,\"linecolor\":\"white\",\"showbackground\":true,\"ticks\":\"\",\"zerolinecolor\":\"white\"}},\"shapedefaults\":{\"line\":{\"color\":\"#2a3f5f\"}},\"ternary\":{\"aaxis\":{\"gridcolor\":\"white\",\"linecolor\":\"white\",\"ticks\":\"\"},\"baxis\":{\"gridcolor\":\"white\",\"linecolor\":\"white\",\"ticks\":\"\"},\"bgcolor\":\"#E5ECF6\",\"caxis\":{\"gridcolor\":\"white\",\"linecolor\":\"white\",\"ticks\":\"\"}},\"title\":{\"x\":0.05},\"xaxis\":{\"automargin\":true,\"gridcolor\":\"white\",\"linecolor\":\"white\",\"ticks\":\"\",\"title\":{\"standoff\":15},\"zerolinecolor\":\"white\",\"zerolinewidth\":2},\"yaxis\":{\"automargin\":true,\"gridcolor\":\"white\",\"linecolor\":\"white\",\"ticks\":\"\",\"title\":{\"standoff\":15},\"zerolinecolor\":\"white\",\"zerolinewidth\":2}}},\"xaxis\":{\"anchor\":\"y\",\"domain\":[0.0,1.0],\"title\":{\"text\":\"\\u0428\\u0442\\u0430\\u0442\\u044b\"}},\"yaxis\":{\"anchor\":\"x\",\"domain\":[0.0,1.0],\"title\":{\"text\":\"\\u0421\\u0440\\u0435\\u0434\\u043d\\u044f\\u044f \\u043e\\u0446\\u0435\\u043d\\u043a\\u0430\"}},\"legend\":{\"tracegroupgap\":0},\"margin\":{\"t\":30,\"l\":0,\"r\":30,\"b\":0},\"barmode\":\"relative\",\"font\":{\"family\":\"Courier New\",\"color\":\"blue\"},\"title\":{\"text\":\"\\u0413\\u0438\\u0441\\u0442\\u043e\\u0433\\u0440\\u0430\\u043c\\u043c\\u0430 \\u0441\\u0440\\u0435\\u0434\\u043d\\u0435\\u0433\\u043e \\u0440\\u0435\\u0439\\u0442\\u0438\\u043d\\u0433\\u0430 \\u043e\\u0442\\u0435\\u043b\\u0435\\u0439 \\u043f\\u043e \\u0448\\u0442\\u0430\\u0442\\u0430\\u043c\",\"font\":{\"family\":\"Times New Roman\",\"color\":\"green\"}}},                        {\"responsive\": true}                    ).then(function(){\n",
              "                            \n",
              "var gd = document.getElementById('bee43d45-eec2-4f87-ae4d-dbdd39ab3eee');\n",
              "var x = new MutationObserver(function (mutations, observer) {{\n",
              "        var display = window.getComputedStyle(gd).display;\n",
              "        if (!display || display === 'none') {{\n",
              "            console.log([gd, 'removed!']);\n",
              "            Plotly.purge(gd);\n",
              "            observer.disconnect();\n",
              "        }}\n",
              "}});\n",
              "\n",
              "// Listen for the removal of the full notebook cells\n",
              "var notebookContainer = gd.closest('#notebook-container');\n",
              "if (notebookContainer) {{\n",
              "    x.observe(notebookContainer, {childList: true});\n",
              "}}\n",
              "\n",
              "// Listen for the clearing of the current output cell\n",
              "var outputEl = gd.closest('.output');\n",
              "if (outputEl) {{\n",
              "    x.observe(outputEl, {childList: true});\n",
              "}}\n",
              "\n",
              "                        })                };                            </script>        </div>\n",
              "</body>\n",
              "</html>"
            ]
          },
          "metadata": {}
        }
      ],
      "source": [
        "reviewsInStates = entries.copy().drop_duplicates(subset = [\"name\"]).groupby([entries[\"province\"]]).mean().sort_values('reviews.rating');\n",
        "reviewsInStates = reviewsInStates.iloc[::-1]\n",
        "reviewsInStatesY = reviewsInStates['reviews.rating'].values;\n",
        "reviewsInStatesX = reviewsInStates.index;\n",
        "\n",
        "reviews_in_states_gist = px.bar(x=reviewsInStatesX, y=reviewsInStatesY, labels={'x':'Штаты', 'y':'Средний рейтинг отелей'})\n",
        "reviews_in_states_gist.update_layout(\n",
        "    margin=dict(l=0, r=30, t=30, b=0),\n",
        "    title=\"Гистограмма среднего рейтинга отелей по штатам\",\n",
        "    xaxis_title=\"Штаты\",\n",
        "    yaxis_title=\"Средняя оценка\",\n",
        "    font_family=\"Courier New\",\n",
        "    font_color=\"blue\",\n",
        "    title_font_family=\"Times New Roman\",\n",
        "    title_font_color=\"green\"\n",
        "    )\n",
        "\n",
        "reviews_in_states_gist.show();"
      ]
    },
    {
      "cell_type": "code",
      "execution_count": null,
      "metadata": {
        "id": "6gjN0VQaFanI",
        "colab": {
          "base_uri": "https://localhost:8080/",
          "height": 542
        },
        "outputId": "f3d18be9-b738-45cb-e0e0-6fb1f6b42ff6"
      },
      "outputs": [
        {
          "output_type": "display_data",
          "data": {
            "text/html": [
              "<html>\n",
              "<head><meta charset=\"utf-8\" /></head>\n",
              "<body>\n",
              "    <div>            <script src=\"https://cdnjs.cloudflare.com/ajax/libs/mathjax/2.7.5/MathJax.js?config=TeX-AMS-MML_SVG\"></script><script type=\"text/javascript\">if (window.MathJax) {MathJax.Hub.Config({SVG: {font: \"STIX-Web\"}});}</script>                <script type=\"text/javascript\">window.PlotlyConfig = {MathJaxConfig: 'local'};</script>\n",
              "        <script src=\"https://cdn.plot.ly/plotly-2.8.3.min.js\"></script>                <div id=\"ff881912-6305-4ab3-a10f-596d080acb9c\" class=\"plotly-graph-div\" style=\"height:525px; width:100%;\"></div>            <script type=\"text/javascript\">                                    window.PLOTLYENV=window.PLOTLYENV || {};                                    if (document.getElementById(\"ff881912-6305-4ab3-a10f-596d080acb9c\")) {                    Plotly.newPlot(                        \"ff881912-6305-4ab3-a10f-596d080acb9c\",                        [{\"alignmentgroup\":\"True\",\"hovertemplate\":\"\\u0428\\u0442\\u0430\\u0442\\u044b=%{x}<br>\\u041a\\u043e\\u043b\\u0438\\u0447\\u0435\\u0441\\u0442\\u0432\\u043e \\u043e\\u0442\\u0435\\u043b\\u0435\\u0439=%{y}<extra></extra>\",\"legendgroup\":\"\",\"marker\":{\"color\":\"#636efa\",\"pattern\":{\"shape\":\"\"}},\"name\":\"\",\"offsetgroup\":\"\",\"orientation\":\"v\",\"showlegend\":false,\"textposition\":\"auto\",\"x\":[\"CA\",\"FL\",\"TX\",\"VA\",\"PA\",\"IL\",\"NY\",\"GA\",\"OH\",\"WI\",\"OR\",\"WA\",\"LA\",\"TN\",\"CO\",\"AZ\",\"MI\",\"SC\",\"MA\",\"MD\",\"OK\",\"MO\",\"NC\",\"KY\",\"ME\",\"NJ\",\"IN\",\"NV\",\"IA\",\"NM\",\"MT\",\"AR\",\"KS\",\"NE\",\"MN\",\"ID\",\"WY\",\"NH\",\"HI\",\"ND\",\"WV\",\"VT\",\"AK\",\"DE\",\"CT\",\"SD\",\"MS\",\"UT\",\"RI\"],\"xaxis\":\"x\",\"y\":[159,118,98,79,67,65,61,53,49,46,46,44,43,43,41,39,38,36,35,34,32,31,30,26,25,24,24,23,22,21,19,18,18,16,13,12,12,12,11,11,10,10,9,8,8,8,6,6,1],\"yaxis\":\"y\",\"type\":\"bar\"}],                        {\"template\":{\"data\":{\"bar\":[{\"error_x\":{\"color\":\"#2a3f5f\"},\"error_y\":{\"color\":\"#2a3f5f\"},\"marker\":{\"line\":{\"color\":\"#E5ECF6\",\"width\":0.5},\"pattern\":{\"fillmode\":\"overlay\",\"size\":10,\"solidity\":0.2}},\"type\":\"bar\"}],\"barpolar\":[{\"marker\":{\"line\":{\"color\":\"#E5ECF6\",\"width\":0.5},\"pattern\":{\"fillmode\":\"overlay\",\"size\":10,\"solidity\":0.2}},\"type\":\"barpolar\"}],\"carpet\":[{\"aaxis\":{\"endlinecolor\":\"#2a3f5f\",\"gridcolor\":\"white\",\"linecolor\":\"white\",\"minorgridcolor\":\"white\",\"startlinecolor\":\"#2a3f5f\"},\"baxis\":{\"endlinecolor\":\"#2a3f5f\",\"gridcolor\":\"white\",\"linecolor\":\"white\",\"minorgridcolor\":\"white\",\"startlinecolor\":\"#2a3f5f\"},\"type\":\"carpet\"}],\"choropleth\":[{\"colorbar\":{\"outlinewidth\":0,\"ticks\":\"\"},\"type\":\"choropleth\"}],\"contour\":[{\"colorbar\":{\"outlinewidth\":0,\"ticks\":\"\"},\"colorscale\":[[0.0,\"#0d0887\"],[0.1111111111111111,\"#46039f\"],[0.2222222222222222,\"#7201a8\"],[0.3333333333333333,\"#9c179e\"],[0.4444444444444444,\"#bd3786\"],[0.5555555555555556,\"#d8576b\"],[0.6666666666666666,\"#ed7953\"],[0.7777777777777778,\"#fb9f3a\"],[0.8888888888888888,\"#fdca26\"],[1.0,\"#f0f921\"]],\"type\":\"contour\"}],\"contourcarpet\":[{\"colorbar\":{\"outlinewidth\":0,\"ticks\":\"\"},\"type\":\"contourcarpet\"}],\"heatmap\":[{\"colorbar\":{\"outlinewidth\":0,\"ticks\":\"\"},\"colorscale\":[[0.0,\"#0d0887\"],[0.1111111111111111,\"#46039f\"],[0.2222222222222222,\"#7201a8\"],[0.3333333333333333,\"#9c179e\"],[0.4444444444444444,\"#bd3786\"],[0.5555555555555556,\"#d8576b\"],[0.6666666666666666,\"#ed7953\"],[0.7777777777777778,\"#fb9f3a\"],[0.8888888888888888,\"#fdca26\"],[1.0,\"#f0f921\"]],\"type\":\"heatmap\"}],\"heatmapgl\":[{\"colorbar\":{\"outlinewidth\":0,\"ticks\":\"\"},\"colorscale\":[[0.0,\"#0d0887\"],[0.1111111111111111,\"#46039f\"],[0.2222222222222222,\"#7201a8\"],[0.3333333333333333,\"#9c179e\"],[0.4444444444444444,\"#bd3786\"],[0.5555555555555556,\"#d8576b\"],[0.6666666666666666,\"#ed7953\"],[0.7777777777777778,\"#fb9f3a\"],[0.8888888888888888,\"#fdca26\"],[1.0,\"#f0f921\"]],\"type\":\"heatmapgl\"}],\"histogram\":[{\"marker\":{\"pattern\":{\"fillmode\":\"overlay\",\"size\":10,\"solidity\":0.2}},\"type\":\"histogram\"}],\"histogram2d\":[{\"colorbar\":{\"outlinewidth\":0,\"ticks\":\"\"},\"colorscale\":[[0.0,\"#0d0887\"],[0.1111111111111111,\"#46039f\"],[0.2222222222222222,\"#7201a8\"],[0.3333333333333333,\"#9c179e\"],[0.4444444444444444,\"#bd3786\"],[0.5555555555555556,\"#d8576b\"],[0.6666666666666666,\"#ed7953\"],[0.7777777777777778,\"#fb9f3a\"],[0.8888888888888888,\"#fdca26\"],[1.0,\"#f0f921\"]],\"type\":\"histogram2d\"}],\"histogram2dcontour\":[{\"colorbar\":{\"outlinewidth\":0,\"ticks\":\"\"},\"colorscale\":[[0.0,\"#0d0887\"],[0.1111111111111111,\"#46039f\"],[0.2222222222222222,\"#7201a8\"],[0.3333333333333333,\"#9c179e\"],[0.4444444444444444,\"#bd3786\"],[0.5555555555555556,\"#d8576b\"],[0.6666666666666666,\"#ed7953\"],[0.7777777777777778,\"#fb9f3a\"],[0.8888888888888888,\"#fdca26\"],[1.0,\"#f0f921\"]],\"type\":\"histogram2dcontour\"}],\"mesh3d\":[{\"colorbar\":{\"outlinewidth\":0,\"ticks\":\"\"},\"type\":\"mesh3d\"}],\"parcoords\":[{\"line\":{\"colorbar\":{\"outlinewidth\":0,\"ticks\":\"\"}},\"type\":\"parcoords\"}],\"pie\":[{\"automargin\":true,\"type\":\"pie\"}],\"scatter\":[{\"marker\":{\"colorbar\":{\"outlinewidth\":0,\"ticks\":\"\"}},\"type\":\"scatter\"}],\"scatter3d\":[{\"line\":{\"colorbar\":{\"outlinewidth\":0,\"ticks\":\"\"}},\"marker\":{\"colorbar\":{\"outlinewidth\":0,\"ticks\":\"\"}},\"type\":\"scatter3d\"}],\"scattercarpet\":[{\"marker\":{\"colorbar\":{\"outlinewidth\":0,\"ticks\":\"\"}},\"type\":\"scattercarpet\"}],\"scattergeo\":[{\"marker\":{\"colorbar\":{\"outlinewidth\":0,\"ticks\":\"\"}},\"type\":\"scattergeo\"}],\"scattergl\":[{\"marker\":{\"colorbar\":{\"outlinewidth\":0,\"ticks\":\"\"}},\"type\":\"scattergl\"}],\"scattermapbox\":[{\"marker\":{\"colorbar\":{\"outlinewidth\":0,\"ticks\":\"\"}},\"type\":\"scattermapbox\"}],\"scatterpolar\":[{\"marker\":{\"colorbar\":{\"outlinewidth\":0,\"ticks\":\"\"}},\"type\":\"scatterpolar\"}],\"scatterpolargl\":[{\"marker\":{\"colorbar\":{\"outlinewidth\":0,\"ticks\":\"\"}},\"type\":\"scatterpolargl\"}],\"scatterternary\":[{\"marker\":{\"colorbar\":{\"outlinewidth\":0,\"ticks\":\"\"}},\"type\":\"scatterternary\"}],\"surface\":[{\"colorbar\":{\"outlinewidth\":0,\"ticks\":\"\"},\"colorscale\":[[0.0,\"#0d0887\"],[0.1111111111111111,\"#46039f\"],[0.2222222222222222,\"#7201a8\"],[0.3333333333333333,\"#9c179e\"],[0.4444444444444444,\"#bd3786\"],[0.5555555555555556,\"#d8576b\"],[0.6666666666666666,\"#ed7953\"],[0.7777777777777778,\"#fb9f3a\"],[0.8888888888888888,\"#fdca26\"],[1.0,\"#f0f921\"]],\"type\":\"surface\"}],\"table\":[{\"cells\":{\"fill\":{\"color\":\"#EBF0F8\"},\"line\":{\"color\":\"white\"}},\"header\":{\"fill\":{\"color\":\"#C8D4E3\"},\"line\":{\"color\":\"white\"}},\"type\":\"table\"}]},\"layout\":{\"annotationdefaults\":{\"arrowcolor\":\"#2a3f5f\",\"arrowhead\":0,\"arrowwidth\":1},\"autotypenumbers\":\"strict\",\"coloraxis\":{\"colorbar\":{\"outlinewidth\":0,\"ticks\":\"\"}},\"colorscale\":{\"diverging\":[[0,\"#8e0152\"],[0.1,\"#c51b7d\"],[0.2,\"#de77ae\"],[0.3,\"#f1b6da\"],[0.4,\"#fde0ef\"],[0.5,\"#f7f7f7\"],[0.6,\"#e6f5d0\"],[0.7,\"#b8e186\"],[0.8,\"#7fbc41\"],[0.9,\"#4d9221\"],[1,\"#276419\"]],\"sequential\":[[0.0,\"#0d0887\"],[0.1111111111111111,\"#46039f\"],[0.2222222222222222,\"#7201a8\"],[0.3333333333333333,\"#9c179e\"],[0.4444444444444444,\"#bd3786\"],[0.5555555555555556,\"#d8576b\"],[0.6666666666666666,\"#ed7953\"],[0.7777777777777778,\"#fb9f3a\"],[0.8888888888888888,\"#fdca26\"],[1.0,\"#f0f921\"]],\"sequentialminus\":[[0.0,\"#0d0887\"],[0.1111111111111111,\"#46039f\"],[0.2222222222222222,\"#7201a8\"],[0.3333333333333333,\"#9c179e\"],[0.4444444444444444,\"#bd3786\"],[0.5555555555555556,\"#d8576b\"],[0.6666666666666666,\"#ed7953\"],[0.7777777777777778,\"#fb9f3a\"],[0.8888888888888888,\"#fdca26\"],[1.0,\"#f0f921\"]]},\"colorway\":[\"#636efa\",\"#EF553B\",\"#00cc96\",\"#ab63fa\",\"#FFA15A\",\"#19d3f3\",\"#FF6692\",\"#B6E880\",\"#FF97FF\",\"#FECB52\"],\"font\":{\"color\":\"#2a3f5f\"},\"geo\":{\"bgcolor\":\"white\",\"lakecolor\":\"white\",\"landcolor\":\"#E5ECF6\",\"showlakes\":true,\"showland\":true,\"subunitcolor\":\"white\"},\"hoverlabel\":{\"align\":\"left\"},\"hovermode\":\"closest\",\"mapbox\":{\"style\":\"light\"},\"paper_bgcolor\":\"white\",\"plot_bgcolor\":\"#E5ECF6\",\"polar\":{\"angularaxis\":{\"gridcolor\":\"white\",\"linecolor\":\"white\",\"ticks\":\"\"},\"bgcolor\":\"#E5ECF6\",\"radialaxis\":{\"gridcolor\":\"white\",\"linecolor\":\"white\",\"ticks\":\"\"}},\"scene\":{\"xaxis\":{\"backgroundcolor\":\"#E5ECF6\",\"gridcolor\":\"white\",\"gridwidth\":2,\"linecolor\":\"white\",\"showbackground\":true,\"ticks\":\"\",\"zerolinecolor\":\"white\"},\"yaxis\":{\"backgroundcolor\":\"#E5ECF6\",\"gridcolor\":\"white\",\"gridwidth\":2,\"linecolor\":\"white\",\"showbackground\":true,\"ticks\":\"\",\"zerolinecolor\":\"white\"},\"zaxis\":{\"backgroundcolor\":\"#E5ECF6\",\"gridcolor\":\"white\",\"gridwidth\":2,\"linecolor\":\"white\",\"showbackground\":true,\"ticks\":\"\",\"zerolinecolor\":\"white\"}},\"shapedefaults\":{\"line\":{\"color\":\"#2a3f5f\"}},\"ternary\":{\"aaxis\":{\"gridcolor\":\"white\",\"linecolor\":\"white\",\"ticks\":\"\"},\"baxis\":{\"gridcolor\":\"white\",\"linecolor\":\"white\",\"ticks\":\"\"},\"bgcolor\":\"#E5ECF6\",\"caxis\":{\"gridcolor\":\"white\",\"linecolor\":\"white\",\"ticks\":\"\"}},\"title\":{\"x\":0.05},\"xaxis\":{\"automargin\":true,\"gridcolor\":\"white\",\"linecolor\":\"white\",\"ticks\":\"\",\"title\":{\"standoff\":15},\"zerolinecolor\":\"white\",\"zerolinewidth\":2},\"yaxis\":{\"automargin\":true,\"gridcolor\":\"white\",\"linecolor\":\"white\",\"ticks\":\"\",\"title\":{\"standoff\":15},\"zerolinecolor\":\"white\",\"zerolinewidth\":2}}},\"xaxis\":{\"anchor\":\"y\",\"domain\":[0.0,1.0],\"title\":{\"text\":\"\\u0428\\u0442\\u0430\\u0442\\u044b\"}},\"yaxis\":{\"anchor\":\"x\",\"domain\":[0.0,1.0],\"title\":{\"text\":\"\\u041a\\u043e\\u043b\\u0438\\u0447\\u0435\\u0441\\u0442\\u0432\\u043e \\u043e\\u0442\\u0435\\u043b\\u0435\\u0439\"}},\"legend\":{\"tracegroupgap\":0},\"margin\":{\"t\":30,\"l\":0,\"r\":30,\"b\":0},\"barmode\":\"relative\",\"font\":{\"family\":\"Courier New\",\"color\":\"blue\"},\"title\":{\"text\":\"\\u0413\\u0438\\u0441\\u0442\\u043e\\u0433\\u0440\\u0430\\u043c\\u043c\\u0430 \\u043a\\u043e\\u043b\\u0438\\u0447\\u0435\\u0441\\u0442\\u0432\\u0430 \\u043e\\u0442\\u0435\\u043b\\u0435\\u0439 \\u0432 \\u0448\\u0442\\u0430\\u0442\\u0430\\u0445\",\"font\":{\"family\":\"Times New Roman\",\"color\":\"green\"}}},                        {\"responsive\": true}                    ).then(function(){\n",
              "                            \n",
              "var gd = document.getElementById('ff881912-6305-4ab3-a10f-596d080acb9c');\n",
              "var x = new MutationObserver(function (mutations, observer) {{\n",
              "        var display = window.getComputedStyle(gd).display;\n",
              "        if (!display || display === 'none') {{\n",
              "            console.log([gd, 'removed!']);\n",
              "            Plotly.purge(gd);\n",
              "            observer.disconnect();\n",
              "        }}\n",
              "}});\n",
              "\n",
              "// Listen for the removal of the full notebook cells\n",
              "var notebookContainer = gd.closest('#notebook-container');\n",
              "if (notebookContainer) {{\n",
              "    x.observe(notebookContainer, {childList: true});\n",
              "}}\n",
              "\n",
              "// Listen for the clearing of the current output cell\n",
              "var outputEl = gd.closest('.output');\n",
              "if (outputEl) {{\n",
              "    x.observe(outputEl, {childList: true});\n",
              "}}\n",
              "\n",
              "                        })                };                            </script>        </div>\n",
              "</body>\n",
              "</html>"
            ]
          },
          "metadata": {}
        }
      ],
      "source": [
        "hotelsNumInStates = entries.copy().drop_duplicates(subset = [\"name\"]).groupby([entries[\"province\"]]).count().sort_values('id');\n",
        "hotelsNumInStates = hotelsNumInStates.iloc[::-1]\n",
        "hotelsNumInStatesY = hotelsNumInStates['id'].values;\n",
        "hotelsNumInStatesX = hotelsNumInStates.index;\n",
        "\n",
        "hotels_num_in_states = px.bar(x=hotelsNumInStatesX, y=hotelsNumInStatesY, labels={'x':'Штаты', 'y':'Количество отелей'})\n",
        "hotels_num_in_states.update_layout(\n",
        "    margin=dict(l=0, r=30, t=30, b=0),\n",
        "    title=\"Гистограмма количества отелей в штатах\",\n",
        "    xaxis_title=\"Штаты\",\n",
        "    yaxis_title=\"Количество отелей\",\n",
        "    font_family=\"Courier New\",\n",
        "    font_color=\"blue\",\n",
        "    title_font_family=\"Times New Roman\",\n",
        "    title_font_color=\"green\"\n",
        "    )\n",
        "\n",
        "hotels_num_in_states.show();"
      ]
    },
    {
      "cell_type": "markdown",
      "metadata": {
        "id": "Iy9u7bzSFovU"
      },
      "source": [
        "\n",
        "Микровывод: Как мы можем заметить, штатами с наиболее хорошими отелями являются:\n",
        "\n",
        "RI (Rhode Island) - 5.0 (1 отель).\n",
        "\n",
        "WY (Wyoming) - 4.42 (12 отелей).\n",
        "\n",
        "SD (South Dakota) - 4.37 (8 отелей).\n",
        "\n",
        "Но нельзя сказать, что в этих штатах уже расположены наилучшие отели и конкуренция бесполезна. Так в топ-1 штате находится всего лишь один отель"
      ]
    },
    {
      "cell_type": "markdown",
      "source": [
        "## Корреляция"
      ],
      "metadata": {
        "id": "b0cYTuIhtrrd"
      }
    },
    {
      "cell_type": "markdown",
      "source": [
        "### Перевод строковых данных и дат в числа\n",
        "Для построения моделей и графика корреляции переведём наиболее интересные строковые переменные в числа с помощью кодирования. Даты переведём в целые числа - количество секунд"
      ],
      "metadata": {
        "id": "ymFwRWJWve-O"
      }
    },
    {
      "cell_type": "code",
      "source": [
        "ds.address = pd.Categorical(ds.address)\n",
        "ds['address_code'] = ds.address.cat.codes\n",
        "\n",
        "ds.province = pd.Categorical(ds.province)\n",
        "ds['province_code'] = ds.province.cat.codes\n",
        "\n",
        "ds.categories = pd.Categorical(ds.categories)\n",
        "ds['categories_code'] = ds.categories.cat.codes\n",
        "\n",
        "ds.primaryCategories = pd.Categorical(ds.primaryCategories)\n",
        "ds['primaryCategories_code'] = ds.primaryCategories.cat.codes\n",
        "\n",
        "ds.city = pd.Categorical(ds.city)\n",
        "ds['city_code'] = ds.city.cat.codes\n",
        "\n",
        "ds.province = pd.Categorical(ds.province)\n",
        "ds['province_code'] = ds.province.cat.codes\n",
        "\n",
        "ds['reviews.sourceURLs'] = pd.Categorical(ds['reviews.sourceURLs'])\n",
        "ds['reviews.sourceURLs_code'] = ds['reviews.sourceURLs'].cat.codes\n",
        "\n",
        "ds['reviews.userCity'] = pd.Categorical(ds['reviews.userCity'])\n",
        "ds['reviews.userCity_code'] = ds['reviews.userCity'].cat.codes\n",
        "\n",
        "ds['reviews.userProvince'] = pd.Categorical(ds['reviews.userProvince'])\n",
        "ds['reviews.userProvince_code'] = ds['reviews.userProvince'].cat.codes\n",
        "\n",
        "ds['address_code'].head()"
      ],
      "metadata": {
        "id": "XtBxfHOzvPMO",
        "colab": {
          "base_uri": "https://localhost:8080/"
        },
        "outputId": "ee92856b-fa92-453f-d7c4-57400f4fbd3c"
      },
      "execution_count": null,
      "outputs": [
        {
          "output_type": "execute_result",
          "data": {
            "text/plain": [
              "0    1421\n",
              "1    1421\n",
              "2    1421\n",
              "3    1615\n",
              "4    1615\n",
              "Name: address_code, dtype: int16"
            ]
          },
          "metadata": {},
          "execution_count": 426
        }
      ]
    },
    {
      "cell_type": "code",
      "source": [
        "ds['dateUpdated_int'] = ds['dateUpdated'].astype(int)\n",
        "ds['dateAdded_int'] = ds['dateAdded'].astype(int)\n",
        "ds['reviews.date_int'] = ds['reviews.date'].astype(int)\n",
        "\n",
        "ds['dateUpdated_int'].head()"
      ],
      "metadata": {
        "id": "KbDaWkVgouW_",
        "colab": {
          "base_uri": "https://localhost:8080/"
        },
        "outputId": "4322d56c-a87e-4ff6-d3a2-6469a8779139"
      },
      "execution_count": null,
      "outputs": [
        {
          "output_type": "stream",
          "name": "stderr",
          "text": [
            "/usr/local/lib/python3.7/dist-packages/ipykernel_launcher.py:1: FutureWarning:\n",
            "\n",
            "casting datetime64[ns] values to int64 with .astype(...) is deprecated and will raise in a future version. Use .view(...) instead.\n",
            "\n",
            "/usr/local/lib/python3.7/dist-packages/ipykernel_launcher.py:2: FutureWarning:\n",
            "\n",
            "casting datetime64[ns] values to int64 with .astype(...) is deprecated and will raise in a future version. Use .view(...) instead.\n",
            "\n",
            "/usr/local/lib/python3.7/dist-packages/ipykernel_launcher.py:3: FutureWarning:\n",
            "\n",
            "casting datetime64[ns] values to int64 with .astype(...) is deprecated and will raise in a future version. Use .view(...) instead.\n",
            "\n"
          ]
        },
        {
          "output_type": "execute_result",
          "data": {
            "text/plain": [
              "0    1536613587000000000\n",
              "1    1536613587000000000\n",
              "2    1536613587000000000\n",
              "3    1536613576000000000\n",
              "4    1536613576000000000\n",
              "Name: dateUpdated_int, dtype: int64"
            ]
          },
          "metadata": {},
          "execution_count": 423
        }
      ]
    },
    {
      "cell_type": "markdown",
      "source": [
        "### График\n",
        "Для графика определим наиболее интересные с точки зрения анализа переменные и построим heatmap на основе данных о корреляции"
      ],
      "metadata": {
        "id": "D6DOhhMTwL3h"
      }
    },
    {
      "cell_type": "code",
      "source": [
        "reviews = ds.copy().dropna(thresh=(len(ds.columns)));"
      ],
      "metadata": {
        "id": "_rbHA772wv3m"
      },
      "execution_count": null,
      "outputs": []
    },
    {
      "cell_type": "code",
      "source": [
        "correlation_columns = ['latitude', 'longitude', 'reviews.rating', 'dateUpdated_int', 'dateAdded_int', 'reviews.date_int', 'address_code', 'categories_code', 'primaryCategories_code', 'city_code', 'province_code', 'reviews.sourceURLs_code', 'reviews.userCity_code', 'reviews.userProvince_code']"
      ],
      "metadata": {
        "id": "rRc_P7xmvWVV"
      },
      "execution_count": null,
      "outputs": []
    },
    {
      "cell_type": "code",
      "source": [
        "corr = reviews[correlation_columns].corr()\n",
        "sns.heatmap(corr, vmin=-1, vmax=1, center=0)"
      ],
      "metadata": {
        "id": "g7TvvaS3wQDw",
        "colab": {
          "base_uri": "https://localhost:8080/",
          "height": 411
        },
        "outputId": "6278bbe4-1d5e-4833-f4f1-3b2232df14c9"
      },
      "execution_count": null,
      "outputs": [
        {
          "output_type": "execute_result",
          "data": {
            "text/plain": [
              "<matplotlib.axes._subplots.AxesSubplot at 0x7f155ef7d090>"
            ]
          },
          "metadata": {},
          "execution_count": 411
        },
        {
          "output_type": "display_data",
          "data": {
            "text/plain": [
              "<Figure size 432x288 with 2 Axes>"
            ],
            "image/png": "[encoded data removed]"
          },
          "metadata": {
            "needs_background": "light"
          }
        }
      ]
    },
    {
      "cell_type": "code",
      "source": [
        "print(corr)"
      ],
      "metadata": {
        "id": "POQoqVBo26VS",
        "colab": {
          "base_uri": "https://localhost:8080/"
        },
        "outputId": "c0534395-80fd-4874-b56e-78f9a1598d01"
      },
      "execution_count": null,
      "outputs": [
        {
          "output_type": "stream",
          "name": "stdout",
          "text": [
            "                           latitude  longitude  reviews.rating  \\\n",
            "latitude                   1.000000  -0.018723       -0.021149   \n",
            "longitude                 -0.018723   1.000000       -0.037596   \n",
            "reviews.rating            -0.021149  -0.037596        1.000000   \n",
            "dateUpdated_int           -0.124692  -0.158954        0.092377   \n",
            "dateAdded_int             -0.147114  -0.022944        0.070592   \n",
            "reviews.date_int          -0.013549   0.080113        0.116835   \n",
            "address_code               0.050875   0.059406       -0.006539   \n",
            "categories_code           -0.026106   0.030042       -0.008526   \n",
            "primaryCategories_code     0.002880   0.062406        0.009874   \n",
            "city_code                 -0.011778  -0.143246        0.078693   \n",
            "province_code              0.389288   0.216613        0.018973   \n",
            "reviews.sourceURLs_code   -0.033189   0.003664        0.027993   \n",
            "reviews.userCity_code      0.022303  -0.039509        0.005707   \n",
            "reviews.userProvince_code  0.107939   0.084803        0.004383   \n",
            "\n",
            "                           dateUpdated_int  dateAdded_int  reviews.date_int  \\\n",
            "latitude                         -0.124692      -0.147114         -0.013549   \n",
            "longitude                        -0.158954      -0.022944          0.080113   \n",
            "reviews.rating                    0.092377       0.070592          0.116835   \n",
            "dateUpdated_int                   1.000000       0.361133          0.007679   \n",
            "dateAdded_int                     0.361133       1.000000          0.033591   \n",
            "reviews.date_int                  0.007679       0.033591          1.000000   \n",
            "address_code                     -0.013137       0.050689         -0.023108   \n",
            "categories_code                   0.085157       0.027810         -0.025278   \n",
            "primaryCategories_code            0.049579      -0.048550         -0.007765   \n",
            "city_code                        -0.010515      -0.013481          0.095963   \n",
            "province_code                    -0.162186      -0.056043          0.051142   \n",
            "reviews.sourceURLs_code           0.080149      -0.102297         -0.146511   \n",
            "reviews.userCity_code             0.021987       0.017887         -0.020089   \n",
            "reviews.userProvince_code        -0.038928      -0.004852          0.023535   \n",
            "\n",
            "                           address_code  categories_code  \\\n",
            "latitude                       0.050875        -0.026106   \n",
            "longitude                      0.059406         0.030042   \n",
            "reviews.rating                -0.006539        -0.008526   \n",
            "dateUpdated_int               -0.013137         0.085157   \n",
            "dateAdded_int                  0.050689         0.027810   \n",
            "reviews.date_int              -0.023108        -0.025278   \n",
            "address_code                   1.000000        -0.034279   \n",
            "categories_code               -0.034279         1.000000   \n",
            "primaryCategories_code        -0.076207         0.049029   \n",
            "city_code                      0.001298         0.040740   \n",
            "province_code                  0.093682        -0.050653   \n",
            "reviews.sourceURLs_code        0.032105        -0.080504   \n",
            "reviews.userCity_code         -0.012068        -0.000538   \n",
            "reviews.userProvince_code      0.059245        -0.003027   \n",
            "\n",
            "                           primaryCategories_code  city_code  province_code  \\\n",
            "latitude                                 0.002880  -0.011778       0.389288   \n",
            "longitude                                0.062406  -0.143246       0.216613   \n",
            "reviews.rating                           0.009874   0.078693       0.018973   \n",
            "dateUpdated_int                          0.049579  -0.010515      -0.162186   \n",
            "dateAdded_int                           -0.048550  -0.013481      -0.056043   \n",
            "reviews.date_int                        -0.007765   0.095963       0.051142   \n",
            "address_code                            -0.076207   0.001298       0.093682   \n",
            "categories_code                          0.049029   0.040740      -0.050653   \n",
            "primaryCategories_code                   1.000000   0.032445       0.034329   \n",
            "city_code                                0.032445   1.000000       0.035940   \n",
            "province_code                            0.034329   0.035940       1.000000   \n",
            "reviews.sourceURLs_code                 -0.006215  -0.001956      -0.017631   \n",
            "reviews.userCity_code                   -0.023755   0.036267      -0.011066   \n",
            "reviews.userProvince_code               -0.028546   0.003190       0.253969   \n",
            "\n",
            "                           reviews.sourceURLs_code  reviews.userCity_code  \\\n",
            "latitude                                 -0.033189               0.022303   \n",
            "longitude                                 0.003664              -0.039509   \n",
            "reviews.rating                            0.027993               0.005707   \n",
            "dateUpdated_int                           0.080149               0.021987   \n",
            "dateAdded_int                            -0.102297               0.017887   \n",
            "reviews.date_int                         -0.146511              -0.020089   \n",
            "address_code                              0.032105              -0.012068   \n",
            "categories_code                          -0.080504              -0.000538   \n",
            "primaryCategories_code                   -0.006215              -0.023755   \n",
            "city_code                                -0.001956               0.036267   \n",
            "province_code                            -0.017631              -0.011066   \n",
            "reviews.sourceURLs_code                   1.000000               0.007369   \n",
            "reviews.userCity_code                     0.007369               1.000000   \n",
            "reviews.userProvince_code                -0.027941               0.024656   \n",
            "\n",
            "                           reviews.userProvince_code  \n",
            "latitude                                    0.107939  \n",
            "longitude                                   0.084803  \n",
            "reviews.rating                              0.004383  \n",
            "dateUpdated_int                            -0.038928  \n",
            "dateAdded_int                              -0.004852  \n",
            "reviews.date_int                            0.023535  \n",
            "address_code                                0.059245  \n",
            "categories_code                            -0.003027  \n",
            "primaryCategories_code                     -0.028546  \n",
            "city_code                                   0.003190  \n",
            "province_code                               0.253969  \n",
            "reviews.sourceURLs_code                    -0.027941  \n",
            "reviews.userCity_code                       0.024656  \n",
            "reviews.userProvince_code                   1.000000  \n"
          ]
        }
      ]
    },
    {
      "cell_type": "code",
      "source": [
        "entries = ds.copy();\n",
        "entries = entries.drop(columns=['reviews.userCity', 'reviews.userProvince'])\n",
        "entries = entries.dropna(thresh=(len(entries.columns)));\n",
        "\n",
        "correlation_columns = ['latitude', 'longitude', 'reviews.rating', 'dateUpdated_int', 'dateAdded_int', 'reviews.date_int', 'address_code', 'categories_code', 'primaryCategories_code', 'city_code', 'province_code', 'reviews.sourceURLs_code']\n",
        "\n",
        "corr = reviews[correlation_columns].corr()\n",
        "sns.heatmap(corr, vmin=-1, vmax=1, center=0)"
      ],
      "metadata": {
        "colab": {
          "base_uri": "https://localhost:8080/",
          "height": 405
        },
        "id": "w7ITMD6KxRFw",
        "outputId": "656b834f-0c41-4619-c642-d7568738461d"
      },
      "execution_count": null,
      "outputs": [
        {
          "output_type": "execute_result",
          "data": {
            "text/plain": [
              "<matplotlib.axes._subplots.AxesSubplot at 0x7f155ee0aad0>"
            ]
          },
          "metadata": {},
          "execution_count": 413
        },
        {
          "output_type": "display_data",
          "data": {
            "text/plain": [
              "<Figure size 432x288 with 2 Axes>"
            ],
            "image/png": "[encoded data removed]"
          },
          "metadata": {
            "needs_background": "light"
          }
        }
      ]
    },
    {
      "cell_type": "markdown",
      "source": [
        "К сожалению, в данном датасете корреляция между различными данными практически отсутствует либо она очень слабая. Тем не менее, попробуем реализовать модели для предсказания рейтинга на основе имеющихся данных"
      ],
      "metadata": {
        "id": "0CitJiYnxE5o"
      }
    },
    {
      "cell_type": "markdown",
      "metadata": {
        "id": "UTjYBk19GDbn"
      },
      "source": [
        "# Задача регрессии\n",
        "## Линейная регрессия"
      ]
    },
    {
      "cell_type": "markdown",
      "metadata": {
        "id": "j_3s9TboGF2g"
      },
      "source": [
        "Наша задача - предсказать целевую переменную рейтинга отеля по некоторым параметрам. В качестве параметров возьмем те переменные, что коррелируют с целевой наибольшим образом"
      ]
    },
    {
      "cell_type": "code",
      "execution_count": null,
      "metadata": {
        "id": "rxQzJ30XzfVw",
        "colab": {
          "base_uri": "https://localhost:8080/"
        },
        "outputId": "2b6fb692-399f-4185-db1e-fad871aca70f"
      },
      "outputs": [
        {
          "output_type": "execute_result",
          "data": {
            "text/plain": [
              "0       5.0\n",
              "1       5.0\n",
              "2       5.0\n",
              "3       2.0\n",
              "4       5.0\n",
              "       ... \n",
              "9995    3.0\n",
              "9996    4.0\n",
              "9997    4.0\n",
              "9998    1.0\n",
              "9999    1.0\n",
              "Name: reviews.rating, Length: 10000, dtype: float64"
            ]
          },
          "metadata": {},
          "execution_count": 377
        }
      ],
      "source": [
        "target_name='reviews.rating'\n",
        "\n",
        "y=ds[target_name]\n",
        "\n",
        "y"
      ]
    },
    {
      "cell_type": "code",
      "source": [
        "features = ['dateAdded_int', 'dateUpdated_int', 'reviews.sourceURLs_code', 'reviews.userCity_code']\n",
        "X = ds[features]\n",
        "X"
      ],
      "metadata": {
        "id": "FHh5XWiqggxp",
        "colab": {
          "base_uri": "https://localhost:8080/",
          "height": 424
        },
        "outputId": "a8ede0bc-513a-4623-98aa-ae25bafa5502"
      },
      "execution_count": null,
      "outputs": [
        {
          "output_type": "execute_result",
          "data": {
            "text/plain": [
              "            dateAdded_int      dateUpdated_int  reviews.sourceURLs_code  \\\n",
              "0     1477863762000000000  1536613587000000000                        6   \n",
              "1     1477863762000000000  1536613587000000000                        6   \n",
              "2     1477863762000000000  1536613587000000000                        6   \n",
              "3     1448738375000000000  1536613576000000000                       11   \n",
              "4     1448738375000000000  1536613576000000000                       11   \n",
              "...                   ...                  ...                      ...   \n",
              "9995  1458819855000000000  1514764846000000000                       11   \n",
              "9996  1445900582000000000  1514764844000000000                       11   \n",
              "9997  1465614743000000000  1514764844000000000                       11   \n",
              "9998  1481600676000000000  1514764843000000000                       11   \n",
              "9999  1466622441000000000  1514764843000000000                       11   \n",
              "\n",
              "      reviews.userCity_code  \n",
              "0                        -1  \n",
              "1                        -1  \n",
              "2                        -1  \n",
              "3                      1400  \n",
              "4                       865  \n",
              "...                     ...  \n",
              "9995                   1854  \n",
              "9996                    472  \n",
              "9997                   1057  \n",
              "9998                   2045  \n",
              "9999                   1535  \n",
              "\n",
              "[10000 rows x 4 columns]"
            ],
            "text/html": [
              "\n",
              "  <div id=\"df-b721be99-8971-4702-b228-8019f699f911\">\n",
              "    <div class=\"colab-df-container\">\n",
              "      <div>\n",
              "<style scoped>\n",
              "    .dataframe tbody tr th:only-of-type {\n",
              "        vertical-align: middle;\n",
              "    }\n",
              "\n",
              "    .dataframe tbody tr th {\n",
              "        vertical-align: top;\n",
              "    }\n",
              "\n",
              "    .dataframe thead th {\n",
              "        text-align: right;\n",
              "    }\n",
              "</style>\n",
              "<table border=\"1\" class=\"dataframe\">\n",
              "  <thead>\n",
              "    <tr style=\"text-align: right;\">\n",
              "      <th></th>\n",
              "      <th>dateAdded_int</th>\n",
              "      <th>dateUpdated_int</th>\n",
              "      <th>reviews.sourceURLs_code</th>\n",
              "      <th>reviews.userCity_code</th>\n",
              "    </tr>\n",
              "  </thead>\n",
              "  <tbody>\n",
              "    <tr>\n",
              "      <th>0</th>\n",
              "      <td>1477863762000000000</td>\n",
              "      <td>1536613587000000000</td>\n",
              "      <td>6</td>\n",
              "      <td>-1</td>\n",
              "    </tr>\n",
              "    <tr>\n",
              "      <th>1</th>\n",
              "      <td>1477863762000000000</td>\n",
              "      <td>1536613587000000000</td>\n",
              "      <td>6</td>\n",
              "      <td>-1</td>\n",
              "    </tr>\n",
              "    <tr>\n",
              "      <th>2</th>\n",
              "      <td>1477863762000000000</td>\n",
              "      <td>1536613587000000000</td>\n",
              "      <td>6</td>\n",
              "      <td>-1</td>\n",
              "    </tr>\n",
              "    <tr>\n",
              "      <th>3</th>\n",
              "      <td>1448738375000000000</td>\n",
              "      <td>1536613576000000000</td>\n",
              "      <td>11</td>\n",
              "      <td>1400</td>\n",
              "    </tr>\n",
              "    <tr>\n",
              "      <th>4</th>\n",
              "      <td>1448738375000000000</td>\n",
              "      <td>1536613576000000000</td>\n",
              "      <td>11</td>\n",
              "      <td>865</td>\n",
              "    </tr>\n",
              "    <tr>\n",
              "      <th>...</th>\n",
              "      <td>...</td>\n",
              "      <td>...</td>\n",
              "      <td>...</td>\n",
              "      <td>...</td>\n",
              "    </tr>\n",
              "    <tr>\n",
              "      <th>9995</th>\n",
              "      <td>1458819855000000000</td>\n",
              "      <td>1514764846000000000</td>\n",
              "      <td>11</td>\n",
              "      <td>1854</td>\n",
              "    </tr>\n",
              "    <tr>\n",
              "      <th>9996</th>\n",
              "      <td>1445900582000000000</td>\n",
              "      <td>1514764844000000000</td>\n",
              "      <td>11</td>\n",
              "      <td>472</td>\n",
              "    </tr>\n",
              "    <tr>\n",
              "      <th>9997</th>\n",
              "      <td>1465614743000000000</td>\n",
              "      <td>1514764844000000000</td>\n",
              "      <td>11</td>\n",
              "      <td>1057</td>\n",
              "    </tr>\n",
              "    <tr>\n",
              "      <th>9998</th>\n",
              "      <td>1481600676000000000</td>\n",
              "      <td>1514764843000000000</td>\n",
              "      <td>11</td>\n",
              "      <td>2045</td>\n",
              "    </tr>\n",
              "    <tr>\n",
              "      <th>9999</th>\n",
              "      <td>1466622441000000000</td>\n",
              "      <td>1514764843000000000</td>\n",
              "      <td>11</td>\n",
              "      <td>1535</td>\n",
              "    </tr>\n",
              "  </tbody>\n",
              "</table>\n",
              "<p>10000 rows × 4 columns</p>\n",
              "</div>\n",
              "      <button class=\"colab-df-convert\" onclick=\"convertToInteractive('df-b721be99-8971-4702-b228-8019f699f911')\"\n",
              "              title=\"Convert this dataframe to an interactive table.\"\n",
              "              style=\"display:none;\">\n",
              "        \n",
              "  <svg xmlns=\"http://www.w3.org/2000/svg\" height=\"24px\"viewBox=\"0 0 24 24\"\n",
              "       width=\"24px\">\n",
              "    <path d=\"M0 0h24v24H0V0z\" fill=\"none\"/>\n",
              "    <path d=\"M18.56 5.44l.94 2.06.94-2.06 2.06-.94-2.06-.94-.94-2.06-.94 2.06-2.06.94zm-11 1L8.5 8.5l.94-2.06 2.06-.94-2.06-.94L8.5 2.5l-.94 2.06-2.06.94zm10 10l.94 2.06.94-2.06 2.06-.94-2.06-.94-.94-2.06-.94 2.06-2.06.94z\"/><path d=\"M17.41 7.96l-1.37-1.37c-.4-.4-.92-.59-1.43-.59-.52 0-1.04.2-1.43.59L10.3 9.45l-7.72 7.72c-.78.78-.78 2.05 0 2.83L4 21.41c.39.39.9.59 1.41.59.51 0 1.02-.2 1.41-.59l7.78-7.78 2.81-2.81c.8-.78.8-2.07 0-2.86zM5.41 20L4 18.59l7.72-7.72 1.47 1.35L5.41 20z\"/>\n",
              "  </svg>\n",
              "      </button>\n",
              "      \n",
              "  <style>\n",
              "    .colab-df-container {\n",
              "      display:flex;\n",
              "      flex-wrap:wrap;\n",
              "      gap: 12px;\n",
              "    }\n",
              "\n",
              "    .colab-df-convert {\n",
              "      background-color: #E8F0FE;\n",
              "      border: none;\n",
              "      border-radius: 50%;\n",
              "      cursor: pointer;\n",
              "      display: none;\n",
              "      fill: #1967D2;\n",
              "      height: 32px;\n",
              "      padding: 0 0 0 0;\n",
              "      width: 32px;\n",
              "    }\n",
              "\n",
              "    .colab-df-convert:hover {\n",
              "      background-color: #E2EBFA;\n",
              "      box-shadow: 0px 1px 2px rgba(60, 64, 67, 0.3), 0px 1px 3px 1px rgba(60, 64, 67, 0.15);\n",
              "      fill: #174EA6;\n",
              "    }\n",
              "\n",
              "    [theme=dark] .colab-df-convert {\n",
              "      background-color: #3B4455;\n",
              "      fill: #D2E3FC;\n",
              "    }\n",
              "\n",
              "    [theme=dark] .colab-df-convert:hover {\n",
              "      background-color: #434B5C;\n",
              "      box-shadow: 0px 1px 3px 1px rgba(0, 0, 0, 0.15);\n",
              "      filter: drop-shadow(0px 1px 2px rgba(0, 0, 0, 0.3));\n",
              "      fill: #FFFFFF;\n",
              "    }\n",
              "  </style>\n",
              "\n",
              "      <script>\n",
              "        const buttonEl =\n",
              "          document.querySelector('#df-b721be99-8971-4702-b228-8019f699f911 button.colab-df-convert');\n",
              "        buttonEl.style.display =\n",
              "          google.colab.kernel.accessAllowed ? 'block' : 'none';\n",
              "\n",
              "        async function convertToInteractive(key) {\n",
              "          const element = document.querySelector('#df-b721be99-8971-4702-b228-8019f699f911');\n",
              "          const dataTable =\n",
              "            await google.colab.kernel.invokeFunction('convertToInteractive',\n",
              "                                                     [key], {});\n",
              "          if (!dataTable) return;\n",
              "\n",
              "          const docLinkHtml = 'Like what you see? Visit the ' +\n",
              "            '<a target=\"_blank\" href=https://colab.research.google.com/notebooks/data_table.ipynb>data table notebook</a>'\n",
              "            + ' to learn more about interactive tables.';\n",
              "          element.innerHTML = '';\n",
              "          dataTable['output_type'] = 'display_data';\n",
              "          await google.colab.output.renderOutput(dataTable, element);\n",
              "          const docLink = document.createElement('div');\n",
              "          docLink.innerHTML = docLinkHtml;\n",
              "          element.appendChild(docLink);\n",
              "        }\n",
              "      </script>\n",
              "    </div>\n",
              "  </div>\n",
              "  "
            ]
          },
          "metadata": {},
          "execution_count": 406
        }
      ]
    },
    {
      "cell_type": "code",
      "execution_count": null,
      "metadata": {
        "id": "no_2N3J6IBib"
      },
      "outputs": [],
      "source": [
        "X_train, X_test, y_train, y_test = train_test_split(X, y, test_size=0.3, random_state=42)"
      ]
    },
    {
      "cell_type": "code",
      "execution_count": null,
      "metadata": {
        "id": "1fosiSb0IcKE",
        "colab": {
          "base_uri": "https://localhost:8080/"
        },
        "outputId": "67f2d29f-49d0-4cf7-c514-898f9392bdb2"
      },
      "outputs": [
        {
          "output_type": "execute_result",
          "data": {
            "text/plain": [
              "(7000, 4)"
            ]
          },
          "metadata": {},
          "execution_count": 383
        }
      ],
      "source": [
        "X_train.shape"
      ]
    },
    {
      "cell_type": "code",
      "execution_count": null,
      "metadata": {
        "id": "x1m-8lCJIsVI",
        "colab": {
          "base_uri": "https://localhost:8080/"
        },
        "outputId": "44717aba-d720-4372-8520-b9be4df45e68"
      },
      "outputs": [
        {
          "output_type": "stream",
          "name": "stdout",
          "text": [
            "0.4911984650148776\n"
          ]
        }
      ],
      "source": [
        "linear_regression_model = LinearRegression()\n",
        "linear_regression_model.fit(X_train, y_train)\n",
        "\n",
        "y_pred = linear_regression_model.predict(X_test);\n",
        "\n",
        "print(mean_absolute_error(y_test, y_pred))"
      ]
    },
    {
      "cell_type": "markdown",
      "source": [
        "Как можем видеть, MAE получилась большой относительно наших данных. Посмотрим на метрику $R^2$"
      ],
      "metadata": {
        "id": "3ckK1nBp1TFI"
      }
    },
    {
      "cell_type": "code",
      "source": [
        "print(r2_score(y_test, y_pred))"
      ],
      "metadata": {
        "colab": {
          "base_uri": "https://localhost:8080/"
        },
        "id": "VgFNWqhR1fmA",
        "outputId": "8adc8986-c5b4-4326-ddd9-912289de0272"
      },
      "execution_count": null,
      "outputs": [
        {
          "output_type": "stream",
          "name": "stdout",
          "text": [
            "0.014780066484707421\n"
          ]
        }
      ]
    },
    {
      "cell_type": "markdown",
      "source": [
        "Метрика $R^2$ показала плохой результат. Одной из причин этого является сама структура датасета - переменные слабо коррелируют между собой"
      ],
      "metadata": {
        "id": "EHxtgWIF1pEs"
      }
    },
    {
      "cell_type": "markdown",
      "source": [
        "## Деревья решений \n",
        "Посмотрим, как с предсказыванием рейтинга справится дерево решений, вычислим MAE для него"
      ],
      "metadata": {
        "id": "i_Pbva1ReiGx"
      }
    },
    {
      "cell_type": "code",
      "source": [
        "X_train, X_test, y_train, y_test = train_test_split(X, y, test_size=0.3, random_state=42)\n",
        "decision_tree = DecisionTreeRegressor()\n",
        "decision_tree.fit(X_train, y_train)\n",
        "y_pred = decision_tree.predict(X_test)\n",
        "\n",
        "print(mean_absolute_error(y_test, y_pred))"
      ],
      "metadata": {
        "id": "UpwqW54cg-0j",
        "colab": {
          "base_uri": "https://localhost:8080/"
        },
        "outputId": "4bbdf958-5ac6-4573-aace-e3156c44993c"
      },
      "execution_count": null,
      "outputs": [
        {
          "output_type": "stream",
          "name": "stdout",
          "text": [
            "0.43911979545646346\n"
          ]
        }
      ]
    },
    {
      "cell_type": "markdown",
      "source": [
        "# Задачи классификации\n",
        "## Логистическая регрессия\n",
        "Введём категорию - больше оценка у отзыва 4.0 или нет.\n",
        "Далее построим модель логистической регрессии, вычислим её точность и построим ROC-кривую"
      ],
      "metadata": {
        "id": "_ma4rNQ3paOu"
      }
    },
    {
      "cell_type": "code",
      "source": [
        "category_column = dataset['reviews.rating']\n",
        "category_column = category_column > 4.0\n",
        "y = category_column\n",
        "\n",
        "X_train, X_test, y_train, y_test = train_test_split(X, y, test_size=0.3, random_state=42)\n",
        "\n",
        "reg_log = LogisticRegression()\n",
        "reg_log.fit(X_train, y_train)\n",
        "y_pred = reg_log.predict(X_test)\n",
        "\n",
        "y_pred\n",
        "\n",
        "print(accuracy_score(y_pred.astype(float), y_test.astype(float)))\n",
        "\n"
      ],
      "metadata": {
        "id": "jo4yUHkxqA7K",
        "colab": {
          "base_uri": "https://localhost:8080/"
        },
        "outputId": "c05c811b-d7c9-4a19-c810-817b407f8c3d"
      },
      "execution_count": null,
      "outputs": [
        {
          "output_type": "stream",
          "name": "stdout",
          "text": [
            "0.5436666666666666\n"
          ]
        }
      ]
    },
    {
      "cell_type": "code",
      "source": [
        "fpr, tpr, _ = roc_curve(y_test, y_pred)\n",
        "roc_display = RocCurveDisplay(fpr=fpr, tpr=tpr).plot()"
      ],
      "metadata": {
        "id": "VE9Q8yrrvBcT",
        "colab": {
          "base_uri": "https://localhost:8080/",
          "height": 279
        },
        "outputId": "e17d854f-2c7d-4f59-babe-2e4204ce5003"
      },
      "execution_count": null,
      "outputs": [
        {
          "output_type": "display_data",
          "data": {
            "text/plain": [
              "<Figure size 432x288 with 1 Axes>"
            ],
            "image/png": "[encoded data removed]"
          },
          "metadata": {
            "needs_background": "light"
          }
        }
      ]
    },
    {
      "cell_type": "markdown",
      "source": [
        "Из полученных данных видно, что модель классифицирует данные случайным образом. Одной из причин такого поведения является сама структура датасета - рейтинг отеля практически не зависит ни от одной переменной"
      ],
      "metadata": {
        "id": "UMxhyhWO2EvD"
      }
    },
    {
      "cell_type": "markdown",
      "source": [
        "# Случайный лес \n",
        "Решим задачу классификации с помощью случайного леса, оценим точность и построим ROC-кривую"
      ],
      "metadata": {
        "id": "rzX_GKZZjKk4"
      }
    },
    {
      "cell_type": "code",
      "source": [
        "X_train, X_test, y_train, y_test = train_test_split(X, y, test_size=0.3, random_state=42)\n",
        "\n",
        "reg_rf = RandomForestClassifier()\n",
        "reg_rf.fit(X_train, y_train)\n",
        "y_pred = reg_rf.predict(X_test)\n",
        "\n",
        "print(accuracy_score(y_pred.astype(float), y_test.astype(float)))"
      ],
      "metadata": {
        "id": "JXcdmbR-jaCX",
        "colab": {
          "base_uri": "https://localhost:8080/"
        },
        "outputId": "b0df931f-22d2-4819-e85c-507f0b1f6cb4"
      },
      "execution_count": null,
      "outputs": [
        {
          "output_type": "stream",
          "name": "stdout",
          "text": [
            "0.5786666666666667\n"
          ]
        }
      ]
    },
    {
      "cell_type": "code",
      "source": [
        "fpr, tpr, _ = roc_curve(y_test, y_pred)\n",
        "roc_display = RocCurveDisplay(fpr=fpr, tpr=tpr).plot()"
      ],
      "metadata": {
        "id": "0KcFLQvvkI_-",
        "colab": {
          "base_uri": "https://localhost:8080/",
          "height": 279
        },
        "outputId": "874aad79-93a2-4778-bc41-c1d32674fdb5"
      },
      "execution_count": null,
      "outputs": [
        {
          "output_type": "display_data",
          "data": {
            "text/plain": [
              "<Figure size 432x288 with 1 Axes>"
            ],
            "image/png": "[encoded data removed]"
          },
          "metadata": {
            "needs_background": "light"
          }
        }
      ]
    },
    {
      "cell_type": "code",
      "source": [
        "feature_df = pd.DataFrame({'Importance':reg_rf.feature_importances_, 'Features': features })\n",
        "print(feature_df)"
      ],
      "metadata": {
        "id": "OKO5G5PolqY5",
        "colab": {
          "base_uri": "https://localhost:8080/"
        },
        "outputId": "e881c27a-3342-49d1-9f30-216ab6294e1d"
      },
      "execution_count": null,
      "outputs": [
        {
          "output_type": "stream",
          "name": "stdout",
          "text": [
            "   Importance                 Features\n",
            "0    0.183871            dateAdded_int\n",
            "1    0.175188          dateUpdated_int\n",
            "2    0.472155  reviews.sourceURLs_code\n",
            "3    0.168786    reviews.userCity_code\n"
          ]
        }
      ]
    },
    {
      "cell_type": "markdown",
      "source": [
        "# Кластеризация\n",
        "Воспользуемся методом k-средних и выделим кластеры сайтов, популярных в определенных штатах"
      ],
      "metadata": {
        "id": "VTpCmh1CJdOT"
      }
    },
    {
      "cell_type": "markdown",
      "source": [
        "Методом локтя вычислим наиболее подходящее k "
      ],
      "metadata": {
        "id": "gCHdr-W4pClW"
      }
    },
    {
      "cell_type": "code",
      "source": [
        "columns = ['reviews.userProvince_code', 'province_code']\n",
        "distorsions = []\n",
        "for k in range(2, 20):\n",
        "    kmeans = KMeans(n_clusters=k)\n",
        "    kmeans.fit(ds[columns])\n",
        "    distorsions.append(kmeans.inertia_)\n",
        "\n",
        "fig = plt.figure(figsize=(15, 5))\n",
        "plt.plot(range(2, 20), distorsions)\n",
        "plt.grid(True)\n",
        "plt.title('Elbow curve')"
      ],
      "metadata": {
        "id": "q5mc2kw6Ofoz",
        "colab": {
          "base_uri": "https://localhost:8080/",
          "height": 353
        },
        "outputId": "32814767-c4b7-4393-d527-9a3ed30a10e4"
      },
      "execution_count": null,
      "outputs": [
        {
          "output_type": "execute_result",
          "data": {
            "text/plain": [
              "Text(0.5, 1.0, 'Elbow curve')"
            ]
          },
          "metadata": {},
          "execution_count": 446
        },
        {
          "output_type": "display_data",
          "data": {
            "text/plain": [
              "<Figure size 1080x360 with 1 Axes>"
            ],
            "image/png": "[encoded data removed]"
          },
          "metadata": {
            "needs_background": "light"
          }
        }
      ]
    },
    {
      "cell_type": "markdown",
      "source": [
        "Получив k, равное 4, проведем кластеризацию"
      ],
      "metadata": {
        "id": "9eFrm8Jd4OuS"
      }
    },
    {
      "cell_type": "code",
      "source": [
        "columns = ['reviews.userProvince_code', 'province_code']\n",
        "kmeans = KMeans(n_clusters=4)\n",
        "kmeans.fit(ds[columns])\n",
        "\n",
        "print(kmeans.cluster_centers_)\n",
        "\n",
        "y_km = kmeans.fit_predict(ds[columns])\n",
        "cluster_ds = ds[columns].to_numpy()\n",
        "\n",
        "plt.scatter(cluster_ds[y_km ==0,0], cluster_ds[y_km == 0,1], s=100, c='red')\n",
        "plt.scatter(cluster_ds[y_km ==1,0], cluster_ds[y_km == 1,1], s=100, c='black')\n",
        "plt.scatter(cluster_ds[y_km ==2,0], cluster_ds[y_km == 2,1], s=100, c='blue')\n",
        "plt.scatter(cluster_ds[y_km ==3,0], cluster_ds[y_km == 3,1], s=100, c='cyan')"
      ],
      "metadata": {
        "id": "4cP84vGsJhl3",
        "colab": {
          "base_uri": "https://localhost:8080/",
          "height": 355
        },
        "outputId": "00186d24-66e8-4c32-aceb-ae816b624105"
      },
      "execution_count": null,
      "outputs": [
        {
          "output_type": "stream",
          "name": "stdout",
          "text": [
            "[[  0.29945881  37.96091401]\n",
            " [143.          25.83140283]\n",
            " [  1.30470391  10.67072659]\n",
            " [ 73.02907489  23.5030837 ]]\n"
          ]
        },
        {
          "output_type": "execute_result",
          "data": {
            "text/plain": [
              "<matplotlib.collections.PathCollection at 0x7f155d055ad0>"
            ]
          },
          "metadata": {},
          "execution_count": 447
        },
        {
          "output_type": "display_data",
          "data": {
            "text/plain": [
              "<Figure size 432x288 with 1 Axes>"
            ],
            "image/png": "[encoded data removed]"
          },
          "metadata": {
            "needs_background": "light"
          }
        }
      ]
    },
    {
      "cell_type": "code",
      "source": [
        "ds['province_code']"
      ],
      "metadata": {
        "id": "ld_oUoHJ7JxV",
        "outputId": "cc79bd23-c619-42b5-e81b-5e5f297074f7",
        "colab": {
          "base_uri": "https://localhost:8080/"
        }
      },
      "execution_count": null,
      "outputs": [
        {
          "output_type": "execute_result",
          "data": {
            "text/plain": [
              "0        3\n",
              "1        3\n",
              "2        3\n",
              "3       18\n",
              "4       18\n",
              "        ..\n",
              "9995    35\n",
              "9996    17\n",
              "9997    11\n",
              "9998    40\n",
              "9999     0\n",
              "Name: province_code, Length: 10000, dtype: int8"
            ]
          },
          "metadata": {},
          "execution_count": 448
        }
      ]
    },
    {
      "cell_type": "markdown",
      "source": [
        "**Микровывод**: по графику видно, что все сайты одинаково популярны во всех штатах"
      ],
      "metadata": {
        "id": "NcTXth-a4cPJ"
      }
    },
    {
      "cell_type": "markdown",
      "source": [
        "# Выводы"
      ],
      "metadata": {
        "id": "qU05I5Ee4o_R"
      }
    },
    {
      "cell_type": "markdown",
      "source": [
        "Таким образом, наилучшей моделью для предсказания рейтинга отеля на основе данных об отелях стала модель Random Forest с результатом на тестовой выборке равным 0.578\n"
      ],
      "metadata": {
        "id": "xULR0sttY7AY"
      }
    },
    {
      "cell_type": "markdown",
      "source": [
        "В качестве решения для улучшения результатов предсказания моделей можно дополнить датасет более точными данными об отелях, такие как количество номеров, звезд и т.д."
      ],
      "metadata": {
        "id": "8_CdO3kwaVyX"
      }
    }
  ],
  "metadata": {
    "colab": {
      "collapsed_sections": [],
      "name": "Научка проект.ipynb",
      "provenance": [],
      "include_colab_link": true
    },
    "kernelspec": {
      "display_name": "Python 3",
      "name": "python3"
    },
    "language_info": {
      "name": "python"
    }
  },
  "nbformat": 4,
  "nbformat_minor": 0
}